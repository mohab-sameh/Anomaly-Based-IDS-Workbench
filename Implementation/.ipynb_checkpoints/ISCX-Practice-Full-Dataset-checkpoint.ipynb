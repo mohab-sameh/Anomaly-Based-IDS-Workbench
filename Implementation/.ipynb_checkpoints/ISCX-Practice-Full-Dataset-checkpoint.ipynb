{
 "cells": [
  {
   "cell_type": "code",
   "execution_count": 1,
   "metadata": {},
   "outputs": [],
   "source": [
    "import os\n",
    "import pandas as pd\n",
    "import numpy as np\n",
    "import matplotlib.pyplot as plt\n",
    "import seaborn as sns\n",
    "import time"
   ]
  },
  {
   "cell_type": "code",
   "execution_count": 2,
   "metadata": {},
   "outputs": [
    {
     "name": "stdout",
     "output_type": "stream",
     "text": [
      "79\n"
     ]
    }
   ],
   "source": [
    "cols= \"\"\"\n",
    "Destination Port, \n",
    "Flow Duration, \n",
    "Total Fwd Packets, \n",
    "Total Backward Packets, \n",
    "Total Length of Fwd Packets, \n",
    "Total Length of Bwd Packets, \n",
    "Fwd Packet Length Max, \n",
    "Fwd Packet Length Min, \n",
    "Fwd Packet Length Mean, \n",
    "Fwd Packet Length Std, \n",
    "Bwd Packet Length Max, \n",
    "Bwd Packet Length Min, \n",
    "Bwd Packet Length Mean, \n",
    "Bwd Packet Length Std, \n",
    "Flow Bytes/s, \n",
    "Flow Packets/s, \n",
    "Flow IAT Mean, \n",
    "Flow IAT Std, \n",
    "Flow IAT Max, \n",
    "Flow IAT Min, \n",
    "Fwd IAT Total, \n",
    "Fwd IAT Mean, \n",
    "Fwd IAT Std, \n",
    "Fwd IAT Max, \n",
    "Fwd IAT Min, \n",
    "Bwd IAT Total, \n",
    "Bwd IAT Mean, \n",
    "Bwd IAT Std, \n",
    "Bwd IAT Max, \n",
    "Bwd IAT Min, \n",
    "Fwd PSH Flags, \n",
    "Bwd PSH Flags, \n",
    "Fwd URG Flags, \n",
    "Bwd URG Flags,\n",
    "Fwd Header Length, \n",
    "Bwd Header Length, \n",
    "Fwd Packets/s, \n",
    "Bwd Packets/s, \n",
    "Min Packet Length, \n",
    "Max Packet Length, \n",
    "Packet Length Mean, \n",
    "Packet Length Std, \n",
    "Packet Length Variance, \n",
    "FIN Flag Count, \n",
    "SYN Flag Count, \n",
    "RST Flag Count, \n",
    "PSH Flag Count, \n",
    "ACK Flag Count, \n",
    "URG Flag Count, \n",
    "CWE Flag Count, \n",
    "ECE Flag Count, \n",
    "Down/Up Ratio, \n",
    "Average Packet Size, \n",
    "Avg Fwd Segment Size, \n",
    "Avg Bwd Segment Size, \n",
    "Fwd Header Length.1, \n",
    "Fwd Avg Bytes/Bulk, \n",
    "Fwd Avg Packets/Bulk, \n",
    "Fwd Avg Bulk Rate, \n",
    "Bwd Avg Bytes/Bulk, \n",
    "Bwd Avg Packets/Bulk, \n",
    "Bwd Avg Bulk Rate, \n",
    "Subflow Fwd Packets, \n",
    "Subflow Fwd Bytes, \n",
    "Subflow Bwd Packets, \n",
    "Subflow Bwd Bytes, \n",
    "Init_Win_bytes_forward, \n",
    "Init_Win_bytes_backward, \n",
    "act_data_pkt_fwd, \n",
    "min_seg_size_forward, \n",
    "Active Mean, \n",
    "Active Std, \n",
    "Active Max, \n",
    "Active Min, \n",
    "Idle Mean, \n",
    "Idle Std, \n",
    "Idle Max, \n",
    "Idle Min, Label\"\"\"\n",
    "\n",
    "\n",
    "\n",
    "columns=[]\n",
    "for c in cols.split(','):\n",
    "    if(c.strip()):\n",
    "       columns.append(c.strip())\n",
    "\n",
    "#columns.append('Label')\n",
    "#print(columns)\n",
    "print(len(columns))"
   ]
  },
  {
   "cell_type": "code",
   "execution_count": 3,
   "metadata": {},
   "outputs": [],
   "source": [
    "#columns = list(pd.read_csv(path))\n",
    "#print(columns)"
   ]
  },
  {
   "cell_type": "code",
   "execution_count": 4,
   "metadata": {},
   "outputs": [
    {
     "name": "stderr",
     "output_type": "stream",
     "text": [
      "C:\\Users\\Mohab\\Anaconda3\\lib\\site-packages\\IPython\\core\\interactiveshell.py:3058: DtypeWarning: Columns (14,15) have mixed types. Specify dtype option on import or set low_memory=False.\n",
      "  interactivity=interactivity, compiler=compiler, result=result)\n",
      "C:\\Users\\Mohab\\Anaconda3\\lib\\site-packages\\IPython\\core\\interactiveshell.py:3058: DtypeWarning: Columns (14) have mixed types. Specify dtype option on import or set low_memory=False.\n",
      "  interactivity=interactivity, compiler=compiler, result=result)\n"
     ]
    },
    {
     "data": {
      "text/html": [
       "<div>\n",
       "<style scoped>\n",
       "    .dataframe tbody tr th:only-of-type {\n",
       "        vertical-align: middle;\n",
       "    }\n",
       "\n",
       "    .dataframe tbody tr th {\n",
       "        vertical-align: top;\n",
       "    }\n",
       "\n",
       "    .dataframe thead th {\n",
       "        text-align: right;\n",
       "    }\n",
       "</style>\n",
       "<table border=\"1\" class=\"dataframe\">\n",
       "  <thead>\n",
       "    <tr style=\"text-align: right;\">\n",
       "      <th></th>\n",
       "      <th>Destination Port</th>\n",
       "      <th>Flow Duration</th>\n",
       "      <th>Total Fwd Packets</th>\n",
       "      <th>Total Backward Packets</th>\n",
       "      <th>Total Length of Fwd Packets</th>\n",
       "      <th>Total Length of Bwd Packets</th>\n",
       "      <th>Fwd Packet Length Max</th>\n",
       "      <th>Fwd Packet Length Min</th>\n",
       "      <th>Fwd Packet Length Mean</th>\n",
       "      <th>Fwd Packet Length Std</th>\n",
       "      <th>...</th>\n",
       "      <th>min_seg_size_forward</th>\n",
       "      <th>Active Mean</th>\n",
       "      <th>Active Std</th>\n",
       "      <th>Active Max</th>\n",
       "      <th>Active Min</th>\n",
       "      <th>Idle Mean</th>\n",
       "      <th>Idle Std</th>\n",
       "      <th>Idle Max</th>\n",
       "      <th>Idle Min</th>\n",
       "      <th>Label</th>\n",
       "    </tr>\n",
       "  </thead>\n",
       "  <tbody>\n",
       "    <tr>\n",
       "      <td>0</td>\n",
       "      <td>54865</td>\n",
       "      <td>3</td>\n",
       "      <td>2</td>\n",
       "      <td>0</td>\n",
       "      <td>12</td>\n",
       "      <td>0</td>\n",
       "      <td>6</td>\n",
       "      <td>6</td>\n",
       "      <td>6.0</td>\n",
       "      <td>0.0</td>\n",
       "      <td>...</td>\n",
       "      <td>20</td>\n",
       "      <td>0.0</td>\n",
       "      <td>0.0</td>\n",
       "      <td>0</td>\n",
       "      <td>0</td>\n",
       "      <td>0.0</td>\n",
       "      <td>0.0</td>\n",
       "      <td>0</td>\n",
       "      <td>0</td>\n",
       "      <td>BENIGN</td>\n",
       "    </tr>\n",
       "    <tr>\n",
       "      <td>1</td>\n",
       "      <td>55054</td>\n",
       "      <td>109</td>\n",
       "      <td>1</td>\n",
       "      <td>1</td>\n",
       "      <td>6</td>\n",
       "      <td>6</td>\n",
       "      <td>6</td>\n",
       "      <td>6</td>\n",
       "      <td>6.0</td>\n",
       "      <td>0.0</td>\n",
       "      <td>...</td>\n",
       "      <td>20</td>\n",
       "      <td>0.0</td>\n",
       "      <td>0.0</td>\n",
       "      <td>0</td>\n",
       "      <td>0</td>\n",
       "      <td>0.0</td>\n",
       "      <td>0.0</td>\n",
       "      <td>0</td>\n",
       "      <td>0</td>\n",
       "      <td>BENIGN</td>\n",
       "    </tr>\n",
       "    <tr>\n",
       "      <td>2</td>\n",
       "      <td>55055</td>\n",
       "      <td>52</td>\n",
       "      <td>1</td>\n",
       "      <td>1</td>\n",
       "      <td>6</td>\n",
       "      <td>6</td>\n",
       "      <td>6</td>\n",
       "      <td>6</td>\n",
       "      <td>6.0</td>\n",
       "      <td>0.0</td>\n",
       "      <td>...</td>\n",
       "      <td>20</td>\n",
       "      <td>0.0</td>\n",
       "      <td>0.0</td>\n",
       "      <td>0</td>\n",
       "      <td>0</td>\n",
       "      <td>0.0</td>\n",
       "      <td>0.0</td>\n",
       "      <td>0</td>\n",
       "      <td>0</td>\n",
       "      <td>BENIGN</td>\n",
       "    </tr>\n",
       "    <tr>\n",
       "      <td>3</td>\n",
       "      <td>46236</td>\n",
       "      <td>34</td>\n",
       "      <td>1</td>\n",
       "      <td>1</td>\n",
       "      <td>6</td>\n",
       "      <td>6</td>\n",
       "      <td>6</td>\n",
       "      <td>6</td>\n",
       "      <td>6.0</td>\n",
       "      <td>0.0</td>\n",
       "      <td>...</td>\n",
       "      <td>20</td>\n",
       "      <td>0.0</td>\n",
       "      <td>0.0</td>\n",
       "      <td>0</td>\n",
       "      <td>0</td>\n",
       "      <td>0.0</td>\n",
       "      <td>0.0</td>\n",
       "      <td>0</td>\n",
       "      <td>0</td>\n",
       "      <td>BENIGN</td>\n",
       "    </tr>\n",
       "    <tr>\n",
       "      <td>4</td>\n",
       "      <td>54863</td>\n",
       "      <td>3</td>\n",
       "      <td>2</td>\n",
       "      <td>0</td>\n",
       "      <td>12</td>\n",
       "      <td>0</td>\n",
       "      <td>6</td>\n",
       "      <td>6</td>\n",
       "      <td>6.0</td>\n",
       "      <td>0.0</td>\n",
       "      <td>...</td>\n",
       "      <td>20</td>\n",
       "      <td>0.0</td>\n",
       "      <td>0.0</td>\n",
       "      <td>0</td>\n",
       "      <td>0</td>\n",
       "      <td>0.0</td>\n",
       "      <td>0.0</td>\n",
       "      <td>0</td>\n",
       "      <td>0</td>\n",
       "      <td>BENIGN</td>\n",
       "    </tr>\n",
       "  </tbody>\n",
       "</table>\n",
       "<p>5 rows × 79 columns</p>\n",
       "</div>"
      ],
      "text/plain": [
       "    Destination Port   Flow Duration   Total Fwd Packets  \\\n",
       "0              54865               3                   2   \n",
       "1              55054             109                   1   \n",
       "2              55055              52                   1   \n",
       "3              46236              34                   1   \n",
       "4              54863               3                   2   \n",
       "\n",
       "    Total Backward Packets  Total Length of Fwd Packets  \\\n",
       "0                        0                           12   \n",
       "1                        1                            6   \n",
       "2                        1                            6   \n",
       "3                        1                            6   \n",
       "4                        0                           12   \n",
       "\n",
       "    Total Length of Bwd Packets   Fwd Packet Length Max  \\\n",
       "0                             0                       6   \n",
       "1                             6                       6   \n",
       "2                             6                       6   \n",
       "3                             6                       6   \n",
       "4                             0                       6   \n",
       "\n",
       "    Fwd Packet Length Min   Fwd Packet Length Mean   Fwd Packet Length Std  \\\n",
       "0                       6                      6.0                     0.0   \n",
       "1                       6                      6.0                     0.0   \n",
       "2                       6                      6.0                     0.0   \n",
       "3                       6                      6.0                     0.0   \n",
       "4                       6                      6.0                     0.0   \n",
       "\n",
       "   ...   min_seg_size_forward  Active Mean   Active Std   Active Max  \\\n",
       "0  ...                     20          0.0          0.0            0   \n",
       "1  ...                     20          0.0          0.0            0   \n",
       "2  ...                     20          0.0          0.0            0   \n",
       "3  ...                     20          0.0          0.0            0   \n",
       "4  ...                     20          0.0          0.0            0   \n",
       "\n",
       "   Active Min Idle Mean   Idle Std   Idle Max   Idle Min   Label  \n",
       "0           0       0.0        0.0          0          0  BENIGN  \n",
       "1           0       0.0        0.0          0          0  BENIGN  \n",
       "2           0       0.0        0.0          0          0  BENIGN  \n",
       "3           0       0.0        0.0          0          0  BENIGN  \n",
       "4           0       0.0        0.0          0          0  BENIGN  \n",
       "\n",
       "[5 rows x 79 columns]"
      ]
     },
     "execution_count": 4,
     "metadata": {},
     "output_type": "execute_result"
    }
   ],
   "source": [
    "path = \"Friday-WorkingHours-Afternoon-DDos.csv\"\n",
    "df = pd.read_csv(path)\n",
    "\n",
    "df1=pd.read_csv(\"iscx/Friday-WorkingHours-Afternoon-DDos.csv\")\n",
    "\n",
    "df2=pd.read_csv(\"iscx/Friday-WorkingHours-Afternoon-PortScan.csv\")\n",
    "df3=pd.read_csv(\"iscx/Friday-WorkingHours-Morning.csv\")\n",
    "df4=pd.read_csv(\"iscx/Monday-WorkingHours.csv\")\n",
    "df5=pd.read_csv(\"iscx/Thursday-WorkingHours-Afternoon-Infilteration.csv\")\n",
    "df6=pd.read_csv(\"iscx/Thursday-WorkingHours-Morning-WebAttacks.csv\")\n",
    "df7=pd.read_csv(\"iscx/Tuesday-WorkingHours.csv\")\n",
    "df8=pd.read_csv(\"iscx/Wednesday-workingHours.csv\")\n",
    "\n",
    "#Adding Attack Type column\n",
    "#df['Attack Type'] = df.target.apply(lambda r:attacks_types[r[:-1]])\n",
    "\n",
    "df.head()"
   ]
  },
  {
   "cell_type": "code",
   "execution_count": 5,
   "metadata": {},
   "outputs": [],
   "source": [
    "df=pd.concat([df1,df2,df3,df4,df5,df6,df7,df8])"
   ]
  },
  {
   "cell_type": "code",
   "execution_count": 6,
   "metadata": {},
   "outputs": [
    {
     "data": {
      "text/plain": [
       "BENIGN                        2273097\n",
       "DoS Hulk                       231073\n",
       "PortScan                       158930\n",
       "DDoS                           128027\n",
       "DoS GoldenEye                   10293\n",
       "FTP-Patator                      7938\n",
       "SSH-Patator                      5897\n",
       "DoS slowloris                    5796\n",
       "DoS Slowhttptest                 5499\n",
       "Bot                              1966\n",
       "Web Attack � Brute Force         1507\n",
       "Web Attack � XSS                  652\n",
       "Infiltration                       36\n",
       "Web Attack � Sql Injection         21\n",
       "Heartbleed                         11\n",
       "Name:  Label, dtype: int64"
      ]
     },
     "execution_count": 6,
     "metadata": {},
     "output_type": "execute_result"
    }
   ],
   "source": [
    "df[' Label'].value_counts()"
   ]
  },
  {
   "cell_type": "code",
   "execution_count": 7,
   "metadata": {},
   "outputs": [
    {
     "data": {
      "text/plain": [
       " Destination Port                int64\n",
       " Flow Duration                   int64\n",
       " Total Fwd Packets               int64\n",
       " Total Backward Packets          int64\n",
       "Total Length of Fwd Packets      int64\n",
       "                                ...   \n",
       "Idle Mean                      float64\n",
       " Idle Std                      float64\n",
       " Idle Max                        int64\n",
       " Idle Min                        int64\n",
       " Label                          object\n",
       "Length: 79, dtype: object"
      ]
     },
     "execution_count": 7,
     "metadata": {},
     "output_type": "execute_result"
    }
   ],
   "source": [
    "df.dtypes"
   ]
  },
  {
   "cell_type": "code",
   "execution_count": 8,
   "metadata": {},
   "outputs": [
    {
     "data": {
      "text/plain": [
       " Destination Port              0\n",
       " Flow Duration                 0\n",
       " Total Fwd Packets             0\n",
       " Total Backward Packets        0\n",
       "Total Length of Fwd Packets    0\n",
       "                              ..\n",
       "Idle Mean                      0\n",
       " Idle Std                      0\n",
       " Idle Max                      0\n",
       " Idle Min                      0\n",
       " Label                         0\n",
       "Length: 79, dtype: int64"
      ]
     },
     "execution_count": 8,
     "metadata": {},
     "output_type": "execute_result"
    }
   ],
   "source": [
    "df.isnull().sum()"
   ]
  },
  {
   "cell_type": "code",
   "execution_count": 9,
   "metadata": {},
   "outputs": [
    {
     "data": {
      "text/html": [
       "<div>\n",
       "<style scoped>\n",
       "    .dataframe tbody tr th:only-of-type {\n",
       "        vertical-align: middle;\n",
       "    }\n",
       "\n",
       "    .dataframe tbody tr th {\n",
       "        vertical-align: top;\n",
       "    }\n",
       "\n",
       "    .dataframe thead th {\n",
       "        text-align: right;\n",
       "    }\n",
       "</style>\n",
       "<table border=\"1\" class=\"dataframe\">\n",
       "  <thead>\n",
       "    <tr style=\"text-align: right;\">\n",
       "      <th></th>\n",
       "      <th>Destination Port</th>\n",
       "      <th>Flow Duration</th>\n",
       "      <th>Total Fwd Packets</th>\n",
       "      <th>Total Backward Packets</th>\n",
       "      <th>Total Length of Fwd Packets</th>\n",
       "      <th>Total Length of Bwd Packets</th>\n",
       "      <th>Fwd Packet Length Max</th>\n",
       "      <th>Fwd Packet Length Min</th>\n",
       "      <th>Fwd Packet Length Mean</th>\n",
       "      <th>Fwd Packet Length Std</th>\n",
       "      <th>...</th>\n",
       "      <th>min_seg_size_forward</th>\n",
       "      <th>Active Mean</th>\n",
       "      <th>Active Std</th>\n",
       "      <th>Active Max</th>\n",
       "      <th>Active Min</th>\n",
       "      <th>Idle Mean</th>\n",
       "      <th>Idle Std</th>\n",
       "      <th>Idle Max</th>\n",
       "      <th>Idle Min</th>\n",
       "      <th>Label</th>\n",
       "    </tr>\n",
       "  </thead>\n",
       "  <tbody>\n",
       "    <tr>\n",
       "      <td>6796</td>\n",
       "      <td>36812</td>\n",
       "      <td>0</td>\n",
       "      <td>2</td>\n",
       "      <td>0</td>\n",
       "      <td>0</td>\n",
       "      <td>0</td>\n",
       "      <td>0</td>\n",
       "      <td>0</td>\n",
       "      <td>0.0</td>\n",
       "      <td>0.0</td>\n",
       "      <td>...</td>\n",
       "      <td>32</td>\n",
       "      <td>0.0</td>\n",
       "      <td>0.0</td>\n",
       "      <td>0</td>\n",
       "      <td>0</td>\n",
       "      <td>0.0</td>\n",
       "      <td>0.0</td>\n",
       "      <td>0</td>\n",
       "      <td>0</td>\n",
       "      <td>BENIGN</td>\n",
       "    </tr>\n",
       "    <tr>\n",
       "      <td>14739</td>\n",
       "      <td>53581</td>\n",
       "      <td>0</td>\n",
       "      <td>1</td>\n",
       "      <td>1</td>\n",
       "      <td>0</td>\n",
       "      <td>0</td>\n",
       "      <td>0</td>\n",
       "      <td>0</td>\n",
       "      <td>0.0</td>\n",
       "      <td>0.0</td>\n",
       "      <td>...</td>\n",
       "      <td>44</td>\n",
       "      <td>0.0</td>\n",
       "      <td>0.0</td>\n",
       "      <td>0</td>\n",
       "      <td>0</td>\n",
       "      <td>0.0</td>\n",
       "      <td>0.0</td>\n",
       "      <td>0</td>\n",
       "      <td>0</td>\n",
       "      <td>BENIGN</td>\n",
       "    </tr>\n",
       "    <tr>\n",
       "      <td>15047</td>\n",
       "      <td>80</td>\n",
       "      <td>0</td>\n",
       "      <td>2</td>\n",
       "      <td>0</td>\n",
       "      <td>0</td>\n",
       "      <td>0</td>\n",
       "      <td>0</td>\n",
       "      <td>0</td>\n",
       "      <td>0.0</td>\n",
       "      <td>0.0</td>\n",
       "      <td>...</td>\n",
       "      <td>32</td>\n",
       "      <td>0.0</td>\n",
       "      <td>0.0</td>\n",
       "      <td>0</td>\n",
       "      <td>0</td>\n",
       "      <td>0.0</td>\n",
       "      <td>0.0</td>\n",
       "      <td>0</td>\n",
       "      <td>0</td>\n",
       "      <td>BENIGN</td>\n",
       "    </tr>\n",
       "    <tr>\n",
       "      <td>209728</td>\n",
       "      <td>18467</td>\n",
       "      <td>0</td>\n",
       "      <td>2</td>\n",
       "      <td>0</td>\n",
       "      <td>0</td>\n",
       "      <td>0</td>\n",
       "      <td>0</td>\n",
       "      <td>0</td>\n",
       "      <td>0.0</td>\n",
       "      <td>0.0</td>\n",
       "      <td>...</td>\n",
       "      <td>32</td>\n",
       "      <td>0.0</td>\n",
       "      <td>0.0</td>\n",
       "      <td>0</td>\n",
       "      <td>0</td>\n",
       "      <td>0.0</td>\n",
       "      <td>0.0</td>\n",
       "      <td>0</td>\n",
       "      <td>0</td>\n",
       "      <td>BENIGN</td>\n",
       "    </tr>\n",
       "    <tr>\n",
       "      <td>12824</td>\n",
       "      <td>13370</td>\n",
       "      <td>0</td>\n",
       "      <td>2</td>\n",
       "      <td>0</td>\n",
       "      <td>0</td>\n",
       "      <td>0</td>\n",
       "      <td>0</td>\n",
       "      <td>0</td>\n",
       "      <td>0.0</td>\n",
       "      <td>0.0</td>\n",
       "      <td>...</td>\n",
       "      <td>32</td>\n",
       "      <td>0.0</td>\n",
       "      <td>0.0</td>\n",
       "      <td>0</td>\n",
       "      <td>0</td>\n",
       "      <td>0.0</td>\n",
       "      <td>0.0</td>\n",
       "      <td>0</td>\n",
       "      <td>0</td>\n",
       "      <td>BENIGN</td>\n",
       "    </tr>\n",
       "    <tr>\n",
       "      <td>...</td>\n",
       "      <td>...</td>\n",
       "      <td>...</td>\n",
       "      <td>...</td>\n",
       "      <td>...</td>\n",
       "      <td>...</td>\n",
       "      <td>...</td>\n",
       "      <td>...</td>\n",
       "      <td>...</td>\n",
       "      <td>...</td>\n",
       "      <td>...</td>\n",
       "      <td>...</td>\n",
       "      <td>...</td>\n",
       "      <td>...</td>\n",
       "      <td>...</td>\n",
       "      <td>...</td>\n",
       "      <td>...</td>\n",
       "      <td>...</td>\n",
       "      <td>...</td>\n",
       "      <td>...</td>\n",
       "      <td>...</td>\n",
       "      <td>...</td>\n",
       "    </tr>\n",
       "    <tr>\n",
       "      <td>602009</td>\n",
       "      <td>50834</td>\n",
       "      <td>0</td>\n",
       "      <td>1</td>\n",
       "      <td>1</td>\n",
       "      <td>0</td>\n",
       "      <td>0</td>\n",
       "      <td>0</td>\n",
       "      <td>0</td>\n",
       "      <td>0.0</td>\n",
       "      <td>0.0</td>\n",
       "      <td>...</td>\n",
       "      <td>32</td>\n",
       "      <td>0.0</td>\n",
       "      <td>0.0</td>\n",
       "      <td>0</td>\n",
       "      <td>0</td>\n",
       "      <td>0.0</td>\n",
       "      <td>0.0</td>\n",
       "      <td>0</td>\n",
       "      <td>0</td>\n",
       "      <td>BENIGN</td>\n",
       "    </tr>\n",
       "    <tr>\n",
       "      <td>629492</td>\n",
       "      <td>45113</td>\n",
       "      <td>0</td>\n",
       "      <td>1</td>\n",
       "      <td>1</td>\n",
       "      <td>0</td>\n",
       "      <td>0</td>\n",
       "      <td>0</td>\n",
       "      <td>0</td>\n",
       "      <td>0.0</td>\n",
       "      <td>0.0</td>\n",
       "      <td>...</td>\n",
       "      <td>32</td>\n",
       "      <td>0.0</td>\n",
       "      <td>0.0</td>\n",
       "      <td>0</td>\n",
       "      <td>0</td>\n",
       "      <td>0.0</td>\n",
       "      <td>0.0</td>\n",
       "      <td>0</td>\n",
       "      <td>0</td>\n",
       "      <td>BENIGN</td>\n",
       "    </tr>\n",
       "    <tr>\n",
       "      <td>653553</td>\n",
       "      <td>48698</td>\n",
       "      <td>0</td>\n",
       "      <td>2</td>\n",
       "      <td>0</td>\n",
       "      <td>0</td>\n",
       "      <td>0</td>\n",
       "      <td>0</td>\n",
       "      <td>0</td>\n",
       "      <td>0.0</td>\n",
       "      <td>0.0</td>\n",
       "      <td>...</td>\n",
       "      <td>32</td>\n",
       "      <td>0.0</td>\n",
       "      <td>0.0</td>\n",
       "      <td>0</td>\n",
       "      <td>0</td>\n",
       "      <td>0.0</td>\n",
       "      <td>0.0</td>\n",
       "      <td>0</td>\n",
       "      <td>0</td>\n",
       "      <td>BENIGN</td>\n",
       "    </tr>\n",
       "    <tr>\n",
       "      <td>671012</td>\n",
       "      <td>22567</td>\n",
       "      <td>0</td>\n",
       "      <td>2</td>\n",
       "      <td>0</td>\n",
       "      <td>0</td>\n",
       "      <td>0</td>\n",
       "      <td>0</td>\n",
       "      <td>0</td>\n",
       "      <td>0.0</td>\n",
       "      <td>0.0</td>\n",
       "      <td>...</td>\n",
       "      <td>32</td>\n",
       "      <td>0.0</td>\n",
       "      <td>0.0</td>\n",
       "      <td>0</td>\n",
       "      <td>0</td>\n",
       "      <td>0.0</td>\n",
       "      <td>0.0</td>\n",
       "      <td>0</td>\n",
       "      <td>0</td>\n",
       "      <td>BENIGN</td>\n",
       "    </tr>\n",
       "    <tr>\n",
       "      <td>686806</td>\n",
       "      <td>33238</td>\n",
       "      <td>0</td>\n",
       "      <td>1</td>\n",
       "      <td>1</td>\n",
       "      <td>0</td>\n",
       "      <td>0</td>\n",
       "      <td>0</td>\n",
       "      <td>0</td>\n",
       "      <td>0.0</td>\n",
       "      <td>0.0</td>\n",
       "      <td>...</td>\n",
       "      <td>32</td>\n",
       "      <td>0.0</td>\n",
       "      <td>0.0</td>\n",
       "      <td>0</td>\n",
       "      <td>0</td>\n",
       "      <td>0.0</td>\n",
       "      <td>0.0</td>\n",
       "      <td>0</td>\n",
       "      <td>0</td>\n",
       "      <td>BENIGN</td>\n",
       "    </tr>\n",
       "  </tbody>\n",
       "</table>\n",
       "<p>1358 rows × 79 columns</p>\n",
       "</div>"
      ],
      "text/plain": [
       "         Destination Port   Flow Duration   Total Fwd Packets  \\\n",
       "6796                36812               0                   2   \n",
       "14739               53581               0                   1   \n",
       "15047                  80               0                   2   \n",
       "209728              18467               0                   2   \n",
       "12824               13370               0                   2   \n",
       "...                   ...             ...                 ...   \n",
       "602009              50834               0                   1   \n",
       "629492              45113               0                   1   \n",
       "653553              48698               0                   2   \n",
       "671012              22567               0                   2   \n",
       "686806              33238               0                   1   \n",
       "\n",
       "         Total Backward Packets  Total Length of Fwd Packets  \\\n",
       "6796                          0                            0   \n",
       "14739                         1                            0   \n",
       "15047                         0                            0   \n",
       "209728                        0                            0   \n",
       "12824                         0                            0   \n",
       "...                         ...                          ...   \n",
       "602009                        1                            0   \n",
       "629492                        1                            0   \n",
       "653553                        0                            0   \n",
       "671012                        0                            0   \n",
       "686806                        1                            0   \n",
       "\n",
       "         Total Length of Bwd Packets   Fwd Packet Length Max  \\\n",
       "6796                               0                       0   \n",
       "14739                              0                       0   \n",
       "15047                              0                       0   \n",
       "209728                             0                       0   \n",
       "12824                              0                       0   \n",
       "...                              ...                     ...   \n",
       "602009                             0                       0   \n",
       "629492                             0                       0   \n",
       "653553                             0                       0   \n",
       "671012                             0                       0   \n",
       "686806                             0                       0   \n",
       "\n",
       "         Fwd Packet Length Min   Fwd Packet Length Mean  \\\n",
       "6796                         0                      0.0   \n",
       "14739                        0                      0.0   \n",
       "15047                        0                      0.0   \n",
       "209728                       0                      0.0   \n",
       "12824                        0                      0.0   \n",
       "...                        ...                      ...   \n",
       "602009                       0                      0.0   \n",
       "629492                       0                      0.0   \n",
       "653553                       0                      0.0   \n",
       "671012                       0                      0.0   \n",
       "686806                       0                      0.0   \n",
       "\n",
       "         Fwd Packet Length Std  ...   min_seg_size_forward  Active Mean  \\\n",
       "6796                       0.0  ...                     32          0.0   \n",
       "14739                      0.0  ...                     44          0.0   \n",
       "15047                      0.0  ...                     32          0.0   \n",
       "209728                     0.0  ...                     32          0.0   \n",
       "12824                      0.0  ...                     32          0.0   \n",
       "...                        ...  ...                    ...          ...   \n",
       "602009                     0.0  ...                     32          0.0   \n",
       "629492                     0.0  ...                     32          0.0   \n",
       "653553                     0.0  ...                     32          0.0   \n",
       "671012                     0.0  ...                     32          0.0   \n",
       "686806                     0.0  ...                     32          0.0   \n",
       "\n",
       "         Active Std   Active Max  Active Min Idle Mean   Idle Std   Idle Max  \\\n",
       "6796            0.0            0           0       0.0        0.0          0   \n",
       "14739           0.0            0           0       0.0        0.0          0   \n",
       "15047           0.0            0           0       0.0        0.0          0   \n",
       "209728          0.0            0           0       0.0        0.0          0   \n",
       "12824           0.0            0           0       0.0        0.0          0   \n",
       "...             ...          ...         ...       ...        ...        ...   \n",
       "602009          0.0            0           0       0.0        0.0          0   \n",
       "629492          0.0            0           0       0.0        0.0          0   \n",
       "653553          0.0            0           0       0.0        0.0          0   \n",
       "671012          0.0            0           0       0.0        0.0          0   \n",
       "686806          0.0            0           0       0.0        0.0          0   \n",
       "\n",
       "         Idle Min   Label  \n",
       "6796            0  BENIGN  \n",
       "14739           0  BENIGN  \n",
       "15047           0  BENIGN  \n",
       "209728          0  BENIGN  \n",
       "12824           0  BENIGN  \n",
       "...           ...     ...  \n",
       "602009          0  BENIGN  \n",
       "629492          0  BENIGN  \n",
       "653553          0  BENIGN  \n",
       "671012          0  BENIGN  \n",
       "686806          0  BENIGN  \n",
       "\n",
       "[1358 rows x 79 columns]"
      ]
     },
     "execution_count": 9,
     "metadata": {},
     "output_type": "execute_result"
    }
   ],
   "source": [
    "#cleaning null values in features\n",
    "df[df.isnull().any(axis=1)]"
   ]
  },
  {
   "cell_type": "code",
   "execution_count": 10,
   "metadata": {},
   "outputs": [],
   "source": [
    "#Label encoding starts here\n",
    "from sklearn.preprocessing import LabelEncoder\n",
    "from sklearn.preprocessing import OneHotEncoder\n",
    "encoder = LabelEncoder()\n",
    "onehot = OneHotEncoder()"
   ]
  },
  {
   "cell_type": "code",
   "execution_count": 11,
   "metadata": {},
   "outputs": [
    {
     "data": {
      "text/html": [
       "<div>\n",
       "<style scoped>\n",
       "    .dataframe tbody tr th:only-of-type {\n",
       "        vertical-align: middle;\n",
       "    }\n",
       "\n",
       "    .dataframe tbody tr th {\n",
       "        vertical-align: top;\n",
       "    }\n",
       "\n",
       "    .dataframe thead th {\n",
       "        text-align: right;\n",
       "    }\n",
       "</style>\n",
       "<table border=\"1\" class=\"dataframe\">\n",
       "  <thead>\n",
       "    <tr style=\"text-align: right;\">\n",
       "      <th></th>\n",
       "      <th>Flow Bytes/s</th>\n",
       "      <th>Flow Packets/s</th>\n",
       "      <th>Label</th>\n",
       "    </tr>\n",
       "  </thead>\n",
       "  <tbody>\n",
       "    <tr>\n",
       "      <td>0</td>\n",
       "      <td>4000000</td>\n",
       "      <td>666666.6667</td>\n",
       "      <td>BENIGN</td>\n",
       "    </tr>\n",
       "    <tr>\n",
       "      <td>1</td>\n",
       "      <td>110091.7431</td>\n",
       "      <td>18348.62385</td>\n",
       "      <td>BENIGN</td>\n",
       "    </tr>\n",
       "    <tr>\n",
       "      <td>2</td>\n",
       "      <td>230769.2308</td>\n",
       "      <td>38461.53846</td>\n",
       "      <td>BENIGN</td>\n",
       "    </tr>\n",
       "    <tr>\n",
       "      <td>3</td>\n",
       "      <td>352941.1765</td>\n",
       "      <td>58823.52941</td>\n",
       "      <td>BENIGN</td>\n",
       "    </tr>\n",
       "    <tr>\n",
       "      <td>4</td>\n",
       "      <td>4000000</td>\n",
       "      <td>666666.6667</td>\n",
       "      <td>BENIGN</td>\n",
       "    </tr>\n",
       "  </tbody>\n",
       "</table>\n",
       "</div>"
      ],
      "text/plain": [
       "  Flow Bytes/s  Flow Packets/s   Label\n",
       "0      4000000     666666.6667  BENIGN\n",
       "1  110091.7431     18348.62385  BENIGN\n",
       "2  230769.2308     38461.53846  BENIGN\n",
       "3  352941.1765     58823.52941  BENIGN\n",
       "4      4000000     666666.6667  BENIGN"
      ]
     },
     "execution_count": 11,
     "metadata": {},
     "output_type": "execute_result"
    }
   ],
   "source": [
    "#finding categorical (dtype: object) features\n",
    "obj_df = df.select_dtypes(include=['object']).copy()\n",
    "obj_df.head()"
   ]
  },
  {
   "cell_type": "code",
   "execution_count": 12,
   "metadata": {},
   "outputs": [],
   "source": [
    "#df.apply(LabelEncoder().fit_transform)"
   ]
  },
  {
   "cell_type": "code",
   "execution_count": 13,
   "metadata": {},
   "outputs": [
    {
     "name": "stdout",
     "output_type": "stream",
     "text": [
      " Destination Port\n",
      " Flow Duration\n",
      " Total Fwd Packets\n",
      " Total Backward Packets\n",
      "Total Length of Fwd Packets\n",
      " Total Length of Bwd Packets\n",
      " Fwd Packet Length Max\n",
      " Fwd Packet Length Min\n",
      " Fwd Packet Length Mean\n",
      " Fwd Packet Length Std\n",
      "Bwd Packet Length Max\n",
      " Bwd Packet Length Min\n",
      " Bwd Packet Length Mean\n",
      " Bwd Packet Length Std\n",
      "Flow Bytes/s\n",
      " Flow Packets/s\n",
      " Flow IAT Mean\n",
      " Flow IAT Std\n",
      " Flow IAT Max\n",
      " Flow IAT Min\n",
      "Fwd IAT Total\n",
      " Fwd IAT Mean\n",
      " Fwd IAT Std\n",
      " Fwd IAT Max\n",
      " Fwd IAT Min\n",
      "Bwd IAT Total\n",
      " Bwd IAT Mean\n",
      " Bwd IAT Std\n",
      " Bwd IAT Max\n",
      " Bwd IAT Min\n",
      "Fwd PSH Flags\n",
      " Bwd PSH Flags\n",
      " Fwd URG Flags\n",
      " Bwd URG Flags\n",
      " Fwd Header Length\n",
      " Bwd Header Length\n",
      "Fwd Packets/s\n",
      " Bwd Packets/s\n",
      " Min Packet Length\n",
      " Max Packet Length\n",
      " Packet Length Mean\n",
      " Packet Length Std\n",
      " Packet Length Variance\n",
      "FIN Flag Count\n",
      " SYN Flag Count\n",
      " RST Flag Count\n",
      " PSH Flag Count\n",
      " ACK Flag Count\n",
      " URG Flag Count\n",
      " CWE Flag Count\n",
      " ECE Flag Count\n",
      " Down/Up Ratio\n",
      " Average Packet Size\n",
      " Avg Fwd Segment Size\n",
      " Avg Bwd Segment Size\n",
      " Fwd Header Length.1\n",
      "Fwd Avg Bytes/Bulk\n",
      " Fwd Avg Packets/Bulk\n",
      " Fwd Avg Bulk Rate\n",
      " Bwd Avg Bytes/Bulk\n",
      " Bwd Avg Packets/Bulk\n",
      "Bwd Avg Bulk Rate\n",
      "Subflow Fwd Packets\n",
      " Subflow Fwd Bytes\n",
      " Subflow Bwd Packets\n",
      " Subflow Bwd Bytes\n",
      "Init_Win_bytes_forward\n",
      " Init_Win_bytes_backward\n",
      " act_data_pkt_fwd\n",
      " min_seg_size_forward\n",
      "Active Mean\n",
      " Active Std\n",
      " Active Max\n",
      " Active Min\n",
      "Idle Mean\n",
      " Idle Std\n",
      " Idle Max\n",
      " Idle Min\n",
      " Label\n"
     ]
    }
   ],
   "source": [
    "\n",
    "for column in df.columns:\n",
    "    print(column)"
   ]
  },
  {
   "cell_type": "code",
   "execution_count": 14,
   "metadata": {},
   "outputs": [
    {
     "data": {
      "text/plain": [
       "[' Label', ' Flow Packets/s', 'Flow Bytes/s']"
      ]
     },
     "execution_count": 14,
     "metadata": {},
     "output_type": "execute_result"
    }
   ],
   "source": [
    "#Finding categorical features\n",
    "num_cols = df._get_numeric_data().columns\n",
    "\n",
    "cate_cols = list(set(df.columns)-set(num_cols))\n",
    "\n",
    "cate_cols"
   ]
  },
  {
   "cell_type": "code",
   "execution_count": 15,
   "metadata": {},
   "outputs": [],
   "source": [
    "df.drop(' Flow Packets/s',axis = 1,inplace= True)"
   ]
  },
  {
   "cell_type": "code",
   "execution_count": 16,
   "metadata": {},
   "outputs": [],
   "source": [
    "df.drop('Flow Bytes/s',axis = 1,inplace= True)"
   ]
  },
  {
   "cell_type": "code",
   "execution_count": 17,
   "metadata": {},
   "outputs": [
    {
     "data": {
      "image/png": "[encoded data removed]",
      "text/plain": [
       "<Figure size 1080x720 with 2 Axes>"
      ]
     },
     "metadata": {
      "needs_background": "light"
     },
     "output_type": "display_data"
    }
   ],
   "source": [
    "df = df.dropna('columns')# drop columns with NaN\n",
    "\n",
    "df = df[[col for col in df if df[col].nunique() > 1]]# keep columns where there are more than 1 unique values\n",
    "\n",
    "corr = df.corr()\n",
    "\n",
    "plt.figure(figsize=(15,10))\n",
    "\n",
    "sns.heatmap(corr)\n",
    "#sns.set(font_scale=1.6)\n",
    "\n",
    "\n",
    "plt.show()"
   ]
  },
  {
   "cell_type": "code",
   "execution_count": 18,
   "metadata": {},
   "outputs": [
    {
     "data": {
      "text/plain": [
       " Fwd URG Flags     1.054826e-02\n",
       " CWE Flag Count    1.054826e-02\n",
       " RST Flag Count    1.556536e-02\n",
       " ECE Flag Count    1.559935e-02\n",
       "FIN Flag Count     1.847378e-01\n",
       "                       ...     \n",
       " Flow IAT Max      2.445954e+07\n",
       " Fwd IAT Max       2.452916e+07\n",
       "Bwd IAT Total      2.873661e+07\n",
       "Fwd IAT Total      3.357581e+07\n",
       " Flow Duration     3.365374e+07\n",
       "Length: 68, dtype: float64"
      ]
     },
     "execution_count": 18,
     "metadata": {},
     "output_type": "execute_result"
    }
   ],
   "source": [
    "df_std = df.std()\n",
    "df_std = df_std.sort_values(ascending = True)\n",
    "df_std"
   ]
  },
  {
   "cell_type": "code",
   "execution_count": 19,
   "metadata": {},
   "outputs": [
    {
     "data": {
      "text/plain": [
       "(2830743, 69)"
      ]
     },
     "execution_count": 19,
     "metadata": {},
     "output_type": "execute_result"
    }
   ],
   "source": [
    "df.shape"
   ]
  },
  {
   "cell_type": "code",
   "execution_count": 20,
   "metadata": {},
   "outputs": [],
   "source": [
    "import sklearn\n",
    "from sklearn.model_selection import train_test_split\n",
    "from sklearn.preprocessing import MinMaxScaler\n",
    "from sklearn.metrics import accuracy_score"
   ]
  },
  {
   "cell_type": "code",
   "execution_count": 21,
   "metadata": {},
   "outputs": [
    {
     "name": "stdout",
     "output_type": "stream",
     "text": [
      "(2830743, 69)\n",
      "(1896597, 68) (934146, 68)\n",
      "(1896597, 1) (934146, 1)\n"
     ]
    }
   ],
   "source": [
    "#df = df.drop(['target',], axis=1)\n",
    "print(df.shape)\n",
    "\n",
    "# Target variable and train set\n",
    "Y = df[[' Label']]\n",
    "X = df.drop([' Label',], axis=1)\n",
    "\n",
    "sc = MinMaxScaler()\n",
    "X = sc.fit_transform(X)\n",
    "\n",
    "# Split test and train data \n",
    "X_train, X_test, Y_train, Y_test = train_test_split(X, Y, test_size=0.33, random_state=42)\n",
    "print(X_train.shape, X_test.shape)\n",
    "print(Y_train.shape, Y_test.shape)\n"
   ]
  },
  {
   "cell_type": "code",
   "execution_count": 20,
   "metadata": {},
   "outputs": [],
   "source": [
    "#Decision Tree \n",
    "from sklearn.tree import DecisionTreeClassifier\n",
    "DT = DecisionTreeClassifier(criterion=\"entropy\", max_depth = 4)"
   ]
  },
  {
   "cell_type": "code",
   "execution_count": 21,
   "metadata": {},
   "outputs": [
    {
     "name": "stdout",
     "output_type": "stream",
     "text": [
      "Training time:  33.18317365646362\n"
     ]
    }
   ],
   "source": [
    "start_time = time.time()\n",
    "DT.fit(X_train, Y_train.values.ravel())\n",
    "end_time = time.time()\n",
    "print(\"Training time: \",end_time-start_time)"
   ]
  },
  {
   "cell_type": "code",
   "execution_count": 22,
   "metadata": {},
   "outputs": [
    {
     "name": "stdout",
     "output_type": "stream",
     "text": [
      "Testing time:  0.2852611541748047\n"
     ]
    }
   ],
   "source": [
    "start_time = time.time()\n",
    "Y_test_pred_DT = DT.predict(X_test)\n",
    "end_time = time.time()\n",
    "print(\"Testing time: \",end_time-start_time)"
   ]
  },
  {
   "cell_type": "code",
   "execution_count": 23,
   "metadata": {},
   "outputs": [
    {
     "name": "stdout",
     "output_type": "stream",
     "text": [
      "Train score is: 0.9602688394002521\n",
      "Test score is: 0.9600308731183348\n"
     ]
    },
    {
     "name": "stderr",
     "output_type": "stream",
     "text": [
      "C:\\Users\\Mohab\\Anaconda3\\lib\\site-packages\\sklearn\\metrics\\classification.py:1437: UndefinedMetricWarning: Precision and F-score are ill-defined and being set to 0.0 in labels with no predicted samples.\n",
      "  'precision', 'predicted', average, warn_for)\n"
     ]
    },
    {
     "name": "stdout",
     "output_type": "stream",
     "text": [
      "                            precision    recall  f1-score   support\n",
      "\n",
      "                    BENIGN       0.96      1.00      0.98    749637\n",
      "                       Bot       0.00      0.00      0.00       658\n",
      "                      DDoS       1.00      0.99      0.99     42188\n",
      "             DoS GoldenEye       0.95      0.66      0.78      3399\n",
      "                  DoS Hulk       0.98      0.67      0.80     76550\n",
      "          DoS Slowhttptest       0.00      0.00      0.00      1793\n",
      "             DoS slowloris       0.00      0.00      0.00      1927\n",
      "               FTP-Patator       0.84      0.99      0.91      2649\n",
      "                Heartbleed       0.67      1.00      0.80         2\n",
      "              Infiltration       0.00      0.00      0.00         8\n",
      "                  PortScan       0.97      0.99      0.98     52644\n",
      "               SSH-Patator       0.00      0.00      0.00      1957\n",
      "  Web Attack � Brute Force       0.00      0.00      0.00       520\n",
      "Web Attack � Sql Injection       0.00      0.00      0.00         9\n",
      "          Web Attack � XSS       0.00      0.00      0.00       205\n",
      "\n",
      "                  accuracy                           0.96    934146\n",
      "                 macro avg       0.42      0.42      0.42    934146\n",
      "              weighted avg       0.95      0.96      0.95    934146\n",
      "\n"
     ]
    }
   ],
   "source": [
    "print(\"Train score is:\", DT.score(X_train, Y_train))\n",
    "print(\"Test score is:\",DT.score(X_test,Y_test))\n",
    "print(sklearn.metrics.classification_report(Y_test, Y_test_pred_DT))"
   ]
  },
  {
   "cell_type": "code",
   "execution_count": 22,
   "metadata": {},
   "outputs": [],
   "source": [
    "#Random Forest\n",
    "from sklearn.ensemble import RandomForestClassifier\n",
    "RF = RandomForestClassifier(n_estimators=30)"
   ]
  },
  {
   "cell_type": "code",
   "execution_count": 23,
   "metadata": {},
   "outputs": [
    {
     "name": "stdout",
     "output_type": "stream",
     "text": [
      "Training time:  236.55585527420044\n"
     ]
    }
   ],
   "source": [
    "start_time = time.time()\n",
    "RF.fit(X_train, Y_train.values.ravel())\n",
    "end_time = time.time()\n",
    "print(\"Training time: \",end_time-start_time)"
   ]
  },
  {
   "cell_type": "code",
   "execution_count": 24,
   "metadata": {},
   "outputs": [
    {
     "name": "stdout",
     "output_type": "stream",
     "text": [
      "Testing time:  4.8541998863220215\n"
     ]
    }
   ],
   "source": [
    "start_time = time.time()\n",
    "Y_test_pred_RF = RF.predict(X_test)\n",
    "end_time = time.time()\n",
    "print(\"Testing time: \",end_time-start_time)"
   ]
  },
  {
   "cell_type": "code",
   "execution_count": 25,
   "metadata": {},
   "outputs": [
    {
     "name": "stdout",
     "output_type": "stream",
     "text": [
      "Train score is: 0.9990287868218709\n",
      "Test score is: 0.9984017487630413\n",
      "                            precision    recall  f1-score   support\n",
      "\n",
      "                    BENIGN       1.00      1.00      1.00    749637\n",
      "                       Bot       0.82      0.49      0.61       658\n",
      "                      DDoS       1.00      1.00      1.00     42188\n",
      "             DoS GoldenEye       1.00      1.00      1.00      3399\n",
      "                  DoS Hulk       0.99      1.00      1.00     76550\n",
      "          DoS Slowhttptest       0.99      0.99      0.99      1793\n",
      "             DoS slowloris       1.00      1.00      1.00      1927\n",
      "               FTP-Patator       1.00      1.00      1.00      2649\n",
      "                Heartbleed       1.00      1.00      1.00         2\n",
      "              Infiltration       0.88      0.88      0.88         8\n",
      "                  PortScan       0.99      1.00      1.00     52644\n",
      "               SSH-Patator       1.00      1.00      1.00      1957\n",
      "  Web Attack � Brute Force       0.76      0.79      0.77       520\n",
      "Web Attack � Sql Injection       1.00      0.11      0.20         9\n",
      "          Web Attack � XSS       0.42      0.35      0.38       205\n",
      "\n",
      "                  accuracy                           1.00    934146\n",
      "                 macro avg       0.92      0.84      0.85    934146\n",
      "              weighted avg       1.00      1.00      1.00    934146\n",
      "\n"
     ]
    }
   ],
   "source": [
    "print(\"Train score is:\", RF.score(X_train, Y_train))\n",
    "print(\"Test score is:\",RF.score(X_test,Y_test))\n",
    "print(sklearn.metrics.classification_report(Y_test, Y_test_pred_RF))"
   ]
  },
  {
   "cell_type": "code",
   "execution_count": null,
   "metadata": {},
   "outputs": [],
   "source": []
  },
  {
   "cell_type": "code",
   "execution_count": null,
   "metadata": {},
   "outputs": [],
   "source": []
  },
  {
   "cell_type": "code",
   "execution_count": null,
   "metadata": {},
   "outputs": [],
   "source": []
  },
  {
   "cell_type": "code",
   "execution_count": null,
   "metadata": {},
   "outputs": [],
   "source": []
  },
  {
   "cell_type": "code",
   "execution_count": null,
   "metadata": {},
   "outputs": [],
   "source": []
  },
  {
   "cell_type": "code",
   "execution_count": null,
   "metadata": {},
   "outputs": [],
   "source": []
  },
  {
   "cell_type": "code",
   "execution_count": null,
   "metadata": {},
   "outputs": [],
   "source": []
  },
  {
   "cell_type": "code",
   "execution_count": null,
   "metadata": {},
   "outputs": [],
   "source": []
  },
  {
   "cell_type": "code",
   "execution_count": null,
   "metadata": {},
   "outputs": [],
   "source": []
  },
  {
   "cell_type": "code",
   "execution_count": 10,
   "metadata": {
    "collapsed": true,
    "jupyter": {
     "outputs_hidden": true
    }
   },
   "outputs": [
    {
     "data": {
      "text/plain": [
       "['service', 'protocol_type', 'flag']"
      ]
     },
     "execution_count": 10,
     "metadata": {},
     "output_type": "execute_result"
    }
   ],
   "source": [
    "#Finding categorical features\n",
    "num_cols = df._get_numeric_data().columns\n",
    "\n",
    "cate_cols = list(set(df.columns)-set(num_cols))\n",
    "cate_cols.remove('target')\n",
    "cate_cols.remove('Attack Type')\n",
    "\n",
    "cate_cols"
   ]
  },
  {
   "cell_type": "code",
   "execution_count": 11,
   "metadata": {},
   "outputs": [],
   "source": [
    "#Visualization\n",
    "def bar_graph(feature):\n",
    "    df[feature].value_counts().plot(kind=\"bar\")"
   ]
  },
  {
   "cell_type": "code",
   "execution_count": 12,
   "metadata": {
    "collapsed": true,
    "jupyter": {
     "outputs_hidden": true
    }
   },
   "outputs": [
    {
     "data": {
      "image/png": "[encoded data removed]",
      "text/plain": [
       "<Figure size 432x288 with 1 Axes>"
      ]
     },
     "metadata": {
      "needs_background": "light"
     },
     "output_type": "display_data"
    }
   ],
   "source": [
    "bar_graph('protocol_type')"
   ]
  },
  {
   "cell_type": "code",
   "execution_count": 13,
   "metadata": {
    "collapsed": true,
    "jupyter": {
     "outputs_hidden": true
    }
   },
   "outputs": [
    {
     "data": {
      "image/png": "[encoded data removed]",
      "text/plain": [
       "<Figure size 1080x216 with 1 Axes>"
      ]
     },
     "metadata": {
      "needs_background": "light"
     },
     "output_type": "display_data"
    }
   ],
   "source": [
    "plt.figure(figsize=(15,3))\n",
    "bar_graph('service')"
   ]
  },
  {
   "cell_type": "code",
   "execution_count": 14,
   "metadata": {
    "collapsed": true,
    "jupyter": {
     "outputs_hidden": true
    }
   },
   "outputs": [
    {
     "data": {
      "image/png": "[encoded data removed]",
      "text/plain": [
       "<Figure size 432x288 with 1 Axes>"
      ]
     },
     "metadata": {
      "needs_background": "light"
     },
     "output_type": "display_data"
    }
   ],
   "source": [
    "bar_graph('logged_in')"
   ]
  },
  {
   "cell_type": "code",
   "execution_count": 15,
   "metadata": {
    "collapsed": true,
    "jupyter": {
     "outputs_hidden": true
    }
   },
   "outputs": [
    {
     "data": {
      "image/png": "[encoded data removed]",
      "text/plain": [
       "<Figure size 432x288 with 1 Axes>"
      ]
     },
     "metadata": {
      "needs_background": "light"
     },
     "output_type": "display_data"
    }
   ],
   "source": [
    "bar_graph('target')"
   ]
  },
  {
   "cell_type": "code",
   "execution_count": 16,
   "metadata": {
    "collapsed": true,
    "jupyter": {
     "outputs_hidden": true
    }
   },
   "outputs": [
    {
     "data": {
      "image/png": "[encoded data removed]",
      "text/plain": [
       "<Figure size 432x288 with 1 Axes>"
      ]
     },
     "metadata": {
      "needs_background": "light"
     },
     "output_type": "display_data"
    }
   ],
   "source": [
    "bar_graph('Attack Type')"
   ]
  },
  {
   "cell_type": "code",
   "execution_count": 17,
   "metadata": {
    "collapsed": true,
    "jupyter": {
     "outputs_hidden": true
    }
   },
   "outputs": [
    {
     "data": {
      "text/plain": [
       "Index(['duration', 'protocol_type', 'service', 'flag', 'src_bytes',\n",
       "       'dst_bytes', 'land', 'wrong_fragment', 'urgent', 'hot',\n",
       "       'num_failed_logins', 'logged_in', 'num_compromised', 'root_shell',\n",
       "       'su_attempted', 'num_root', 'num_file_creations', 'num_shells',\n",
       "       'num_access_files', 'num_outbound_cmds', 'is_host_login',\n",
       "       'is_guest_login', 'count', 'srv_count', 'serror_rate',\n",
       "       'srv_serror_rate', 'rerror_rate', 'srv_rerror_rate', 'same_srv_rate',\n",
       "       'diff_srv_rate', 'srv_diff_host_rate', 'dst_host_count',\n",
       "       'dst_host_srv_count', 'dst_host_same_srv_rate',\n",
       "       'dst_host_diff_srv_rate', 'dst_host_same_src_port_rate',\n",
       "       'dst_host_srv_diff_host_rate', 'dst_host_serror_rate',\n",
       "       'dst_host_srv_serror_rate', 'dst_host_rerror_rate',\n",
       "       'dst_host_srv_rerror_rate', 'target', 'Attack Type'],\n",
       "      dtype='object')"
      ]
     },
     "execution_count": 17,
     "metadata": {},
     "output_type": "execute_result"
    }
   ],
   "source": [
    "df.columns"
   ]
  },
  {
   "cell_type": "code",
   "execution_count": 44,
   "metadata": {
    "collapsed": true,
    "jupyter": {
     "outputs_hidden": true
    }
   },
   "outputs": [
    {
     "data": {
      "image/png": "[encoded data removed]",
      "text/plain": [
       "<Figure size 1080x864 with 2 Axes>"
      ]
     },
     "metadata": {},
     "output_type": "display_data"
    }
   ],
   "source": [
    "df = df.dropna('columns')# drop columns with NaN\n",
    "\n",
    "df = df[[col for col in df if df[col].nunique() > 1]]# keep columns where there are more than 1 unique values\n",
    "\n",
    "corr = df.corr()\n",
    "\n",
    "plt.figure(figsize=(15,12))\n",
    "\n",
    "sns.heatmap(corr)\n",
    "sns.set(font_scale=1.6)\n",
    "\n",
    "\n",
    "plt.show()"
   ]
  },
  {
   "cell_type": "code",
   "execution_count": 19,
   "metadata": {
    "collapsed": true,
    "jupyter": {
     "outputs_hidden": true
    }
   },
   "outputs": [
    {
     "name": "stdout",
     "output_type": "stream",
     "text": [
      "['duration' 'protocol_type' 'service' 'flag' 'src_bytes' 'dst_bytes'\n",
      " 'land' 'wrong_fragment' 'urgent' 'hot' 'num_failed_logins' 'logged_in'\n",
      " 'num_compromised' 'root_shell' 'su_attempted' 'num_root'\n",
      " 'num_file_creations' 'num_shells' 'num_access_files' 'is_guest_login'\n",
      " 'count' 'srv_count' 'serror_rate' 'srv_serror_rate' 'rerror_rate'\n",
      " 'srv_rerror_rate' 'same_srv_rate' 'diff_srv_rate' 'srv_diff_host_rate'\n",
      " 'dst_host_count' 'dst_host_srv_count' 'dst_host_same_srv_rate'\n",
      " 'dst_host_diff_srv_rate' 'dst_host_same_src_port_rate'\n",
      " 'dst_host_srv_diff_host_rate' 'dst_host_serror_rate'\n",
      " 'dst_host_srv_serror_rate' 'dst_host_rerror_rate'\n",
      " 'dst_host_srv_rerror_rate' 'target' 'Attack Type']\n",
      "[]\n"
     ]
    }
   ],
   "source": [
    "#only_na = df[np.invert(df.index.isin(na_free.index))]\n",
    "df_nafree = df[[col for col in df if df[col].nunique() > 1]]\n",
    "df1 = df_nafree.columns.values\n",
    "df2 = df.columns.values\n",
    "print(df1)\n",
    "\n",
    "main_list = np.setdiff1d(df2,df1)\n",
    "print(main_list)"
   ]
  },
  {
   "cell_type": "code",
   "execution_count": 35,
   "metadata": {
    "collapsed": true,
    "jupyter": {
     "outputs_hidden": true
    }
   },
   "outputs": [
    {
     "data": {
      "text/plain": [
       "Series([], dtype: float64)"
      ]
     },
     "execution_count": 35,
     "metadata": {},
     "output_type": "execute_result"
    }
   ],
   "source": [
    "df_std = df.std()\n",
    "df_std = df_std.sort_values(ascending = True)\n",
    "df_std"
   ]
  },
  {
   "cell_type": "code",
   "execution_count": 21,
   "metadata": {
    "collapsed": true,
    "jupyter": {
     "outputs_hidden": true
    }
   },
   "outputs": [
    {
     "data": {
      "text/plain": [
       "icmp    283602\n",
       "tcp     190065\n",
       "udp      20354\n",
       "Name: protocol_type, dtype: int64"
      ]
     },
     "execution_count": 21,
     "metadata": {},
     "output_type": "execute_result"
    }
   ],
   "source": [
    "df['protocol_type'].value_counts()"
   ]
  },
  {
   "cell_type": "code",
   "execution_count": 22,
   "metadata": {},
   "outputs": [],
   "source": [
    "#protocol_type feature mapping\n",
    "pmap = {'icmp':0,'tcp':1,'udp':2}\n",
    "df['protocol_type'] = df['protocol_type'].map(pmap)"
   ]
  },
  {
   "cell_type": "code",
   "execution_count": 23,
   "metadata": {},
   "outputs": [],
   "source": [
    "#flag feature mapping\n",
    "fmap = {'SF':0,'S0':1,'REJ':2,'RSTR':3,'RSTO':4,'SH':5 ,'S1':6 ,'S2':7,'RSTOS0':8,'S3':9 ,'OTH':10}\n",
    "df['flag'] = df['flag'].map(fmap)"
   ]
  },
  {
   "cell_type": "code",
   "execution_count": 25,
   "metadata": {
    "collapsed": true,
    "jupyter": {
     "outputs_hidden": true
    }
   },
   "outputs": [
    {
     "data": {
      "text/html": [
       "<div>\n",
       "<style scoped>\n",
       "    .dataframe tbody tr th:only-of-type {\n",
       "        vertical-align: middle;\n",
       "    }\n",
       "\n",
       "    .dataframe tbody tr th {\n",
       "        vertical-align: top;\n",
       "    }\n",
       "\n",
       "    .dataframe thead th {\n",
       "        text-align: right;\n",
       "    }\n",
       "</style>\n",
       "<table border=\"1\" class=\"dataframe\">\n",
       "  <thead>\n",
       "    <tr style=\"text-align: right;\">\n",
       "      <th></th>\n",
       "      <th>duration</th>\n",
       "      <th>protocol_type</th>\n",
       "      <th>service</th>\n",
       "      <th>flag</th>\n",
       "      <th>src_bytes</th>\n",
       "      <th>dst_bytes</th>\n",
       "      <th>land</th>\n",
       "      <th>wrong_fragment</th>\n",
       "      <th>urgent</th>\n",
       "      <th>hot</th>\n",
       "      <th>...</th>\n",
       "      <th>dst_host_same_srv_rate</th>\n",
       "      <th>dst_host_diff_srv_rate</th>\n",
       "      <th>dst_host_same_src_port_rate</th>\n",
       "      <th>dst_host_srv_diff_host_rate</th>\n",
       "      <th>dst_host_serror_rate</th>\n",
       "      <th>dst_host_srv_serror_rate</th>\n",
       "      <th>dst_host_rerror_rate</th>\n",
       "      <th>dst_host_srv_rerror_rate</th>\n",
       "      <th>target</th>\n",
       "      <th>Attack Type</th>\n",
       "    </tr>\n",
       "  </thead>\n",
       "  <tbody>\n",
       "    <tr>\n",
       "      <td>0</td>\n",
       "      <td>0</td>\n",
       "      <td>1</td>\n",
       "      <td>22</td>\n",
       "      <td>0</td>\n",
       "      <td>181</td>\n",
       "      <td>5450</td>\n",
       "      <td>0</td>\n",
       "      <td>0</td>\n",
       "      <td>0</td>\n",
       "      <td>0</td>\n",
       "      <td>...</td>\n",
       "      <td>1.0</td>\n",
       "      <td>0.0</td>\n",
       "      <td>0.11</td>\n",
       "      <td>0.0</td>\n",
       "      <td>0.0</td>\n",
       "      <td>0.0</td>\n",
       "      <td>0.0</td>\n",
       "      <td>0.0</td>\n",
       "      <td>normal.</td>\n",
       "      <td>1</td>\n",
       "    </tr>\n",
       "    <tr>\n",
       "      <td>1</td>\n",
       "      <td>0</td>\n",
       "      <td>1</td>\n",
       "      <td>22</td>\n",
       "      <td>0</td>\n",
       "      <td>239</td>\n",
       "      <td>486</td>\n",
       "      <td>0</td>\n",
       "      <td>0</td>\n",
       "      <td>0</td>\n",
       "      <td>0</td>\n",
       "      <td>...</td>\n",
       "      <td>1.0</td>\n",
       "      <td>0.0</td>\n",
       "      <td>0.05</td>\n",
       "      <td>0.0</td>\n",
       "      <td>0.0</td>\n",
       "      <td>0.0</td>\n",
       "      <td>0.0</td>\n",
       "      <td>0.0</td>\n",
       "      <td>normal.</td>\n",
       "      <td>1</td>\n",
       "    </tr>\n",
       "    <tr>\n",
       "      <td>2</td>\n",
       "      <td>0</td>\n",
       "      <td>1</td>\n",
       "      <td>22</td>\n",
       "      <td>0</td>\n",
       "      <td>235</td>\n",
       "      <td>1337</td>\n",
       "      <td>0</td>\n",
       "      <td>0</td>\n",
       "      <td>0</td>\n",
       "      <td>0</td>\n",
       "      <td>...</td>\n",
       "      <td>1.0</td>\n",
       "      <td>0.0</td>\n",
       "      <td>0.03</td>\n",
       "      <td>0.0</td>\n",
       "      <td>0.0</td>\n",
       "      <td>0.0</td>\n",
       "      <td>0.0</td>\n",
       "      <td>0.0</td>\n",
       "      <td>normal.</td>\n",
       "      <td>1</td>\n",
       "    </tr>\n",
       "    <tr>\n",
       "      <td>3</td>\n",
       "      <td>0</td>\n",
       "      <td>1</td>\n",
       "      <td>22</td>\n",
       "      <td>0</td>\n",
       "      <td>219</td>\n",
       "      <td>1337</td>\n",
       "      <td>0</td>\n",
       "      <td>0</td>\n",
       "      <td>0</td>\n",
       "      <td>0</td>\n",
       "      <td>...</td>\n",
       "      <td>1.0</td>\n",
       "      <td>0.0</td>\n",
       "      <td>0.03</td>\n",
       "      <td>0.0</td>\n",
       "      <td>0.0</td>\n",
       "      <td>0.0</td>\n",
       "      <td>0.0</td>\n",
       "      <td>0.0</td>\n",
       "      <td>normal.</td>\n",
       "      <td>1</td>\n",
       "    </tr>\n",
       "    <tr>\n",
       "      <td>4</td>\n",
       "      <td>0</td>\n",
       "      <td>1</td>\n",
       "      <td>22</td>\n",
       "      <td>0</td>\n",
       "      <td>217</td>\n",
       "      <td>2032</td>\n",
       "      <td>0</td>\n",
       "      <td>0</td>\n",
       "      <td>0</td>\n",
       "      <td>0</td>\n",
       "      <td>...</td>\n",
       "      <td>1.0</td>\n",
       "      <td>0.0</td>\n",
       "      <td>0.02</td>\n",
       "      <td>0.0</td>\n",
       "      <td>0.0</td>\n",
       "      <td>0.0</td>\n",
       "      <td>0.0</td>\n",
       "      <td>0.0</td>\n",
       "      <td>normal.</td>\n",
       "      <td>1</td>\n",
       "    </tr>\n",
       "  </tbody>\n",
       "</table>\n",
       "<p>5 rows × 41 columns</p>\n",
       "</div>"
      ],
      "text/plain": [
       "   duration  protocol_type  service  flag  src_bytes  dst_bytes  land  \\\n",
       "0         0              1       22     0        181       5450     0   \n",
       "1         0              1       22     0        239        486     0   \n",
       "2         0              1       22     0        235       1337     0   \n",
       "3         0              1       22     0        219       1337     0   \n",
       "4         0              1       22     0        217       2032     0   \n",
       "\n",
       "   wrong_fragment  urgent  hot  ...  dst_host_same_srv_rate  \\\n",
       "0               0       0    0  ...                     1.0   \n",
       "1               0       0    0  ...                     1.0   \n",
       "2               0       0    0  ...                     1.0   \n",
       "3               0       0    0  ...                     1.0   \n",
       "4               0       0    0  ...                     1.0   \n",
       "\n",
       "   dst_host_diff_srv_rate  dst_host_same_src_port_rate  \\\n",
       "0                     0.0                         0.11   \n",
       "1                     0.0                         0.05   \n",
       "2                     0.0                         0.03   \n",
       "3                     0.0                         0.03   \n",
       "4                     0.0                         0.02   \n",
       "\n",
       "   dst_host_srv_diff_host_rate  dst_host_serror_rate  \\\n",
       "0                          0.0                   0.0   \n",
       "1                          0.0                   0.0   \n",
       "2                          0.0                   0.0   \n",
       "3                          0.0                   0.0   \n",
       "4                          0.0                   0.0   \n",
       "\n",
       "   dst_host_srv_serror_rate  dst_host_rerror_rate  dst_host_srv_rerror_rate  \\\n",
       "0                       0.0                   0.0                       0.0   \n",
       "1                       0.0                   0.0                       0.0   \n",
       "2                       0.0                   0.0                       0.0   \n",
       "3                       0.0                   0.0                       0.0   \n",
       "4                       0.0                   0.0                       0.0   \n",
       "\n",
       "    target  Attack Type  \n",
       "0  normal.            1  \n",
       "1  normal.            1  \n",
       "2  normal.            1  \n",
       "3  normal.            1  \n",
       "4  normal.            1  \n",
       "\n",
       "[5 rows x 41 columns]"
      ]
     },
     "execution_count": 25,
     "metadata": {},
     "output_type": "execute_result"
    }
   ],
   "source": [
    "df['service'] = encoder.fit_transform(df['service'])\n",
    "df['Attack Type'] = encoder.fit_transform(df['Attack Type'])\n",
    "df.head()"
   ]
  },
  {
   "cell_type": "code",
   "execution_count": 26,
   "metadata": {},
   "outputs": [],
   "source": [
    "#df.drop('service',axis = 1,inplace= True)"
   ]
  },
  {
   "cell_type": "code",
   "execution_count": 148,
   "metadata": {
    "collapsed": true,
    "jupyter": {
     "outputs_hidden": true
    }
   },
   "outputs": [
    {
     "data": {
      "text/plain": [
       "(225745, 67)"
      ]
     },
     "execution_count": 148,
     "metadata": {},
     "output_type": "execute_result"
    }
   ],
   "source": [
    "df.shape"
   ]
  },
  {
   "cell_type": "code",
   "execution_count": null,
   "metadata": {},
   "outputs": [],
   "source": []
  },
  {
   "cell_type": "markdown",
   "metadata": {
    "jupyter": {
     "outputs_hidden": true
    }
   },
   "source": [
    "df.head"
   ]
  },
  {
   "cell_type": "code",
   "execution_count": null,
   "metadata": {},
   "outputs": [],
   "source": []
  },
  {
   "cell_type": "raw",
   "metadata": {},
   "source": [
    "MODELLING STARTS HERE"
   ]
  },
  {
   "cell_type": "code",
   "execution_count": 29,
   "metadata": {},
   "outputs": [
    {
     "name": "stdout",
     "output_type": "stream",
     "text": [
      "(494021, 40)\n",
      "(330994, 39) (163027, 39)\n",
      "(330994, 1) (163027, 1)\n"
     ]
    }
   ],
   "source": [
    "df = df.drop(['target',], axis=1)\n",
    "print(df.shape)\n",
    "\n",
    "# Target variable and train set\n",
    "Y = df[['Attack Type']]\n",
    "X = df.drop(['Attack Type',], axis=1)\n",
    "\n",
    "sc = MinMaxScaler()\n",
    "X = sc.fit_transform(X)\n",
    "\n",
    "# Split test and train data \n",
    "X_train, X_test, Y_train, Y_test = train_test_split(X, Y, test_size=0.33, random_state=42)\n",
    "print(X_train.shape, X_test.shape)\n",
    "print(Y_train.shape, Y_test.shape)"
   ]
  },
  {
   "cell_type": "code",
   "execution_count": null,
   "metadata": {},
   "outputs": [],
   "source": []
  },
  {
   "cell_type": "code",
   "execution_count": null,
   "metadata": {},
   "outputs": [],
   "source": []
  },
  {
   "cell_type": "code",
   "execution_count": null,
   "metadata": {},
   "outputs": [],
   "source": []
  },
  {
   "cell_type": "code",
   "execution_count": null,
   "metadata": {},
   "outputs": [],
   "source": []
  },
  {
   "cell_type": "code",
   "execution_count": null,
   "metadata": {},
   "outputs": [],
   "source": []
  },
  {
   "cell_type": "code",
   "execution_count": null,
   "metadata": {},
   "outputs": [],
   "source": []
  },
  {
   "cell_type": "code",
   "execution_count": null,
   "metadata": {},
   "outputs": [],
   "source": []
  },
  {
   "cell_type": "code",
   "execution_count": null,
   "metadata": {},
   "outputs": [],
   "source": []
  },
  {
   "cell_type": "code",
   "execution_count": null,
   "metadata": {},
   "outputs": [],
   "source": []
  },
  {
   "cell_type": "code",
   "execution_count": 33,
   "metadata": {},
   "outputs": [
    {
     "data": {
      "text/plain": [
       "(494021, 40)"
      ]
     },
     "execution_count": 33,
     "metadata": {},
     "output_type": "execute_result"
    }
   ],
   "source": [
    "df.shape"
   ]
  },
  {
   "cell_type": "code",
   "execution_count": 34,
   "metadata": {},
   "outputs": [],
   "source": [
    "import sklearn\n",
    "from sklearn import svm\n",
    "from sklearn.svm import SVC\n",
    "from sklearn.model_selection import train_test_split"
   ]
  },
  {
   "cell_type": "code",
   "execution_count": 35,
   "metadata": {},
   "outputs": [],
   "source": [
    "x=df.iloc[:,0:38]\n",
    "y=df.iloc[:,[-1]]"
   ]
  },
  {
   "cell_type": "code",
   "execution_count": 36,
   "metadata": {},
   "outputs": [
    {
     "data": {
      "text/html": [
       "<div>\n",
       "<style scoped>\n",
       "    .dataframe tbody tr th:only-of-type {\n",
       "        vertical-align: middle;\n",
       "    }\n",
       "\n",
       "    .dataframe tbody tr th {\n",
       "        vertical-align: top;\n",
       "    }\n",
       "\n",
       "    .dataframe thead th {\n",
       "        text-align: right;\n",
       "    }\n",
       "</style>\n",
       "<table border=\"1\" class=\"dataframe\">\n",
       "  <thead>\n",
       "    <tr style=\"text-align: right;\">\n",
       "      <th></th>\n",
       "      <th>duration</th>\n",
       "      <th>protocol_type</th>\n",
       "      <th>service</th>\n",
       "      <th>flag</th>\n",
       "      <th>src_bytes</th>\n",
       "      <th>dst_bytes</th>\n",
       "      <th>land</th>\n",
       "      <th>wrong_fragment</th>\n",
       "      <th>urgent</th>\n",
       "      <th>hot</th>\n",
       "      <th>...</th>\n",
       "      <th>srv_diff_host_rate</th>\n",
       "      <th>dst_host_count</th>\n",
       "      <th>dst_host_srv_count</th>\n",
       "      <th>dst_host_same_srv_rate</th>\n",
       "      <th>dst_host_diff_srv_rate</th>\n",
       "      <th>dst_host_same_src_port_rate</th>\n",
       "      <th>dst_host_srv_diff_host_rate</th>\n",
       "      <th>dst_host_serror_rate</th>\n",
       "      <th>dst_host_srv_serror_rate</th>\n",
       "      <th>dst_host_rerror_rate</th>\n",
       "    </tr>\n",
       "  </thead>\n",
       "  <tbody>\n",
       "    <tr>\n",
       "      <td>0</td>\n",
       "      <td>0</td>\n",
       "      <td>1</td>\n",
       "      <td>22</td>\n",
       "      <td>0</td>\n",
       "      <td>181</td>\n",
       "      <td>5450</td>\n",
       "      <td>0</td>\n",
       "      <td>0</td>\n",
       "      <td>0</td>\n",
       "      <td>0</td>\n",
       "      <td>...</td>\n",
       "      <td>0.0</td>\n",
       "      <td>9</td>\n",
       "      <td>9</td>\n",
       "      <td>1.0</td>\n",
       "      <td>0.0</td>\n",
       "      <td>0.11</td>\n",
       "      <td>0.0</td>\n",
       "      <td>0.0</td>\n",
       "      <td>0.0</td>\n",
       "      <td>0.0</td>\n",
       "    </tr>\n",
       "    <tr>\n",
       "      <td>1</td>\n",
       "      <td>0</td>\n",
       "      <td>1</td>\n",
       "      <td>22</td>\n",
       "      <td>0</td>\n",
       "      <td>239</td>\n",
       "      <td>486</td>\n",
       "      <td>0</td>\n",
       "      <td>0</td>\n",
       "      <td>0</td>\n",
       "      <td>0</td>\n",
       "      <td>...</td>\n",
       "      <td>0.0</td>\n",
       "      <td>19</td>\n",
       "      <td>19</td>\n",
       "      <td>1.0</td>\n",
       "      <td>0.0</td>\n",
       "      <td>0.05</td>\n",
       "      <td>0.0</td>\n",
       "      <td>0.0</td>\n",
       "      <td>0.0</td>\n",
       "      <td>0.0</td>\n",
       "    </tr>\n",
       "    <tr>\n",
       "      <td>2</td>\n",
       "      <td>0</td>\n",
       "      <td>1</td>\n",
       "      <td>22</td>\n",
       "      <td>0</td>\n",
       "      <td>235</td>\n",
       "      <td>1337</td>\n",
       "      <td>0</td>\n",
       "      <td>0</td>\n",
       "      <td>0</td>\n",
       "      <td>0</td>\n",
       "      <td>...</td>\n",
       "      <td>0.0</td>\n",
       "      <td>29</td>\n",
       "      <td>29</td>\n",
       "      <td>1.0</td>\n",
       "      <td>0.0</td>\n",
       "      <td>0.03</td>\n",
       "      <td>0.0</td>\n",
       "      <td>0.0</td>\n",
       "      <td>0.0</td>\n",
       "      <td>0.0</td>\n",
       "    </tr>\n",
       "    <tr>\n",
       "      <td>3</td>\n",
       "      <td>0</td>\n",
       "      <td>1</td>\n",
       "      <td>22</td>\n",
       "      <td>0</td>\n",
       "      <td>219</td>\n",
       "      <td>1337</td>\n",
       "      <td>0</td>\n",
       "      <td>0</td>\n",
       "      <td>0</td>\n",
       "      <td>0</td>\n",
       "      <td>...</td>\n",
       "      <td>0.0</td>\n",
       "      <td>39</td>\n",
       "      <td>39</td>\n",
       "      <td>1.0</td>\n",
       "      <td>0.0</td>\n",
       "      <td>0.03</td>\n",
       "      <td>0.0</td>\n",
       "      <td>0.0</td>\n",
       "      <td>0.0</td>\n",
       "      <td>0.0</td>\n",
       "    </tr>\n",
       "    <tr>\n",
       "      <td>4</td>\n",
       "      <td>0</td>\n",
       "      <td>1</td>\n",
       "      <td>22</td>\n",
       "      <td>0</td>\n",
       "      <td>217</td>\n",
       "      <td>2032</td>\n",
       "      <td>0</td>\n",
       "      <td>0</td>\n",
       "      <td>0</td>\n",
       "      <td>0</td>\n",
       "      <td>...</td>\n",
       "      <td>0.0</td>\n",
       "      <td>49</td>\n",
       "      <td>49</td>\n",
       "      <td>1.0</td>\n",
       "      <td>0.0</td>\n",
       "      <td>0.02</td>\n",
       "      <td>0.0</td>\n",
       "      <td>0.0</td>\n",
       "      <td>0.0</td>\n",
       "      <td>0.0</td>\n",
       "    </tr>\n",
       "  </tbody>\n",
       "</table>\n",
       "<p>5 rows × 38 columns</p>\n",
       "</div>"
      ],
      "text/plain": [
       "   duration  protocol_type  service  flag  src_bytes  dst_bytes  land  \\\n",
       "0         0              1       22     0        181       5450     0   \n",
       "1         0              1       22     0        239        486     0   \n",
       "2         0              1       22     0        235       1337     0   \n",
       "3         0              1       22     0        219       1337     0   \n",
       "4         0              1       22     0        217       2032     0   \n",
       "\n",
       "   wrong_fragment  urgent  hot  ...  srv_diff_host_rate  dst_host_count  \\\n",
       "0               0       0    0  ...                 0.0               9   \n",
       "1               0       0    0  ...                 0.0              19   \n",
       "2               0       0    0  ...                 0.0              29   \n",
       "3               0       0    0  ...                 0.0              39   \n",
       "4               0       0    0  ...                 0.0              49   \n",
       "\n",
       "   dst_host_srv_count  dst_host_same_srv_rate  dst_host_diff_srv_rate  \\\n",
       "0                   9                     1.0                     0.0   \n",
       "1                  19                     1.0                     0.0   \n",
       "2                  29                     1.0                     0.0   \n",
       "3                  39                     1.0                     0.0   \n",
       "4                  49                     1.0                     0.0   \n",
       "\n",
       "   dst_host_same_src_port_rate  dst_host_srv_diff_host_rate  \\\n",
       "0                         0.11                          0.0   \n",
       "1                         0.05                          0.0   \n",
       "2                         0.03                          0.0   \n",
       "3                         0.03                          0.0   \n",
       "4                         0.02                          0.0   \n",
       "\n",
       "   dst_host_serror_rate  dst_host_srv_serror_rate  dst_host_rerror_rate  \n",
       "0                   0.0                       0.0                   0.0  \n",
       "1                   0.0                       0.0                   0.0  \n",
       "2                   0.0                       0.0                   0.0  \n",
       "3                   0.0                       0.0                   0.0  \n",
       "4                   0.0                       0.0                   0.0  \n",
       "\n",
       "[5 rows x 38 columns]"
      ]
     },
     "execution_count": 36,
     "metadata": {},
     "output_type": "execute_result"
    }
   ],
   "source": [
    "x.head()"
   ]
  },
  {
   "cell_type": "code",
   "execution_count": 37,
   "metadata": {},
   "outputs": [
    {
     "data": {
      "text/html": [
       "<div>\n",
       "<style scoped>\n",
       "    .dataframe tbody tr th:only-of-type {\n",
       "        vertical-align: middle;\n",
       "    }\n",
       "\n",
       "    .dataframe tbody tr th {\n",
       "        vertical-align: top;\n",
       "    }\n",
       "\n",
       "    .dataframe thead th {\n",
       "        text-align: right;\n",
       "    }\n",
       "</style>\n",
       "<table border=\"1\" class=\"dataframe\">\n",
       "  <thead>\n",
       "    <tr style=\"text-align: right;\">\n",
       "      <th></th>\n",
       "      <th>Attack Type</th>\n",
       "    </tr>\n",
       "  </thead>\n",
       "  <tbody>\n",
       "    <tr>\n",
       "      <td>0</td>\n",
       "      <td>1</td>\n",
       "    </tr>\n",
       "    <tr>\n",
       "      <td>1</td>\n",
       "      <td>1</td>\n",
       "    </tr>\n",
       "    <tr>\n",
       "      <td>2</td>\n",
       "      <td>1</td>\n",
       "    </tr>\n",
       "    <tr>\n",
       "      <td>3</td>\n",
       "      <td>1</td>\n",
       "    </tr>\n",
       "    <tr>\n",
       "      <td>4</td>\n",
       "      <td>1</td>\n",
       "    </tr>\n",
       "  </tbody>\n",
       "</table>\n",
       "</div>"
      ],
      "text/plain": [
       "   Attack Type\n",
       "0            1\n",
       "1            1\n",
       "2            1\n",
       "3            1\n",
       "4            1"
      ]
     },
     "execution_count": 37,
     "metadata": {},
     "output_type": "execute_result"
    }
   ],
   "source": [
    "y.head()"
   ]
  },
  {
   "cell_type": "code",
   "execution_count": 52,
   "metadata": {},
   "outputs": [],
   "source": [
    "x_train, x_test, y_train, y_test=train_test_split(x, y, test_size=0.2, random_state=13)"
   ]
  },
  {
   "cell_type": "code",
   "execution_count": 53,
   "metadata": {},
   "outputs": [],
   "source": [
    "from sklearn.preprocessing import StandardScaler\n",
    "sc=StandardScaler()"
   ]
  },
  {
   "cell_type": "code",
   "execution_count": 54,
   "metadata": {},
   "outputs": [],
   "source": [
    "x_train=sc.fit_transform(x_train)\n",
    "x_test=sc.transform(x_test)"
   ]
  },
  {
   "cell_type": "code",
   "execution_count": 55,
   "metadata": {},
   "outputs": [],
   "source": [
    "#SupportVectorMachine starts here\n",
    "clf=svm.SVC()"
   ]
  },
  {
   "cell_type": "code",
   "execution_count": 56,
   "metadata": {},
   "outputs": [
    {
     "name": "stdout",
     "output_type": "stream",
     "text": [
      "Training time:  66.87881231307983\n"
     ]
    }
   ],
   "source": [
    "start_time = time.time()\n",
    "clf.fit(x_train, y_train.values.ravel())\n",
    "end_time = time.time()\n",
    "print(\"Training time: \",end_time-start_time)"
   ]
  },
  {
   "cell_type": "code",
   "execution_count": 57,
   "metadata": {},
   "outputs": [
    {
     "name": "stdout",
     "output_type": "stream",
     "text": [
      "Testing time:  6.57898211479187\n"
     ]
    }
   ],
   "source": [
    "start_time = time.time()\n",
    "Y_test_pred_SVM = clf.predict(x_test)\n",
    "end_time = time.time()\n",
    "print(\"Testing time: \",end_time-start_time)"
   ]
  },
  {
   "cell_type": "code",
   "execution_count": 58,
   "metadata": {},
   "outputs": [
    {
     "name": "stdout",
     "output_type": "stream",
     "text": [
      "Train score is: 0.9993218898020323\n",
      "Test score is: 0.9991194777592227\n"
     ]
    }
   ],
   "source": [
    "print(\"Train score is:\", clf.score(x_train, y_train))\n",
    "print(\"Test score is:\",clf.score(x_test,y_test))"
   ]
  },
  {
   "cell_type": "code",
   "execution_count": 59,
   "metadata": {},
   "outputs": [],
   "source": [
    "pred_clf=clf.predict(x_test)"
   ]
  },
  {
   "cell_type": "code",
   "execution_count": 61,
   "metadata": {},
   "outputs": [
    {
     "data": {
      "text/plain": [
       "0.9991194777592227"
      ]
     },
     "execution_count": 61,
     "metadata": {},
     "output_type": "execute_result"
    }
   ],
   "source": [
    "sklearn.metrics.accuracy_score(y_test, Y_test_pred_SVM)"
   ]
  },
  {
   "cell_type": "code",
   "execution_count": 60,
   "metadata": {},
   "outputs": [
    {
     "name": "stdout",
     "output_type": "stream",
     "text": [
      "              precision    recall  f1-score   support\n",
      "\n",
      "           0       1.00      1.00      1.00     78439\n",
      "           1       1.00      1.00      1.00     19260\n",
      "           2       1.00      0.98      0.99       872\n",
      "           3       0.93      0.91      0.92       223\n",
      "           4       1.00      0.18      0.31        11\n",
      "\n",
      "    accuracy                           1.00     98805\n",
      "   macro avg       0.98      0.82      0.84     98805\n",
      "weighted avg       1.00      1.00      1.00     98805\n",
      "\n"
     ]
    }
   ],
   "source": [
    "print(sklearn.metrics.classification_report(y_test, Y_test_pred_SVM))"
   ]
  },
  {
   "cell_type": "code",
   "execution_count": null,
   "metadata": {},
   "outputs": [],
   "source": []
  },
  {
   "cell_type": "code",
   "execution_count": null,
   "metadata": {},
   "outputs": [],
   "source": []
  },
  {
   "cell_type": "code",
   "execution_count": null,
   "metadata": {},
   "outputs": [],
   "source": []
  },
  {
   "cell_type": "code",
   "execution_count": null,
   "metadata": {},
   "outputs": [],
   "source": []
  },
  {
   "cell_type": "code",
   "execution_count": 63,
   "metadata": {},
   "outputs": [
    {
     "name": "stdout",
     "output_type": "stream",
     "text": [
      "Training time:  263.7095549106598\n"
     ]
    }
   ],
   "source": [
    "from sklearn.neighbors import KNeighborsClassifier\n",
    "knn = KNeighborsClassifier(n_neighbors=3, n_jobs=-1)\n",
    "start_time = time.time()\n",
    "knn.fit(x_train, y_train.values.ravel())\n",
    "end_time = time.time()\n",
    "print(\"Training time: \",end_time-start_time)"
   ]
  },
  {
   "cell_type": "code",
   "execution_count": 64,
   "metadata": {},
   "outputs": [
    {
     "name": "stdout",
     "output_type": "stream",
     "text": [
      "Testing time:  226.44102311134338\n"
     ]
    }
   ],
   "source": [
    "start_time = time.time()\n",
    "pred_knn=knn.predict(x_test)\n",
    "end_time = time.time()\n",
    "print(\"Testing time: \",end_time-start_time)"
   ]
  },
  {
   "cell_type": "code",
   "execution_count": 65,
   "metadata": {},
   "outputs": [
    {
     "data": {
      "text/plain": [
       "0.9995243155710744"
      ]
     },
     "execution_count": 65,
     "metadata": {},
     "output_type": "execute_result"
    }
   ],
   "source": [
    "sklearn.metrics.accuracy_score(y_test, pred_knn)"
   ]
  },
  {
   "cell_type": "code",
   "execution_count": 66,
   "metadata": {},
   "outputs": [
    {
     "name": "stdout",
     "output_type": "stream",
     "text": [
      "              precision    recall  f1-score   support\n",
      "\n",
      "           0       1.00      1.00      1.00     78439\n",
      "           1       1.00      1.00      1.00     19260\n",
      "           2       1.00      0.99      0.99       872\n",
      "           3       0.95      0.96      0.95       223\n",
      "           4       0.83      0.45      0.59        11\n",
      "\n",
      "    accuracy                           1.00     98805\n",
      "   macro avg       0.96      0.88      0.91     98805\n",
      "weighted avg       1.00      1.00      1.00     98805\n",
      "\n"
     ]
    }
   ],
   "source": [
    "print(sklearn.metrics.classification_report(y_test, pred_knn))"
   ]
  },
  {
   "cell_type": "code",
   "execution_count": null,
   "metadata": {},
   "outputs": [],
   "source": []
  },
  {
   "cell_type": "code",
   "execution_count": null,
   "metadata": {},
   "outputs": [],
   "source": []
  },
  {
   "cell_type": "code",
   "execution_count": 149,
   "metadata": {},
   "outputs": [],
   "source": [
    "# Gaussian Naive Bayes\n",
    "from sklearn.naive_bayes import GaussianNB\n",
    "NB = GaussianNB()"
   ]
  },
  {
   "cell_type": "code",
   "execution_count": 150,
   "metadata": {},
   "outputs": [
    {
     "name": "stdout",
     "output_type": "stream",
     "text": [
      "Training time:  0.5004532337188721\n"
     ]
    }
   ],
   "source": [
    "start_time = time.time()\n",
    "NB.fit(X_train, Y_train.values.ravel())\n",
    "end_time = time.time()\n",
    "print(\"Training time: \",end_time-start_time)"
   ]
  },
  {
   "cell_type": "code",
   "execution_count": 152,
   "metadata": {},
   "outputs": [
    {
     "name": "stdout",
     "output_type": "stream",
     "text": [
      "Testing time:  0.38935327529907227\n"
     ]
    }
   ],
   "source": [
    "start_time = time.time()\n",
    "Y_test_pred_NB = NB.predict(X_test)\n",
    "end_time = time.time()\n",
    "print(\"Testing time: \",end_time-start_time)"
   ]
  },
  {
   "cell_type": "code",
   "execution_count": 153,
   "metadata": {},
   "outputs": [
    {
     "name": "stdout",
     "output_type": "stream",
     "text": [
      "Train score is: 0.87939056297093\n",
      "Test score is: 0.8791672545038552\n"
     ]
    }
   ],
   "source": [
    "print(\"Train score is:\", NB.score(X_train, Y_train))\n",
    "print(\"Test score is:\",NB.score(X_test,Y_test))"
   ]
  },
  {
   "cell_type": "code",
   "execution_count": 154,
   "metadata": {},
   "outputs": [
    {
     "name": "stdout",
     "output_type": "stream",
     "text": [
      "              precision    recall  f1-score   support\n",
      "\n",
      "         dos       0.98      0.94      0.96    129106\n",
      "      normal       0.97      0.64      0.77     32167\n",
      "       probe       0.09      0.99      0.17      1348\n",
      "         r2l       0.29      0.39      0.33       387\n",
      "         u2r       0.01      0.74      0.01        19\n",
      "\n",
      "    accuracy                           0.88    163027\n",
      "   macro avg       0.47      0.74      0.45    163027\n",
      "weighted avg       0.97      0.88      0.91    163027\n",
      "\n"
     ]
    }
   ],
   "source": [
    "print(sklearn.metrics.classification_report(Y_test, Y_test_pred_NB))"
   ]
  },
  {
   "cell_type": "code",
   "execution_count": null,
   "metadata": {},
   "outputs": [],
   "source": []
  },
  {
   "cell_type": "code",
   "execution_count": null,
   "metadata": {},
   "outputs": [],
   "source": []
  },
  {
   "cell_type": "code",
   "execution_count": null,
   "metadata": {},
   "outputs": [],
   "source": []
  },
  {
   "cell_type": "code",
   "execution_count": 155,
   "metadata": {},
   "outputs": [],
   "source": [
    "#Decision Tree \n",
    "from sklearn.tree import DecisionTreeClassifier\n",
    "DT = DecisionTreeClassifier(criterion=\"entropy\", max_depth = 4)"
   ]
  },
  {
   "cell_type": "code",
   "execution_count": 156,
   "metadata": {},
   "outputs": [
    {
     "name": "stdout",
     "output_type": "stream",
     "text": [
      "Training time:  1.106003761291504\n"
     ]
    }
   ],
   "source": [
    "start_time = time.time()\n",
    "DT.fit(X_train, Y_train.values.ravel())\n",
    "end_time = time.time()\n",
    "print(\"Training time: \",end_time-start_time)"
   ]
  },
  {
   "cell_type": "code",
   "execution_count": 157,
   "metadata": {},
   "outputs": [
    {
     "name": "stdout",
     "output_type": "stream",
     "text": [
      "Testing time:  0.024021387100219727\n"
     ]
    }
   ],
   "source": [
    "start_time = time.time()\n",
    "Y_test_pred_DT = DT.predict(X_test)\n",
    "end_time = time.time()\n",
    "print(\"Testing time: \",end_time-start_time)"
   ]
  },
  {
   "cell_type": "code",
   "execution_count": 158,
   "metadata": {},
   "outputs": [
    {
     "name": "stdout",
     "output_type": "stream",
     "text": [
      "Train score is: 0.9905255080152511\n",
      "Test score is: 0.990437166849663\n"
     ]
    },
    {
     "name": "stderr",
     "output_type": "stream",
     "text": [
      "C:\\Users\\Mohab\\Anaconda3\\lib\\site-packages\\sklearn\\metrics\\classification.py:1437: UndefinedMetricWarning: Precision and F-score are ill-defined and being set to 0.0 in labels with no predicted samples.\n",
      "  'precision', 'predicted', average, warn_for)\n"
     ]
    },
    {
     "name": "stdout",
     "output_type": "stream",
     "text": [
      "              precision    recall  f1-score   support\n",
      "\n",
      "         dos       1.00      1.00      1.00    129106\n",
      "      normal       0.98      0.98      0.98     32167\n",
      "       probe       0.55      0.90      0.68      1348\n",
      "         r2l       0.00      0.00      0.00       387\n",
      "         u2r       0.00      0.00      0.00        19\n",
      "\n",
      "    accuracy                           0.99    163027\n",
      "   macro avg       0.51      0.57      0.53    163027\n",
      "weighted avg       0.99      0.99      0.99    163027\n",
      "\n"
     ]
    }
   ],
   "source": [
    "print(\"Train score is:\", DT.score(X_train, Y_train))\n",
    "print(\"Test score is:\",DT.score(X_test,Y_test))\n",
    "print(sklearn.metrics.classification_report(Y_test, Y_test_pred_DT))"
   ]
  },
  {
   "cell_type": "code",
   "execution_count": null,
   "metadata": {},
   "outputs": [],
   "source": []
  },
  {
   "cell_type": "code",
   "execution_count": null,
   "metadata": {},
   "outputs": [],
   "source": []
  },
  {
   "cell_type": "code",
   "execution_count": null,
   "metadata": {},
   "outputs": [],
   "source": []
  },
  {
   "cell_type": "code",
   "execution_count": null,
   "metadata": {},
   "outputs": [],
   "source": []
  },
  {
   "cell_type": "code",
   "execution_count": null,
   "metadata": {},
   "outputs": [],
   "source": []
  },
  {
   "cell_type": "code",
   "execution_count": null,
   "metadata": {},
   "outputs": [],
   "source": []
  },
  {
   "cell_type": "code",
   "execution_count": 163,
   "metadata": {},
   "outputs": [],
   "source": [
    "#LOGISTIC REGRESSION\n",
    "\n",
    "from sklearn.linear_model import LogisticRegression\n",
    "LR = LogisticRegression(max_iter=1200000)"
   ]
  },
  {
   "cell_type": "code",
   "execution_count": 164,
   "metadata": {},
   "outputs": [
    {
     "name": "stderr",
     "output_type": "stream",
     "text": [
      "C:\\Users\\Mohab\\Anaconda3\\lib\\site-packages\\sklearn\\linear_model\\logistic.py:432: FutureWarning: Default solver will be changed to 'lbfgs' in 0.22. Specify a solver to silence this warning.\n",
      "  FutureWarning)\n",
      "C:\\Users\\Mohab\\Anaconda3\\lib\\site-packages\\sklearn\\linear_model\\logistic.py:469: FutureWarning: Default multi_class will be changed to 'auto' in 0.22. Specify the multi_class option to silence this warning.\n",
      "  \"this warning.\", FutureWarning)\n"
     ]
    },
    {
     "name": "stdout",
     "output_type": "stream",
     "text": [
      "Training time:  12.738579034805298\n"
     ]
    }
   ],
   "source": [
    "start_time = time.time()\n",
    "LR.fit(X_train, Y_train.values.ravel())\n",
    "end_time = time.time()\n",
    "print(\"Training time: \",end_time-start_time)"
   ]
  },
  {
   "cell_type": "code",
   "execution_count": 165,
   "metadata": {},
   "outputs": [
    {
     "name": "stdout",
     "output_type": "stream",
     "text": [
      "Testing time:  0.025022029876708984\n"
     ]
    }
   ],
   "source": [
    "start_time = time.time()\n",
    "Y_test_pred_LR = LR.predict(X_test)\n",
    "end_time = time.time()\n",
    "\n",
    "print(\"Testing time: \",end_time-start_time)"
   ]
  },
  {
   "cell_type": "code",
   "execution_count": 166,
   "metadata": {},
   "outputs": [
    {
     "name": "stdout",
     "output_type": "stream",
     "text": [
      "Train score is: 0.9941237605515508\n",
      "Test score is: 0.9941972802051194\n",
      "              precision    recall  f1-score   support\n",
      "\n",
      "         dos       1.00      1.00      1.00    129106\n",
      "      normal       0.98      1.00      0.99     32167\n",
      "       probe       0.98      0.90      0.94      1348\n",
      "         r2l       0.84      0.82      0.83       387\n",
      "         u2r       0.86      0.32      0.46        19\n",
      "\n",
      "    accuracy                           0.99    163027\n",
      "   macro avg       0.93      0.81      0.84    163027\n",
      "weighted avg       0.99      0.99      0.99    163027\n",
      "\n"
     ]
    }
   ],
   "source": [
    "print(\"Train score is:\", LR.score(X_train, Y_train))\n",
    "print(\"Test score is:\",LR.score(X_test,Y_test))\n",
    "print(sklearn.metrics.classification_report(Y_test, Y_test_pred_LR))"
   ]
  },
  {
   "cell_type": "code",
   "execution_count": null,
   "metadata": {},
   "outputs": [],
   "source": []
  },
  {
   "cell_type": "code",
   "execution_count": null,
   "metadata": {},
   "outputs": [],
   "source": []
  },
  {
   "cell_type": "code",
   "execution_count": null,
   "metadata": {},
   "outputs": [],
   "source": []
  },
  {
   "cell_type": "code",
   "execution_count": 167,
   "metadata": {},
   "outputs": [],
   "source": [
    "#GRADIENT BOOSTING CLASSIFIER\n",
    "\n",
    "from sklearn.ensemble import GradientBoostingClassifier\n",
    "GBC = GradientBoostingClassifier(random_state=0)"
   ]
  },
  {
   "cell_type": "code",
   "execution_count": 168,
   "metadata": {},
   "outputs": [
    {
     "name": "stdout",
     "output_type": "stream",
     "text": [
      "Training time:  353.7887005805969\n"
     ]
    }
   ],
   "source": [
    "start_time = time.time()\n",
    "GBC.fit(X_train, Y_train.values.ravel())\n",
    "end_time = time.time()\n",
    "\n",
    "print(\"Training time: \",end_time-start_time)"
   ]
  },
  {
   "cell_type": "code",
   "execution_count": 169,
   "metadata": {},
   "outputs": [
    {
     "name": "stdout",
     "output_type": "stream",
     "text": [
      "Testing time:  1.2040956020355225\n"
     ]
    }
   ],
   "source": [
    "start_time = time.time()\n",
    "Y_test_pred_GBC = GBC.predict(X_test)\n",
    "end_time = time.time()\n",
    "\n",
    "print(\"Testing time: \",end_time-start_time)"
   ]
  },
  {
   "cell_type": "code",
   "execution_count": 170,
   "metadata": {},
   "outputs": [
    {
     "name": "stdout",
     "output_type": "stream",
     "text": [
      "Train score is: 0.9871961425282634\n",
      "Test score is: 0.9871064302232145\n",
      "              precision    recall  f1-score   support\n",
      "\n",
      "         dos       1.00      1.00      1.00    129106\n",
      "      normal       1.00      0.95      0.97     32167\n",
      "       probe       1.00      0.65      0.78      1348\n",
      "         r2l       0.13      0.77      0.23       387\n",
      "         u2r       0.28      0.79      0.42        19\n",
      "\n",
      "    accuracy                           0.99    163027\n",
      "   macro avg       0.68      0.83      0.68    163027\n",
      "weighted avg       1.00      0.99      0.99    163027\n",
      "\n"
     ]
    }
   ],
   "source": [
    "print(\"Train score is:\", GBC.score(X_train, Y_train))\n",
    "print(\"Test score is:\", GBC.score(X_test,Y_test))\n",
    "print(sklearn.metrics.classification_report(Y_test, Y_test_pred_GBC))"
   ]
  },
  {
   "cell_type": "code",
   "execution_count": null,
   "metadata": {},
   "outputs": [],
   "source": []
  },
  {
   "cell_type": "code",
   "execution_count": null,
   "metadata": {},
   "outputs": [],
   "source": []
  },
  {
   "cell_type": "code",
   "execution_count": null,
   "metadata": {},
   "outputs": [],
   "source": []
  },
  {
   "cell_type": "code",
   "execution_count": 171,
   "metadata": {},
   "outputs": [
    {
     "name": "stderr",
     "output_type": "stream",
     "text": [
      "Using TensorFlow backend.\n"
     ]
    }
   ],
   "source": [
    "#Keras Classifier\n",
    "from keras.models import Sequential\n",
    "from keras.layers import Dense\n",
    "from keras.wrappers.scikit_learn import KerasClassifier"
   ]
  },
  {
   "cell_type": "code",
   "execution_count": 177,
   "metadata": {},
   "outputs": [],
   "source": [
    "def fun():\n",
    "    model = Sequential()\n",
    "    \n",
    "    #here 30 is output dimension\n",
    "    model.add(Dense(39,input_dim =39,activation = 'relu',kernel_initializer='random_uniform'))\n",
    "    \n",
    "    #in next layer we do not specify the input_dim as the model is sequential so output of previous layer is input to next layer\n",
    "    model.add(Dense(1,activation='sigmoid',kernel_initializer='random_uniform'))\n",
    "    \n",
    "    #5 classes-normal,dos,probe,r2l,u2r\n",
    "    model.add(Dense(5,activation='softmax'))\n",
    "    \n",
    "    #loss is categorical_crossentropy which specifies that we have multiple classes\n",
    "    \n",
    "    model.compile(loss ='categorical_crossentropy',optimizer = 'adam',metrics = ['accuracy'])\n",
    "    \n",
    "    return model"
   ]
  },
  {
   "cell_type": "code",
   "execution_count": 178,
   "metadata": {},
   "outputs": [],
   "source": [
    "KC = KerasClassifier(build_fn=fun,epochs=100,batch_size=64)"
   ]
  },
  {
   "cell_type": "code",
   "execution_count": 179,
   "metadata": {},
   "outputs": [
    {
     "name": "stdout",
     "output_type": "stream",
     "text": [
      "WARNING:tensorflow:From C:\\Users\\Mohab\\Anaconda3\\lib\\site-packages\\keras\\backend\\tensorflow_backend.py:422: The name tf.global_variables is deprecated. Please use tf.compat.v1.global_variables instead.\n",
      "\n",
      "Epoch 1/100\n",
      "330994/330994 [==============================] - 3s 9us/step - loss: 0.3182 - accuracy: 0.9321\n",
      "Epoch 2/100\n",
      "330994/330994 [==============================] - 3s 9us/step - loss: 0.0812 - accuracy: 0.9846\n",
      "Epoch 3/100\n",
      "330994/330994 [==============================] - 3s 9us/step - loss: 0.0664 - accuracy: 0.9847\n",
      "Epoch 4/100\n",
      "330994/330994 [==============================] - 3s 9us/step - loss: 0.0615 - accuracy: 0.9847\n",
      "Epoch 5/100\n",
      "330994/330994 [==============================] - 3s 9us/step - loss: 0.0585 - accuracy: 0.9847\n",
      "Epoch 6/100\n",
      "330994/330994 [==============================] - 3s 9us/step - loss: 0.0559 - accuracy: 0.9847\n",
      "Epoch 7/100\n",
      "330994/330994 [==============================] - 3s 9us/step - loss: 0.0483 - accuracy: 0.9850\n",
      "Epoch 8/100\n",
      "330994/330994 [==============================] - 3s 9us/step - loss: 0.0376 - accuracy: 0.9869\n",
      "Epoch 9/100\n",
      "330994/330994 [==============================] - 3s 9us/step - loss: 0.0308 - accuracy: 0.9896\n",
      "Epoch 10/100\n",
      "330994/330994 [==============================] - 3s 9us/step - loss: 0.0270 - accuracy: 0.9926\n",
      "Epoch 11/100\n",
      "330994/330994 [==============================] - 3s 9us/step - loss: 0.0247 - accuracy: 0.9938\n",
      "Epoch 12/100\n",
      "330994/330994 [==============================] - 3s 9us/step - loss: 0.0228 - accuracy: 0.9946\n",
      "Epoch 13/100\n",
      "330994/330994 [==============================] - 3s 9us/step - loss: 0.0210 - accuracy: 0.9952\n",
      "Epoch 14/100\n",
      "330994/330994 [==============================] - 3s 9us/step - loss: 0.0195 - accuracy: 0.9957\n",
      "Epoch 15/100\n",
      "330994/330994 [==============================] - 3s 9us/step - loss: 0.0182 - accuracy: 0.9959\n",
      "Epoch 16/100\n",
      "330994/330994 [==============================] - 3s 9us/step - loss: 0.0172 - accuracy: 0.9960\n",
      "Epoch 17/100\n",
      "330994/330994 [==============================] - 3s 9us/step - loss: 0.0162 - accuracy: 0.9961\n",
      "Epoch 18/100\n",
      "330994/330994 [==============================] - 3s 9us/step - loss: 0.0150 - accuracy: 0.9964\n",
      "Epoch 19/100\n",
      "330994/330994 [==============================] - 3s 9us/step - loss: 0.0142 - accuracy: 0.9965\n",
      "Epoch 20/100\n",
      "330994/330994 [==============================] - 3s 9us/step - loss: 0.0137 - accuracy: 0.9966\n",
      "Epoch 21/100\n",
      "330994/330994 [==============================] - 3s 9us/step - loss: 0.0131 - accuracy: 0.9968\n",
      "Epoch 22/100\n",
      "330994/330994 [==============================] - 3s 9us/step - loss: 0.0127 - accuracy: 0.9968\n",
      "Epoch 23/100\n",
      "330994/330994 [==============================] - 3s 9us/step - loss: 0.0122 - accuracy: 0.9969\n",
      "Epoch 24/100\n",
      "330994/330994 [==============================] - 3s 9us/step - loss: 0.0119 - accuracy: 0.9968\n",
      "Epoch 25/100\n",
      "330994/330994 [==============================] - 3s 9us/step - loss: 0.0116 - accuracy: 0.9969\n",
      "Epoch 26/100\n",
      "330994/330994 [==============================] - 3s 9us/step - loss: 0.0112 - accuracy: 0.9969\n",
      "Epoch 27/100\n",
      "330994/330994 [==============================] - 3s 9us/step - loss: 0.0109 - accuracy: 0.9969\n",
      "Epoch 28/100\n",
      "330994/330994 [==============================] - 3s 9us/step - loss: 0.0107 - accuracy: 0.9970\n",
      "Epoch 29/100\n",
      "330994/330994 [==============================] - 3s 9us/step - loss: 0.0104 - accuracy: 0.9970\n",
      "Epoch 30/100\n",
      "330994/330994 [==============================] - 3s 9us/step - loss: 0.0101 - accuracy: 0.9970\n",
      "Epoch 31/100\n",
      "330994/330994 [==============================] - 3s 9us/step - loss: 0.0099 - accuracy: 0.9971\n",
      "Epoch 32/100\n",
      "330994/330994 [==============================] - 3s 9us/step - loss: 0.0096 - accuracy: 0.9971\n",
      "Epoch 33/100\n",
      "330994/330994 [==============================] - 3s 9us/step - loss: 0.0094 - accuracy: 0.9971\n",
      "Epoch 34/100\n",
      "330994/330994 [==============================] - 3s 10us/step - loss: 0.0092 - accuracy: 0.9971\n",
      "Epoch 35/100\n",
      "330994/330994 [==============================] - 3s 10us/step - loss: 0.0089 - accuracy: 0.9971\n",
      "Epoch 36/100\n",
      "330994/330994 [==============================] - 3s 9us/step - loss: 0.0088 - accuracy: 0.9971\n",
      "Epoch 37/100\n",
      "330994/330994 [==============================] - 3s 9us/step - loss: 0.0085 - accuracy: 0.9972\n",
      "Epoch 38/100\n",
      "330994/330994 [==============================] - 3s 9us/step - loss: 0.0084 - accuracy: 0.9971\n",
      "Epoch 39/100\n",
      "330994/330994 [==============================] - 3s 9us/step - loss: 0.0082 - accuracy: 0.9972\n",
      "Epoch 40/100\n",
      "330994/330994 [==============================] - 3s 9us/step - loss: 0.0081 - accuracy: 0.9972\n",
      "Epoch 41/100\n",
      "330994/330994 [==============================] - 3s 9us/step - loss: 0.0079 - accuracy: 0.9972\n",
      "Epoch 42/100\n",
      "330994/330994 [==============================] - 3s 9us/step - loss: 0.0077 - accuracy: 0.9974\n",
      "Epoch 43/100\n",
      "330994/330994 [==============================] - 3s 9us/step - loss: 0.0076 - accuracy: 0.9974\n",
      "Epoch 44/100\n",
      "330994/330994 [==============================] - 3s 9us/step - loss: 0.0075 - accuracy: 0.9976\n",
      "Epoch 45/100\n",
      "330994/330994 [==============================] - 3s 9us/step - loss: 0.0073 - accuracy: 0.9978\n",
      "Epoch 46/100\n",
      "330994/330994 [==============================] - 3s 9us/step - loss: 0.0072 - accuracy: 0.9980\n",
      "Epoch 47/100\n",
      "330994/330994 [==============================] - 3s 9us/step - loss: 0.0070 - accuracy: 0.9983\n",
      "Epoch 48/100\n",
      "330994/330994 [==============================] - 3s 9us/step - loss: 0.0069 - accuracy: 0.9985\n",
      "Epoch 49/100\n",
      "330994/330994 [==============================] - 3s 9us/step - loss: 0.0068 - accuracy: 0.9985\n",
      "Epoch 50/100\n",
      "330994/330994 [==============================] - 3s 10us/step - loss: 0.0067 - accuracy: 0.9986\n",
      "Epoch 51/100\n",
      "330994/330994 [==============================] - 3s 9us/step - loss: 0.0065 - accuracy: 0.9987\n",
      "Epoch 52/100\n",
      "330994/330994 [==============================] - 3s 9us/step - loss: 0.0064 - accuracy: 0.9988\n",
      "Epoch 53/100\n",
      "330994/330994 [==============================] - 3s 9us/step - loss: 0.0063 - accuracy: 0.9989\n",
      "Epoch 54/100\n",
      "330994/330994 [==============================] - 3s 9us/step - loss: 0.0063 - accuracy: 0.9989\n",
      "Epoch 55/100\n",
      "330994/330994 [==============================] - 3s 9us/step - loss: 0.0062 - accuracy: 0.9989\n",
      "Epoch 56/100\n",
      "330994/330994 [==============================] - 3s 10us/step - loss: 0.0061 - accuracy: 0.9990\n",
      "Epoch 57/100\n",
      "330994/330994 [==============================] - 3s 9us/step - loss: 0.0059 - accuracy: 0.9990\n",
      "Epoch 58/100\n",
      "330994/330994 [==============================] - 3s 9us/step - loss: 0.0059 - accuracy: 0.9990\n",
      "Epoch 59/100\n",
      "330994/330994 [==============================] - 3s 9us/step - loss: 0.0057 - accuracy: 0.9991\n",
      "Epoch 60/100\n",
      "330994/330994 [==============================] - 3s 9us/step - loss: 0.0058 - accuracy: 0.9991\n",
      "Epoch 61/100\n",
      "330994/330994 [==============================] - 3s 9us/step - loss: 0.0057 - accuracy: 0.9991\n",
      "Epoch 62/100\n",
      "330994/330994 [==============================] - 3s 9us/step - loss: 0.0056 - accuracy: 0.9991\n",
      "Epoch 63/100\n",
      "330994/330994 [==============================] - 3s 9us/step - loss: 0.0056 - accuracy: 0.9991\n",
      "Epoch 64/100\n",
      "330994/330994 [==============================] - 3s 9us/step - loss: 0.0055 - accuracy: 0.9991\n",
      "Epoch 65/100\n",
      "330994/330994 [==============================] - 3s 9us/step - loss: 0.0055 - accuracy: 0.9991\n",
      "Epoch 66/100\n",
      "330994/330994 [==============================] - 3s 9us/step - loss: 0.0054 - accuracy: 0.9991\n",
      "Epoch 67/100\n",
      "330994/330994 [==============================] - 3s 9us/step - loss: 0.0054 - accuracy: 0.9992\n",
      "Epoch 68/100\n",
      "330994/330994 [==============================] - 3s 9us/step - loss: 0.0052 - accuracy: 0.9991\n",
      "Epoch 69/100\n",
      "330994/330994 [==============================] - 3s 9us/step - loss: 0.0051 - accuracy: 0.9992\n",
      "Epoch 70/100\n",
      "330994/330994 [==============================] - 3s 9us/step - loss: 0.0052 - accuracy: 0.9992\n",
      "Epoch 71/100\n",
      "330994/330994 [==============================] - 3s 9us/step - loss: 0.0051 - accuracy: 0.9992\n",
      "Epoch 72/100\n",
      "330994/330994 [==============================] - 3s 9us/step - loss: 0.0050 - accuracy: 0.9992\n",
      "Epoch 73/100\n",
      "330994/330994 [==============================] - 3s 9us/step - loss: 0.0050 - accuracy: 0.9992\n",
      "Epoch 74/100\n",
      "330994/330994 [==============================] - 3s 9us/step - loss: 0.0049 - accuracy: 0.9992\n",
      "Epoch 75/100\n",
      "330994/330994 [==============================] - 3s 9us/step - loss: 0.0051 - accuracy: 0.9992\n",
      "Epoch 76/100\n",
      "330994/330994 [==============================] - 3s 9us/step - loss: 0.0048 - accuracy: 0.9992\n",
      "Epoch 77/100\n",
      "330994/330994 [==============================] - 3s 9us/step - loss: 0.0048 - accuracy: 0.9992\n",
      "Epoch 78/100\n",
      "330994/330994 [==============================] - 3s 10us/step - loss: 0.0048 - accuracy: 0.9992\n",
      "Epoch 79/100\n",
      "330994/330994 [==============================] - 3s 9us/step - loss: 0.0049 - accuracy: 0.9992\n",
      "Epoch 80/100\n",
      "330994/330994 [==============================] - 3s 9us/step - loss: 0.0047 - accuracy: 0.9992\n",
      "Epoch 81/100\n",
      "330994/330994 [==============================] - 3s 9us/step - loss: 0.0046 - accuracy: 0.9993\n",
      "Epoch 82/100\n",
      "330994/330994 [==============================] - 3s 9us/step - loss: 0.0047 - accuracy: 0.9992\n",
      "Epoch 83/100\n",
      "330994/330994 [==============================] - 3s 9us/step - loss: 0.0046 - accuracy: 0.9993\n",
      "Epoch 84/100\n",
      "330994/330994 [==============================] - 3s 9us/step - loss: 0.0046 - accuracy: 0.9992\n",
      "Epoch 85/100\n",
      "330994/330994 [==============================] - 3s 9us/step - loss: 0.0045 - accuracy: 0.9993\n",
      "Epoch 86/100\n",
      "330994/330994 [==============================] - 3s 9us/step - loss: 0.0045 - accuracy: 0.9993\n",
      "Epoch 87/100\n",
      "330994/330994 [==============================] - 3s 9us/step - loss: 0.0045 - accuracy: 0.9992\n",
      "Epoch 88/100\n",
      "330994/330994 [==============================] - 3s 9us/step - loss: 0.0045 - accuracy: 0.9993\n",
      "Epoch 89/100\n",
      "330994/330994 [==============================] - 3s 9us/step - loss: 0.0044 - accuracy: 0.9993\n",
      "Epoch 90/100\n",
      "330994/330994 [==============================] - 3s 9us/step - loss: 0.0044 - accuracy: 0.9992\n",
      "Epoch 91/100\n",
      "330994/330994 [==============================] - 3s 9us/step - loss: 0.0043 - accuracy: 0.9993\n",
      "Epoch 92/100\n",
      "330994/330994 [==============================] - 3s 9us/step - loss: 0.0044 - accuracy: 0.9993\n",
      "Epoch 93/100\n",
      "330994/330994 [==============================] - 3s 9us/step - loss: 0.0043 - accuracy: 0.9993\n",
      "Epoch 94/100\n",
      "330994/330994 [==============================] - 3s 9us/step - loss: 0.0042 - accuracy: 0.9993\n",
      "Epoch 95/100\n",
      "330994/330994 [==============================] - 3s 9us/step - loss: 0.0042 - accuracy: 0.9993\n",
      "Epoch 96/100\n",
      "330994/330994 [==============================] - 3s 9us/step - loss: 0.0043 - accuracy: 0.9993\n",
      "Epoch 97/100\n",
      "330994/330994 [==============================] - 3s 9us/step - loss: 0.0042 - accuracy: 0.9993\n",
      "Epoch 98/100\n",
      "330994/330994 [==============================] - 3s 9us/step - loss: 0.0043 - accuracy: 0.9993\n",
      "Epoch 99/100\n",
      "330994/330994 [==============================] - 3s 9us/step - loss: 0.0040 - accuracy: 0.9993\n",
      "Epoch 100/100\n",
      "330994/330994 [==============================] - 3s 10us/step - loss: 0.0043 - accuracy: 0.9993\n"
     ]
    }
   ],
   "source": [
    "start = time.time()\n",
    "KC.fit(X_train, Y_train.values.ravel())\n",
    "end = time.time()"
   ]
  },
  {
   "cell_type": "code",
   "execution_count": 180,
   "metadata": {},
   "outputs": [
    {
     "name": "stdout",
     "output_type": "stream",
     "text": [
      "Training time\n",
      "300.86636543273926\n"
     ]
    }
   ],
   "source": [
    "print('Training time')\n",
    "print((end-start))"
   ]
  },
  {
   "cell_type": "code",
   "execution_count": 181,
   "metadata": {},
   "outputs": [
    {
     "name": "stdout",
     "output_type": "stream",
     "text": [
      "Testing time:  0.5064609050750732\n"
     ]
    }
   ],
   "source": [
    "start_time = time.time()\n",
    "Y_test_pred_KC = KC.predict(X_test)\n",
    "end_time = time.time()\n",
    "print(\"Testing time: \",end_time-start_time)"
   ]
  },
  {
   "cell_type": "code",
   "execution_count": 182,
   "metadata": {},
   "outputs": [
    {
     "name": "stdout",
     "output_type": "stream",
     "text": [
      "0.9994894167265872\n",
      "0.9991473804952554\n"
     ]
    }
   ],
   "source": [
    "start_time = time.time()\n",
    "Y_train_pred_KC = KC.predict(X_train)\n",
    "end_time = time.time()\n",
    "print(accuracy_score(Y_train,Y_train_pred_KC))\n",
    "print(accuracy_score(Y_test,Y_test_pred_KC))"
   ]
  },
  {
   "cell_type": "code",
   "execution_count": 183,
   "metadata": {},
   "outputs": [
    {
     "name": "stderr",
     "output_type": "stream",
     "text": [
      "C:\\Users\\Mohab\\Anaconda3\\lib\\site-packages\\sklearn\\metrics\\classification.py:1437: UndefinedMetricWarning: Precision and F-score are ill-defined and being set to 0.0 in labels with no predicted samples.\n",
      "  'precision', 'predicted', average, warn_for)\n"
     ]
    },
    {
     "name": "stdout",
     "output_type": "stream",
     "text": [
      "              precision    recall  f1-score   support\n",
      "\n",
      "         dos       1.00      1.00      1.00    129106\n",
      "      normal       1.00      1.00      1.00     32167\n",
      "       probe       0.99      0.98      0.99      1348\n",
      "         r2l       0.86      0.89      0.87       387\n",
      "         u2r       0.00      0.00      0.00        19\n",
      "\n",
      "    accuracy                           1.00    163027\n",
      "   macro avg       0.77      0.77      0.77    163027\n",
      "weighted avg       1.00      1.00      1.00    163027\n",
      "\n"
     ]
    }
   ],
   "source": [
    "print(sklearn.metrics.classification_report(Y_test, Y_test_pred_KC))"
   ]
  },
  {
   "cell_type": "code",
   "execution_count": null,
   "metadata": {},
   "outputs": [],
   "source": []
  }
 ],
 "metadata": {
  "kernelspec": {
   "display_name": "Python 3",
   "language": "python",
   "name": "python3"
  },
  "language_info": {
   "codemirror_mode": {
    "name": "ipython",
    "version": 3
   },
   "file_extension": ".py",
   "mimetype": "text/x-python",
   "name": "python",
   "nbconvert_exporter": "python",
   "pygments_lexer": "ipython3",
   "version": "3.7.4"
  }
 },
 "nbformat": 4,
 "nbformat_minor": 4
}
