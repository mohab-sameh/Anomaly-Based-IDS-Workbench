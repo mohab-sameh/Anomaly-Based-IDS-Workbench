{
 "cells": [
  {
   "cell_type": "code",
   "execution_count": 1,
   "metadata": {},
   "outputs": [],
   "source": [
    "import os\n",
    "import pandas as pd\n",
    "import numpy as np\n",
    "import matplotlib.pyplot as plt\n",
    "import seaborn as sns\n",
    "import time\n",
    "import math"
   ]
  },
  {
   "cell_type": "code",
   "execution_count": 2,
   "metadata": {},
   "outputs": [
    {
     "name": "stdout",
     "output_type": "stream",
     "text": [
      "79\n"
     ]
    }
   ],
   "source": [
    "cols= \"\"\"\n",
    "Destination Port, \n",
    "Flow Duration, \n",
    "Total Fwd Packets, \n",
    "Total Backward Packets, \n",
    "Total Length of Fwd Packets, \n",
    "Total Length of Bwd Packets, \n",
    "Fwd Packet Length Max, \n",
    "Fwd Packet Length Min, \n",
    "Fwd Packet Length Mean, \n",
    "Fwd Packet Length Std, \n",
    "Bwd Packet Length Max, \n",
    "Bwd Packet Length Min, \n",
    "Bwd Packet Length Mean, \n",
    "Bwd Packet Length Std, \n",
    "Flow Bytes/s, \n",
    "Flow Packets/s, \n",
    "Flow IAT Mean, \n",
    "Flow IAT Std, \n",
    "Flow IAT Max, \n",
    "Flow IAT Min, \n",
    "Fwd IAT Total, \n",
    "Fwd IAT Mean, \n",
    "Fwd IAT Std, \n",
    "Fwd IAT Max, \n",
    "Fwd IAT Min, \n",
    "Bwd IAT Total, \n",
    "Bwd IAT Mean, \n",
    "Bwd IAT Std, \n",
    "Bwd IAT Max, \n",
    "Bwd IAT Min, \n",
    "Fwd PSH Flags, \n",
    "Bwd PSH Flags, \n",
    "Fwd URG Flags, \n",
    "Bwd URG Flags,\n",
    "Fwd Header Length, \n",
    "Bwd Header Length, \n",
    "Fwd Packets/s, \n",
    "Bwd Packets/s, \n",
    "Min Packet Length, \n",
    "Max Packet Length, \n",
    "Packet Length Mean, \n",
    "Packet Length Std, \n",
    "Packet Length Variance, \n",
    "FIN Flag Count, \n",
    "SYN Flag Count, \n",
    "RST Flag Count, \n",
    "PSH Flag Count, \n",
    "ACK Flag Count, \n",
    "URG Flag Count, \n",
    "CWE Flag Count, \n",
    "ECE Flag Count, \n",
    "Down/Up Ratio, \n",
    "Average Packet Size, \n",
    "Avg Fwd Segment Size, \n",
    "Avg Bwd Segment Size, \n",
    "Fwd Header Length.1, \n",
    "Fwd Avg Bytes/Bulk, \n",
    "Fwd Avg Packets/Bulk, \n",
    "Fwd Avg Bulk Rate, \n",
    "Bwd Avg Bytes/Bulk, \n",
    "Bwd Avg Packets/Bulk, \n",
    "Bwd Avg Bulk Rate, \n",
    "Subflow Fwd Packets, \n",
    "Subflow Fwd Bytes, \n",
    "Subflow Bwd Packets, \n",
    "Subflow Bwd Bytes, \n",
    "Init_Win_bytes_forward, \n",
    "Init_Win_bytes_backward, \n",
    "act_data_pkt_fwd, \n",
    "min_seg_size_forward, \n",
    "Active Mean, \n",
    "Active Std, \n",
    "Active Max, \n",
    "Active Min, \n",
    "Idle Mean, \n",
    "Idle Std, \n",
    "Idle Max, \n",
    "Idle Min, Label\"\"\"\n",
    "\n",
    "\n",
    "\n",
    "columns=[]\n",
    "for c in cols.split(','):\n",
    "    if(c.strip()):\n",
    "       columns.append(c.strip())\n",
    "\n",
    "#columns.append('Label')\n",
    "#print(columns)\n",
    "print(len(columns))"
   ]
  },
  {
   "cell_type": "code",
   "execution_count": 3,
   "metadata": {},
   "outputs": [
    {
     "name": "stderr",
     "output_type": "stream",
     "text": [
      "C:\\Users\\Mohab\\Anaconda3\\lib\\site-packages\\IPython\\core\\interactiveshell.py:3058: DtypeWarning: Columns (14,15) have mixed types. Specify dtype option on import or set low_memory=False.\n",
      "  interactivity=interactivity, compiler=compiler, result=result)\n",
      "C:\\Users\\Mohab\\Anaconda3\\lib\\site-packages\\IPython\\core\\interactiveshell.py:3058: DtypeWarning: Columns (14) have mixed types. Specify dtype option on import or set low_memory=False.\n",
      "  interactivity=interactivity, compiler=compiler, result=result)\n"
     ]
    },
    {
     "data": {
      "text/html": [
       "<div>\n",
       "<style scoped>\n",
       "    .dataframe tbody tr th:only-of-type {\n",
       "        vertical-align: middle;\n",
       "    }\n",
       "\n",
       "    .dataframe tbody tr th {\n",
       "        vertical-align: top;\n",
       "    }\n",
       "\n",
       "    .dataframe thead th {\n",
       "        text-align: right;\n",
       "    }\n",
       "</style>\n",
       "<table border=\"1\" class=\"dataframe\">\n",
       "  <thead>\n",
       "    <tr style=\"text-align: right;\">\n",
       "      <th></th>\n",
       "      <th>Destination Port</th>\n",
       "      <th>Flow Duration</th>\n",
       "      <th>Total Fwd Packets</th>\n",
       "      <th>Total Backward Packets</th>\n",
       "      <th>Total Length of Fwd Packets</th>\n",
       "      <th>Total Length of Bwd Packets</th>\n",
       "      <th>Fwd Packet Length Max</th>\n",
       "      <th>Fwd Packet Length Min</th>\n",
       "      <th>Fwd Packet Length Mean</th>\n",
       "      <th>Fwd Packet Length Std</th>\n",
       "      <th>...</th>\n",
       "      <th>min_seg_size_forward</th>\n",
       "      <th>Active Mean</th>\n",
       "      <th>Active Std</th>\n",
       "      <th>Active Max</th>\n",
       "      <th>Active Min</th>\n",
       "      <th>Idle Mean</th>\n",
       "      <th>Idle Std</th>\n",
       "      <th>Idle Max</th>\n",
       "      <th>Idle Min</th>\n",
       "      <th>Label</th>\n",
       "    </tr>\n",
       "  </thead>\n",
       "  <tbody>\n",
       "    <tr>\n",
       "      <td>0</td>\n",
       "      <td>54865</td>\n",
       "      <td>3</td>\n",
       "      <td>2</td>\n",
       "      <td>0</td>\n",
       "      <td>12</td>\n",
       "      <td>0</td>\n",
       "      <td>6</td>\n",
       "      <td>6</td>\n",
       "      <td>6.0</td>\n",
       "      <td>0.0</td>\n",
       "      <td>...</td>\n",
       "      <td>20</td>\n",
       "      <td>0.0</td>\n",
       "      <td>0.0</td>\n",
       "      <td>0</td>\n",
       "      <td>0</td>\n",
       "      <td>0.0</td>\n",
       "      <td>0.0</td>\n",
       "      <td>0</td>\n",
       "      <td>0</td>\n",
       "      <td>BENIGN</td>\n",
       "    </tr>\n",
       "    <tr>\n",
       "      <td>1</td>\n",
       "      <td>55054</td>\n",
       "      <td>109</td>\n",
       "      <td>1</td>\n",
       "      <td>1</td>\n",
       "      <td>6</td>\n",
       "      <td>6</td>\n",
       "      <td>6</td>\n",
       "      <td>6</td>\n",
       "      <td>6.0</td>\n",
       "      <td>0.0</td>\n",
       "      <td>...</td>\n",
       "      <td>20</td>\n",
       "      <td>0.0</td>\n",
       "      <td>0.0</td>\n",
       "      <td>0</td>\n",
       "      <td>0</td>\n",
       "      <td>0.0</td>\n",
       "      <td>0.0</td>\n",
       "      <td>0</td>\n",
       "      <td>0</td>\n",
       "      <td>BENIGN</td>\n",
       "    </tr>\n",
       "    <tr>\n",
       "      <td>2</td>\n",
       "      <td>55055</td>\n",
       "      <td>52</td>\n",
       "      <td>1</td>\n",
       "      <td>1</td>\n",
       "      <td>6</td>\n",
       "      <td>6</td>\n",
       "      <td>6</td>\n",
       "      <td>6</td>\n",
       "      <td>6.0</td>\n",
       "      <td>0.0</td>\n",
       "      <td>...</td>\n",
       "      <td>20</td>\n",
       "      <td>0.0</td>\n",
       "      <td>0.0</td>\n",
       "      <td>0</td>\n",
       "      <td>0</td>\n",
       "      <td>0.0</td>\n",
       "      <td>0.0</td>\n",
       "      <td>0</td>\n",
       "      <td>0</td>\n",
       "      <td>BENIGN</td>\n",
       "    </tr>\n",
       "    <tr>\n",
       "      <td>3</td>\n",
       "      <td>46236</td>\n",
       "      <td>34</td>\n",
       "      <td>1</td>\n",
       "      <td>1</td>\n",
       "      <td>6</td>\n",
       "      <td>6</td>\n",
       "      <td>6</td>\n",
       "      <td>6</td>\n",
       "      <td>6.0</td>\n",
       "      <td>0.0</td>\n",
       "      <td>...</td>\n",
       "      <td>20</td>\n",
       "      <td>0.0</td>\n",
       "      <td>0.0</td>\n",
       "      <td>0</td>\n",
       "      <td>0</td>\n",
       "      <td>0.0</td>\n",
       "      <td>0.0</td>\n",
       "      <td>0</td>\n",
       "      <td>0</td>\n",
       "      <td>BENIGN</td>\n",
       "    </tr>\n",
       "    <tr>\n",
       "      <td>4</td>\n",
       "      <td>54863</td>\n",
       "      <td>3</td>\n",
       "      <td>2</td>\n",
       "      <td>0</td>\n",
       "      <td>12</td>\n",
       "      <td>0</td>\n",
       "      <td>6</td>\n",
       "      <td>6</td>\n",
       "      <td>6.0</td>\n",
       "      <td>0.0</td>\n",
       "      <td>...</td>\n",
       "      <td>20</td>\n",
       "      <td>0.0</td>\n",
       "      <td>0.0</td>\n",
       "      <td>0</td>\n",
       "      <td>0</td>\n",
       "      <td>0.0</td>\n",
       "      <td>0.0</td>\n",
       "      <td>0</td>\n",
       "      <td>0</td>\n",
       "      <td>BENIGN</td>\n",
       "    </tr>\n",
       "  </tbody>\n",
       "</table>\n",
       "<p>5 rows × 79 columns</p>\n",
       "</div>"
      ],
      "text/plain": [
       "    Destination Port   Flow Duration   Total Fwd Packets  \\\n",
       "0              54865               3                   2   \n",
       "1              55054             109                   1   \n",
       "2              55055              52                   1   \n",
       "3              46236              34                   1   \n",
       "4              54863               3                   2   \n",
       "\n",
       "    Total Backward Packets  Total Length of Fwd Packets  \\\n",
       "0                        0                           12   \n",
       "1                        1                            6   \n",
       "2                        1                            6   \n",
       "3                        1                            6   \n",
       "4                        0                           12   \n",
       "\n",
       "    Total Length of Bwd Packets   Fwd Packet Length Max  \\\n",
       "0                             0                       6   \n",
       "1                             6                       6   \n",
       "2                             6                       6   \n",
       "3                             6                       6   \n",
       "4                             0                       6   \n",
       "\n",
       "    Fwd Packet Length Min   Fwd Packet Length Mean   Fwd Packet Length Std  \\\n",
       "0                       6                      6.0                     0.0   \n",
       "1                       6                      6.0                     0.0   \n",
       "2                       6                      6.0                     0.0   \n",
       "3                       6                      6.0                     0.0   \n",
       "4                       6                      6.0                     0.0   \n",
       "\n",
       "   ...   min_seg_size_forward  Active Mean   Active Std   Active Max  \\\n",
       "0  ...                     20          0.0          0.0            0   \n",
       "1  ...                     20          0.0          0.0            0   \n",
       "2  ...                     20          0.0          0.0            0   \n",
       "3  ...                     20          0.0          0.0            0   \n",
       "4  ...                     20          0.0          0.0            0   \n",
       "\n",
       "   Active Min Idle Mean   Idle Std   Idle Max   Idle Min   Label  \n",
       "0           0       0.0        0.0          0          0  BENIGN  \n",
       "1           0       0.0        0.0          0          0  BENIGN  \n",
       "2           0       0.0        0.0          0          0  BENIGN  \n",
       "3           0       0.0        0.0          0          0  BENIGN  \n",
       "4           0       0.0        0.0          0          0  BENIGN  \n",
       "\n",
       "[5 rows x 79 columns]"
      ]
     },
     "execution_count": 3,
     "metadata": {},
     "output_type": "execute_result"
    }
   ],
   "source": [
    "path = \"Friday-WorkingHours-Afternoon-DDos.csv\"\n",
    "df = pd.read_csv(path)\n",
    "\n",
    "df1=pd.read_csv(\"iscx/Friday-WorkingHours-Afternoon-DDos.csv\")\n",
    "\n",
    "df2=pd.read_csv(\"iscx/Friday-WorkingHours-Afternoon-PortScan.csv\")\n",
    "df3=pd.read_csv(\"iscx/Friday-WorkingHours-Morning.csv\")\n",
    "df4=pd.read_csv(\"iscx/Monday-WorkingHours.csv\")\n",
    "df5=pd.read_csv(\"iscx/Thursday-WorkingHours-Afternoon-Infilteration.csv\")\n",
    "df6=pd.read_csv(\"iscx/Thursday-WorkingHours-Morning-WebAttacks.csv\")\n",
    "df7=pd.read_csv(\"iscx/Tuesday-WorkingHours.csv\")\n",
    "df8=pd.read_csv(\"iscx/Wednesday-workingHours.csv\")\n",
    "\n",
    "#Adding Attack Type column\n",
    "#df['Attack Type'] = df.target.apply(lambda r:attacks_types[r[:-1]])\n",
    "df.head()"
   ]
  },
  {
   "cell_type": "code",
   "execution_count": 4,
   "metadata": {},
   "outputs": [
    {
     "data": {
      "text/plain": [
       "(2830743, 79)"
      ]
     },
     "execution_count": 4,
     "metadata": {},
     "output_type": "execute_result"
    }
   ],
   "source": [
    "df=pd.concat([df1,df2,df3,df4,df5,df6,df7,df8])\n",
    "df.shape"
   ]
  },
  {
   "cell_type": "code",
   "execution_count": 5,
   "metadata": {},
   "outputs": [],
   "source": [
    "#removing spaces at the beginning of feature names\n",
    "df.columns = df.columns.str.lstrip()"
   ]
  },
  {
   "cell_type": "code",
   "execution_count": null,
   "metadata": {},
   "outputs": [],
   "source": []
  },
  {
   "cell_type": "code",
   "execution_count": 6,
   "metadata": {},
   "outputs": [
    {
     "data": {
      "text/html": [
       "<div>\n",
       "<style scoped>\n",
       "    .dataframe tbody tr th:only-of-type {\n",
       "        vertical-align: middle;\n",
       "    }\n",
       "\n",
       "    .dataframe tbody tr th {\n",
       "        vertical-align: top;\n",
       "    }\n",
       "\n",
       "    .dataframe thead th {\n",
       "        text-align: right;\n",
       "    }\n",
       "</style>\n",
       "<table border=\"1\" class=\"dataframe\">\n",
       "  <thead>\n",
       "    <tr style=\"text-align: right;\">\n",
       "      <th></th>\n",
       "      <th>Destination Port</th>\n",
       "      <th>Flow Duration</th>\n",
       "      <th>Total Fwd Packets</th>\n",
       "      <th>Total Backward Packets</th>\n",
       "      <th>Total Length of Fwd Packets</th>\n",
       "      <th>Total Length of Bwd Packets</th>\n",
       "      <th>Fwd Packet Length Max</th>\n",
       "      <th>Fwd Packet Length Min</th>\n",
       "      <th>Fwd Packet Length Mean</th>\n",
       "      <th>Fwd Packet Length Std</th>\n",
       "      <th>...</th>\n",
       "      <th>min_seg_size_forward</th>\n",
       "      <th>Active Mean</th>\n",
       "      <th>Active Std</th>\n",
       "      <th>Active Max</th>\n",
       "      <th>Active Min</th>\n",
       "      <th>Idle Mean</th>\n",
       "      <th>Idle Std</th>\n",
       "      <th>Idle Max</th>\n",
       "      <th>Idle Min</th>\n",
       "      <th>Label</th>\n",
       "    </tr>\n",
       "  </thead>\n",
       "  <tbody>\n",
       "    <tr>\n",
       "      <td>0</td>\n",
       "      <td>54865</td>\n",
       "      <td>3</td>\n",
       "      <td>2</td>\n",
       "      <td>0</td>\n",
       "      <td>12</td>\n",
       "      <td>0</td>\n",
       "      <td>6</td>\n",
       "      <td>6</td>\n",
       "      <td>6.0</td>\n",
       "      <td>0.0</td>\n",
       "      <td>...</td>\n",
       "      <td>20</td>\n",
       "      <td>0.0</td>\n",
       "      <td>0.0</td>\n",
       "      <td>0</td>\n",
       "      <td>0</td>\n",
       "      <td>0.0</td>\n",
       "      <td>0.0</td>\n",
       "      <td>0</td>\n",
       "      <td>0</td>\n",
       "      <td>BENIGN</td>\n",
       "    </tr>\n",
       "    <tr>\n",
       "      <td>1</td>\n",
       "      <td>55054</td>\n",
       "      <td>109</td>\n",
       "      <td>1</td>\n",
       "      <td>1</td>\n",
       "      <td>6</td>\n",
       "      <td>6</td>\n",
       "      <td>6</td>\n",
       "      <td>6</td>\n",
       "      <td>6.0</td>\n",
       "      <td>0.0</td>\n",
       "      <td>...</td>\n",
       "      <td>20</td>\n",
       "      <td>0.0</td>\n",
       "      <td>0.0</td>\n",
       "      <td>0</td>\n",
       "      <td>0</td>\n",
       "      <td>0.0</td>\n",
       "      <td>0.0</td>\n",
       "      <td>0</td>\n",
       "      <td>0</td>\n",
       "      <td>BENIGN</td>\n",
       "    </tr>\n",
       "    <tr>\n",
       "      <td>2</td>\n",
       "      <td>55055</td>\n",
       "      <td>52</td>\n",
       "      <td>1</td>\n",
       "      <td>1</td>\n",
       "      <td>6</td>\n",
       "      <td>6</td>\n",
       "      <td>6</td>\n",
       "      <td>6</td>\n",
       "      <td>6.0</td>\n",
       "      <td>0.0</td>\n",
       "      <td>...</td>\n",
       "      <td>20</td>\n",
       "      <td>0.0</td>\n",
       "      <td>0.0</td>\n",
       "      <td>0</td>\n",
       "      <td>0</td>\n",
       "      <td>0.0</td>\n",
       "      <td>0.0</td>\n",
       "      <td>0</td>\n",
       "      <td>0</td>\n",
       "      <td>BENIGN</td>\n",
       "    </tr>\n",
       "    <tr>\n",
       "      <td>3</td>\n",
       "      <td>46236</td>\n",
       "      <td>34</td>\n",
       "      <td>1</td>\n",
       "      <td>1</td>\n",
       "      <td>6</td>\n",
       "      <td>6</td>\n",
       "      <td>6</td>\n",
       "      <td>6</td>\n",
       "      <td>6.0</td>\n",
       "      <td>0.0</td>\n",
       "      <td>...</td>\n",
       "      <td>20</td>\n",
       "      <td>0.0</td>\n",
       "      <td>0.0</td>\n",
       "      <td>0</td>\n",
       "      <td>0</td>\n",
       "      <td>0.0</td>\n",
       "      <td>0.0</td>\n",
       "      <td>0</td>\n",
       "      <td>0</td>\n",
       "      <td>BENIGN</td>\n",
       "    </tr>\n",
       "    <tr>\n",
       "      <td>4</td>\n",
       "      <td>54863</td>\n",
       "      <td>3</td>\n",
       "      <td>2</td>\n",
       "      <td>0</td>\n",
       "      <td>12</td>\n",
       "      <td>0</td>\n",
       "      <td>6</td>\n",
       "      <td>6</td>\n",
       "      <td>6.0</td>\n",
       "      <td>0.0</td>\n",
       "      <td>...</td>\n",
       "      <td>20</td>\n",
       "      <td>0.0</td>\n",
       "      <td>0.0</td>\n",
       "      <td>0</td>\n",
       "      <td>0</td>\n",
       "      <td>0.0</td>\n",
       "      <td>0.0</td>\n",
       "      <td>0</td>\n",
       "      <td>0</td>\n",
       "      <td>BENIGN</td>\n",
       "    </tr>\n",
       "  </tbody>\n",
       "</table>\n",
       "<p>5 rows × 79 columns</p>\n",
       "</div>"
      ],
      "text/plain": [
       "   Destination Port  Flow Duration  Total Fwd Packets  Total Backward Packets  \\\n",
       "0             54865              3                  2                       0   \n",
       "1             55054            109                  1                       1   \n",
       "2             55055             52                  1                       1   \n",
       "3             46236             34                  1                       1   \n",
       "4             54863              3                  2                       0   \n",
       "\n",
       "   Total Length of Fwd Packets  Total Length of Bwd Packets  \\\n",
       "0                           12                            0   \n",
       "1                            6                            6   \n",
       "2                            6                            6   \n",
       "3                            6                            6   \n",
       "4                           12                            0   \n",
       "\n",
       "   Fwd Packet Length Max  Fwd Packet Length Min  Fwd Packet Length Mean  \\\n",
       "0                      6                      6                     6.0   \n",
       "1                      6                      6                     6.0   \n",
       "2                      6                      6                     6.0   \n",
       "3                      6                      6                     6.0   \n",
       "4                      6                      6                     6.0   \n",
       "\n",
       "   Fwd Packet Length Std  ...  min_seg_size_forward  Active Mean  Active Std  \\\n",
       "0                    0.0  ...                    20          0.0         0.0   \n",
       "1                    0.0  ...                    20          0.0         0.0   \n",
       "2                    0.0  ...                    20          0.0         0.0   \n",
       "3                    0.0  ...                    20          0.0         0.0   \n",
       "4                    0.0  ...                    20          0.0         0.0   \n",
       "\n",
       "   Active Max Active Min Idle Mean  Idle Std  Idle Max  Idle Min   Label  \n",
       "0           0          0       0.0       0.0         0         0  BENIGN  \n",
       "1           0          0       0.0       0.0         0         0  BENIGN  \n",
       "2           0          0       0.0       0.0         0         0  BENIGN  \n",
       "3           0          0       0.0       0.0         0         0  BENIGN  \n",
       "4           0          0       0.0       0.0         0         0  BENIGN  \n",
       "\n",
       "[5 rows x 79 columns]"
      ]
     },
     "execution_count": 6,
     "metadata": {},
     "output_type": "execute_result"
    }
   ],
   "source": [
    "#copy benign records into a dataframe\n",
    "benign_df = df[df.Label == 'BENIGN']\n",
    "benign_df.head()"
   ]
  },
  {
   "cell_type": "code",
   "execution_count": 7,
   "metadata": {},
   "outputs": [
    {
     "data": {
      "text/html": [
       "<div>\n",
       "<style scoped>\n",
       "    .dataframe tbody tr th:only-of-type {\n",
       "        vertical-align: middle;\n",
       "    }\n",
       "\n",
       "    .dataframe tbody tr th {\n",
       "        vertical-align: top;\n",
       "    }\n",
       "\n",
       "    .dataframe thead th {\n",
       "        text-align: right;\n",
       "    }\n",
       "</style>\n",
       "<table border=\"1\" class=\"dataframe\">\n",
       "  <thead>\n",
       "    <tr style=\"text-align: right;\">\n",
       "      <th></th>\n",
       "      <th>Destination Port</th>\n",
       "      <th>Flow Duration</th>\n",
       "      <th>Total Fwd Packets</th>\n",
       "      <th>Total Backward Packets</th>\n",
       "      <th>Total Length of Fwd Packets</th>\n",
       "      <th>Total Length of Bwd Packets</th>\n",
       "      <th>Fwd Packet Length Max</th>\n",
       "      <th>Fwd Packet Length Min</th>\n",
       "      <th>Fwd Packet Length Mean</th>\n",
       "      <th>Fwd Packet Length Std</th>\n",
       "      <th>...</th>\n",
       "      <th>min_seg_size_forward</th>\n",
       "      <th>Active Mean</th>\n",
       "      <th>Active Std</th>\n",
       "      <th>Active Max</th>\n",
       "      <th>Active Min</th>\n",
       "      <th>Idle Mean</th>\n",
       "      <th>Idle Std</th>\n",
       "      <th>Idle Max</th>\n",
       "      <th>Idle Min</th>\n",
       "      <th>Label</th>\n",
       "    </tr>\n",
       "  </thead>\n",
       "  <tbody>\n",
       "    <tr>\n",
       "      <td>18883</td>\n",
       "      <td>80</td>\n",
       "      <td>1293792</td>\n",
       "      <td>3</td>\n",
       "      <td>7</td>\n",
       "      <td>26</td>\n",
       "      <td>11607</td>\n",
       "      <td>20</td>\n",
       "      <td>0</td>\n",
       "      <td>8.666667</td>\n",
       "      <td>10.263203</td>\n",
       "      <td>...</td>\n",
       "      <td>20</td>\n",
       "      <td>0.0</td>\n",
       "      <td>0.0</td>\n",
       "      <td>0</td>\n",
       "      <td>0</td>\n",
       "      <td>0.0</td>\n",
       "      <td>0.0</td>\n",
       "      <td>0</td>\n",
       "      <td>0</td>\n",
       "      <td>DDoS</td>\n",
       "    </tr>\n",
       "    <tr>\n",
       "      <td>18884</td>\n",
       "      <td>80</td>\n",
       "      <td>4421382</td>\n",
       "      <td>4</td>\n",
       "      <td>0</td>\n",
       "      <td>24</td>\n",
       "      <td>0</td>\n",
       "      <td>6</td>\n",
       "      <td>6</td>\n",
       "      <td>6.000000</td>\n",
       "      <td>0.000000</td>\n",
       "      <td>...</td>\n",
       "      <td>20</td>\n",
       "      <td>0.0</td>\n",
       "      <td>0.0</td>\n",
       "      <td>0</td>\n",
       "      <td>0</td>\n",
       "      <td>0.0</td>\n",
       "      <td>0.0</td>\n",
       "      <td>0</td>\n",
       "      <td>0</td>\n",
       "      <td>DDoS</td>\n",
       "    </tr>\n",
       "    <tr>\n",
       "      <td>18885</td>\n",
       "      <td>80</td>\n",
       "      <td>1083538</td>\n",
       "      <td>3</td>\n",
       "      <td>6</td>\n",
       "      <td>26</td>\n",
       "      <td>11601</td>\n",
       "      <td>20</td>\n",
       "      <td>0</td>\n",
       "      <td>8.666667</td>\n",
       "      <td>10.263203</td>\n",
       "      <td>...</td>\n",
       "      <td>20</td>\n",
       "      <td>0.0</td>\n",
       "      <td>0.0</td>\n",
       "      <td>0</td>\n",
       "      <td>0</td>\n",
       "      <td>0.0</td>\n",
       "      <td>0.0</td>\n",
       "      <td>0</td>\n",
       "      <td>0</td>\n",
       "      <td>DDoS</td>\n",
       "    </tr>\n",
       "    <tr>\n",
       "      <td>18886</td>\n",
       "      <td>80</td>\n",
       "      <td>80034360</td>\n",
       "      <td>8</td>\n",
       "      <td>4</td>\n",
       "      <td>56</td>\n",
       "      <td>11601</td>\n",
       "      <td>20</td>\n",
       "      <td>0</td>\n",
       "      <td>7.000000</td>\n",
       "      <td>5.656854</td>\n",
       "      <td>...</td>\n",
       "      <td>20</td>\n",
       "      <td>939.0</td>\n",
       "      <td>0.0</td>\n",
       "      <td>939</td>\n",
       "      <td>939</td>\n",
       "      <td>39300000.0</td>\n",
       "      <td>44200000.0</td>\n",
       "      <td>70600000</td>\n",
       "      <td>8072664</td>\n",
       "      <td>DDoS</td>\n",
       "    </tr>\n",
       "    <tr>\n",
       "      <td>18887</td>\n",
       "      <td>80</td>\n",
       "      <td>642654</td>\n",
       "      <td>3</td>\n",
       "      <td>6</td>\n",
       "      <td>26</td>\n",
       "      <td>11607</td>\n",
       "      <td>20</td>\n",
       "      <td>0</td>\n",
       "      <td>8.666667</td>\n",
       "      <td>10.263203</td>\n",
       "      <td>...</td>\n",
       "      <td>20</td>\n",
       "      <td>0.0</td>\n",
       "      <td>0.0</td>\n",
       "      <td>0</td>\n",
       "      <td>0</td>\n",
       "      <td>0.0</td>\n",
       "      <td>0.0</td>\n",
       "      <td>0</td>\n",
       "      <td>0</td>\n",
       "      <td>DDoS</td>\n",
       "    </tr>\n",
       "  </tbody>\n",
       "</table>\n",
       "<p>5 rows × 79 columns</p>\n",
       "</div>"
      ],
      "text/plain": [
       "       Destination Port  Flow Duration  Total Fwd Packets  \\\n",
       "18883                80        1293792                  3   \n",
       "18884                80        4421382                  4   \n",
       "18885                80        1083538                  3   \n",
       "18886                80       80034360                  8   \n",
       "18887                80         642654                  3   \n",
       "\n",
       "       Total Backward Packets  Total Length of Fwd Packets  \\\n",
       "18883                       7                           26   \n",
       "18884                       0                           24   \n",
       "18885                       6                           26   \n",
       "18886                       4                           56   \n",
       "18887                       6                           26   \n",
       "\n",
       "       Total Length of Bwd Packets  Fwd Packet Length Max  \\\n",
       "18883                        11607                     20   \n",
       "18884                            0                      6   \n",
       "18885                        11601                     20   \n",
       "18886                        11601                     20   \n",
       "18887                        11607                     20   \n",
       "\n",
       "       Fwd Packet Length Min  Fwd Packet Length Mean  Fwd Packet Length Std  \\\n",
       "18883                      0                8.666667              10.263203   \n",
       "18884                      6                6.000000               0.000000   \n",
       "18885                      0                8.666667              10.263203   \n",
       "18886                      0                7.000000               5.656854   \n",
       "18887                      0                8.666667              10.263203   \n",
       "\n",
       "       ...  min_seg_size_forward  Active Mean  Active Std  Active Max  \\\n",
       "18883  ...                    20          0.0         0.0           0   \n",
       "18884  ...                    20          0.0         0.0           0   \n",
       "18885  ...                    20          0.0         0.0           0   \n",
       "18886  ...                    20        939.0         0.0         939   \n",
       "18887  ...                    20          0.0         0.0           0   \n",
       "\n",
       "      Active Min   Idle Mean    Idle Std  Idle Max  Idle Min  Label  \n",
       "18883          0         0.0         0.0         0         0   DDoS  \n",
       "18884          0         0.0         0.0         0         0   DDoS  \n",
       "18885          0         0.0         0.0         0         0   DDoS  \n",
       "18886        939  39300000.0  44200000.0  70600000   8072664   DDoS  \n",
       "18887          0         0.0         0.0         0         0   DDoS  \n",
       "\n",
       "[5 rows x 79 columns]"
      ]
     },
     "execution_count": 7,
     "metadata": {},
     "output_type": "execute_result"
    }
   ],
   "source": [
    "#remove benign records from original dataset\n",
    "df = df[df.Label != 'BENIGN']\n",
    "df.head()"
   ]
  },
  {
   "cell_type": "code",
   "execution_count": 8,
   "metadata": {},
   "outputs": [
    {
     "data": {
      "text/plain": [
       "DoS Hulk                      231073\n",
       "PortScan                      158930\n",
       "DDoS                          128027\n",
       "DoS GoldenEye                  10293\n",
       "FTP-Patator                     7938\n",
       "SSH-Patator                     5897\n",
       "DoS slowloris                   5796\n",
       "DoS Slowhttptest                5499\n",
       "Bot                             1966\n",
       "Web Attack � Brute Force        1507\n",
       "Web Attack � XSS                 652\n",
       "Infiltration                      36\n",
       "Web Attack � Sql Injection        21\n",
       "Heartbleed                        11\n",
       "Name: Label, dtype: int64"
      ]
     },
     "execution_count": 8,
     "metadata": {},
     "output_type": "execute_result"
    }
   ],
   "source": [
    "df['Label'].value_counts()"
   ]
  },
  {
   "cell_type": "code",
   "execution_count": 9,
   "metadata": {},
   "outputs": [
    {
     "data": {
      "text/plain": [
       "BENIGN    2273097\n",
       "Name: Label, dtype: int64"
      ]
     },
     "execution_count": 9,
     "metadata": {},
     "output_type": "execute_result"
    }
   ],
   "source": [
    "benign_df['Label'].value_counts()"
   ]
  },
  {
   "cell_type": "code",
   "execution_count": 10,
   "metadata": {},
   "outputs": [
    {
     "name": "stdout",
     "output_type": "stream",
     "text": [
      "benign dataframe shape before shrinking:\n",
      "(2273097, 79)\n",
      "\n",
      "benign dataframe shape after shrinking:\n",
      "(250000, 79)\n"
     ]
    }
   ],
   "source": [
    "#removing half of benign records in the benign dataframe\n",
    "print(\"benign dataframe shape before shrinking:\")\n",
    "print(benign_df.shape)\n",
    "\n",
    "half_index = math.floor((len(benign_df.index))/2)\n",
    "#print(\"\\nhalf index = \")\n",
    "#print(half_index)\n",
    "\n",
    "\n",
    "#benign_df = benign_df.iloc[:half_index]\n",
    "benign_df = benign_df.iloc[:250000]\n",
    "\n",
    "\n",
    "print(\"\\nbenign dataframe shape after shrinking:\")\n",
    "print(benign_df.shape)\n"
   ]
  },
  {
   "cell_type": "code",
   "execution_count": 11,
   "metadata": {},
   "outputs": [],
   "source": [
    "#concat half benign records to main dataframe\n",
    "df=pd.concat([df, benign_df])"
   ]
  },
  {
   "cell_type": "code",
   "execution_count": 12,
   "metadata": {},
   "outputs": [
    {
     "data": {
      "text/plain": [
       "BENIGN                        250000\n",
       "DoS Hulk                      231073\n",
       "PortScan                      158930\n",
       "DDoS                          128027\n",
       "DoS GoldenEye                  10293\n",
       "FTP-Patator                     7938\n",
       "SSH-Patator                     5897\n",
       "DoS slowloris                   5796\n",
       "DoS Slowhttptest                5499\n",
       "Bot                             1966\n",
       "Web Attack � Brute Force        1507\n",
       "Web Attack � XSS                 652\n",
       "Infiltration                      36\n",
       "Web Attack � Sql Injection        21\n",
       "Heartbleed                        11\n",
       "Name: Label, dtype: int64"
      ]
     },
     "execution_count": 12,
     "metadata": {},
     "output_type": "execute_result"
    }
   ],
   "source": [
    "df['Label'].value_counts()"
   ]
  },
  {
   "cell_type": "code",
   "execution_count": null,
   "metadata": {},
   "outputs": [],
   "source": []
  },
  {
   "cell_type": "code",
   "execution_count": 13,
   "metadata": {},
   "outputs": [
    {
     "data": {
      "text/html": [
       "<div>\n",
       "<style scoped>\n",
       "    .dataframe tbody tr th:only-of-type {\n",
       "        vertical-align: middle;\n",
       "    }\n",
       "\n",
       "    .dataframe tbody tr th {\n",
       "        vertical-align: top;\n",
       "    }\n",
       "\n",
       "    .dataframe thead th {\n",
       "        text-align: right;\n",
       "    }\n",
       "</style>\n",
       "<table border=\"1\" class=\"dataframe\">\n",
       "  <thead>\n",
       "    <tr style=\"text-align: right;\">\n",
       "      <th></th>\n",
       "      <th>Destination Port</th>\n",
       "      <th>Flow Duration</th>\n",
       "      <th>Total Fwd Packets</th>\n",
       "      <th>Total Backward Packets</th>\n",
       "      <th>Total Length of Fwd Packets</th>\n",
       "      <th>Total Length of Bwd Packets</th>\n",
       "      <th>Fwd Packet Length Max</th>\n",
       "      <th>Fwd Packet Length Min</th>\n",
       "      <th>Fwd Packet Length Mean</th>\n",
       "      <th>Fwd Packet Length Std</th>\n",
       "      <th>...</th>\n",
       "      <th>min_seg_size_forward</th>\n",
       "      <th>Active Mean</th>\n",
       "      <th>Active Std</th>\n",
       "      <th>Active Max</th>\n",
       "      <th>Active Min</th>\n",
       "      <th>Idle Mean</th>\n",
       "      <th>Idle Std</th>\n",
       "      <th>Idle Max</th>\n",
       "      <th>Idle Min</th>\n",
       "      <th>Label</th>\n",
       "    </tr>\n",
       "  </thead>\n",
       "  <tbody>\n",
       "    <tr>\n",
       "      <td>74860</td>\n",
       "      <td>80</td>\n",
       "      <td>1878</td>\n",
       "      <td>3</td>\n",
       "      <td>6</td>\n",
       "      <td>382</td>\n",
       "      <td>11595</td>\n",
       "      <td>382</td>\n",
       "      <td>0</td>\n",
       "      <td>127.333333</td>\n",
       "      <td>220.547803</td>\n",
       "      <td>...</td>\n",
       "      <td>32</td>\n",
       "      <td>0.0</td>\n",
       "      <td>0.0</td>\n",
       "      <td>0</td>\n",
       "      <td>0</td>\n",
       "      <td>0.0</td>\n",
       "      <td>0.0</td>\n",
       "      <td>0</td>\n",
       "      <td>0</td>\n",
       "      <td>DoS Hulk</td>\n",
       "    </tr>\n",
       "    <tr>\n",
       "      <td>74861</td>\n",
       "      <td>80</td>\n",
       "      <td>1550</td>\n",
       "      <td>3</td>\n",
       "      <td>6</td>\n",
       "      <td>372</td>\n",
       "      <td>11595</td>\n",
       "      <td>372</td>\n",
       "      <td>0</td>\n",
       "      <td>124.000000</td>\n",
       "      <td>214.774300</td>\n",
       "      <td>...</td>\n",
       "      <td>32</td>\n",
       "      <td>0.0</td>\n",
       "      <td>0.0</td>\n",
       "      <td>0</td>\n",
       "      <td>0</td>\n",
       "      <td>0.0</td>\n",
       "      <td>0.0</td>\n",
       "      <td>0</td>\n",
       "      <td>0</td>\n",
       "      <td>DoS Hulk</td>\n",
       "    </tr>\n",
       "    <tr>\n",
       "      <td>74862</td>\n",
       "      <td>80</td>\n",
       "      <td>497</td>\n",
       "      <td>4</td>\n",
       "      <td>0</td>\n",
       "      <td>0</td>\n",
       "      <td>0</td>\n",
       "      <td>0</td>\n",
       "      <td>0</td>\n",
       "      <td>0.000000</td>\n",
       "      <td>0.000000</td>\n",
       "      <td>...</td>\n",
       "      <td>32</td>\n",
       "      <td>0.0</td>\n",
       "      <td>0.0</td>\n",
       "      <td>0</td>\n",
       "      <td>0</td>\n",
       "      <td>0.0</td>\n",
       "      <td>0.0</td>\n",
       "      <td>0</td>\n",
       "      <td>0</td>\n",
       "      <td>DoS Hulk</td>\n",
       "    </tr>\n",
       "    <tr>\n",
       "      <td>74863</td>\n",
       "      <td>80</td>\n",
       "      <td>1893</td>\n",
       "      <td>3</td>\n",
       "      <td>7</td>\n",
       "      <td>348</td>\n",
       "      <td>11595</td>\n",
       "      <td>348</td>\n",
       "      <td>0</td>\n",
       "      <td>116.000000</td>\n",
       "      <td>200.917894</td>\n",
       "      <td>...</td>\n",
       "      <td>32</td>\n",
       "      <td>0.0</td>\n",
       "      <td>0.0</td>\n",
       "      <td>0</td>\n",
       "      <td>0</td>\n",
       "      <td>0.0</td>\n",
       "      <td>0.0</td>\n",
       "      <td>0</td>\n",
       "      <td>0</td>\n",
       "      <td>DoS Hulk</td>\n",
       "    </tr>\n",
       "    <tr>\n",
       "      <td>74864</td>\n",
       "      <td>80</td>\n",
       "      <td>1942</td>\n",
       "      <td>3</td>\n",
       "      <td>6</td>\n",
       "      <td>351</td>\n",
       "      <td>11595</td>\n",
       "      <td>351</td>\n",
       "      <td>0</td>\n",
       "      <td>117.000000</td>\n",
       "      <td>202.649945</td>\n",
       "      <td>...</td>\n",
       "      <td>32</td>\n",
       "      <td>0.0</td>\n",
       "      <td>0.0</td>\n",
       "      <td>0</td>\n",
       "      <td>0</td>\n",
       "      <td>0.0</td>\n",
       "      <td>0.0</td>\n",
       "      <td>0</td>\n",
       "      <td>0</td>\n",
       "      <td>DoS Hulk</td>\n",
       "    </tr>\n",
       "  </tbody>\n",
       "</table>\n",
       "<p>5 rows × 79 columns</p>\n",
       "</div>"
      ],
      "text/plain": [
       "       Destination Port  Flow Duration  Total Fwd Packets  \\\n",
       "74860                80           1878                  3   \n",
       "74861                80           1550                  3   \n",
       "74862                80            497                  4   \n",
       "74863                80           1893                  3   \n",
       "74864                80           1942                  3   \n",
       "\n",
       "       Total Backward Packets  Total Length of Fwd Packets  \\\n",
       "74860                       6                          382   \n",
       "74861                       6                          372   \n",
       "74862                       0                            0   \n",
       "74863                       7                          348   \n",
       "74864                       6                          351   \n",
       "\n",
       "       Total Length of Bwd Packets  Fwd Packet Length Max  \\\n",
       "74860                        11595                    382   \n",
       "74861                        11595                    372   \n",
       "74862                            0                      0   \n",
       "74863                        11595                    348   \n",
       "74864                        11595                    351   \n",
       "\n",
       "       Fwd Packet Length Min  Fwd Packet Length Mean  Fwd Packet Length Std  \\\n",
       "74860                      0              127.333333             220.547803   \n",
       "74861                      0              124.000000             214.774300   \n",
       "74862                      0                0.000000               0.000000   \n",
       "74863                      0              116.000000             200.917894   \n",
       "74864                      0              117.000000             202.649945   \n",
       "\n",
       "       ...  min_seg_size_forward  Active Mean  Active Std  Active Max  \\\n",
       "74860  ...                    32          0.0         0.0           0   \n",
       "74861  ...                    32          0.0         0.0           0   \n",
       "74862  ...                    32          0.0         0.0           0   \n",
       "74863  ...                    32          0.0         0.0           0   \n",
       "74864  ...                    32          0.0         0.0           0   \n",
       "\n",
       "      Active Min Idle Mean  Idle Std  Idle Max  Idle Min     Label  \n",
       "74860          0       0.0       0.0         0         0  DoS Hulk  \n",
       "74861          0       0.0       0.0         0         0  DoS Hulk  \n",
       "74862          0       0.0       0.0         0         0  DoS Hulk  \n",
       "74863          0       0.0       0.0         0         0  DoS Hulk  \n",
       "74864          0       0.0       0.0         0         0  DoS Hulk  \n",
       "\n",
       "[5 rows x 79 columns]"
      ]
     },
     "execution_count": 13,
     "metadata": {},
     "output_type": "execute_result"
    }
   ],
   "source": [
    "#copy DoS records into a dataframe\n",
    "\n",
    "#dos_df1 = df[df.Label == 'BENIGN']\n",
    "dos_df2 = df[df.Label == 'DoS Hulk']\n",
    "dos_df3 = df[df.Label == 'DDoS']\n",
    "dos_df4 = df[df.Label == 'DoS GoldenEye']\n",
    "dos_df5 = df[df.Label == 'DoS slowloris']\n",
    "dos_df6 = df[df.Label == 'DoS Slowhttptest']\n",
    "dos_df = pd.concat([dos_df2, dos_df3, dos_df4, dos_df5, dos_df6])\n",
    "dos_df.head()"
   ]
  },
  {
   "cell_type": "code",
   "execution_count": 14,
   "metadata": {},
   "outputs": [
    {
     "data": {
      "text/plain": [
       "DoS Hulk            231073\n",
       "DDoS                128027\n",
       "DoS GoldenEye        10293\n",
       "DoS slowloris         5796\n",
       "DoS Slowhttptest      5499\n",
       "Name: Label, dtype: int64"
      ]
     },
     "execution_count": 14,
     "metadata": {},
     "output_type": "execute_result"
    }
   ],
   "source": [
    "dos_df['Label'].value_counts()"
   ]
  },
  {
   "cell_type": "code",
   "execution_count": 15,
   "metadata": {},
   "outputs": [
    {
     "name": "stdout",
     "output_type": "stream",
     "text": [
      "(380688, 79)\n"
     ]
    }
   ],
   "source": [
    "print(dos_df.shape)"
   ]
  },
  {
   "cell_type": "code",
   "execution_count": 16,
   "metadata": {},
   "outputs": [
    {
     "data": {
      "text/plain": [
       "Destination Port                 int64\n",
       "Flow Duration                    int64\n",
       "Total Fwd Packets                int64\n",
       "Total Backward Packets           int64\n",
       "Total Length of Fwd Packets      int64\n",
       "                                ...   \n",
       "Idle Mean                      float64\n",
       "Idle Std                       float64\n",
       "Idle Max                         int64\n",
       "Idle Min                         int64\n",
       "Label                           object\n",
       "Length: 79, dtype: object"
      ]
     },
     "execution_count": 16,
     "metadata": {},
     "output_type": "execute_result"
    }
   ],
   "source": [
    "dos_df.dtypes"
   ]
  },
  {
   "cell_type": "code",
   "execution_count": 17,
   "metadata": {},
   "outputs": [
    {
     "data": {
      "text/plain": [
       "Destination Port               0\n",
       "Flow Duration                  0\n",
       "Total Fwd Packets              0\n",
       "Total Backward Packets         0\n",
       "Total Length of Fwd Packets    0\n",
       "                              ..\n",
       "Idle Mean                      0\n",
       "Idle Std                       0\n",
       "Idle Max                       0\n",
       "Idle Min                       0\n",
       "Label                          0\n",
       "Length: 79, dtype: int64"
      ]
     },
     "execution_count": 17,
     "metadata": {},
     "output_type": "execute_result"
    }
   ],
   "source": [
    "dos_df.isnull().sum()"
   ]
  },
  {
   "cell_type": "code",
   "execution_count": 18,
   "metadata": {},
   "outputs": [
    {
     "data": {
      "text/html": [
       "<div>\n",
       "<style scoped>\n",
       "    .dataframe tbody tr th:only-of-type {\n",
       "        vertical-align: middle;\n",
       "    }\n",
       "\n",
       "    .dataframe tbody tr th {\n",
       "        vertical-align: top;\n",
       "    }\n",
       "\n",
       "    .dataframe thead th {\n",
       "        text-align: right;\n",
       "    }\n",
       "</style>\n",
       "<table border=\"1\" class=\"dataframe\">\n",
       "  <thead>\n",
       "    <tr style=\"text-align: right;\">\n",
       "      <th></th>\n",
       "      <th>Destination Port</th>\n",
       "      <th>Flow Duration</th>\n",
       "      <th>Total Fwd Packets</th>\n",
       "      <th>Total Backward Packets</th>\n",
       "      <th>Total Length of Fwd Packets</th>\n",
       "      <th>Total Length of Bwd Packets</th>\n",
       "      <th>Fwd Packet Length Max</th>\n",
       "      <th>Fwd Packet Length Min</th>\n",
       "      <th>Fwd Packet Length Mean</th>\n",
       "      <th>Fwd Packet Length Std</th>\n",
       "      <th>...</th>\n",
       "      <th>min_seg_size_forward</th>\n",
       "      <th>Active Mean</th>\n",
       "      <th>Active Std</th>\n",
       "      <th>Active Max</th>\n",
       "      <th>Active Min</th>\n",
       "      <th>Idle Mean</th>\n",
       "      <th>Idle Std</th>\n",
       "      <th>Idle Max</th>\n",
       "      <th>Idle Min</th>\n",
       "      <th>Label</th>\n",
       "    </tr>\n",
       "  </thead>\n",
       "  <tbody>\n",
       "    <tr>\n",
       "      <td>74874</td>\n",
       "      <td>80</td>\n",
       "      <td>0</td>\n",
       "      <td>2</td>\n",
       "      <td>0</td>\n",
       "      <td>0</td>\n",
       "      <td>0</td>\n",
       "      <td>0</td>\n",
       "      <td>0</td>\n",
       "      <td>0.0</td>\n",
       "      <td>0.0</td>\n",
       "      <td>...</td>\n",
       "      <td>32</td>\n",
       "      <td>0.0</td>\n",
       "      <td>0.0</td>\n",
       "      <td>0</td>\n",
       "      <td>0</td>\n",
       "      <td>0.0</td>\n",
       "      <td>0.0</td>\n",
       "      <td>0</td>\n",
       "      <td>0</td>\n",
       "      <td>DoS Hulk</td>\n",
       "    </tr>\n",
       "    <tr>\n",
       "      <td>74996</td>\n",
       "      <td>80</td>\n",
       "      <td>0</td>\n",
       "      <td>2</td>\n",
       "      <td>0</td>\n",
       "      <td>0</td>\n",
       "      <td>0</td>\n",
       "      <td>0</td>\n",
       "      <td>0</td>\n",
       "      <td>0.0</td>\n",
       "      <td>0.0</td>\n",
       "      <td>...</td>\n",
       "      <td>32</td>\n",
       "      <td>0.0</td>\n",
       "      <td>0.0</td>\n",
       "      <td>0</td>\n",
       "      <td>0</td>\n",
       "      <td>0.0</td>\n",
       "      <td>0.0</td>\n",
       "      <td>0</td>\n",
       "      <td>0</td>\n",
       "      <td>DoS Hulk</td>\n",
       "    </tr>\n",
       "    <tr>\n",
       "      <td>75128</td>\n",
       "      <td>80</td>\n",
       "      <td>0</td>\n",
       "      <td>2</td>\n",
       "      <td>0</td>\n",
       "      <td>0</td>\n",
       "      <td>0</td>\n",
       "      <td>0</td>\n",
       "      <td>0</td>\n",
       "      <td>0.0</td>\n",
       "      <td>0.0</td>\n",
       "      <td>...</td>\n",
       "      <td>32</td>\n",
       "      <td>0.0</td>\n",
       "      <td>0.0</td>\n",
       "      <td>0</td>\n",
       "      <td>0</td>\n",
       "      <td>0.0</td>\n",
       "      <td>0.0</td>\n",
       "      <td>0</td>\n",
       "      <td>0</td>\n",
       "      <td>DoS Hulk</td>\n",
       "    </tr>\n",
       "    <tr>\n",
       "      <td>75311</td>\n",
       "      <td>80</td>\n",
       "      <td>0</td>\n",
       "      <td>2</td>\n",
       "      <td>0</td>\n",
       "      <td>0</td>\n",
       "      <td>0</td>\n",
       "      <td>0</td>\n",
       "      <td>0</td>\n",
       "      <td>0.0</td>\n",
       "      <td>0.0</td>\n",
       "      <td>...</td>\n",
       "      <td>32</td>\n",
       "      <td>0.0</td>\n",
       "      <td>0.0</td>\n",
       "      <td>0</td>\n",
       "      <td>0</td>\n",
       "      <td>0.0</td>\n",
       "      <td>0.0</td>\n",
       "      <td>0</td>\n",
       "      <td>0</td>\n",
       "      <td>DoS Hulk</td>\n",
       "    </tr>\n",
       "    <tr>\n",
       "      <td>75535</td>\n",
       "      <td>80</td>\n",
       "      <td>0</td>\n",
       "      <td>2</td>\n",
       "      <td>0</td>\n",
       "      <td>0</td>\n",
       "      <td>0</td>\n",
       "      <td>0</td>\n",
       "      <td>0</td>\n",
       "      <td>0.0</td>\n",
       "      <td>0.0</td>\n",
       "      <td>...</td>\n",
       "      <td>32</td>\n",
       "      <td>0.0</td>\n",
       "      <td>0.0</td>\n",
       "      <td>0</td>\n",
       "      <td>0</td>\n",
       "      <td>0.0</td>\n",
       "      <td>0.0</td>\n",
       "      <td>0</td>\n",
       "      <td>0</td>\n",
       "      <td>DoS Hulk</td>\n",
       "    </tr>\n",
       "    <tr>\n",
       "      <td>...</td>\n",
       "      <td>...</td>\n",
       "      <td>...</td>\n",
       "      <td>...</td>\n",
       "      <td>...</td>\n",
       "      <td>...</td>\n",
       "      <td>...</td>\n",
       "      <td>...</td>\n",
       "      <td>...</td>\n",
       "      <td>...</td>\n",
       "      <td>...</td>\n",
       "      <td>...</td>\n",
       "      <td>...</td>\n",
       "      <td>...</td>\n",
       "      <td>...</td>\n",
       "      <td>...</td>\n",
       "      <td>...</td>\n",
       "      <td>...</td>\n",
       "      <td>...</td>\n",
       "      <td>...</td>\n",
       "      <td>...</td>\n",
       "      <td>...</td>\n",
       "    </tr>\n",
       "    <tr>\n",
       "      <td>326337</td>\n",
       "      <td>80</td>\n",
       "      <td>0</td>\n",
       "      <td>2</td>\n",
       "      <td>0</td>\n",
       "      <td>0</td>\n",
       "      <td>0</td>\n",
       "      <td>0</td>\n",
       "      <td>0</td>\n",
       "      <td>0.0</td>\n",
       "      <td>0.0</td>\n",
       "      <td>...</td>\n",
       "      <td>32</td>\n",
       "      <td>0.0</td>\n",
       "      <td>0.0</td>\n",
       "      <td>0</td>\n",
       "      <td>0</td>\n",
       "      <td>0.0</td>\n",
       "      <td>0.0</td>\n",
       "      <td>0</td>\n",
       "      <td>0</td>\n",
       "      <td>DoS Hulk</td>\n",
       "    </tr>\n",
       "    <tr>\n",
       "      <td>326411</td>\n",
       "      <td>80</td>\n",
       "      <td>0</td>\n",
       "      <td>2</td>\n",
       "      <td>0</td>\n",
       "      <td>0</td>\n",
       "      <td>0</td>\n",
       "      <td>0</td>\n",
       "      <td>0</td>\n",
       "      <td>0.0</td>\n",
       "      <td>0.0</td>\n",
       "      <td>...</td>\n",
       "      <td>32</td>\n",
       "      <td>0.0</td>\n",
       "      <td>0.0</td>\n",
       "      <td>0</td>\n",
       "      <td>0</td>\n",
       "      <td>0.0</td>\n",
       "      <td>0.0</td>\n",
       "      <td>0</td>\n",
       "      <td>0</td>\n",
       "      <td>DoS Hulk</td>\n",
       "    </tr>\n",
       "    <tr>\n",
       "      <td>326451</td>\n",
       "      <td>80</td>\n",
       "      <td>0</td>\n",
       "      <td>2</td>\n",
       "      <td>0</td>\n",
       "      <td>0</td>\n",
       "      <td>0</td>\n",
       "      <td>0</td>\n",
       "      <td>0</td>\n",
       "      <td>0.0</td>\n",
       "      <td>0.0</td>\n",
       "      <td>...</td>\n",
       "      <td>32</td>\n",
       "      <td>0.0</td>\n",
       "      <td>0.0</td>\n",
       "      <td>0</td>\n",
       "      <td>0</td>\n",
       "      <td>0.0</td>\n",
       "      <td>0.0</td>\n",
       "      <td>0</td>\n",
       "      <td>0</td>\n",
       "      <td>DoS Hulk</td>\n",
       "    </tr>\n",
       "    <tr>\n",
       "      <td>326483</td>\n",
       "      <td>80</td>\n",
       "      <td>0</td>\n",
       "      <td>2</td>\n",
       "      <td>0</td>\n",
       "      <td>0</td>\n",
       "      <td>0</td>\n",
       "      <td>0</td>\n",
       "      <td>0</td>\n",
       "      <td>0.0</td>\n",
       "      <td>0.0</td>\n",
       "      <td>...</td>\n",
       "      <td>32</td>\n",
       "      <td>0.0</td>\n",
       "      <td>0.0</td>\n",
       "      <td>0</td>\n",
       "      <td>0</td>\n",
       "      <td>0.0</td>\n",
       "      <td>0.0</td>\n",
       "      <td>0</td>\n",
       "      <td>0</td>\n",
       "      <td>DoS Hulk</td>\n",
       "    </tr>\n",
       "    <tr>\n",
       "      <td>326529</td>\n",
       "      <td>80</td>\n",
       "      <td>0</td>\n",
       "      <td>2</td>\n",
       "      <td>0</td>\n",
       "      <td>0</td>\n",
       "      <td>0</td>\n",
       "      <td>0</td>\n",
       "      <td>0</td>\n",
       "      <td>0.0</td>\n",
       "      <td>0.0</td>\n",
       "      <td>...</td>\n",
       "      <td>32</td>\n",
       "      <td>0.0</td>\n",
       "      <td>0.0</td>\n",
       "      <td>0</td>\n",
       "      <td>0</td>\n",
       "      <td>0.0</td>\n",
       "      <td>0.0</td>\n",
       "      <td>0</td>\n",
       "      <td>0</td>\n",
       "      <td>DoS Hulk</td>\n",
       "    </tr>\n",
       "  </tbody>\n",
       "</table>\n",
       "<p>949 rows × 79 columns</p>\n",
       "</div>"
      ],
      "text/plain": [
       "        Destination Port  Flow Duration  Total Fwd Packets  \\\n",
       "74874                 80              0                  2   \n",
       "74996                 80              0                  2   \n",
       "75128                 80              0                  2   \n",
       "75311                 80              0                  2   \n",
       "75535                 80              0                  2   \n",
       "...                  ...            ...                ...   \n",
       "326337                80              0                  2   \n",
       "326411                80              0                  2   \n",
       "326451                80              0                  2   \n",
       "326483                80              0                  2   \n",
       "326529                80              0                  2   \n",
       "\n",
       "        Total Backward Packets  Total Length of Fwd Packets  \\\n",
       "74874                        0                            0   \n",
       "74996                        0                            0   \n",
       "75128                        0                            0   \n",
       "75311                        0                            0   \n",
       "75535                        0                            0   \n",
       "...                        ...                          ...   \n",
       "326337                       0                            0   \n",
       "326411                       0                            0   \n",
       "326451                       0                            0   \n",
       "326483                       0                            0   \n",
       "326529                       0                            0   \n",
       "\n",
       "        Total Length of Bwd Packets  Fwd Packet Length Max  \\\n",
       "74874                             0                      0   \n",
       "74996                             0                      0   \n",
       "75128                             0                      0   \n",
       "75311                             0                      0   \n",
       "75535                             0                      0   \n",
       "...                             ...                    ...   \n",
       "326337                            0                      0   \n",
       "326411                            0                      0   \n",
       "326451                            0                      0   \n",
       "326483                            0                      0   \n",
       "326529                            0                      0   \n",
       "\n",
       "        Fwd Packet Length Min  Fwd Packet Length Mean  Fwd Packet Length Std  \\\n",
       "74874                       0                     0.0                    0.0   \n",
       "74996                       0                     0.0                    0.0   \n",
       "75128                       0                     0.0                    0.0   \n",
       "75311                       0                     0.0                    0.0   \n",
       "75535                       0                     0.0                    0.0   \n",
       "...                       ...                     ...                    ...   \n",
       "326337                      0                     0.0                    0.0   \n",
       "326411                      0                     0.0                    0.0   \n",
       "326451                      0                     0.0                    0.0   \n",
       "326483                      0                     0.0                    0.0   \n",
       "326529                      0                     0.0                    0.0   \n",
       "\n",
       "        ...  min_seg_size_forward  Active Mean  Active Std  Active Max  \\\n",
       "74874   ...                    32          0.0         0.0           0   \n",
       "74996   ...                    32          0.0         0.0           0   \n",
       "75128   ...                    32          0.0         0.0           0   \n",
       "75311   ...                    32          0.0         0.0           0   \n",
       "75535   ...                    32          0.0         0.0           0   \n",
       "...     ...                   ...          ...         ...         ...   \n",
       "326337  ...                    32          0.0         0.0           0   \n",
       "326411  ...                    32          0.0         0.0           0   \n",
       "326451  ...                    32          0.0         0.0           0   \n",
       "326483  ...                    32          0.0         0.0           0   \n",
       "326529  ...                    32          0.0         0.0           0   \n",
       "\n",
       "       Active Min Idle Mean  Idle Std  Idle Max  Idle Min     Label  \n",
       "74874           0       0.0       0.0         0         0  DoS Hulk  \n",
       "74996           0       0.0       0.0         0         0  DoS Hulk  \n",
       "75128           0       0.0       0.0         0         0  DoS Hulk  \n",
       "75311           0       0.0       0.0         0         0  DoS Hulk  \n",
       "75535           0       0.0       0.0         0         0  DoS Hulk  \n",
       "...           ...       ...       ...       ...       ...       ...  \n",
       "326337          0       0.0       0.0         0         0  DoS Hulk  \n",
       "326411          0       0.0       0.0         0         0  DoS Hulk  \n",
       "326451          0       0.0       0.0         0         0  DoS Hulk  \n",
       "326483          0       0.0       0.0         0         0  DoS Hulk  \n",
       "326529          0       0.0       0.0         0         0  DoS Hulk  \n",
       "\n",
       "[949 rows x 79 columns]"
      ]
     },
     "execution_count": 18,
     "metadata": {},
     "output_type": "execute_result"
    }
   ],
   "source": [
    "#cleaning null values in features\n",
    "dos_df[dos_df.isnull().any(axis=1)]"
   ]
  },
  {
   "cell_type": "code",
   "execution_count": 19,
   "metadata": {},
   "outputs": [],
   "source": [
    "#Label encoding starts here\n",
    "from sklearn.preprocessing import LabelEncoder\n",
    "from sklearn.preprocessing import OneHotEncoder\n",
    "encoder = LabelEncoder()\n",
    "onehot = OneHotEncoder()"
   ]
  },
  {
   "cell_type": "code",
   "execution_count": 20,
   "metadata": {},
   "outputs": [
    {
     "data": {
      "text/html": [
       "<div>\n",
       "<style scoped>\n",
       "    .dataframe tbody tr th:only-of-type {\n",
       "        vertical-align: middle;\n",
       "    }\n",
       "\n",
       "    .dataframe tbody tr th {\n",
       "        vertical-align: top;\n",
       "    }\n",
       "\n",
       "    .dataframe thead th {\n",
       "        text-align: right;\n",
       "    }\n",
       "</style>\n",
       "<table border=\"1\" class=\"dataframe\">\n",
       "  <thead>\n",
       "    <tr style=\"text-align: right;\">\n",
       "      <th></th>\n",
       "      <th>Flow Bytes/s</th>\n",
       "      <th>Flow Packets/s</th>\n",
       "      <th>Label</th>\n",
       "    </tr>\n",
       "  </thead>\n",
       "  <tbody>\n",
       "    <tr>\n",
       "      <td>74860</td>\n",
       "      <td>6.37753e+06</td>\n",
       "      <td>4792.332268</td>\n",
       "      <td>DoS Hulk</td>\n",
       "    </tr>\n",
       "    <tr>\n",
       "      <td>74861</td>\n",
       "      <td>7.72065e+06</td>\n",
       "      <td>5806.451613</td>\n",
       "      <td>DoS Hulk</td>\n",
       "    </tr>\n",
       "    <tr>\n",
       "      <td>74862</td>\n",
       "      <td>0</td>\n",
       "      <td>8048.289738</td>\n",
       "      <td>DoS Hulk</td>\n",
       "    </tr>\n",
       "    <tr>\n",
       "      <td>74863</td>\n",
       "      <td>6.30903e+06</td>\n",
       "      <td>5282.62018</td>\n",
       "      <td>DoS Hulk</td>\n",
       "    </tr>\n",
       "    <tr>\n",
       "      <td>74864</td>\n",
       "      <td>6.15139e+06</td>\n",
       "      <td>4634.397528</td>\n",
       "      <td>DoS Hulk</td>\n",
       "    </tr>\n",
       "  </tbody>\n",
       "</table>\n",
       "</div>"
      ],
      "text/plain": [
       "      Flow Bytes/s Flow Packets/s     Label\n",
       "74860  6.37753e+06    4792.332268  DoS Hulk\n",
       "74861  7.72065e+06    5806.451613  DoS Hulk\n",
       "74862            0    8048.289738  DoS Hulk\n",
       "74863  6.30903e+06     5282.62018  DoS Hulk\n",
       "74864  6.15139e+06    4634.397528  DoS Hulk"
      ]
     },
     "execution_count": 20,
     "metadata": {},
     "output_type": "execute_result"
    }
   ],
   "source": [
    "#finding categorical (dtype: object) features\n",
    "obj_df = dos_df.select_dtypes(include=['object']).copy()\n",
    "obj_df.head()"
   ]
  },
  {
   "cell_type": "code",
   "execution_count": 21,
   "metadata": {},
   "outputs": [
    {
     "name": "stdout",
     "output_type": "stream",
     "text": [
      "DoS Hulk\n",
      "DDoS\n",
      "DoS GoldenEye\n",
      "DoS slowloris\n",
      "DoS Slowhttptest\n"
     ]
    }
   ],
   "source": [
    "Labels = dos_df['Label'].unique()\n",
    "for label in Labels:\n",
    "    print(label)"
   ]
  },
  {
   "cell_type": "code",
   "execution_count": 22,
   "metadata": {},
   "outputs": [],
   "source": [
    "#df['Label'] = encoder.fit_transform(df['Label'])"
   ]
  },
  {
   "cell_type": "code",
   "execution_count": 23,
   "metadata": {},
   "outputs": [],
   "source": [
    "#df.apply(LabelEncoder().fit_transform)"
   ]
  },
  {
   "cell_type": "code",
   "execution_count": 24,
   "metadata": {},
   "outputs": [],
   "source": [
    "#df[\" Flow Packets/s\"].replace(\"Infinity\", 0, inplace=True)\n",
    "#df[\" Flow Packets/s\"].replace(np.nan, 0, inplace=True)\n",
    "#df[' Flow Packets/s']=df[\" Flow Packets/s\"].astype(\"float64\")"
   ]
  },
  {
   "cell_type": "code",
   "execution_count": 25,
   "metadata": {},
   "outputs": [
    {
     "data": {
      "text/plain": [
       "['Flow Packets/s', 'Label', 'Flow Bytes/s']"
      ]
     },
     "execution_count": 25,
     "metadata": {},
     "output_type": "execute_result"
    }
   ],
   "source": [
    "#Finding categorical features\n",
    "num_cols = dos_df._get_numeric_data().columns\n",
    "\n",
    "cate_cols = list(set(dos_df.columns)-set(num_cols))\n",
    "\n",
    "cate_cols"
   ]
  },
  {
   "cell_type": "code",
   "execution_count": 26,
   "metadata": {},
   "outputs": [],
   "source": [
    "dos_df.drop('Flow Packets/s',axis = 1,inplace= True)"
   ]
  },
  {
   "cell_type": "code",
   "execution_count": 27,
   "metadata": {},
   "outputs": [],
   "source": [
    "dos_df.drop('Flow Bytes/s',axis = 1,inplace= True)"
   ]
  },
  {
   "cell_type": "code",
   "execution_count": 28,
   "metadata": {},
   "outputs": [
    {
     "data": {
      "text/plain": [
       "Fwd Avg Packets/Bulk    0.000000e+00\n",
       "CWE Flag Count          0.000000e+00\n",
       "Bwd URG Flags           0.000000e+00\n",
       "Fwd URG Flags           0.000000e+00\n",
       "Bwd PSH Flags           0.000000e+00\n",
       "                            ...     \n",
       "Flow IAT Max            3.734675e+07\n",
       "Idle Max                3.746995e+07\n",
       "Fwd IAT Max             3.754907e+07\n",
       "Flow Duration           4.003870e+07\n",
       "Fwd IAT Total           4.010206e+07\n",
       "Length: 76, dtype: float64"
      ]
     },
     "execution_count": 28,
     "metadata": {},
     "output_type": "execute_result"
    }
   ],
   "source": [
    "df_std = df.std()\n",
    "df_std = df_std.sort_values(ascending = True)\n",
    "df_std"
   ]
  },
  {
   "cell_type": "code",
   "execution_count": 29,
   "metadata": {},
   "outputs": [
    {
     "data": {
      "image/png": "[encoded data removed]",
      "text/plain": [
       "<Figure size 1080x720 with 2 Axes>"
      ]
     },
     "metadata": {
      "needs_background": "light"
     },
     "output_type": "display_data"
    }
   ],
   "source": [
    "dos_df = dos_df.dropna('columns')# drop columns with NaN\n",
    "\n",
    "dos_df = dos_df[[col for col in dos_df if dos_df[col].nunique() > 1]]# keep columns where there are more than 1 unique values\n",
    "\n",
    "corr = dos_df.corr()\n",
    "\n",
    "plt.figure(figsize=(15,10))\n",
    "\n",
    "sns.heatmap(corr)\n",
    "#sns.set(font_scale=1.6)\n",
    "\n",
    "\n",
    "plt.show()\n",
    "\n",
    "#user better statistical tool to perform better feature selection"
   ]
  },
  {
   "cell_type": "code",
   "execution_count": 30,
   "metadata": {},
   "outputs": [
    {
     "data": {
      "text/plain": [
       "(380688, 65)"
      ]
     },
     "execution_count": 30,
     "metadata": {},
     "output_type": "execute_result"
    }
   ],
   "source": [
    "dos_df.shape"
   ]
  },
  {
   "cell_type": "code",
   "execution_count": null,
   "metadata": {},
   "outputs": [],
   "source": []
  },
  {
   "cell_type": "code",
   "execution_count": 31,
   "metadata": {},
   "outputs": [],
   "source": [
    "import sklearn\n",
    "from sklearn.model_selection import train_test_split\n",
    "from sklearn.preprocessing import MinMaxScaler\n",
    "from sklearn.metrics import accuracy_score"
   ]
  },
  {
   "cell_type": "code",
   "execution_count": 32,
   "metadata": {},
   "outputs": [
    {
     "name": "stdout",
     "output_type": "stream",
     "text": [
      "(380688, 65)\n",
      "(255060, 64) (125628, 64)\n",
      "(255060, 1) (125628, 1)\n"
     ]
    }
   ],
   "source": [
    "#df = df.drop(['target',], axis=1)\n",
    "print(dos_df.shape)\n",
    "\n",
    "# Target variable and train set\n",
    "Y = dos_df[['Label']]\n",
    "X = dos_df.drop(['Label',], axis=1)\n",
    "\n",
    "sc = MinMaxScaler()\n",
    "X = sc.fit_transform(X)\n",
    "\n",
    "# Split test and train data \n",
    "X_train, X_test, Y_train, Y_test = train_test_split(X, Y, test_size=0.33, random_state=42)\n",
    "print(X_train.shape, X_test.shape)\n",
    "print(Y_train.shape, Y_test.shape)\n"
   ]
  },
  {
   "cell_type": "code",
   "execution_count": null,
   "metadata": {},
   "outputs": [],
   "source": []
  },
  {
   "cell_type": "code",
   "execution_count": 38,
   "metadata": {},
   "outputs": [],
   "source": [
    "import xgboost as xgb\n",
    "xgb_clf=xgb.XGBClassifier(random_state=1,learning_rate=0.01)\n"
   ]
  },
  {
   "cell_type": "code",
   "execution_count": 39,
   "metadata": {},
   "outputs": [
    {
     "name": "stdout",
     "output_type": "stream",
     "text": [
      "Training time:  48.99655055999756\n"
     ]
    }
   ],
   "source": [
    "start_time = time.time()\n",
    "xgb_clf.fit(X_train, Y_train)\n",
    "end_time = time.time()\n",
    "print(\"Training time: \",end_time-start_time)"
   ]
  },
  {
   "cell_type": "code",
   "execution_count": 40,
   "metadata": {},
   "outputs": [
    {
     "name": "stdout",
     "output_type": "stream",
     "text": [
      "Testing time:  0.401364803314209\n"
     ]
    }
   ],
   "source": [
    "start_time = time.time()\n",
    "Y_test_pred_xgb = xgb_clf.predict(X_test)\n",
    "end_time = time.time()\n",
    "print(\"Testing time: \",end_time-start_time)"
   ]
  },
  {
   "cell_type": "code",
   "execution_count": 41,
   "metadata": {},
   "outputs": [
    {
     "name": "stdout",
     "output_type": "stream",
     "text": [
      "Train score is: 0.9975456755273269\n",
      "Test score is: 0.9973891170758111\n"
     ]
    }
   ],
   "source": [
    "print(\"Train score is:\", xgb_clf.score(X_train, Y_train))\n",
    "print(\"Test score is:\",xgb_clf.score(X_test, Y_test))"
   ]
  },
  {
   "cell_type": "code",
   "execution_count": 42,
   "metadata": {},
   "outputs": [
    {
     "name": "stdout",
     "output_type": "stream",
     "text": [
      "                  precision    recall  f1-score   support\n",
      "\n",
      "            DDoS       1.00      1.00      1.00     42333\n",
      "   DoS GoldenEye       1.00      0.95      0.97      3350\n",
      "        DoS Hulk       1.00      1.00      1.00     76236\n",
      "DoS Slowhttptest       0.99      0.98      0.99      1766\n",
      "   DoS slowloris       0.99      0.94      0.97      1943\n",
      "\n",
      "        accuracy                           1.00    125628\n",
      "       macro avg       1.00      0.97      0.98    125628\n",
      "    weighted avg       1.00      1.00      1.00    125628\n",
      "\n"
     ]
    }
   ],
   "source": [
    "print(sklearn.metrics.classification_report(Y_test, Y_test_pred_xgb))"
   ]
  },
  {
   "cell_type": "code",
   "execution_count": null,
   "metadata": {},
   "outputs": [],
   "source": []
  },
  {
   "cell_type": "code",
   "execution_count": 157,
   "metadata": {},
   "outputs": [],
   "source": [
    "#SupportVectorMachine starts here\n",
    "from sklearn import svm\n",
    "clf=svm.SVC()"
   ]
  },
  {
   "cell_type": "code",
   "execution_count": 158,
   "metadata": {},
   "outputs": [
    {
     "name": "stderr",
     "output_type": "stream",
     "text": [
      "C:\\Users\\Mohab\\Anaconda3\\lib\\site-packages\\sklearn\\svm\\base.py:193: FutureWarning: The default value of gamma will change from 'auto' to 'scale' in version 0.22 to account better for unscaled features. Set gamma explicitly to 'auto' or 'scale' to avoid this warning.\n",
      "  \"avoid this warning.\", FutureWarning)\n"
     ]
    },
    {
     "name": "stdout",
     "output_type": "stream",
     "text": [
      "Training time:  1732.8419575691223\n"
     ]
    }
   ],
   "source": [
    "start_time = time.time()\n",
    "clf.fit(X_train, Y_train.values.ravel())\n",
    "end_time = time.time()\n",
    "print(\"Training time: \",end_time-start_time)"
   ]
  },
  {
   "cell_type": "code",
   "execution_count": 160,
   "metadata": {},
   "outputs": [
    {
     "name": "stdout",
     "output_type": "stream",
     "text": [
      "Testing time:  57.39218616485596\n"
     ]
    }
   ],
   "source": [
    "start_time = time.time()\n",
    "Y_test_pred_SVM = clf.predict(X_test)\n",
    "end_time = time.time()\n",
    "print(\"Testing time: \",end_time-start_time)"
   ]
  },
  {
   "cell_type": "code",
   "execution_count": 161,
   "metadata": {},
   "outputs": [
    {
     "name": "stdout",
     "output_type": "stream",
     "text": [
      "Train score is: 0.9959225280326198\n",
      "Test score is: 0.996019995542395\n"
     ]
    }
   ],
   "source": [
    "print(\"Train score is:\", clf.score(X_train, Y_train))\n",
    "print(\"Test score is:\",clf.score(X_test,Y_test))"
   ]
  },
  {
   "cell_type": "code",
   "execution_count": 163,
   "metadata": {},
   "outputs": [],
   "source": [
    "pred_clf=clf.predict(X_test)"
   ]
  },
  {
   "cell_type": "code",
   "execution_count": 164,
   "metadata": {},
   "outputs": [
    {
     "data": {
      "text/plain": [
       "0.996019995542395"
      ]
     },
     "execution_count": 164,
     "metadata": {},
     "output_type": "execute_result"
    }
   ],
   "source": [
    "sklearn.metrics.accuracy_score(Y_test, Y_test_pred_SVM)"
   ]
  },
  {
   "cell_type": "code",
   "execution_count": 165,
   "metadata": {},
   "outputs": [
    {
     "name": "stdout",
     "output_type": "stream",
     "text": [
      "              precision    recall  f1-score   support\n",
      "\n",
      "           0       1.00      1.00      1.00     42333\n",
      "           1       0.99      0.95      0.97      3350\n",
      "           2       1.00      1.00      1.00     76236\n",
      "           3       0.89      0.92      0.91      1766\n",
      "           4       0.93      0.94      0.94      1943\n",
      "\n",
      "    accuracy                           1.00    125628\n",
      "   macro avg       0.96      0.96      0.96    125628\n",
      "weighted avg       1.00      1.00      1.00    125628\n",
      "\n"
     ]
    }
   ],
   "source": [
    "print(sklearn.metrics.classification_report(Y_test, Y_test_pred_SVM))"
   ]
  },
  {
   "cell_type": "code",
   "execution_count": null,
   "metadata": {},
   "outputs": [],
   "source": []
  },
  {
   "cell_type": "code",
   "execution_count": null,
   "metadata": {},
   "outputs": [],
   "source": []
  },
  {
   "cell_type": "code",
   "execution_count": null,
   "metadata": {},
   "outputs": [],
   "source": []
  },
  {
   "cell_type": "code",
   "execution_count": 88,
   "metadata": {},
   "outputs": [
    {
     "name": "stdout",
     "output_type": "stream",
     "text": [
      "Training time:  175.17535305023193\n"
     ]
    }
   ],
   "source": [
    "from sklearn.neighbors import KNeighborsClassifier\n",
    "knn = KNeighborsClassifier(n_neighbors=3, n_jobs=-1)\n",
    "start_time = time.time()\n",
    "knn.fit(X_train, Y_train.values.ravel())\n",
    "end_time = time.time()\n",
    "print(\"Training time: \",end_time-start_time)"
   ]
  },
  {
   "cell_type": "code",
   "execution_count": 89,
   "metadata": {},
   "outputs": [
    {
     "name": "stdout",
     "output_type": "stream",
     "text": [
      "Testing time:  48.63588309288025\n"
     ]
    }
   ],
   "source": [
    "start_time = time.time()\n",
    "pred_knn=knn.predict(X_test)\n",
    "end_time = time.time()\n",
    "print(\"Testing time: \",end_time-start_time)"
   ]
  },
  {
   "cell_type": "code",
   "execution_count": 90,
   "metadata": {},
   "outputs": [
    {
     "data": {
      "text/plain": [
       "0.9996736396344764"
      ]
     },
     "execution_count": 90,
     "metadata": {},
     "output_type": "execute_result"
    }
   ],
   "source": [
    "sklearn.metrics.accuracy_score(Y_test, pred_knn)"
   ]
  },
  {
   "cell_type": "code",
   "execution_count": 91,
   "metadata": {},
   "outputs": [
    {
     "name": "stdout",
     "output_type": "stream",
     "text": [
      "                  precision    recall  f1-score   support\n",
      "\n",
      "            DDoS       1.00      1.00      1.00     42333\n",
      "   DoS GoldenEye       1.00      1.00      1.00      3350\n",
      "        DoS Hulk       1.00      1.00      1.00     76236\n",
      "DoS Slowhttptest       0.99      0.99      0.99      1766\n",
      "   DoS slowloris       0.99      0.99      0.99      1943\n",
      "\n",
      "        accuracy                           1.00    125628\n",
      "       macro avg       1.00      1.00      1.00    125628\n",
      "    weighted avg       1.00      1.00      1.00    125628\n",
      "\n"
     ]
    }
   ],
   "source": [
    "print(sklearn.metrics.classification_report(Y_test, pred_knn))"
   ]
  },
  {
   "cell_type": "code",
   "execution_count": null,
   "metadata": {},
   "outputs": [],
   "source": []
  },
  {
   "cell_type": "code",
   "execution_count": null,
   "metadata": {},
   "outputs": [],
   "source": []
  },
  {
   "cell_type": "code",
   "execution_count": null,
   "metadata": {},
   "outputs": [],
   "source": []
  },
  {
   "cell_type": "code",
   "execution_count": 83,
   "metadata": {},
   "outputs": [],
   "source": [
    "# Gaussian Naive Bayes\n",
    "from sklearn.naive_bayes import GaussianNB\n",
    "NB = GaussianNB()"
   ]
  },
  {
   "cell_type": "code",
   "execution_count": 84,
   "metadata": {},
   "outputs": [
    {
     "name": "stdout",
     "output_type": "stream",
     "text": [
      "Training time:  0.5895345211029053\n"
     ]
    }
   ],
   "source": [
    "start_time = time.time()\n",
    "NB.fit(X_train, Y_train.values.ravel())\n",
    "end_time = time.time()\n",
    "print(\"Training time: \",end_time-start_time)"
   ]
  },
  {
   "cell_type": "code",
   "execution_count": 85,
   "metadata": {},
   "outputs": [
    {
     "name": "stdout",
     "output_type": "stream",
     "text": [
      "Testing time:  0.4253871440887451\n"
     ]
    }
   ],
   "source": [
    "start_time = time.time()\n",
    "Y_test_pred_NB = NB.predict(X_test)\n",
    "end_time = time.time()\n",
    "print(\"Testing time: \",end_time-start_time)"
   ]
  },
  {
   "cell_type": "code",
   "execution_count": 86,
   "metadata": {},
   "outputs": [
    {
     "name": "stdout",
     "output_type": "stream",
     "text": [
      "Train score is: 0.9555947620167804\n",
      "Test score is: 0.9560368707612953\n"
     ]
    }
   ],
   "source": [
    "print(\"Train score is:\", NB.score(X_train, Y_train))\n",
    "print(\"Test score is:\",NB.score(X_test,Y_test))"
   ]
  },
  {
   "cell_type": "code",
   "execution_count": 87,
   "metadata": {},
   "outputs": [
    {
     "name": "stdout",
     "output_type": "stream",
     "text": [
      "                  precision    recall  f1-score   support\n",
      "\n",
      "            DDoS       0.99      1.00      0.99     42333\n",
      "   DoS GoldenEye       0.45      0.99      0.62      3350\n",
      "        DoS Hulk       1.00      0.94      0.97     76236\n",
      "DoS Slowhttptest       0.87      0.72      0.79      1766\n",
      "   DoS slowloris       0.72      0.92      0.80      1943\n",
      "\n",
      "        accuracy                           0.96    125628\n",
      "       macro avg       0.81      0.91      0.83    125628\n",
      "    weighted avg       0.97      0.96      0.96    125628\n",
      "\n"
     ]
    }
   ],
   "source": [
    "print(sklearn.metrics.classification_report(Y_test, Y_test_pred_NB))"
   ]
  },
  {
   "cell_type": "code",
   "execution_count": null,
   "metadata": {},
   "outputs": [],
   "source": []
  },
  {
   "cell_type": "code",
   "execution_count": null,
   "metadata": {},
   "outputs": [],
   "source": []
  },
  {
   "cell_type": "code",
   "execution_count": null,
   "metadata": {},
   "outputs": [],
   "source": []
  },
  {
   "cell_type": "code",
   "execution_count": 48,
   "metadata": {},
   "outputs": [],
   "source": [
    "#Decision Tree \n",
    "from sklearn.tree import DecisionTreeClassifier\n",
    "DT = DecisionTreeClassifier(criterion=\"entropy\", max_depth = 4)"
   ]
  },
  {
   "cell_type": "code",
   "execution_count": 49,
   "metadata": {},
   "outputs": [
    {
     "name": "stdout",
     "output_type": "stream",
     "text": [
      "Training time:  3.085806131362915\n"
     ]
    }
   ],
   "source": [
    "start_time = time.time()\n",
    "DT.fit(X_train, Y_train.values.ravel())\n",
    "end_time = time.time()\n",
    "print(\"Training time: \",end_time-start_time)"
   ]
  },
  {
   "cell_type": "code",
   "execution_count": 50,
   "metadata": {},
   "outputs": [
    {
     "name": "stdout",
     "output_type": "stream",
     "text": [
      "Testing time:  0.028025150299072266\n"
     ]
    }
   ],
   "source": [
    "start_time = time.time()\n",
    "Y_test_pred_DT = DT.predict(X_test)\n",
    "end_time = time.time()\n",
    "print(\"Testing time: \",end_time-start_time)"
   ]
  },
  {
   "cell_type": "code",
   "execution_count": 51,
   "metadata": {},
   "outputs": [
    {
     "name": "stdout",
     "output_type": "stream",
     "text": [
      "Train score is: 0.9767074413863405\n",
      "Test score is: 0.9771547744133473\n",
      "                  precision    recall  f1-score   support\n",
      "\n",
      "            DDoS       1.00      1.00      1.00     42333\n",
      "   DoS GoldenEye       0.71      0.78      0.74      3350\n",
      "        DoS Hulk       0.98      1.00      0.99     76236\n",
      "DoS Slowhttptest       1.00      0.59      0.74      1766\n",
      "   DoS slowloris       0.58      0.33      0.42      1943\n",
      "\n",
      "        accuracy                           0.98    125628\n",
      "       macro avg       0.86      0.74      0.78    125628\n",
      "    weighted avg       0.98      0.98      0.97    125628\n",
      "\n"
     ]
    }
   ],
   "source": [
    "print(\"Train score is:\", DT.score(X_train, Y_train))\n",
    "print(\"Test score is:\",DT.score(X_test,Y_test))\n",
    "print(sklearn.metrics.classification_report(Y_test, Y_test_pred_DT))"
   ]
  },
  {
   "cell_type": "code",
   "execution_count": null,
   "metadata": {},
   "outputs": [],
   "source": []
  },
  {
   "cell_type": "code",
   "execution_count": null,
   "metadata": {},
   "outputs": [],
   "source": []
  },
  {
   "cell_type": "code",
   "execution_count": null,
   "metadata": {},
   "outputs": [],
   "source": []
  },
  {
   "cell_type": "code",
   "execution_count": 52,
   "metadata": {},
   "outputs": [],
   "source": [
    "#Random Forest\n",
    "from sklearn.ensemble import RandomForestClassifier\n",
    "RF = RandomForestClassifier(n_estimators=30)"
   ]
  },
  {
   "cell_type": "code",
   "execution_count": 53,
   "metadata": {},
   "outputs": [
    {
     "name": "stdout",
     "output_type": "stream",
     "text": [
      "Training time:  9.338491201400757\n"
     ]
    }
   ],
   "source": [
    "start_time = time.time()\n",
    "RF.fit(X_train, Y_train.values.ravel())\n",
    "end_time = time.time()\n",
    "print(\"Training time: \",end_time-start_time)"
   ]
  },
  {
   "cell_type": "code",
   "execution_count": 54,
   "metadata": {},
   "outputs": [
    {
     "name": "stdout",
     "output_type": "stream",
     "text": [
      "Testing time:  0.2792541980743408\n"
     ]
    }
   ],
   "source": [
    "start_time = time.time()\n",
    "Y_test_pred_RF = RF.predict(X_test)\n",
    "end_time = time.time()\n",
    "print(\"Testing time: \",end_time-start_time)"
   ]
  },
  {
   "cell_type": "code",
   "execution_count": 55,
   "metadata": {},
   "outputs": [
    {
     "name": "stdout",
     "output_type": "stream",
     "text": [
      "Train score is: 0.9999529522465302\n",
      "Test score is: 0.9997293596968828\n",
      "                  precision    recall  f1-score   support\n",
      "\n",
      "            DDoS       1.00      1.00      1.00     42333\n",
      "   DoS GoldenEye       1.00      1.00      1.00      3350\n",
      "        DoS Hulk       1.00      1.00      1.00     76236\n",
      "DoS Slowhttptest       1.00      1.00      1.00      1766\n",
      "   DoS slowloris       1.00      1.00      1.00      1943\n",
      "\n",
      "        accuracy                           1.00    125628\n",
      "       macro avg       1.00      1.00      1.00    125628\n",
      "    weighted avg       1.00      1.00      1.00    125628\n",
      "\n"
     ]
    }
   ],
   "source": [
    "print(\"Train score is:\", RF.score(X_train, Y_train))\n",
    "print(\"Test score is:\",RF.score(X_test,Y_test))\n",
    "print(sklearn.metrics.classification_report(Y_test, Y_test_pred_RF))"
   ]
  },
  {
   "cell_type": "code",
   "execution_count": null,
   "metadata": {},
   "outputs": [],
   "source": []
  },
  {
   "cell_type": "code",
   "execution_count": null,
   "metadata": {},
   "outputs": [],
   "source": []
  },
  {
   "cell_type": "code",
   "execution_count": null,
   "metadata": {},
   "outputs": [],
   "source": []
  },
  {
   "cell_type": "code",
   "execution_count": 56,
   "metadata": {},
   "outputs": [],
   "source": [
    "#LOGISTIC REGRESSION\n",
    "\n",
    "from sklearn.linear_model import LogisticRegression\n",
    "LR = LogisticRegression(max_iter=1200000)"
   ]
  },
  {
   "cell_type": "code",
   "execution_count": 57,
   "metadata": {},
   "outputs": [
    {
     "name": "stderr",
     "output_type": "stream",
     "text": [
      "C:\\Users\\Mohab\\Anaconda3\\lib\\site-packages\\sklearn\\linear_model\\logistic.py:432: FutureWarning: Default solver will be changed to 'lbfgs' in 0.22. Specify a solver to silence this warning.\n",
      "  FutureWarning)\n",
      "C:\\Users\\Mohab\\Anaconda3\\lib\\site-packages\\sklearn\\linear_model\\logistic.py:469: FutureWarning: Default multi_class will be changed to 'auto' in 0.22. Specify the multi_class option to silence this warning.\n",
      "  \"this warning.\", FutureWarning)\n"
     ]
    },
    {
     "name": "stdout",
     "output_type": "stream",
     "text": [
      "Training time:  24.273073434829712\n"
     ]
    }
   ],
   "source": [
    "start_time = time.time()\n",
    "LR.fit(X_train, Y_train.values.ravel())\n",
    "end_time = time.time()\n",
    "print(\"Training time: \",end_time-start_time)"
   ]
  },
  {
   "cell_type": "code",
   "execution_count": 58,
   "metadata": {},
   "outputs": [
    {
     "name": "stdout",
     "output_type": "stream",
     "text": [
      "Testing time:  0.0320284366607666\n"
     ]
    }
   ],
   "source": [
    "start_time = time.time()\n",
    "Y_test_pred_LR = LR.predict(X_test)\n",
    "end_time = time.time()\n",
    "\n",
    "print(\"Testing time: \",end_time-start_time)"
   ]
  },
  {
   "cell_type": "code",
   "execution_count": 59,
   "metadata": {},
   "outputs": [
    {
     "name": "stdout",
     "output_type": "stream",
     "text": [
      "Train score is: 0.996087195169764\n",
      "Test score is: 0.9963065558633426\n",
      "                  precision    recall  f1-score   support\n",
      "\n",
      "            DDoS       1.00      1.00      1.00     42333\n",
      "   DoS GoldenEye       0.98      0.97      0.97      3350\n",
      "        DoS Hulk       1.00      1.00      1.00     76236\n",
      "DoS Slowhttptest       0.95      0.93      0.94      1766\n",
      "   DoS slowloris       0.94      0.95      0.95      1943\n",
      "\n",
      "        accuracy                           1.00    125628\n",
      "       macro avg       0.97      0.97      0.97    125628\n",
      "    weighted avg       1.00      1.00      1.00    125628\n",
      "\n"
     ]
    }
   ],
   "source": [
    "print(\"Train score is:\", LR.score(X_train, Y_train))\n",
    "print(\"Test score is:\",LR.score(X_test,Y_test))\n",
    "print(sklearn.metrics.classification_report(Y_test, Y_test_pred_LR))"
   ]
  },
  {
   "cell_type": "code",
   "execution_count": null,
   "metadata": {},
   "outputs": [],
   "source": []
  },
  {
   "cell_type": "code",
   "execution_count": null,
   "metadata": {},
   "outputs": [],
   "source": []
  },
  {
   "cell_type": "code",
   "execution_count": null,
   "metadata": {},
   "outputs": [],
   "source": []
  },
  {
   "cell_type": "code",
   "execution_count": 92,
   "metadata": {},
   "outputs": [],
   "source": [
    "#GRADIENT BOOSTING CLASSIFIER\n",
    "\n",
    "from sklearn.ensemble import GradientBoostingClassifier\n",
    "GBC = GradientBoostingClassifier(random_state=0)"
   ]
  },
  {
   "cell_type": "code",
   "execution_count": 93,
   "metadata": {},
   "outputs": [
    {
     "name": "stdout",
     "output_type": "stream",
     "text": [
      "Training time:  491.7695195674896\n"
     ]
    }
   ],
   "source": [
    "start_time = time.time()\n",
    "GBC.fit(X_train, Y_train.values.ravel())\n",
    "end_time = time.time()\n",
    "\n",
    "print(\"Training time: \",end_time-start_time)"
   ]
  },
  {
   "cell_type": "code",
   "execution_count": 94,
   "metadata": {},
   "outputs": [
    {
     "name": "stdout",
     "output_type": "stream",
     "text": [
      "Testing time:  1.1040050983428955\n"
     ]
    }
   ],
   "source": [
    "start_time = time.time()\n",
    "Y_test_pred_GBC = GBC.predict(X_test)\n",
    "end_time = time.time()\n",
    "\n",
    "print(\"Testing time: \",end_time-start_time)"
   ]
  },
  {
   "cell_type": "code",
   "execution_count": 95,
   "metadata": {},
   "outputs": [
    {
     "name": "stdout",
     "output_type": "stream",
     "text": [
      "Train score is: 0.9998666980318357\n",
      "Test score is: 0.999737319705798\n",
      "                  precision    recall  f1-score   support\n",
      "\n",
      "            DDoS       1.00      1.00      1.00     42333\n",
      "   DoS GoldenEye       1.00      1.00      1.00      3350\n",
      "        DoS Hulk       1.00      1.00      1.00     76236\n",
      "DoS Slowhttptest       1.00      1.00      1.00      1766\n",
      "   DoS slowloris       1.00      1.00      1.00      1943\n",
      "\n",
      "        accuracy                           1.00    125628\n",
      "       macro avg       1.00      1.00      1.00    125628\n",
      "    weighted avg       1.00      1.00      1.00    125628\n",
      "\n"
     ]
    }
   ],
   "source": [
    "print(\"Train score is:\", GBC.score(X_train, Y_train))\n",
    "print(\"Test score is:\", GBC.score(X_test,Y_test))\n",
    "print(sklearn.metrics.classification_report(Y_test, Y_test_pred_GBC))"
   ]
  },
  {
   "cell_type": "code",
   "execution_count": null,
   "metadata": {},
   "outputs": [],
   "source": []
  },
  {
   "cell_type": "code",
   "execution_count": null,
   "metadata": {},
   "outputs": [],
   "source": []
  },
  {
   "cell_type": "code",
   "execution_count": null,
   "metadata": {},
   "outputs": [],
   "source": []
  },
  {
   "cell_type": "code",
   "execution_count": 69,
   "metadata": {},
   "outputs": [],
   "source": [
    "#Keras Classifier\n",
    "from keras.models import Sequential\n",
    "from keras.layers import Dense\n",
    "from keras.wrappers.scikit_learn import KerasClassifier"
   ]
  },
  {
   "cell_type": "code",
   "execution_count": 70,
   "metadata": {},
   "outputs": [],
   "source": [
    "def fun():\n",
    "    model = Sequential()\n",
    "    \n",
    "    #here 30 is output dimension\n",
    "    model.add(Dense(len(dos_df.columns), input_dim =len(dos_df.columns)-1, activation = 'relu',kernel_initializer='random_uniform'))\n",
    "    \n",
    "    #in next layer we do not specify the input_dim as the model is sequential so output of previous layer is input to next layer\n",
    "    model.add(Dense(1,activation='sigmoid',kernel_initializer='random_uniform'))\n",
    "    \n",
    "    #5 classes-normal,dos,probe,r2l,u2r\n",
    "    model.add(Dense(len(dos_df['Label'].unique()),activation='softmax'))\n",
    "    \n",
    "    #loss is categorical_crossentropy which specifies that we have multiple classes\n",
    "    \n",
    "    model.compile(loss ='categorical_crossentropy',optimizer = 'adam',metrics = ['accuracy'])\n",
    "    \n",
    "    return model"
   ]
  },
  {
   "cell_type": "code",
   "execution_count": 71,
   "metadata": {},
   "outputs": [],
   "source": [
    "KC = KerasClassifier(build_fn=fun,epochs=50,batch_size=len(dos_df.columns))"
   ]
  },
  {
   "cell_type": "code",
   "execution_count": 72,
   "metadata": {},
   "outputs": [
    {
     "name": "stdout",
     "output_type": "stream",
     "text": [
      "WARNING:tensorflow:From C:\\Users\\Mohab\\Anaconda3\\lib\\site-packages\\keras\\backend\\tensorflow_backend.py:422: The name tf.global_variables is deprecated. Please use tf.compat.v1.global_variables instead.\n",
      "\n",
      "Epoch 1/50\n",
      "255060/255060 [==============================] - 2s 10us/step - loss: 0.9278 - accuracy: 0.5994\n",
      "Epoch 2/50\n",
      "255060/255060 [==============================] - 2s 9us/step - loss: 0.4699 - accuracy: 0.8363\n",
      "Epoch 3/50\n",
      "255060/255060 [==============================] - 2s 9us/step - loss: 0.3544 - accuracy: 0.9046\n",
      "Epoch 4/50\n",
      "255060/255060 [==============================] - 2s 9us/step - loss: 0.3532 - accuracy: 0.9046\n",
      "Epoch 5/50\n",
      "255060/255060 [==============================] - 2s 9us/step - loss: 0.3529 - accuracy: 0.9046\n",
      "Epoch 6/50\n",
      "255060/255060 [==============================] - 2s 10us/step - loss: 0.3527 - accuracy: 0.9046\n",
      "Epoch 7/50\n",
      "255060/255060 [==============================] - 2s 9us/step - loss: 0.3525 - accuracy: 0.9046\n",
      "Epoch 8/50\n",
      "255060/255060 [==============================] - 2s 9us/step - loss: 0.3523 - accuracy: 0.9046\n",
      "Epoch 9/50\n",
      "255060/255060 [==============================] - 2s 9us/step - loss: 0.3522 - accuracy: 0.9046\n",
      "Epoch 10/50\n",
      "255060/255060 [==============================] - 2s 9us/step - loss: 0.3519 - accuracy: 0.9047\n",
      "Epoch 11/50\n",
      "255060/255060 [==============================] - 2s 9us/step - loss: 0.3507 - accuracy: 0.9049\n",
      "Epoch 12/50\n",
      "255060/255060 [==============================] - 2s 9us/step - loss: 0.3498 - accuracy: 0.9049\n",
      "Epoch 13/50\n",
      "255060/255060 [==============================] - 2s 9us/step - loss: 0.3492 - accuracy: 0.9049\n",
      "Epoch 14/50\n",
      "255060/255060 [==============================] - 2s 9us/step - loss: 0.3324 - accuracy: 0.9105\n",
      "Epoch 15/50\n",
      "255060/255060 [==============================] - 2s 9us/step - loss: 0.1465 - accuracy: 0.9509\n",
      "Epoch 16/50\n",
      "255060/255060 [==============================] - 2s 9us/step - loss: 0.0964 - accuracy: 0.9687\n",
      "Epoch 17/50\n",
      "255060/255060 [==============================] - 2s 9us/step - loss: 0.0827 - accuracy: 0.9699\n",
      "Epoch 18/50\n",
      "255060/255060 [==============================] - 2s 9us/step - loss: 0.0765 - accuracy: 0.9699\n",
      "Epoch 19/50\n",
      "255060/255060 [==============================] - 2s 9us/step - loss: 0.0736 - accuracy: 0.9699\n",
      "Epoch 20/50\n",
      "255060/255060 [==============================] - 2s 9us/step - loss: 0.0720 - accuracy: 0.9699\n",
      "Epoch 21/50\n",
      "255060/255060 [==============================] - 2s 9us/step - loss: 0.0706 - accuracy: 0.9699\n",
      "Epoch 22/50\n",
      "255060/255060 [==============================] - 2s 9us/step - loss: 0.0688 - accuracy: 0.9699\n",
      "Epoch 23/50\n",
      "255060/255060 [==============================] - 2s 9us/step - loss: 0.0663 - accuracy: 0.9705\n",
      "Epoch 24/50\n",
      "255060/255060 [==============================] - 2s 9us/step - loss: 0.0636 - accuracy: 0.9799\n",
      "Epoch 25/50\n",
      "255060/255060 [==============================] - 2s 9us/step - loss: 0.0610 - accuracy: 0.9840\n",
      "Epoch 26/50\n",
      "255060/255060 [==============================] - 2s 9us/step - loss: 0.0586 - accuracy: 0.9845\n",
      "Epoch 27/50\n",
      "255060/255060 [==============================] - 2s 9us/step - loss: 0.0564 - accuracy: 0.9847\n",
      "Epoch 28/50\n",
      "255060/255060 [==============================] - 2s 9us/step - loss: 0.0546 - accuracy: 0.9847\n",
      "Epoch 29/50\n",
      "255060/255060 [==============================] - 2s 9us/step - loss: 0.0528 - accuracy: 0.9847\n",
      "Epoch 30/50\n",
      "255060/255060 [==============================] - 2s 9us/step - loss: 0.0513 - accuracy: 0.9847\n",
      "Epoch 31/50\n",
      "255060/255060 [==============================] - 2s 9us/step - loss: 0.0497 - accuracy: 0.9847\n",
      "Epoch 32/50\n",
      "255060/255060 [==============================] - 2s 9us/step - loss: 0.0482 - accuracy: 0.9848\n",
      "Epoch 33/50\n",
      "255060/255060 [==============================] - 2s 9us/step - loss: 0.0467 - accuracy: 0.9863\n",
      "Epoch 34/50\n",
      "255060/255060 [==============================] - 2s 9us/step - loss: 0.0451 - accuracy: 0.9929\n",
      "Epoch 35/50\n",
      "255060/255060 [==============================] - 2s 9us/step - loss: 0.0438 - accuracy: 0.9969\n",
      "Epoch 36/50\n",
      "255060/255060 [==============================] - 2s 9us/step - loss: 0.0424 - accuracy: 0.9976\n",
      "Epoch 37/50\n",
      "255060/255060 [==============================] - 2s 9us/step - loss: 0.0412 - accuracy: 0.9978\n",
      "Epoch 38/50\n",
      "255060/255060 [==============================] - 2s 9us/step - loss: 0.0400 - accuracy: 0.9979\n",
      "Epoch 39/50\n",
      "255060/255060 [==============================] - 2s 9us/step - loss: 0.0389 - accuracy: 0.9979\n",
      "Epoch 40/50\n",
      "255060/255060 [==============================] - 2s 9us/step - loss: 0.0379 - accuracy: 0.9979\n",
      "Epoch 41/50\n",
      "255060/255060 [==============================] - 2s 9us/step - loss: 0.0369 - accuracy: 0.9981\n",
      "Epoch 42/50\n",
      "255060/255060 [==============================] - 2s 9us/step - loss: 0.0360 - accuracy: 0.9980\n",
      "Epoch 43/50\n",
      "255060/255060 [==============================] - 2s 9us/step - loss: 0.0352 - accuracy: 0.9980\n",
      "Epoch 44/50\n",
      "255060/255060 [==============================] - 2s 9us/step - loss: 0.0345 - accuracy: 0.9980\n",
      "Epoch 45/50\n",
      "255060/255060 [==============================] - 2s 9us/step - loss: 0.0336 - accuracy: 0.9981\n",
      "Epoch 46/50\n",
      "255060/255060 [==============================] - 2s 9us/step - loss: 0.0329 - accuracy: 0.9982\n",
      "Epoch 47/50\n",
      "255060/255060 [==============================] - 2s 9us/step - loss: 0.0323 - accuracy: 0.9981\n",
      "Epoch 48/50\n",
      "255060/255060 [==============================] - 2s 9us/step - loss: 0.0316 - accuracy: 0.9981\n",
      "Epoch 49/50\n",
      "255060/255060 [==============================] - 2s 9us/step - loss: 0.0310 - accuracy: 0.9982\n",
      "Epoch 50/50\n",
      "255060/255060 [==============================] - 2s 9us/step - loss: 0.0304 - accuracy: 0.9982\n"
     ]
    }
   ],
   "source": [
    "start = time.time()\n",
    "KC.fit(X_train, Y_train.values.ravel())\n",
    "end = time.time()"
   ]
  },
  {
   "cell_type": "code",
   "execution_count": 73,
   "metadata": {},
   "outputs": [
    {
     "name": "stdout",
     "output_type": "stream",
     "text": [
      "Training time\n",
      "113.19192433357239\n"
     ]
    }
   ],
   "source": [
    "print('Training time')\n",
    "print((end-start))"
   ]
  },
  {
   "cell_type": "code",
   "execution_count": 74,
   "metadata": {},
   "outputs": [
    {
     "name": "stdout",
     "output_type": "stream",
     "text": [
      "Testing time:  0.36032938957214355\n"
     ]
    }
   ],
   "source": [
    "start_time = time.time()\n",
    "Y_test_pred_KC = KC.predict(X_test)\n",
    "end_time = time.time()\n",
    "print(\"Testing time: \",end_time-start_time)"
   ]
  },
  {
   "cell_type": "code",
   "execution_count": 75,
   "metadata": {},
   "outputs": [
    {
     "name": "stdout",
     "output_type": "stream",
     "text": [
      "0.9984082176742727\n",
      "0.9980975578692648\n"
     ]
    }
   ],
   "source": [
    "start_time = time.time()\n",
    "Y_train_pred_KC = KC.predict(X_train)\n",
    "end_time = time.time()\n",
    "print(accuracy_score(Y_train,Y_train_pred_KC))\n",
    "print(accuracy_score(Y_test,Y_test_pred_KC))"
   ]
  },
  {
   "cell_type": "code",
   "execution_count": 76,
   "metadata": {},
   "outputs": [
    {
     "name": "stdout",
     "output_type": "stream",
     "text": [
      "                  precision    recall  f1-score   support\n",
      "\n",
      "            DDoS       1.00      1.00      1.00     42333\n",
      "   DoS GoldenEye       0.99      0.99      0.99      3350\n",
      "        DoS Hulk       1.00      1.00      1.00     76236\n",
      "DoS Slowhttptest       0.99      0.92      0.95      1766\n",
      "   DoS slowloris       1.00      0.97      0.99      1943\n",
      "\n",
      "        accuracy                           1.00    125628\n",
      "       macro avg       0.99      0.98      0.99    125628\n",
      "    weighted avg       1.00      1.00      1.00    125628\n",
      "\n"
     ]
    }
   ],
   "source": [
    "print(sklearn.metrics.classification_report(Y_test, Y_test_pred_KC))"
   ]
  },
  {
   "cell_type": "code",
   "execution_count": null,
   "metadata": {},
   "outputs": [],
   "source": []
  },
  {
   "cell_type": "code",
   "execution_count": 96,
   "metadata": {},
   "outputs": [],
   "source": [
    "from sklearn.model_selection import cross_val_score\n",
    "from sklearn.ensemble import AdaBoostClassifier"
   ]
  },
  {
   "cell_type": "code",
   "execution_count": 97,
   "metadata": {},
   "outputs": [
    {
     "name": "stderr",
     "output_type": "stream",
     "text": [
      "C:\\Users\\Mohab\\Anaconda3\\lib\\site-packages\\sklearn\\utils\\validation.py:724: DataConversionWarning: A column-vector y was passed when a 1d array was expected. Please change the shape of y to (n_samples, ), for example using ravel().\n",
      "  y = column_or_1d(y, warn=True)\n",
      "C:\\Users\\Mohab\\Anaconda3\\lib\\site-packages\\sklearn\\utils\\validation.py:724: DataConversionWarning: A column-vector y was passed when a 1d array was expected. Please change the shape of y to (n_samples, ), for example using ravel().\n",
      "  y = column_or_1d(y, warn=True)\n",
      "C:\\Users\\Mohab\\Anaconda3\\lib\\site-packages\\sklearn\\utils\\validation.py:724: DataConversionWarning: A column-vector y was passed when a 1d array was expected. Please change the shape of y to (n_samples, ), for example using ravel().\n",
      "  y = column_or_1d(y, warn=True)\n",
      "C:\\Users\\Mohab\\Anaconda3\\lib\\site-packages\\sklearn\\utils\\validation.py:724: DataConversionWarning: A column-vector y was passed when a 1d array was expected. Please change the shape of y to (n_samples, ), for example using ravel().\n",
      "  y = column_or_1d(y, warn=True)\n",
      "C:\\Users\\Mohab\\Anaconda3\\lib\\site-packages\\sklearn\\utils\\validation.py:724: DataConversionWarning: A column-vector y was passed when a 1d array was expected. Please change the shape of y to (n_samples, ), for example using ravel().\n",
      "  y = column_or_1d(y, warn=True)\n"
     ]
    }
   ],
   "source": [
    "adaclf = AdaBoostClassifier(n_estimators=20)\n",
    "scores = cross_val_score(adaclf, X_test, Y_test, cv=5)"
   ]
  },
  {
   "cell_type": "code",
   "execution_count": 98,
   "metadata": {},
   "outputs": [
    {
     "data": {
      "text/plain": [
       "0.7743679933802831"
      ]
     },
     "execution_count": 98,
     "metadata": {},
     "output_type": "execute_result"
    }
   ],
   "source": [
    "scores.mean()"
   ]
  },
  {
   "cell_type": "code",
   "execution_count": 99,
   "metadata": {},
   "outputs": [],
   "source": [
    "#Adaptive Boosting Classifier\n",
    "\n",
    "from sklearn.model_selection import cross_val_score\n",
    "from sklearn.ensemble import AdaBoostClassifier\n",
    "adaclf = AdaBoostClassifier(n_estimators=20)"
   ]
  },
  {
   "cell_type": "code",
   "execution_count": 100,
   "metadata": {},
   "outputs": [
    {
     "name": "stdout",
     "output_type": "stream",
     "text": [
      "Training time:  23.24513864517212\n"
     ]
    }
   ],
   "source": [
    "start_time = time.time()\n",
    "adaclf.fit(X_train, Y_train.values.ravel())\n",
    "end_time = time.time()\n",
    "\n",
    "print(\"Training time: \",end_time-start_time)"
   ]
  },
  {
   "cell_type": "code",
   "execution_count": 101,
   "metadata": {},
   "outputs": [
    {
     "name": "stdout",
     "output_type": "stream",
     "text": [
      "Testing time:  0.7676992416381836\n"
     ]
    }
   ],
   "source": [
    "start_time = time.time()\n",
    "Y_test_pred_ada = adaclf.predict(X_test)\n",
    "end_time = time.time()\n",
    "\n",
    "print(\"Testing time: \",end_time-start_time)"
   ]
  },
  {
   "cell_type": "code",
   "execution_count": 102,
   "metadata": {},
   "outputs": [
    {
     "name": "stdout",
     "output_type": "stream",
     "text": [
      "Train score is: 0.9726887791107974\n",
      "Test score is: 0.9731508899289967\n",
      "                  precision    recall  f1-score   support\n",
      "\n",
      "            DDoS       1.00      0.98      0.99     42333\n",
      "   DoS GoldenEye       0.74      0.76      0.75      3350\n",
      "        DoS Hulk       0.98      0.99      0.99     76236\n",
      "DoS Slowhttptest       0.85      0.81      0.83      1766\n",
      "   DoS slowloris       0.54      0.56      0.55      1943\n",
      "\n",
      "        accuracy                           0.97    125628\n",
      "       macro avg       0.82      0.82      0.82    125628\n",
      "    weighted avg       0.97      0.97      0.97    125628\n",
      "\n"
     ]
    }
   ],
   "source": [
    "print(\"Train score is:\", adaclf.score(X_train, Y_train))\n",
    "print(\"Test score is:\", adaclf.score(X_test,Y_test))\n",
    "print(sklearn.metrics.classification_report(Y_test, Y_test_pred_ada))"
   ]
  },
  {
   "cell_type": "code",
   "execution_count": null,
   "metadata": {},
   "outputs": [],
   "source": []
  },
  {
   "cell_type": "code",
   "execution_count": null,
   "metadata": {},
   "outputs": [],
   "source": []
  },
  {
   "cell_type": "code",
   "execution_count": 113,
   "metadata": {},
   "outputs": [
    {
     "data": {
      "text/html": [
       "<div>\n",
       "<style scoped>\n",
       "    .dataframe tbody tr th:only-of-type {\n",
       "        vertical-align: middle;\n",
       "    }\n",
       "\n",
       "    .dataframe tbody tr th {\n",
       "        vertical-align: top;\n",
       "    }\n",
       "\n",
       "    .dataframe thead th {\n",
       "        text-align: right;\n",
       "    }\n",
       "</style>\n",
       "<table border=\"1\" class=\"dataframe\">\n",
       "  <thead>\n",
       "    <tr style=\"text-align: right;\">\n",
       "      <th></th>\n",
       "      <th>Label</th>\n",
       "    </tr>\n",
       "  </thead>\n",
       "  <tbody>\n",
       "    <tr>\n",
       "      <td>98332</td>\n",
       "      <td>DDoS</td>\n",
       "    </tr>\n",
       "    <tr>\n",
       "      <td>518466</td>\n",
       "      <td>DoS GoldenEye</td>\n",
       "    </tr>\n",
       "    <tr>\n",
       "      <td>39224</td>\n",
       "      <td>DDoS</td>\n",
       "    </tr>\n",
       "    <tr>\n",
       "      <td>55584</td>\n",
       "      <td>DDoS</td>\n",
       "    </tr>\n",
       "    <tr>\n",
       "      <td>140503</td>\n",
       "      <td>DoS Hulk</td>\n",
       "    </tr>\n",
       "  </tbody>\n",
       "</table>\n",
       "</div>"
      ],
      "text/plain": [
       "                Label\n",
       "98332            DDoS\n",
       "518466  DoS GoldenEye\n",
       "39224            DDoS\n",
       "55584            DDoS\n",
       "140503       DoS Hulk"
      ]
     },
     "execution_count": 113,
     "metadata": {},
     "output_type": "execute_result"
    }
   ],
   "source": [
    "Y_train.head()"
   ]
  },
  {
   "cell_type": "code",
   "execution_count": 125,
   "metadata": {},
   "outputs": [
    {
     "data": {
      "text/html": [
       "<div>\n",
       "<style scoped>\n",
       "    .dataframe tbody tr th:only-of-type {\n",
       "        vertical-align: middle;\n",
       "    }\n",
       "\n",
       "    .dataframe tbody tr th {\n",
       "        vertical-align: top;\n",
       "    }\n",
       "\n",
       "    .dataframe thead th {\n",
       "        text-align: right;\n",
       "    }\n",
       "</style>\n",
       "<table border=\"1\" class=\"dataframe\">\n",
       "  <thead>\n",
       "    <tr style=\"text-align: right;\">\n",
       "      <th></th>\n",
       "      <th>Label</th>\n",
       "    </tr>\n",
       "  </thead>\n",
       "  <tbody>\n",
       "    <tr>\n",
       "      <td>113310</td>\n",
       "      <td>DoS Hulk</td>\n",
       "    </tr>\n",
       "    <tr>\n",
       "      <td>161464</td>\n",
       "      <td>DoS Hulk</td>\n",
       "    </tr>\n",
       "    <tr>\n",
       "      <td>169312</td>\n",
       "      <td>DoS Hulk</td>\n",
       "    </tr>\n",
       "    <tr>\n",
       "      <td>73365</td>\n",
       "      <td>DDoS</td>\n",
       "    </tr>\n",
       "    <tr>\n",
       "      <td>45214</td>\n",
       "      <td>DDoS</td>\n",
       "    </tr>\n",
       "  </tbody>\n",
       "</table>\n",
       "</div>"
      ],
      "text/plain": [
       "           Label\n",
       "113310  DoS Hulk\n",
       "161464  DoS Hulk\n",
       "169312  DoS Hulk\n",
       "73365       DDoS\n",
       "45214       DDoS"
      ]
     },
     "execution_count": 125,
     "metadata": {},
     "output_type": "execute_result"
    }
   ],
   "source": [
    "Y_test.head()"
   ]
  },
  {
   "cell_type": "code",
   "execution_count": 126,
   "metadata": {},
   "outputs": [],
   "source": [
    "Y_train_encoded = Y_train\n",
    "Y_test_encoded = Y_test"
   ]
  },
  {
   "cell_type": "code",
   "execution_count": 127,
   "metadata": {},
   "outputs": [
    {
     "name": "stderr",
     "output_type": "stream",
     "text": [
      "C:\\Users\\Mohab\\Anaconda3\\lib\\site-packages\\ipykernel_launcher.py:3: SettingWithCopyWarning: \n",
      "A value is trying to be set on a copy of a slice from a DataFrame.\n",
      "Try using .loc[row_indexer,col_indexer] = value instead\n",
      "\n",
      "See the caveats in the documentation: http://pandas.pydata.org/pandas-docs/stable/user_guide/indexing.html#returning-a-view-versus-a-copy\n",
      "  This is separate from the ipykernel package so we can avoid doing imports until\n",
      "C:\\Users\\Mohab\\Anaconda3\\lib\\site-packages\\ipykernel_launcher.py:4: SettingWithCopyWarning: \n",
      "A value is trying to be set on a copy of a slice from a DataFrame.\n",
      "Try using .loc[row_indexer,col_indexer] = value instead\n",
      "\n",
      "See the caveats in the documentation: http://pandas.pydata.org/pandas-docs/stable/user_guide/indexing.html#returning-a-view-versus-a-copy\n",
      "  after removing the cwd from sys.path.\n"
     ]
    }
   ],
   "source": [
    "from sklearn.preprocessing import LabelEncoder\n",
    "encoder = LabelEncoder()\n",
    "Y_train_encoded['Label'] = encoder.fit_transform(Y_train_encoded['Label'])\n",
    "Y_test_encoded['Label'] = encoder.fit_transform(Y_test_encoded['Label'])"
   ]
  },
  {
   "cell_type": "code",
   "execution_count": 128,
   "metadata": {},
   "outputs": [
    {
     "data": {
      "text/html": [
       "<div>\n",
       "<style scoped>\n",
       "    .dataframe tbody tr th:only-of-type {\n",
       "        vertical-align: middle;\n",
       "    }\n",
       "\n",
       "    .dataframe tbody tr th {\n",
       "        vertical-align: top;\n",
       "    }\n",
       "\n",
       "    .dataframe thead th {\n",
       "        text-align: right;\n",
       "    }\n",
       "</style>\n",
       "<table border=\"1\" class=\"dataframe\">\n",
       "  <thead>\n",
       "    <tr style=\"text-align: right;\">\n",
       "      <th></th>\n",
       "      <th>Label</th>\n",
       "    </tr>\n",
       "  </thead>\n",
       "  <tbody>\n",
       "    <tr>\n",
       "      <td>98332</td>\n",
       "      <td>0</td>\n",
       "    </tr>\n",
       "    <tr>\n",
       "      <td>518466</td>\n",
       "      <td>1</td>\n",
       "    </tr>\n",
       "    <tr>\n",
       "      <td>39224</td>\n",
       "      <td>0</td>\n",
       "    </tr>\n",
       "    <tr>\n",
       "      <td>55584</td>\n",
       "      <td>0</td>\n",
       "    </tr>\n",
       "    <tr>\n",
       "      <td>140503</td>\n",
       "      <td>2</td>\n",
       "    </tr>\n",
       "  </tbody>\n",
       "</table>\n",
       "</div>"
      ],
      "text/plain": [
       "        Label\n",
       "98332       0\n",
       "518466      1\n",
       "39224       0\n",
       "55584       0\n",
       "140503      2"
      ]
     },
     "execution_count": 128,
     "metadata": {},
     "output_type": "execute_result"
    }
   ],
   "source": [
    "Y_train_encoded.head()"
   ]
  },
  {
   "cell_type": "code",
   "execution_count": 129,
   "metadata": {},
   "outputs": [
    {
     "data": {
      "text/html": [
       "<div>\n",
       "<style scoped>\n",
       "    .dataframe tbody tr th:only-of-type {\n",
       "        vertical-align: middle;\n",
       "    }\n",
       "\n",
       "    .dataframe tbody tr th {\n",
       "        vertical-align: top;\n",
       "    }\n",
       "\n",
       "    .dataframe thead th {\n",
       "        text-align: right;\n",
       "    }\n",
       "</style>\n",
       "<table border=\"1\" class=\"dataframe\">\n",
       "  <thead>\n",
       "    <tr style=\"text-align: right;\">\n",
       "      <th></th>\n",
       "      <th>Label</th>\n",
       "    </tr>\n",
       "  </thead>\n",
       "  <tbody>\n",
       "    <tr>\n",
       "      <td>113310</td>\n",
       "      <td>2</td>\n",
       "    </tr>\n",
       "    <tr>\n",
       "      <td>161464</td>\n",
       "      <td>2</td>\n",
       "    </tr>\n",
       "    <tr>\n",
       "      <td>169312</td>\n",
       "      <td>2</td>\n",
       "    </tr>\n",
       "    <tr>\n",
       "      <td>73365</td>\n",
       "      <td>0</td>\n",
       "    </tr>\n",
       "    <tr>\n",
       "      <td>45214</td>\n",
       "      <td>0</td>\n",
       "    </tr>\n",
       "  </tbody>\n",
       "</table>\n",
       "</div>"
      ],
      "text/plain": [
       "        Label\n",
       "113310      2\n",
       "161464      2\n",
       "169312      2\n",
       "73365       0\n",
       "45214       0"
      ]
     },
     "execution_count": 129,
     "metadata": {},
     "output_type": "execute_result"
    }
   ],
   "source": [
    "Y_test_encoded.head()"
   ]
  },
  {
   "cell_type": "code",
   "execution_count": 138,
   "metadata": {},
   "outputs": [],
   "source": [
    "from sklearn.ensemble import VotingClassifier\n",
    "from sklearn.tree import DecisionTreeClassifier\n",
    "from sklearn.ensemble import RandomForestClassifier\n",
    "from sklearn.naive_bayes import GaussianNB"
   ]
  },
  {
   "cell_type": "code",
   "execution_count": 139,
   "metadata": {},
   "outputs": [],
   "source": [
    "estimator = [] \n",
    "estimator.append(('GNB',  GaussianNB())) \n",
    "estimator.append(('RF', RandomForestClassifier(n_estimators=30))) \n",
    "estimator.append(('DT', DecisionTreeClassifier())) \n"
   ]
  },
  {
   "cell_type": "code",
   "execution_count": 140,
   "metadata": {},
   "outputs": [
    {
     "name": "stderr",
     "output_type": "stream",
     "text": [
      "C:\\Users\\Mohab\\Anaconda3\\lib\\site-packages\\sklearn\\preprocessing\\label.py:219: DataConversionWarning: A column-vector y was passed when a 1d array was expected. Please change the shape of y to (n_samples, ), for example using ravel().\n",
      "  y = column_or_1d(y, warn=True)\n",
      "C:\\Users\\Mohab\\Anaconda3\\lib\\site-packages\\sklearn\\preprocessing\\label.py:252: DataConversionWarning: A column-vector y was passed when a 1d array was expected. Please change the shape of y to (n_samples, ), for example using ravel().\n",
      "  y = column_or_1d(y, warn=True)\n"
     ]
    }
   ],
   "source": [
    "# Voting Classifier with hard voting \n",
    "vot_hard = VotingClassifier(estimators = estimator, voting ='hard') \n",
    "vot_hard.fit(X_train, Y_train_encoded) \n",
    "y_pred = vot_hard.predict(X_test) "
   ]
  },
  {
   "cell_type": "code",
   "execution_count": 141,
   "metadata": {},
   "outputs": [
    {
     "name": "stdout",
     "output_type": "stream",
     "text": [
      "Hard Voting Score  0\n"
     ]
    }
   ],
   "source": [
    "# using accuracy_score metric to predict accuracy \n",
    "score = accuracy_score(Y_test_encoded, y_pred) \n",
    "print(\"Hard Voting Score % d\" % score) "
   ]
  },
  {
   "cell_type": "code",
   "execution_count": 142,
   "metadata": {},
   "outputs": [
    {
     "name": "stderr",
     "output_type": "stream",
     "text": [
      "C:\\Users\\Mohab\\Anaconda3\\lib\\site-packages\\sklearn\\preprocessing\\label.py:219: DataConversionWarning: A column-vector y was passed when a 1d array was expected. Please change the shape of y to (n_samples, ), for example using ravel().\n",
      "  y = column_or_1d(y, warn=True)\n",
      "C:\\Users\\Mohab\\Anaconda3\\lib\\site-packages\\sklearn\\preprocessing\\label.py:252: DataConversionWarning: A column-vector y was passed when a 1d array was expected. Please change the shape of y to (n_samples, ), for example using ravel().\n",
      "  y = column_or_1d(y, warn=True)\n"
     ]
    }
   ],
   "source": [
    "# Voting Classifier with soft voting \n",
    "vot_soft = VotingClassifier(estimators = estimator, voting ='soft') \n",
    "vot_soft.fit(X_train, Y_train_encoded) \n",
    "y_pred = vot_soft.predict(X_test) "
   ]
  },
  {
   "cell_type": "code",
   "execution_count": 143,
   "metadata": {},
   "outputs": [
    {
     "name": "stdout",
     "output_type": "stream",
     "text": [
      "Soft Voting Score  0\n"
     ]
    }
   ],
   "source": [
    "# using accuracy_score \n",
    "score = accuracy_score(Y_test_encoded, y_pred) \n",
    "print(\"Soft Voting Score % d\" % score) "
   ]
  },
  {
   "cell_type": "code",
   "execution_count": 144,
   "metadata": {},
   "outputs": [
    {
     "name": "stderr",
     "output_type": "stream",
     "text": [
      "C:\\Users\\Mohab\\Anaconda3\\lib\\site-packages\\sklearn\\utils\\validation.py:724: DataConversionWarning: A column-vector y was passed when a 1d array was expected. Please change the shape of y to (n_samples, ), for example using ravel().\n",
      "  y = column_or_1d(y, warn=True)\n",
      "C:\\Users\\Mohab\\Anaconda3\\lib\\site-packages\\ipykernel_launcher.py:6: DataConversionWarning: A column-vector y was passed when a 1d array was expected. Please change the shape of y to (n_samples,), for example using ravel().\n",
      "  \n"
     ]
    },
    {
     "name": "stdout",
     "output_type": "stream",
     "text": [
      "0.962205877670583\n"
     ]
    }
   ],
   "source": [
    "GNB_clf = GaussianNB()\n",
    "RF_clf = RandomForestClassifier(n_estimators=30)\n",
    "DT_clf = DecisionTreeClassifier()\n",
    "\n",
    "GNB_clf.fit(X_train, Y_train_encoded)\n",
    "RF_clf.fit(X_train, Y_train_encoded)\n",
    "DT_clf.fit(X_train, Y_train_encoded)\n",
    "\n",
    "GNB_pred = GNB_clf.predict(X_test)\n",
    "RF_pred = RF_clf.predict(X_test)\n",
    "DT_pred = DT_clf.predict(X_test)\n",
    "\n",
    "averaged_preds = (GNB_pred + RF_pred + DT_pred)//3\n",
    "acc = accuracy_score(Y_test_encoded, averaged_preds)\n",
    "print(acc)"
   ]
  },
  {
   "cell_type": "code",
   "execution_count": 145,
   "metadata": {},
   "outputs": [
    {
     "name": "stdout",
     "output_type": "stream",
     "text": [
      "Gaussian Naive Bayes: \n",
      "              precision    recall  f1-score   support\n",
      "\n",
      "           0       0.99      1.00      0.99     42333\n",
      "           1       0.45      0.99      0.62      3350\n",
      "           2       1.00      0.94      0.97     76236\n",
      "           3       0.87      0.72      0.79      1766\n",
      "           4       0.72      0.92      0.80      1943\n",
      "\n",
      "    accuracy                           0.96    125628\n",
      "   macro avg       0.81      0.91      0.83    125628\n",
      "weighted avg       0.97      0.96      0.96    125628\n",
      "\n",
      "Random Forest: \n",
      "              precision    recall  f1-score   support\n",
      "\n",
      "           0       1.00      1.00      1.00     42333\n",
      "           1       1.00      1.00      1.00      3350\n",
      "           2       1.00      1.00      1.00     76236\n",
      "           3       1.00      1.00      1.00      1766\n",
      "           4       1.00      1.00      1.00      1943\n",
      "\n",
      "    accuracy                           1.00    125628\n",
      "   macro avg       1.00      1.00      1.00    125628\n",
      "weighted avg       1.00      1.00      1.00    125628\n",
      "\n",
      "Decision Tree: \n",
      "              precision    recall  f1-score   support\n",
      "\n",
      "           0       1.00      1.00      1.00     42333\n",
      "           1       1.00      1.00      1.00      3350\n",
      "           2       1.00      1.00      1.00     76236\n",
      "           3       0.99      0.99      0.99      1766\n",
      "           4       1.00      0.99      1.00      1943\n",
      "\n",
      "    accuracy                           1.00    125628\n",
      "   macro avg       1.00      1.00      1.00    125628\n",
      "weighted avg       1.00      1.00      1.00    125628\n",
      "\n"
     ]
    }
   ],
   "source": [
    "#print(GNB_pred)\n",
    "import sklearn\n",
    "GNB_report = sklearn.metrics.classification_report(Y_test_encoded, GNB_pred)\n",
    "print(\"Gaussian Naive Bayes: \\n\" + GNB_report)\n",
    "RF_report = sklearn.metrics.classification_report(Y_test_encoded, RF_pred)\n",
    "print(\"Random Forest: \\n\" + RF_report)\n",
    "DT_report = sklearn.metrics.classification_report(Y_test_encoded, DT_pred)\n",
    "print(\"Decision Tree: \\n\" + DT_report)"
   ]
  },
  {
   "cell_type": "code",
   "execution_count": 146,
   "metadata": {},
   "outputs": [
    {
     "name": "stdout",
     "output_type": "stream",
     "text": [
      "[2 2 2 ... 2 2 2]\n",
      "[2 2 2 ... 2 2 2]\n",
      "[2 2 2 ... 2 2 2]\n"
     ]
    }
   ],
   "source": [
    "print(GNB_pred)\n",
    "print(RF_pred)\n",
    "print(DT_pred)\n",
    "GNB_pred = encoder.fit_transform(GNB_pred)\n",
    "RF_pred = encoder.fit_transform(RF_pred)\n",
    "DT_pred = encoder.fit_transform(DT_pred)"
   ]
  },
  {
   "cell_type": "code",
   "execution_count": 147,
   "metadata": {},
   "outputs": [
    {
     "name": "stdout",
     "output_type": "stream",
     "text": [
      "[6 6 6 ... 6 6 6]\n"
     ]
    }
   ],
   "source": [
    "averaged_preds = GNB_pred + RF_pred + DT_pred\n",
    "print(averaged_preds)"
   ]
  },
  {
   "cell_type": "code",
   "execution_count": 148,
   "metadata": {},
   "outputs": [
    {
     "name": "stdout",
     "output_type": "stream",
     "text": [
      "0.962205877670583\n"
     ]
    }
   ],
   "source": [
    "averaged_preds = (GNB_pred + RF_pred + DT_pred)//3\n",
    "acc = accuracy_score(Y_test_encoded, averaged_preds)\n",
    "print(acc)"
   ]
  },
  {
   "cell_type": "code",
   "execution_count": 149,
   "metadata": {},
   "outputs": [
    {
     "name": "stderr",
     "output_type": "stream",
     "text": [
      "C:\\Users\\Mohab\\Anaconda3\\lib\\site-packages\\sklearn\\preprocessing\\label.py:219: DataConversionWarning: A column-vector y was passed when a 1d array was expected. Please change the shape of y to (n_samples, ), for example using ravel().\n",
      "  y = column_or_1d(y, warn=True)\n",
      "C:\\Users\\Mohab\\Anaconda3\\lib\\site-packages\\sklearn\\preprocessing\\label.py:252: DataConversionWarning: A column-vector y was passed when a 1d array was expected. Please change the shape of y to (n_samples, ), for example using ravel().\n",
      "  y = column_or_1d(y, warn=True)\n"
     ]
    },
    {
     "name": "stdout",
     "output_type": "stream",
     "text": [
      "Accuracy is: 0.999697519661222\n"
     ]
    }
   ],
   "source": [
    "from sklearn.metrics import accuracy_score, f1_score, log_loss\n",
    "\n",
    "voting_clf = VotingClassifier(estimators=[('GNB', GNB_clf), ('RF', RF_clf), ('DT', DT_clf)], voting='hard')\n",
    "voting_clf.fit(X_train, Y_train_encoded)\n",
    "preds = voting_clf.predict(X_test)\n",
    "acc = accuracy_score(Y_test_encoded, preds)\n",
    "\n",
    "print(\"Accuracy is: \" + str(acc))"
   ]
  },
  {
   "cell_type": "code",
   "execution_count": 150,
   "metadata": {},
   "outputs": [
    {
     "name": "stdout",
     "output_type": "stream",
     "text": [
      "weighted f1: \n",
      "0.9996974167235467\n",
      "\n",
      "macro f1: \n",
      "0.99781391562918\n",
      "\n",
      "micro f1: \n",
      "0.999697519661222\n",
      "\n",
      "Accuracy\n",
      "0.999697519661222\n"
     ]
    }
   ],
   "source": [
    "f1 = f1_score(Y_test_encoded, preds, average='weighted')\n",
    "print(\"weighted f1: \")\n",
    "print(f1)\n",
    "f1 = f1_score(Y_test_encoded, preds, average='macro')\n",
    "print(\"\\nmacro f1: \")\n",
    "print(f1)\n",
    "f1 = f1_score(Y_test_encoded, preds, average='micro')\n",
    "print(\"\\nmicro f1: \")\n",
    "print(f1)\n",
    "acc = accuracy_score(Y_test_encoded, preds)\n",
    "print(\"\\nAccuracy\")\n",
    "print(acc)"
   ]
  },
  {
   "cell_type": "code",
   "execution_count": 151,
   "metadata": {},
   "outputs": [
    {
     "name": "stdout",
     "output_type": "stream",
     "text": [
      "              precision    recall  f1-score   support\n",
      "\n",
      "           0       1.00      1.00      1.00     42333\n",
      "           1       1.00      1.00      1.00      3350\n",
      "           2       1.00      1.00      1.00     76236\n",
      "           3       1.00      0.99      1.00      1766\n",
      "           4       1.00      1.00      1.00      1943\n",
      "\n",
      "    accuracy                           1.00    125628\n",
      "   macro avg       1.00      1.00      1.00    125628\n",
      "weighted avg       1.00      1.00      1.00    125628\n",
      "\n"
     ]
    }
   ],
   "source": [
    "print(sklearn.metrics.classification_report(Y_test_encoded, preds))"
   ]
  },
  {
   "cell_type": "code",
   "execution_count": 152,
   "metadata": {},
   "outputs": [
    {
     "data": {
      "text/plain": [
       "(125628,)"
      ]
     },
     "execution_count": 152,
     "metadata": {},
     "output_type": "execute_result"
    }
   ],
   "source": [
    "preds.shape"
   ]
  },
  {
   "cell_type": "code",
   "execution_count": 153,
   "metadata": {},
   "outputs": [
    {
     "name": "stdout",
     "output_type": "stream",
     "text": [
      "Accuracy is: 0.999697519661222\n",
      "Log Loss is: 0.019832203387413105\n",
      "F1 Score is: 0.9996974167235467\n"
     ]
    }
   ],
   "source": [
    "pred = vot_soft.predict_proba(X_test)\n",
    "l_loss = log_loss(Y_test_encoded, pred)\n",
    "f1 = f1_score(Y_test_encoded, preds, average='weighted')\n",
    "\n",
    "print(\"Accuracy is: \" + str(acc))\n",
    "print(\"Log Loss is: \" + str(l_loss))\n",
    "print(\"F1 Score is: \" + str(f1))"
   ]
  },
  {
   "cell_type": "code",
   "execution_count": null,
   "metadata": {},
   "outputs": [],
   "source": []
  }
 ],
 "metadata": {
  "kernelspec": {
   "display_name": "Python 3",
   "language": "python",
   "name": "python3"
  },
  "language_info": {
   "codemirror_mode": {
    "name": "ipython",
    "version": 3
   },
   "file_extension": ".py",
   "mimetype": "text/x-python",
   "name": "python",
   "nbconvert_exporter": "python",
   "pygments_lexer": "ipython3",
   "version": "3.7.4"
  }
 },
 "nbformat": 4,
 "nbformat_minor": 4
}
