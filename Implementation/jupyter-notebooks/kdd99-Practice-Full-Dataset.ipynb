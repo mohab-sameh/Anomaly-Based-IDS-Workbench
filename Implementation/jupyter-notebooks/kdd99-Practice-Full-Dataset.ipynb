{
 "cells": [
  {
   "cell_type": "code",
   "execution_count": 1,
   "metadata": {},
   "outputs": [],
   "source": [
    "import os\n",
    "import pandas as pd\n",
    "import numpy as np\n",
    "import matplotlib.pyplot as plt\n",
    "import seaborn as sns\n",
    "import time"
   ]
  },
  {
   "cell_type": "code",
   "execution_count": 2,
   "metadata": {},
   "outputs": [
    {
     "name": "stdout",
     "output_type": "stream",
     "text": [
      "42\n"
     ]
    }
   ],
   "source": [
    "cols=\"\"\"duration,\n",
    "protocol_type,\n",
    "service,\n",
    "flag,\n",
    "src_bytes,\n",
    "dst_bytes,\n",
    "land,\n",
    "wrong_fragment,\n",
    "urgent,\n",
    "hot,\n",
    "num_failed_logins,\n",
    "logged_in,\n",
    "num_compromised,\n",
    "root_shell,\n",
    "su_attempted,\n",
    "num_root,\n",
    "num_file_creations,\n",
    "num_shells,\n",
    "num_access_files,\n",
    "num_outbound_cmds,\n",
    "is_host_login,\n",
    "is_guest_login,\n",
    "count,\n",
    "srv_count,\n",
    "serror_rate,\n",
    "srv_serror_rate,\n",
    "rerror_rate,\n",
    "srv_rerror_rate,\n",
    "same_srv_rate,\n",
    "diff_srv_rate,\n",
    "srv_diff_host_rate,\n",
    "dst_host_count,\n",
    "dst_host_srv_count,\n",
    "dst_host_same_srv_rate,\n",
    "dst_host_diff_srv_rate,\n",
    "dst_host_same_src_port_rate,\n",
    "dst_host_srv_diff_host_rate,\n",
    "dst_host_serror_rate,\n",
    "dst_host_srv_serror_rate,\n",
    "dst_host_rerror_rate,\n",
    "dst_host_srv_rerror_rate\"\"\"\n",
    "\n",
    "columns=[]\n",
    "for c in cols.split(','):\n",
    "    if(c.strip()):\n",
    "       columns.append(c.strip())\n",
    "\n",
    "columns.append('target')\n",
    "#print(columns)\n",
    "print(len(columns))"
   ]
  },
  {
   "cell_type": "code",
   "execution_count": 3,
   "metadata": {},
   "outputs": [],
   "source": [
    "attacks_types = {\n",
    "    'normal': 'normal',\n",
    "'back': 'dos',\n",
    "'buffer_overflow': 'u2r',\n",
    "'ftp_write': 'r2l',\n",
    "'guess_passwd': 'r2l',\n",
    "'imap': 'r2l',\n",
    "'ipsweep': 'probe',\n",
    "'land': 'dos',\n",
    "'loadmodule': 'u2r',\n",
    "'multihop': 'r2l',\n",
    "'neptune': 'dos',\n",
    "'nmap': 'probe',\n",
    "'perl': 'u2r',\n",
    "'phf': 'r2l',\n",
    "'pod': 'dos',\n",
    "'portsweep': 'probe',\n",
    "'rootkit': 'u2r',\n",
    "'satan': 'probe',\n",
    "'smurf': 'dos',\n",
    "'spy': 'r2l',\n",
    "'teardrop': 'dos',\n",
    "'warezclient': 'r2l',\n",
    "'warezmaster': 'r2l',\n",
    "}\n"
   ]
  },
  {
   "cell_type": "code",
   "execution_count": 4,
   "metadata": {},
   "outputs": [
    {
     "data": {
      "text/html": [
       "<div>\n",
       "<style scoped>\n",
       "    .dataframe tbody tr th:only-of-type {\n",
       "        vertical-align: middle;\n",
       "    }\n",
       "\n",
       "    .dataframe tbody tr th {\n",
       "        vertical-align: top;\n",
       "    }\n",
       "\n",
       "    .dataframe thead th {\n",
       "        text-align: right;\n",
       "    }\n",
       "</style>\n",
       "<table border=\"1\" class=\"dataframe\">\n",
       "  <thead>\n",
       "    <tr style=\"text-align: right;\">\n",
       "      <th></th>\n",
       "      <th>duration</th>\n",
       "      <th>protocol_type</th>\n",
       "      <th>service</th>\n",
       "      <th>flag</th>\n",
       "      <th>src_bytes</th>\n",
       "      <th>dst_bytes</th>\n",
       "      <th>land</th>\n",
       "      <th>wrong_fragment</th>\n",
       "      <th>urgent</th>\n",
       "      <th>hot</th>\n",
       "      <th>...</th>\n",
       "      <th>dst_host_same_srv_rate</th>\n",
       "      <th>dst_host_diff_srv_rate</th>\n",
       "      <th>dst_host_same_src_port_rate</th>\n",
       "      <th>dst_host_srv_diff_host_rate</th>\n",
       "      <th>dst_host_serror_rate</th>\n",
       "      <th>dst_host_srv_serror_rate</th>\n",
       "      <th>dst_host_rerror_rate</th>\n",
       "      <th>dst_host_srv_rerror_rate</th>\n",
       "      <th>target</th>\n",
       "      <th>Attack Type</th>\n",
       "    </tr>\n",
       "  </thead>\n",
       "  <tbody>\n",
       "    <tr>\n",
       "      <td>0</td>\n",
       "      <td>0</td>\n",
       "      <td>tcp</td>\n",
       "      <td>http</td>\n",
       "      <td>SF</td>\n",
       "      <td>215</td>\n",
       "      <td>45076</td>\n",
       "      <td>0</td>\n",
       "      <td>0</td>\n",
       "      <td>0</td>\n",
       "      <td>0</td>\n",
       "      <td>...</td>\n",
       "      <td>0.0</td>\n",
       "      <td>0.0</td>\n",
       "      <td>0.00</td>\n",
       "      <td>0.0</td>\n",
       "      <td>0.0</td>\n",
       "      <td>0.0</td>\n",
       "      <td>0.0</td>\n",
       "      <td>0.0</td>\n",
       "      <td>normal.</td>\n",
       "      <td>normal</td>\n",
       "    </tr>\n",
       "    <tr>\n",
       "      <td>1</td>\n",
       "      <td>0</td>\n",
       "      <td>tcp</td>\n",
       "      <td>http</td>\n",
       "      <td>SF</td>\n",
       "      <td>162</td>\n",
       "      <td>4528</td>\n",
       "      <td>0</td>\n",
       "      <td>0</td>\n",
       "      <td>0</td>\n",
       "      <td>0</td>\n",
       "      <td>...</td>\n",
       "      <td>1.0</td>\n",
       "      <td>0.0</td>\n",
       "      <td>1.00</td>\n",
       "      <td>0.0</td>\n",
       "      <td>0.0</td>\n",
       "      <td>0.0</td>\n",
       "      <td>0.0</td>\n",
       "      <td>0.0</td>\n",
       "      <td>normal.</td>\n",
       "      <td>normal</td>\n",
       "    </tr>\n",
       "    <tr>\n",
       "      <td>2</td>\n",
       "      <td>0</td>\n",
       "      <td>tcp</td>\n",
       "      <td>http</td>\n",
       "      <td>SF</td>\n",
       "      <td>236</td>\n",
       "      <td>1228</td>\n",
       "      <td>0</td>\n",
       "      <td>0</td>\n",
       "      <td>0</td>\n",
       "      <td>0</td>\n",
       "      <td>...</td>\n",
       "      <td>1.0</td>\n",
       "      <td>0.0</td>\n",
       "      <td>0.50</td>\n",
       "      <td>0.0</td>\n",
       "      <td>0.0</td>\n",
       "      <td>0.0</td>\n",
       "      <td>0.0</td>\n",
       "      <td>0.0</td>\n",
       "      <td>normal.</td>\n",
       "      <td>normal</td>\n",
       "    </tr>\n",
       "    <tr>\n",
       "      <td>3</td>\n",
       "      <td>0</td>\n",
       "      <td>tcp</td>\n",
       "      <td>http</td>\n",
       "      <td>SF</td>\n",
       "      <td>233</td>\n",
       "      <td>2032</td>\n",
       "      <td>0</td>\n",
       "      <td>0</td>\n",
       "      <td>0</td>\n",
       "      <td>0</td>\n",
       "      <td>...</td>\n",
       "      <td>1.0</td>\n",
       "      <td>0.0</td>\n",
       "      <td>0.33</td>\n",
       "      <td>0.0</td>\n",
       "      <td>0.0</td>\n",
       "      <td>0.0</td>\n",
       "      <td>0.0</td>\n",
       "      <td>0.0</td>\n",
       "      <td>normal.</td>\n",
       "      <td>normal</td>\n",
       "    </tr>\n",
       "    <tr>\n",
       "      <td>4</td>\n",
       "      <td>0</td>\n",
       "      <td>tcp</td>\n",
       "      <td>http</td>\n",
       "      <td>SF</td>\n",
       "      <td>239</td>\n",
       "      <td>486</td>\n",
       "      <td>0</td>\n",
       "      <td>0</td>\n",
       "      <td>0</td>\n",
       "      <td>0</td>\n",
       "      <td>...</td>\n",
       "      <td>1.0</td>\n",
       "      <td>0.0</td>\n",
       "      <td>0.25</td>\n",
       "      <td>0.0</td>\n",
       "      <td>0.0</td>\n",
       "      <td>0.0</td>\n",
       "      <td>0.0</td>\n",
       "      <td>0.0</td>\n",
       "      <td>normal.</td>\n",
       "      <td>normal</td>\n",
       "    </tr>\n",
       "  </tbody>\n",
       "</table>\n",
       "<p>5 rows × 43 columns</p>\n",
       "</div>"
      ],
      "text/plain": [
       "   duration protocol_type service flag  src_bytes  dst_bytes  land  \\\n",
       "0         0           tcp    http   SF        215      45076     0   \n",
       "1         0           tcp    http   SF        162       4528     0   \n",
       "2         0           tcp    http   SF        236       1228     0   \n",
       "3         0           tcp    http   SF        233       2032     0   \n",
       "4         0           tcp    http   SF        239        486     0   \n",
       "\n",
       "   wrong_fragment  urgent  hot  ...  dst_host_same_srv_rate  \\\n",
       "0               0       0    0  ...                     0.0   \n",
       "1               0       0    0  ...                     1.0   \n",
       "2               0       0    0  ...                     1.0   \n",
       "3               0       0    0  ...                     1.0   \n",
       "4               0       0    0  ...                     1.0   \n",
       "\n",
       "   dst_host_diff_srv_rate  dst_host_same_src_port_rate  \\\n",
       "0                     0.0                         0.00   \n",
       "1                     0.0                         1.00   \n",
       "2                     0.0                         0.50   \n",
       "3                     0.0                         0.33   \n",
       "4                     0.0                         0.25   \n",
       "\n",
       "   dst_host_srv_diff_host_rate  dst_host_serror_rate  \\\n",
       "0                          0.0                   0.0   \n",
       "1                          0.0                   0.0   \n",
       "2                          0.0                   0.0   \n",
       "3                          0.0                   0.0   \n",
       "4                          0.0                   0.0   \n",
       "\n",
       "   dst_host_srv_serror_rate  dst_host_rerror_rate  dst_host_srv_rerror_rate  \\\n",
       "0                       0.0                   0.0                       0.0   \n",
       "1                       0.0                   0.0                       0.0   \n",
       "2                       0.0                   0.0                       0.0   \n",
       "3                       0.0                   0.0                       0.0   \n",
       "4                       0.0                   0.0                       0.0   \n",
       "\n",
       "    target  Attack Type  \n",
       "0  normal.       normal  \n",
       "1  normal.       normal  \n",
       "2  normal.       normal  \n",
       "3  normal.       normal  \n",
       "4  normal.       normal  \n",
       "\n",
       "[5 rows x 43 columns]"
      ]
     },
     "execution_count": 4,
     "metadata": {},
     "output_type": "execute_result"
    }
   ],
   "source": [
    "path = \"kddcup.data.corrected\"\n",
    "df = pd.read_csv(path,names=columns)\n",
    "\n",
    "#Adding Attack Type column\n",
    "df['Attack Type'] = df.target.apply(lambda r:attacks_types[r[:-1]])\n",
    "\n",
    "df.head()"
   ]
  },
  {
   "cell_type": "code",
   "execution_count": 5,
   "metadata": {},
   "outputs": [
    {
     "data": {
      "text/plain": [
       "(4898431, 43)"
      ]
     },
     "execution_count": 5,
     "metadata": {},
     "output_type": "execute_result"
    }
   ],
   "source": [
    "df.shape"
   ]
  },
  {
   "cell_type": "code",
   "execution_count": 6,
   "metadata": {},
   "outputs": [
    {
     "data": {
      "text/plain": [
       "smurf.              2807886\n",
       "neptune.            1072017\n",
       "normal.              972781\n",
       "satan.                15892\n",
       "ipsweep.              12481\n",
       "portsweep.            10413\n",
       "nmap.                  2316\n",
       "back.                  2203\n",
       "warezclient.           1020\n",
       "teardrop.               979\n",
       "pod.                    264\n",
       "guess_passwd.            53\n",
       "buffer_overflow.         30\n",
       "land.                    21\n",
       "warezmaster.             20\n",
       "imap.                    12\n",
       "rootkit.                 10\n",
       "loadmodule.               9\n",
       "ftp_write.                8\n",
       "multihop.                 7\n",
       "phf.                      4\n",
       "perl.                     3\n",
       "spy.                      2\n",
       "Name: target, dtype: int64"
      ]
     },
     "execution_count": 6,
     "metadata": {},
     "output_type": "execute_result"
    }
   ],
   "source": [
    "df['target'].value_counts()"
   ]
  },
  {
   "cell_type": "code",
   "execution_count": 7,
   "metadata": {},
   "outputs": [
    {
     "data": {
      "text/plain": [
       "dos       3883370\n",
       "normal     972781\n",
       "probe       41102\n",
       "r2l          1126\n",
       "u2r            52\n",
       "Name: Attack Type, dtype: int64"
      ]
     },
     "execution_count": 7,
     "metadata": {},
     "output_type": "execute_result"
    }
   ],
   "source": [
    "df['Attack Type'].value_counts()"
   ]
  },
  {
   "cell_type": "code",
   "execution_count": 8,
   "metadata": {},
   "outputs": [
    {
     "data": {
      "text/plain": [
       "duration                         int64\n",
       "protocol_type                   object\n",
       "service                         object\n",
       "flag                            object\n",
       "src_bytes                        int64\n",
       "dst_bytes                        int64\n",
       "land                             int64\n",
       "wrong_fragment                   int64\n",
       "urgent                           int64\n",
       "hot                              int64\n",
       "num_failed_logins                int64\n",
       "logged_in                        int64\n",
       "num_compromised                  int64\n",
       "root_shell                       int64\n",
       "su_attempted                     int64\n",
       "num_root                         int64\n",
       "num_file_creations               int64\n",
       "num_shells                       int64\n",
       "num_access_files                 int64\n",
       "num_outbound_cmds                int64\n",
       "is_host_login                    int64\n",
       "is_guest_login                   int64\n",
       "count                            int64\n",
       "srv_count                        int64\n",
       "serror_rate                    float64\n",
       "srv_serror_rate                float64\n",
       "rerror_rate                    float64\n",
       "srv_rerror_rate                float64\n",
       "same_srv_rate                  float64\n",
       "diff_srv_rate                  float64\n",
       "srv_diff_host_rate             float64\n",
       "dst_host_count                   int64\n",
       "dst_host_srv_count               int64\n",
       "dst_host_same_srv_rate         float64\n",
       "dst_host_diff_srv_rate         float64\n",
       "dst_host_same_src_port_rate    float64\n",
       "dst_host_srv_diff_host_rate    float64\n",
       "dst_host_serror_rate           float64\n",
       "dst_host_srv_serror_rate       float64\n",
       "dst_host_rerror_rate           float64\n",
       "dst_host_srv_rerror_rate       float64\n",
       "target                          object\n",
       "Attack Type                     object\n",
       "dtype: object"
      ]
     },
     "execution_count": 8,
     "metadata": {},
     "output_type": "execute_result"
    }
   ],
   "source": [
    "df.dtypes"
   ]
  },
  {
   "cell_type": "code",
   "execution_count": 9,
   "metadata": {},
   "outputs": [
    {
     "data": {
      "text/plain": [
       "duration                       0\n",
       "protocol_type                  0\n",
       "service                        0\n",
       "flag                           0\n",
       "src_bytes                      0\n",
       "dst_bytes                      0\n",
       "land                           0\n",
       "wrong_fragment                 0\n",
       "urgent                         0\n",
       "hot                            0\n",
       "num_failed_logins              0\n",
       "logged_in                      0\n",
       "num_compromised                0\n",
       "root_shell                     0\n",
       "su_attempted                   0\n",
       "num_root                       0\n",
       "num_file_creations             0\n",
       "num_shells                     0\n",
       "num_access_files               0\n",
       "num_outbound_cmds              0\n",
       "is_host_login                  0\n",
       "is_guest_login                 0\n",
       "count                          0\n",
       "srv_count                      0\n",
       "serror_rate                    0\n",
       "srv_serror_rate                0\n",
       "rerror_rate                    0\n",
       "srv_rerror_rate                0\n",
       "same_srv_rate                  0\n",
       "diff_srv_rate                  0\n",
       "srv_diff_host_rate             0\n",
       "dst_host_count                 0\n",
       "dst_host_srv_count             0\n",
       "dst_host_same_srv_rate         0\n",
       "dst_host_diff_srv_rate         0\n",
       "dst_host_same_src_port_rate    0\n",
       "dst_host_srv_diff_host_rate    0\n",
       "dst_host_serror_rate           0\n",
       "dst_host_srv_serror_rate       0\n",
       "dst_host_rerror_rate           0\n",
       "dst_host_srv_rerror_rate       0\n",
       "target                         0\n",
       "Attack Type                    0\n",
       "dtype: int64"
      ]
     },
     "execution_count": 9,
     "metadata": {},
     "output_type": "execute_result"
    }
   ],
   "source": [
    "df.isnull().sum()"
   ]
  },
  {
   "cell_type": "code",
   "execution_count": 10,
   "metadata": {},
   "outputs": [
    {
     "data": {
      "text/plain": [
       "['service', 'flag', 'protocol_type']"
      ]
     },
     "execution_count": 10,
     "metadata": {},
     "output_type": "execute_result"
    }
   ],
   "source": [
    "#Finding categorical features\n",
    "num_cols = df._get_numeric_data().columns\n",
    "\n",
    "cate_cols = list(set(df.columns)-set(num_cols))\n",
    "cate_cols.remove('target')\n",
    "cate_cols.remove('Attack Type')\n",
    "\n",
    "cate_cols"
   ]
  },
  {
   "cell_type": "code",
   "execution_count": 11,
   "metadata": {},
   "outputs": [],
   "source": [
    "#Visualization\n",
    "def bar_graph(feature):\n",
    "    df[feature].value_counts().plot(kind=\"bar\")"
   ]
  },
  {
   "cell_type": "code",
   "execution_count": 12,
   "metadata": {},
   "outputs": [
    {
     "data": {
      "image/png": "[encoded data removed]",
      "text/plain": [
       "<Figure size 432x288 with 1 Axes>"
      ]
     },
     "metadata": {
      "needs_background": "light"
     },
     "output_type": "display_data"
    }
   ],
   "source": [
    "bar_graph('protocol_type')"
   ]
  },
  {
   "cell_type": "code",
   "execution_count": 13,
   "metadata": {},
   "outputs": [
    {
     "data": {
      "image/png": "[encoded data removed]",
      "text/plain": [
       "<Figure size 1080x216 with 1 Axes>"
      ]
     },
     "metadata": {
      "needs_background": "light"
     },
     "output_type": "display_data"
    }
   ],
   "source": [
    "plt.figure(figsize=(15,3))\n",
    "bar_graph('service')"
   ]
  },
  {
   "cell_type": "code",
   "execution_count": 14,
   "metadata": {},
   "outputs": [
    {
     "data": {
      "image/png": "[encoded data removed]",
      "text/plain": [
       "<Figure size 432x288 with 1 Axes>"
      ]
     },
     "metadata": {
      "needs_background": "light"
     },
     "output_type": "display_data"
    }
   ],
   "source": [
    "bar_graph('logged_in')"
   ]
  },
  {
   "cell_type": "code",
   "execution_count": 15,
   "metadata": {},
   "outputs": [
    {
     "data": {
      "image/png": "[encoded data removed]",
      "text/plain": [
       "<Figure size 432x288 with 1 Axes>"
      ]
     },
     "metadata": {
      "needs_background": "light"
     },
     "output_type": "display_data"
    }
   ],
   "source": [
    "bar_graph('target')"
   ]
  },
  {
   "cell_type": "code",
   "execution_count": 16,
   "metadata": {},
   "outputs": [
    {
     "data": {
      "image/png": "[encoded data removed]",
      "text/plain": [
       "<Figure size 432x288 with 1 Axes>"
      ]
     },
     "metadata": {
      "needs_background": "light"
     },
     "output_type": "display_data"
    }
   ],
   "source": [
    "bar_graph('Attack Type')"
   ]
  },
  {
   "cell_type": "code",
   "execution_count": 17,
   "metadata": {},
   "outputs": [
    {
     "data": {
      "text/plain": [
       "Index(['duration', 'protocol_type', 'service', 'flag', 'src_bytes',\n",
       "       'dst_bytes', 'land', 'wrong_fragment', 'urgent', 'hot',\n",
       "       'num_failed_logins', 'logged_in', 'num_compromised', 'root_shell',\n",
       "       'su_attempted', 'num_root', 'num_file_creations', 'num_shells',\n",
       "       'num_access_files', 'num_outbound_cmds', 'is_host_login',\n",
       "       'is_guest_login', 'count', 'srv_count', 'serror_rate',\n",
       "       'srv_serror_rate', 'rerror_rate', 'srv_rerror_rate', 'same_srv_rate',\n",
       "       'diff_srv_rate', 'srv_diff_host_rate', 'dst_host_count',\n",
       "       'dst_host_srv_count', 'dst_host_same_srv_rate',\n",
       "       'dst_host_diff_srv_rate', 'dst_host_same_src_port_rate',\n",
       "       'dst_host_srv_diff_host_rate', 'dst_host_serror_rate',\n",
       "       'dst_host_srv_serror_rate', 'dst_host_rerror_rate',\n",
       "       'dst_host_srv_rerror_rate', 'target', 'Attack Type'],\n",
       "      dtype='object')"
      ]
     },
     "execution_count": 17,
     "metadata": {},
     "output_type": "execute_result"
    }
   ],
   "source": [
    "df.columns"
   ]
  },
  {
   "cell_type": "code",
   "execution_count": 21,
   "metadata": {},
   "outputs": [
    {
     "data": {
      "image/png": "[encoded data removed]",
      "text/plain": [
       "<Figure size 1080x864 with 2 Axes>"
      ]
     },
     "metadata": {
      "needs_background": "light"
     },
     "output_type": "display_data"
    }
   ],
   "source": [
    "df = df.dropna('columns')# drop columns with NaN\n",
    "\n",
    "df = df[[col for col in df if df[col].nunique() > 1]]# keep columns where there are more than 1 unique values\n",
    "\n",
    "corr = df.corr()\n",
    "\n",
    "plt.figure(figsize=(15,12))\n",
    "\n",
    "sns.heatmap(corr)\n",
    "#sns.figure.axes[-1].yaxis.label.set_size(20)\n",
    "#sns.set(font_scale=1.4)\n",
    "plt.show()"
   ]
  },
  {
   "cell_type": "code",
   "execution_count": 20,
   "metadata": {},
   "outputs": [
    {
     "data": {
      "text/plain": [
       "is_host_login                       0.000639\n",
       "land                                0.002391\n",
       "urgent                              0.007215\n",
       "num_failed_logins                   0.007299\n",
       "su_attempted                        0.008082\n",
       "root_shell                          0.008257\n",
       "num_shells                          0.008738\n",
       "is_guest_login                      0.028887\n",
       "num_access_files                    0.035510\n",
       "dst_host_srv_diff_host_rate         0.041260\n",
       "wrong_fragment                      0.042854\n",
       "diff_srv_rate                       0.082715\n",
       "dst_host_diff_srv_rate              0.108543\n",
       "num_file_creations                  0.124186\n",
       "srv_diff_host_rate                  0.140560\n",
       "dst_host_rerror_rate                0.230943\n",
       "dst_host_srv_rerror_rate            0.230978\n",
       "rerror_rate                         0.232253\n",
       "srv_rerror_rate                     0.232660\n",
       "logged_in                           0.350612\n",
       "dst_host_serror_rate                0.381838\n",
       "serror_rate                         0.381876\n",
       "dst_host_srv_serror_rate            0.382177\n",
       "srv_serror_rate                     0.382254\n",
       "same_srv_rate                       0.389296\n",
       "dst_host_same_srv_rate              0.411186\n",
       "hot                                 0.468978\n",
       "dst_host_same_src_port_rate         0.480988\n",
       "num_compromised                     3.856481\n",
       "num_root                            3.938075\n",
       "dst_host_count                     64.020937\n",
       "dst_host_srv_count                105.912767\n",
       "count                             211.990782\n",
       "srv_count                         245.992710\n",
       "duration                          723.329811\n",
       "dst_bytes                      645012.333754\n",
       "src_bytes                      941431.074484\n",
       "dtype: float64"
      ]
     },
     "execution_count": 20,
     "metadata": {},
     "output_type": "execute_result"
    }
   ],
   "source": [
    "df_std = df.std()\n",
    "df_std = df_std.sort_values(ascending = True)\n",
    "df_std"
   ]
  },
  {
   "cell_type": "code",
   "execution_count": 21,
   "metadata": {},
   "outputs": [
    {
     "data": {
      "text/plain": [
       "icmp    2833545\n",
       "tcp     1870598\n",
       "udp      194288\n",
       "Name: protocol_type, dtype: int64"
      ]
     },
     "execution_count": 21,
     "metadata": {},
     "output_type": "execute_result"
    }
   ],
   "source": [
    "df['protocol_type'].value_counts()"
   ]
  },
  {
   "cell_type": "code",
   "execution_count": 22,
   "metadata": {},
   "outputs": [],
   "source": [
    "#protocol_type feature mapping\n",
    "pmap = {'icmp':0,'tcp':1,'udp':2}\n",
    "df['protocol_type'] = df['protocol_type'].map(pmap)"
   ]
  },
  {
   "cell_type": "code",
   "execution_count": 23,
   "metadata": {},
   "outputs": [],
   "source": [
    "#flag feature mapping\n",
    "fmap = {'SF':0,'S0':1,'REJ':2,'RSTR':3,'RSTO':4,'SH':5 ,'S1':6 ,'S2':7,'RSTOS0':8,'S3':9 ,'OTH':10}\n",
    "df['flag'] = df['flag'].map(fmap)"
   ]
  },
  {
   "cell_type": "code",
   "execution_count": 24,
   "metadata": {},
   "outputs": [
    {
     "data": {
      "text/html": [
       "<div>\n",
       "<style scoped>\n",
       "    .dataframe tbody tr th:only-of-type {\n",
       "        vertical-align: middle;\n",
       "    }\n",
       "\n",
       "    .dataframe tbody tr th {\n",
       "        vertical-align: top;\n",
       "    }\n",
       "\n",
       "    .dataframe thead th {\n",
       "        text-align: right;\n",
       "    }\n",
       "</style>\n",
       "<table border=\"1\" class=\"dataframe\">\n",
       "  <thead>\n",
       "    <tr style=\"text-align: right;\">\n",
       "      <th></th>\n",
       "      <th>duration</th>\n",
       "      <th>protocol_type</th>\n",
       "      <th>service</th>\n",
       "      <th>flag</th>\n",
       "      <th>src_bytes</th>\n",
       "      <th>dst_bytes</th>\n",
       "      <th>land</th>\n",
       "      <th>wrong_fragment</th>\n",
       "      <th>urgent</th>\n",
       "      <th>hot</th>\n",
       "      <th>...</th>\n",
       "      <th>dst_host_same_srv_rate</th>\n",
       "      <th>dst_host_diff_srv_rate</th>\n",
       "      <th>dst_host_same_src_port_rate</th>\n",
       "      <th>dst_host_srv_diff_host_rate</th>\n",
       "      <th>dst_host_serror_rate</th>\n",
       "      <th>dst_host_srv_serror_rate</th>\n",
       "      <th>dst_host_rerror_rate</th>\n",
       "      <th>dst_host_srv_rerror_rate</th>\n",
       "      <th>target</th>\n",
       "      <th>Attack Type</th>\n",
       "    </tr>\n",
       "  </thead>\n",
       "  <tbody>\n",
       "    <tr>\n",
       "      <td>0</td>\n",
       "      <td>0</td>\n",
       "      <td>1</td>\n",
       "      <td>http</td>\n",
       "      <td>0</td>\n",
       "      <td>215</td>\n",
       "      <td>45076</td>\n",
       "      <td>0</td>\n",
       "      <td>0</td>\n",
       "      <td>0</td>\n",
       "      <td>0</td>\n",
       "      <td>...</td>\n",
       "      <td>0.0</td>\n",
       "      <td>0.0</td>\n",
       "      <td>0.00</td>\n",
       "      <td>0.0</td>\n",
       "      <td>0.0</td>\n",
       "      <td>0.0</td>\n",
       "      <td>0.0</td>\n",
       "      <td>0.0</td>\n",
       "      <td>normal.</td>\n",
       "      <td>normal</td>\n",
       "    </tr>\n",
       "    <tr>\n",
       "      <td>1</td>\n",
       "      <td>0</td>\n",
       "      <td>1</td>\n",
       "      <td>http</td>\n",
       "      <td>0</td>\n",
       "      <td>162</td>\n",
       "      <td>4528</td>\n",
       "      <td>0</td>\n",
       "      <td>0</td>\n",
       "      <td>0</td>\n",
       "      <td>0</td>\n",
       "      <td>...</td>\n",
       "      <td>1.0</td>\n",
       "      <td>0.0</td>\n",
       "      <td>1.00</td>\n",
       "      <td>0.0</td>\n",
       "      <td>0.0</td>\n",
       "      <td>0.0</td>\n",
       "      <td>0.0</td>\n",
       "      <td>0.0</td>\n",
       "      <td>normal.</td>\n",
       "      <td>normal</td>\n",
       "    </tr>\n",
       "    <tr>\n",
       "      <td>2</td>\n",
       "      <td>0</td>\n",
       "      <td>1</td>\n",
       "      <td>http</td>\n",
       "      <td>0</td>\n",
       "      <td>236</td>\n",
       "      <td>1228</td>\n",
       "      <td>0</td>\n",
       "      <td>0</td>\n",
       "      <td>0</td>\n",
       "      <td>0</td>\n",
       "      <td>...</td>\n",
       "      <td>1.0</td>\n",
       "      <td>0.0</td>\n",
       "      <td>0.50</td>\n",
       "      <td>0.0</td>\n",
       "      <td>0.0</td>\n",
       "      <td>0.0</td>\n",
       "      <td>0.0</td>\n",
       "      <td>0.0</td>\n",
       "      <td>normal.</td>\n",
       "      <td>normal</td>\n",
       "    </tr>\n",
       "    <tr>\n",
       "      <td>3</td>\n",
       "      <td>0</td>\n",
       "      <td>1</td>\n",
       "      <td>http</td>\n",
       "      <td>0</td>\n",
       "      <td>233</td>\n",
       "      <td>2032</td>\n",
       "      <td>0</td>\n",
       "      <td>0</td>\n",
       "      <td>0</td>\n",
       "      <td>0</td>\n",
       "      <td>...</td>\n",
       "      <td>1.0</td>\n",
       "      <td>0.0</td>\n",
       "      <td>0.33</td>\n",
       "      <td>0.0</td>\n",
       "      <td>0.0</td>\n",
       "      <td>0.0</td>\n",
       "      <td>0.0</td>\n",
       "      <td>0.0</td>\n",
       "      <td>normal.</td>\n",
       "      <td>normal</td>\n",
       "    </tr>\n",
       "    <tr>\n",
       "      <td>4</td>\n",
       "      <td>0</td>\n",
       "      <td>1</td>\n",
       "      <td>http</td>\n",
       "      <td>0</td>\n",
       "      <td>239</td>\n",
       "      <td>486</td>\n",
       "      <td>0</td>\n",
       "      <td>0</td>\n",
       "      <td>0</td>\n",
       "      <td>0</td>\n",
       "      <td>...</td>\n",
       "      <td>1.0</td>\n",
       "      <td>0.0</td>\n",
       "      <td>0.25</td>\n",
       "      <td>0.0</td>\n",
       "      <td>0.0</td>\n",
       "      <td>0.0</td>\n",
       "      <td>0.0</td>\n",
       "      <td>0.0</td>\n",
       "      <td>normal.</td>\n",
       "      <td>normal</td>\n",
       "    </tr>\n",
       "  </tbody>\n",
       "</table>\n",
       "<p>5 rows × 42 columns</p>\n",
       "</div>"
      ],
      "text/plain": [
       "   duration  protocol_type service  flag  src_bytes  dst_bytes  land  \\\n",
       "0         0              1    http     0        215      45076     0   \n",
       "1         0              1    http     0        162       4528     0   \n",
       "2         0              1    http     0        236       1228     0   \n",
       "3         0              1    http     0        233       2032     0   \n",
       "4         0              1    http     0        239        486     0   \n",
       "\n",
       "   wrong_fragment  urgent  hot  ...  dst_host_same_srv_rate  \\\n",
       "0               0       0    0  ...                     0.0   \n",
       "1               0       0    0  ...                     1.0   \n",
       "2               0       0    0  ...                     1.0   \n",
       "3               0       0    0  ...                     1.0   \n",
       "4               0       0    0  ...                     1.0   \n",
       "\n",
       "   dst_host_diff_srv_rate  dst_host_same_src_port_rate  \\\n",
       "0                     0.0                         0.00   \n",
       "1                     0.0                         1.00   \n",
       "2                     0.0                         0.50   \n",
       "3                     0.0                         0.33   \n",
       "4                     0.0                         0.25   \n",
       "\n",
       "   dst_host_srv_diff_host_rate  dst_host_serror_rate  \\\n",
       "0                          0.0                   0.0   \n",
       "1                          0.0                   0.0   \n",
       "2                          0.0                   0.0   \n",
       "3                          0.0                   0.0   \n",
       "4                          0.0                   0.0   \n",
       "\n",
       "   dst_host_srv_serror_rate  dst_host_rerror_rate  dst_host_srv_rerror_rate  \\\n",
       "0                       0.0                   0.0                       0.0   \n",
       "1                       0.0                   0.0                       0.0   \n",
       "2                       0.0                   0.0                       0.0   \n",
       "3                       0.0                   0.0                       0.0   \n",
       "4                       0.0                   0.0                       0.0   \n",
       "\n",
       "    target  Attack Type  \n",
       "0  normal.       normal  \n",
       "1  normal.       normal  \n",
       "2  normal.       normal  \n",
       "3  normal.       normal  \n",
       "4  normal.       normal  \n",
       "\n",
       "[5 rows x 42 columns]"
      ]
     },
     "execution_count": 24,
     "metadata": {},
     "output_type": "execute_result"
    }
   ],
   "source": [
    "df.head()"
   ]
  },
  {
   "cell_type": "code",
   "execution_count": 25,
   "metadata": {},
   "outputs": [],
   "source": [
    "df.drop('service',axis = 1,inplace= True)"
   ]
  },
  {
   "cell_type": "code",
   "execution_count": 26,
   "metadata": {},
   "outputs": [
    {
     "data": {
      "text/plain": [
       "(4898431, 41)"
      ]
     },
     "execution_count": 26,
     "metadata": {},
     "output_type": "execute_result"
    }
   ],
   "source": [
    "df.shape"
   ]
  },
  {
   "cell_type": "code",
   "execution_count": 27,
   "metadata": {},
   "outputs": [
    {
     "data": {
      "text/html": [
       "<div>\n",
       "<style scoped>\n",
       "    .dataframe tbody tr th:only-of-type {\n",
       "        vertical-align: middle;\n",
       "    }\n",
       "\n",
       "    .dataframe tbody tr th {\n",
       "        vertical-align: top;\n",
       "    }\n",
       "\n",
       "    .dataframe thead th {\n",
       "        text-align: right;\n",
       "    }\n",
       "</style>\n",
       "<table border=\"1\" class=\"dataframe\">\n",
       "  <thead>\n",
       "    <tr style=\"text-align: right;\">\n",
       "      <th></th>\n",
       "      <th>duration</th>\n",
       "      <th>protocol_type</th>\n",
       "      <th>flag</th>\n",
       "      <th>src_bytes</th>\n",
       "      <th>dst_bytes</th>\n",
       "      <th>land</th>\n",
       "      <th>wrong_fragment</th>\n",
       "      <th>urgent</th>\n",
       "      <th>hot</th>\n",
       "      <th>num_failed_logins</th>\n",
       "      <th>...</th>\n",
       "      <th>dst_host_same_srv_rate</th>\n",
       "      <th>dst_host_diff_srv_rate</th>\n",
       "      <th>dst_host_same_src_port_rate</th>\n",
       "      <th>dst_host_srv_diff_host_rate</th>\n",
       "      <th>dst_host_serror_rate</th>\n",
       "      <th>dst_host_srv_serror_rate</th>\n",
       "      <th>dst_host_rerror_rate</th>\n",
       "      <th>dst_host_srv_rerror_rate</th>\n",
       "      <th>target</th>\n",
       "      <th>Attack Type</th>\n",
       "    </tr>\n",
       "  </thead>\n",
       "  <tbody>\n",
       "    <tr>\n",
       "      <td>0</td>\n",
       "      <td>0</td>\n",
       "      <td>1</td>\n",
       "      <td>0</td>\n",
       "      <td>215</td>\n",
       "      <td>45076</td>\n",
       "      <td>0</td>\n",
       "      <td>0</td>\n",
       "      <td>0</td>\n",
       "      <td>0</td>\n",
       "      <td>0</td>\n",
       "      <td>...</td>\n",
       "      <td>0.0</td>\n",
       "      <td>0.0</td>\n",
       "      <td>0.00</td>\n",
       "      <td>0.0</td>\n",
       "      <td>0.0</td>\n",
       "      <td>0.0</td>\n",
       "      <td>0.0</td>\n",
       "      <td>0.0</td>\n",
       "      <td>normal.</td>\n",
       "      <td>normal</td>\n",
       "    </tr>\n",
       "    <tr>\n",
       "      <td>1</td>\n",
       "      <td>0</td>\n",
       "      <td>1</td>\n",
       "      <td>0</td>\n",
       "      <td>162</td>\n",
       "      <td>4528</td>\n",
       "      <td>0</td>\n",
       "      <td>0</td>\n",
       "      <td>0</td>\n",
       "      <td>0</td>\n",
       "      <td>0</td>\n",
       "      <td>...</td>\n",
       "      <td>1.0</td>\n",
       "      <td>0.0</td>\n",
       "      <td>1.00</td>\n",
       "      <td>0.0</td>\n",
       "      <td>0.0</td>\n",
       "      <td>0.0</td>\n",
       "      <td>0.0</td>\n",
       "      <td>0.0</td>\n",
       "      <td>normal.</td>\n",
       "      <td>normal</td>\n",
       "    </tr>\n",
       "    <tr>\n",
       "      <td>2</td>\n",
       "      <td>0</td>\n",
       "      <td>1</td>\n",
       "      <td>0</td>\n",
       "      <td>236</td>\n",
       "      <td>1228</td>\n",
       "      <td>0</td>\n",
       "      <td>0</td>\n",
       "      <td>0</td>\n",
       "      <td>0</td>\n",
       "      <td>0</td>\n",
       "      <td>...</td>\n",
       "      <td>1.0</td>\n",
       "      <td>0.0</td>\n",
       "      <td>0.50</td>\n",
       "      <td>0.0</td>\n",
       "      <td>0.0</td>\n",
       "      <td>0.0</td>\n",
       "      <td>0.0</td>\n",
       "      <td>0.0</td>\n",
       "      <td>normal.</td>\n",
       "      <td>normal</td>\n",
       "    </tr>\n",
       "    <tr>\n",
       "      <td>3</td>\n",
       "      <td>0</td>\n",
       "      <td>1</td>\n",
       "      <td>0</td>\n",
       "      <td>233</td>\n",
       "      <td>2032</td>\n",
       "      <td>0</td>\n",
       "      <td>0</td>\n",
       "      <td>0</td>\n",
       "      <td>0</td>\n",
       "      <td>0</td>\n",
       "      <td>...</td>\n",
       "      <td>1.0</td>\n",
       "      <td>0.0</td>\n",
       "      <td>0.33</td>\n",
       "      <td>0.0</td>\n",
       "      <td>0.0</td>\n",
       "      <td>0.0</td>\n",
       "      <td>0.0</td>\n",
       "      <td>0.0</td>\n",
       "      <td>normal.</td>\n",
       "      <td>normal</td>\n",
       "    </tr>\n",
       "    <tr>\n",
       "      <td>4</td>\n",
       "      <td>0</td>\n",
       "      <td>1</td>\n",
       "      <td>0</td>\n",
       "      <td>239</td>\n",
       "      <td>486</td>\n",
       "      <td>0</td>\n",
       "      <td>0</td>\n",
       "      <td>0</td>\n",
       "      <td>0</td>\n",
       "      <td>0</td>\n",
       "      <td>...</td>\n",
       "      <td>1.0</td>\n",
       "      <td>0.0</td>\n",
       "      <td>0.25</td>\n",
       "      <td>0.0</td>\n",
       "      <td>0.0</td>\n",
       "      <td>0.0</td>\n",
       "      <td>0.0</td>\n",
       "      <td>0.0</td>\n",
       "      <td>normal.</td>\n",
       "      <td>normal</td>\n",
       "    </tr>\n",
       "  </tbody>\n",
       "</table>\n",
       "<p>5 rows × 41 columns</p>\n",
       "</div>"
      ],
      "text/plain": [
       "   duration  protocol_type  flag  src_bytes  dst_bytes  land  wrong_fragment  \\\n",
       "0         0              1     0        215      45076     0               0   \n",
       "1         0              1     0        162       4528     0               0   \n",
       "2         0              1     0        236       1228     0               0   \n",
       "3         0              1     0        233       2032     0               0   \n",
       "4         0              1     0        239        486     0               0   \n",
       "\n",
       "   urgent  hot  num_failed_logins  ...  dst_host_same_srv_rate  \\\n",
       "0       0    0                  0  ...                     0.0   \n",
       "1       0    0                  0  ...                     1.0   \n",
       "2       0    0                  0  ...                     1.0   \n",
       "3       0    0                  0  ...                     1.0   \n",
       "4       0    0                  0  ...                     1.0   \n",
       "\n",
       "   dst_host_diff_srv_rate  dst_host_same_src_port_rate  \\\n",
       "0                     0.0                         0.00   \n",
       "1                     0.0                         1.00   \n",
       "2                     0.0                         0.50   \n",
       "3                     0.0                         0.33   \n",
       "4                     0.0                         0.25   \n",
       "\n",
       "   dst_host_srv_diff_host_rate  dst_host_serror_rate  \\\n",
       "0                          0.0                   0.0   \n",
       "1                          0.0                   0.0   \n",
       "2                          0.0                   0.0   \n",
       "3                          0.0                   0.0   \n",
       "4                          0.0                   0.0   \n",
       "\n",
       "   dst_host_srv_serror_rate  dst_host_rerror_rate  dst_host_srv_rerror_rate  \\\n",
       "0                       0.0                   0.0                       0.0   \n",
       "1                       0.0                   0.0                       0.0   \n",
       "2                       0.0                   0.0                       0.0   \n",
       "3                       0.0                   0.0                       0.0   \n",
       "4                       0.0                   0.0                       0.0   \n",
       "\n",
       "    target  Attack Type  \n",
       "0  normal.       normal  \n",
       "1  normal.       normal  \n",
       "2  normal.       normal  \n",
       "3  normal.       normal  \n",
       "4  normal.       normal  \n",
       "\n",
       "[5 rows x 41 columns]"
      ]
     },
     "execution_count": 27,
     "metadata": {},
     "output_type": "execute_result"
    }
   ],
   "source": [
    "df.head()"
   ]
  },
  {
   "cell_type": "markdown",
   "metadata": {
    "jupyter": {
     "outputs_hidden": true
    }
   },
   "source": [
    "df.head"
   ]
  },
  {
   "cell_type": "code",
   "execution_count": null,
   "metadata": {},
   "outputs": [],
   "source": []
  },
  {
   "cell_type": "raw",
   "metadata": {},
   "source": [
    "MODELLING STARTS HERE"
   ]
  },
  {
   "cell_type": "code",
   "execution_count": 28,
   "metadata": {},
   "outputs": [],
   "source": [
    "from sklearn.model_selection import train_test_split\n",
    "from sklearn.preprocessing import MinMaxScaler\n",
    "from sklearn.metrics import accuracy_score"
   ]
  },
  {
   "cell_type": "code",
   "execution_count": 29,
   "metadata": {},
   "outputs": [
    {
     "name": "stdout",
     "output_type": "stream",
     "text": [
      "(4898431, 40)\n",
      "(3281948, 39) (1616483, 39)\n",
      "(3281948, 1) (1616483, 1)\n"
     ]
    }
   ],
   "source": [
    "df = df.drop(['target',], axis=1)\n",
    "print(df.shape)\n",
    "\n",
    "# Target variable and train set\n",
    "Y = df[['Attack Type']]\n",
    "X = df.drop(['Attack Type',], axis=1)\n",
    "\n",
    "sc = MinMaxScaler()\n",
    "X = sc.fit_transform(X)\n",
    "\n",
    "# Split test and train data \n",
    "X_train, X_test, Y_train, Y_test = train_test_split(X, Y, test_size=0.33, random_state=42)\n",
    "print(X_train.shape, X_test.shape)\n",
    "print(Y_train.shape, Y_test.shape)"
   ]
  },
  {
   "cell_type": "code",
   "execution_count": 30,
   "metadata": {},
   "outputs": [],
   "source": [
    "#KNearestNeighbor starts here\n",
    "#from sklearn.neighbors import KNeighborsClassifier\n",
    "\n",
    "#knn = KNeighborsClassifier(n_neighbors=3, n_jobs=-1)\n",
    "\n",
    "#start_time = time.time()\n",
    "#knn.fit(X_train, Y_train.values.ravel())\n",
    "#end_time = time.time()\n",
    "#print(\"Training time: \",end_time-start_time)"
   ]
  },
  {
   "cell_type": "code",
   "execution_count": 31,
   "metadata": {},
   "outputs": [],
   "source": [
    "#KNN testing time\n",
    "#start_time = time.time()\n",
    "#Y_test_pred1 = knn.predict(X_test)\n",
    "#end_time = time.time()\n",
    "#print(\"Testing time: \",end_time-start_time)"
   ]
  },
  {
   "cell_type": "code",
   "execution_count": 32,
   "metadata": {},
   "outputs": [],
   "source": [
    "#KNN Training time\n",
    "#print(\"Train score is:\", knn.score(X_train, Y_train))\n",
    "#print(\"Test score is:\",knn.score(X_test,Y_test))"
   ]
  },
  {
   "cell_type": "code",
   "execution_count": null,
   "metadata": {},
   "outputs": [],
   "source": []
  },
  {
   "cell_type": "code",
   "execution_count": null,
   "metadata": {},
   "outputs": [],
   "source": []
  },
  {
   "cell_type": "code",
   "execution_count": null,
   "metadata": {},
   "outputs": [],
   "source": []
  },
  {
   "cell_type": "code",
   "execution_count": null,
   "metadata": {},
   "outputs": [],
   "source": []
  },
  {
   "cell_type": "code",
   "execution_count": 33,
   "metadata": {},
   "outputs": [
    {
     "data": {
      "text/plain": [
       "(4898431, 40)"
      ]
     },
     "execution_count": 33,
     "metadata": {},
     "output_type": "execute_result"
    }
   ],
   "source": [
    "df.shape"
   ]
  },
  {
   "cell_type": "code",
   "execution_count": 34,
   "metadata": {},
   "outputs": [],
   "source": [
    "import sklearn\n",
    "from sklearn import svm\n",
    "from sklearn.svm import SVC\n",
    "from sklearn.model_selection import train_test_split"
   ]
  },
  {
   "cell_type": "code",
   "execution_count": 35,
   "metadata": {},
   "outputs": [],
   "source": [
    "x=df.iloc[:,0:39]\n",
    "y=df.iloc[:,[-1]]"
   ]
  },
  {
   "cell_type": "code",
   "execution_count": 36,
   "metadata": {},
   "outputs": [
    {
     "data": {
      "text/html": [
       "<div>\n",
       "<style scoped>\n",
       "    .dataframe tbody tr th:only-of-type {\n",
       "        vertical-align: middle;\n",
       "    }\n",
       "\n",
       "    .dataframe tbody tr th {\n",
       "        vertical-align: top;\n",
       "    }\n",
       "\n",
       "    .dataframe thead th {\n",
       "        text-align: right;\n",
       "    }\n",
       "</style>\n",
       "<table border=\"1\" class=\"dataframe\">\n",
       "  <thead>\n",
       "    <tr style=\"text-align: right;\">\n",
       "      <th></th>\n",
       "      <th>duration</th>\n",
       "      <th>protocol_type</th>\n",
       "      <th>flag</th>\n",
       "      <th>src_bytes</th>\n",
       "      <th>dst_bytes</th>\n",
       "      <th>land</th>\n",
       "      <th>wrong_fragment</th>\n",
       "      <th>urgent</th>\n",
       "      <th>hot</th>\n",
       "      <th>num_failed_logins</th>\n",
       "      <th>...</th>\n",
       "      <th>dst_host_count</th>\n",
       "      <th>dst_host_srv_count</th>\n",
       "      <th>dst_host_same_srv_rate</th>\n",
       "      <th>dst_host_diff_srv_rate</th>\n",
       "      <th>dst_host_same_src_port_rate</th>\n",
       "      <th>dst_host_srv_diff_host_rate</th>\n",
       "      <th>dst_host_serror_rate</th>\n",
       "      <th>dst_host_srv_serror_rate</th>\n",
       "      <th>dst_host_rerror_rate</th>\n",
       "      <th>dst_host_srv_rerror_rate</th>\n",
       "    </tr>\n",
       "  </thead>\n",
       "  <tbody>\n",
       "    <tr>\n",
       "      <td>0</td>\n",
       "      <td>0</td>\n",
       "      <td>1</td>\n",
       "      <td>0</td>\n",
       "      <td>215</td>\n",
       "      <td>45076</td>\n",
       "      <td>0</td>\n",
       "      <td>0</td>\n",
       "      <td>0</td>\n",
       "      <td>0</td>\n",
       "      <td>0</td>\n",
       "      <td>...</td>\n",
       "      <td>0</td>\n",
       "      <td>0</td>\n",
       "      <td>0.0</td>\n",
       "      <td>0.0</td>\n",
       "      <td>0.00</td>\n",
       "      <td>0.0</td>\n",
       "      <td>0.0</td>\n",
       "      <td>0.0</td>\n",
       "      <td>0.0</td>\n",
       "      <td>0.0</td>\n",
       "    </tr>\n",
       "    <tr>\n",
       "      <td>1</td>\n",
       "      <td>0</td>\n",
       "      <td>1</td>\n",
       "      <td>0</td>\n",
       "      <td>162</td>\n",
       "      <td>4528</td>\n",
       "      <td>0</td>\n",
       "      <td>0</td>\n",
       "      <td>0</td>\n",
       "      <td>0</td>\n",
       "      <td>0</td>\n",
       "      <td>...</td>\n",
       "      <td>1</td>\n",
       "      <td>1</td>\n",
       "      <td>1.0</td>\n",
       "      <td>0.0</td>\n",
       "      <td>1.00</td>\n",
       "      <td>0.0</td>\n",
       "      <td>0.0</td>\n",
       "      <td>0.0</td>\n",
       "      <td>0.0</td>\n",
       "      <td>0.0</td>\n",
       "    </tr>\n",
       "    <tr>\n",
       "      <td>2</td>\n",
       "      <td>0</td>\n",
       "      <td>1</td>\n",
       "      <td>0</td>\n",
       "      <td>236</td>\n",
       "      <td>1228</td>\n",
       "      <td>0</td>\n",
       "      <td>0</td>\n",
       "      <td>0</td>\n",
       "      <td>0</td>\n",
       "      <td>0</td>\n",
       "      <td>...</td>\n",
       "      <td>2</td>\n",
       "      <td>2</td>\n",
       "      <td>1.0</td>\n",
       "      <td>0.0</td>\n",
       "      <td>0.50</td>\n",
       "      <td>0.0</td>\n",
       "      <td>0.0</td>\n",
       "      <td>0.0</td>\n",
       "      <td>0.0</td>\n",
       "      <td>0.0</td>\n",
       "    </tr>\n",
       "    <tr>\n",
       "      <td>3</td>\n",
       "      <td>0</td>\n",
       "      <td>1</td>\n",
       "      <td>0</td>\n",
       "      <td>233</td>\n",
       "      <td>2032</td>\n",
       "      <td>0</td>\n",
       "      <td>0</td>\n",
       "      <td>0</td>\n",
       "      <td>0</td>\n",
       "      <td>0</td>\n",
       "      <td>...</td>\n",
       "      <td>3</td>\n",
       "      <td>3</td>\n",
       "      <td>1.0</td>\n",
       "      <td>0.0</td>\n",
       "      <td>0.33</td>\n",
       "      <td>0.0</td>\n",
       "      <td>0.0</td>\n",
       "      <td>0.0</td>\n",
       "      <td>0.0</td>\n",
       "      <td>0.0</td>\n",
       "    </tr>\n",
       "    <tr>\n",
       "      <td>4</td>\n",
       "      <td>0</td>\n",
       "      <td>1</td>\n",
       "      <td>0</td>\n",
       "      <td>239</td>\n",
       "      <td>486</td>\n",
       "      <td>0</td>\n",
       "      <td>0</td>\n",
       "      <td>0</td>\n",
       "      <td>0</td>\n",
       "      <td>0</td>\n",
       "      <td>...</td>\n",
       "      <td>4</td>\n",
       "      <td>4</td>\n",
       "      <td>1.0</td>\n",
       "      <td>0.0</td>\n",
       "      <td>0.25</td>\n",
       "      <td>0.0</td>\n",
       "      <td>0.0</td>\n",
       "      <td>0.0</td>\n",
       "      <td>0.0</td>\n",
       "      <td>0.0</td>\n",
       "    </tr>\n",
       "  </tbody>\n",
       "</table>\n",
       "<p>5 rows × 39 columns</p>\n",
       "</div>"
      ],
      "text/plain": [
       "   duration  protocol_type  flag  src_bytes  dst_bytes  land  wrong_fragment  \\\n",
       "0         0              1     0        215      45076     0               0   \n",
       "1         0              1     0        162       4528     0               0   \n",
       "2         0              1     0        236       1228     0               0   \n",
       "3         0              1     0        233       2032     0               0   \n",
       "4         0              1     0        239        486     0               0   \n",
       "\n",
       "   urgent  hot  num_failed_logins  ...  dst_host_count  dst_host_srv_count  \\\n",
       "0       0    0                  0  ...               0                   0   \n",
       "1       0    0                  0  ...               1                   1   \n",
       "2       0    0                  0  ...               2                   2   \n",
       "3       0    0                  0  ...               3                   3   \n",
       "4       0    0                  0  ...               4                   4   \n",
       "\n",
       "   dst_host_same_srv_rate  dst_host_diff_srv_rate  \\\n",
       "0                     0.0                     0.0   \n",
       "1                     1.0                     0.0   \n",
       "2                     1.0                     0.0   \n",
       "3                     1.0                     0.0   \n",
       "4                     1.0                     0.0   \n",
       "\n",
       "   dst_host_same_src_port_rate  dst_host_srv_diff_host_rate  \\\n",
       "0                         0.00                          0.0   \n",
       "1                         1.00                          0.0   \n",
       "2                         0.50                          0.0   \n",
       "3                         0.33                          0.0   \n",
       "4                         0.25                          0.0   \n",
       "\n",
       "   dst_host_serror_rate  dst_host_srv_serror_rate  dst_host_rerror_rate  \\\n",
       "0                   0.0                       0.0                   0.0   \n",
       "1                   0.0                       0.0                   0.0   \n",
       "2                   0.0                       0.0                   0.0   \n",
       "3                   0.0                       0.0                   0.0   \n",
       "4                   0.0                       0.0                   0.0   \n",
       "\n",
       "   dst_host_srv_rerror_rate  \n",
       "0                       0.0  \n",
       "1                       0.0  \n",
       "2                       0.0  \n",
       "3                       0.0  \n",
       "4                       0.0  \n",
       "\n",
       "[5 rows x 39 columns]"
      ]
     },
     "execution_count": 36,
     "metadata": {},
     "output_type": "execute_result"
    }
   ],
   "source": [
    "x.head()"
   ]
  },
  {
   "cell_type": "code",
   "execution_count": 37,
   "metadata": {},
   "outputs": [
    {
     "data": {
      "text/plain": [
       "<bound method NDFrame.head of         Attack Type\n",
       "0            normal\n",
       "1            normal\n",
       "2            normal\n",
       "3            normal\n",
       "4            normal\n",
       "...             ...\n",
       "4898426      normal\n",
       "4898427      normal\n",
       "4898428      normal\n",
       "4898429      normal\n",
       "4898430      normal\n",
       "\n",
       "[4898431 rows x 1 columns]>"
      ]
     },
     "execution_count": 37,
     "metadata": {},
     "output_type": "execute_result"
    }
   ],
   "source": [
    "y.head"
   ]
  },
  {
   "cell_type": "code",
   "execution_count": 38,
   "metadata": {},
   "outputs": [],
   "source": [
    "x_train, x_test, y_train, y_test=train_test_split(x, y, test_size=0.2, random_state=13)"
   ]
  },
  {
   "cell_type": "code",
   "execution_count": 39,
   "metadata": {},
   "outputs": [],
   "source": [
    "from sklearn.preprocessing import StandardScaler\n",
    "sc=StandardScaler()"
   ]
  },
  {
   "cell_type": "code",
   "execution_count": 40,
   "metadata": {},
   "outputs": [],
   "source": [
    "x_train=sc.fit_transform(x_train)\n",
    "x_test=sc.transform(x_test)"
   ]
  },
  {
   "cell_type": "code",
   "execution_count": 41,
   "metadata": {},
   "outputs": [],
   "source": [
    "#SupportVectorMachine starts here\n",
    "clf=svm.SVC()"
   ]
  },
  {
   "cell_type": "code",
   "execution_count": 42,
   "metadata": {},
   "outputs": [
    {
     "name": "stdout",
     "output_type": "stream",
     "text": [
      "Training time:  2472.024066209793\n"
     ]
    }
   ],
   "source": [
    "start_time = time.time()\n",
    "clf.fit(x_train, y_train.values.ravel())\n",
    "end_time = time.time()\n",
    "print(\"Training time: \",end_time-start_time)"
   ]
  },
  {
   "cell_type": "code",
   "execution_count": 43,
   "metadata": {},
   "outputs": [
    {
     "name": "stdout",
     "output_type": "stream",
     "text": [
      "Testing time:  202.1882619857788\n"
     ]
    }
   ],
   "source": [
    "start_time = time.time()\n",
    "Y_test_pred_SVM = clf.predict(x_test)\n",
    "end_time = time.time()\n",
    "print(\"Testing time: \",end_time-start_time)"
   ]
  },
  {
   "cell_type": "code",
   "execution_count": 44,
   "metadata": {},
   "outputs": [
    {
     "name": "stdout",
     "output_type": "stream",
     "text": [
      "Train score is: 0.9996940346192555\n",
      "Test score is: 0.9996233490900666\n"
     ]
    }
   ],
   "source": [
    "print(\"Train score is:\", clf.score(x_train, y_train))\n",
    "print(\"Test score is:\",clf.score(x_test,y_test))"
   ]
  },
  {
   "cell_type": "code",
   "execution_count": 45,
   "metadata": {},
   "outputs": [
    {
     "data": {
      "text/plain": [
       "0.9996233490900666"
      ]
     },
     "execution_count": 45,
     "metadata": {},
     "output_type": "execute_result"
    }
   ],
   "source": [
    "sklearn.metrics.accuracy_score(y_test, Y_test_pred_SVM)"
   ]
  },
  {
   "cell_type": "code",
   "execution_count": 46,
   "metadata": {},
   "outputs": [
    {
     "name": "stdout",
     "output_type": "stream",
     "text": [
      "              precision    recall  f1-score   support\n",
      "\n",
      "         dos       1.00      1.00      1.00    776980\n",
      "      normal       1.00      1.00      1.00    194138\n",
      "       probe       1.00      0.98      0.99      8311\n",
      "         r2l       0.87      0.75      0.81       247\n",
      "         u2r       1.00      0.18      0.31        11\n",
      "\n",
      "    accuracy                           1.00    979687\n",
      "   macro avg       0.97      0.78      0.82    979687\n",
      "weighted avg       1.00      1.00      1.00    979687\n",
      "\n"
     ]
    }
   ],
   "source": [
    "print(sklearn.metrics.classification_report(y_test, Y_test_pred_SVM))"
   ]
  },
  {
   "cell_type": "code",
   "execution_count": null,
   "metadata": {},
   "outputs": [],
   "source": []
  },
  {
   "cell_type": "code",
   "execution_count": 146,
   "metadata": {},
   "outputs": [],
   "source": [
    "pred_clf=clf.predict(x_test)"
   ]
  },
  {
   "cell_type": "code",
   "execution_count": 147,
   "metadata": {},
   "outputs": [
    {
     "data": {
      "text/plain": [
       "0.9996233490900666"
      ]
     },
     "execution_count": 147,
     "metadata": {},
     "output_type": "execute_result"
    }
   ],
   "source": [
    "sklearn.metrics.accuracy_score(y_test, pred_clf)"
   ]
  },
  {
   "cell_type": "code",
   "execution_count": 148,
   "metadata": {},
   "outputs": [
    {
     "name": "stdout",
     "output_type": "stream",
     "text": [
      "              precision    recall  f1-score   support\n",
      "\n",
      "         dos       1.00      1.00      1.00    776980\n",
      "      normal       1.00      1.00      1.00    194138\n",
      "       probe       1.00      0.98      0.99      8311\n",
      "         r2l       0.87      0.75      0.81       247\n",
      "         u2r       1.00      0.18      0.31        11\n",
      "\n",
      "    accuracy                           1.00    979687\n",
      "   macro avg       0.97      0.78      0.82    979687\n",
      "weighted avg       1.00      1.00      1.00    979687\n",
      "\n"
     ]
    }
   ],
   "source": [
    "print(sklearn.metrics.classification_report(y_test, pred_clf))"
   ]
  },
  {
   "cell_type": "code",
   "execution_count": null,
   "metadata": {},
   "outputs": [],
   "source": []
  },
  {
   "cell_type": "code",
   "execution_count": null,
   "metadata": {},
   "outputs": [],
   "source": [
    "from sklearn.neighbors import KNeighborsClassifier\n",
    "knn = KNeighborsClassifier(n_neighbors=3, n_jobs=-1)\n",
    "knn.fit(x_train, y_train.values.ravel())"
   ]
  },
  {
   "cell_type": "code",
   "execution_count": null,
   "metadata": {},
   "outputs": [],
   "source": [
    "pred_knn=knn.predict(x_test)"
   ]
  },
  {
   "cell_type": "code",
   "execution_count": null,
   "metadata": {},
   "outputs": [],
   "source": [
    "sklearn.metrics.accuracy_score(y_test, pred_knn)"
   ]
  },
  {
   "cell_type": "code",
   "execution_count": null,
   "metadata": {},
   "outputs": [],
   "source": []
  },
  {
   "cell_type": "code",
   "execution_count": null,
   "metadata": {},
   "outputs": [],
   "source": []
  },
  {
   "cell_type": "code",
   "execution_count": null,
   "metadata": {},
   "outputs": [],
   "source": []
  },
  {
   "cell_type": "code",
   "execution_count": 76,
   "metadata": {},
   "outputs": [],
   "source": [
    "# Gaussian Naive Bayes\n",
    "from sklearn.naive_bayes import GaussianNB\n",
    "NB = GaussianNB()"
   ]
  },
  {
   "cell_type": "code",
   "execution_count": 77,
   "metadata": {},
   "outputs": [
    {
     "name": "stdout",
     "output_type": "stream",
     "text": [
      "Training time:  5.3929057121276855\n"
     ]
    }
   ],
   "source": [
    "start_time = time.time()\n",
    "NB.fit(X_train, Y_train.values.ravel())\n",
    "end_time = time.time()\n",
    "print(\"Training time: \",end_time-start_time)"
   ]
  },
  {
   "cell_type": "code",
   "execution_count": 79,
   "metadata": {},
   "outputs": [
    {
     "name": "stdout",
     "output_type": "stream",
     "text": [
      "Testing time:  3.415102958679199\n"
     ]
    }
   ],
   "source": [
    "start_time = time.time()\n",
    "Y_test_pred_NB = NB.predict(X_test)\n",
    "end_time = time.time()\n",
    "print(\"Testing time: \",end_time-start_time)"
   ]
  },
  {
   "cell_type": "code",
   "execution_count": 80,
   "metadata": {},
   "outputs": [
    {
     "name": "stdout",
     "output_type": "stream",
     "text": [
      "Train score is: 0.8815380377751262\n",
      "Test score is: 0.8810114303707494\n"
     ]
    }
   ],
   "source": [
    "print(\"Train score is:\", NB.score(X_train, Y_train))\n",
    "print(\"Test score is:\",NB.score(X_test,Y_test))"
   ]
  },
  {
   "cell_type": "code",
   "execution_count": 81,
   "metadata": {},
   "outputs": [
    {
     "name": "stdout",
     "output_type": "stream",
     "text": [
      "              precision    recall  f1-score   support\n",
      "\n",
      "         dos       0.98      0.95      0.96   1281483\n",
      "      normal       1.00      0.62      0.76    321021\n",
      "       probe       0.10      0.97      0.18     13594\n",
      "         r2l       0.03      0.44      0.06       365\n",
      "         u2r       0.00      0.90      0.00        20\n",
      "\n",
      "    accuracy                           0.88   1616483\n",
      "   macro avg       0.42      0.78      0.39   1616483\n",
      "weighted avg       0.97      0.88      0.91   1616483\n",
      "\n"
     ]
    }
   ],
   "source": [
    "print(sklearn.metrics.classification_report(Y_test, Y_test_pred_NB))"
   ]
  },
  {
   "cell_type": "code",
   "execution_count": 87,
   "metadata": {
    "collapsed": true,
    "jupyter": {
     "outputs_hidden": true
    }
   },
   "outputs": [
    {
     "data": {
      "text/plain": [
       "\u001b[1;31mSignature:\u001b[0m\n",
       "\u001b[0mcross_val_score\u001b[0m\u001b[1;33m(\u001b[0m\u001b[1;33m\n",
       "\u001b[0m    \u001b[0mestimator\u001b[0m\u001b[1;33m,\u001b[0m\u001b[1;33m\n",
       "\u001b[0m    \u001b[0mX\u001b[0m\u001b[1;33m,\u001b[0m\u001b[1;33m\n",
       "\u001b[0m    \u001b[0my\u001b[0m\u001b[1;33m=\u001b[0m\u001b[1;32mNone\u001b[0m\u001b[1;33m,\u001b[0m\u001b[1;33m\n",
       "\u001b[0m    \u001b[0mgroups\u001b[0m\u001b[1;33m=\u001b[0m\u001b[1;32mNone\u001b[0m\u001b[1;33m,\u001b[0m\u001b[1;33m\n",
       "\u001b[0m    \u001b[0mscoring\u001b[0m\u001b[1;33m=\u001b[0m\u001b[1;32mNone\u001b[0m\u001b[1;33m,\u001b[0m\u001b[1;33m\n",
       "\u001b[0m    \u001b[0mcv\u001b[0m\u001b[1;33m=\u001b[0m\u001b[1;34m'warn'\u001b[0m\u001b[1;33m,\u001b[0m\u001b[1;33m\n",
       "\u001b[0m    \u001b[0mn_jobs\u001b[0m\u001b[1;33m=\u001b[0m\u001b[1;32mNone\u001b[0m\u001b[1;33m,\u001b[0m\u001b[1;33m\n",
       "\u001b[0m    \u001b[0mverbose\u001b[0m\u001b[1;33m=\u001b[0m\u001b[1;36m0\u001b[0m\u001b[1;33m,\u001b[0m\u001b[1;33m\n",
       "\u001b[0m    \u001b[0mfit_params\u001b[0m\u001b[1;33m=\u001b[0m\u001b[1;32mNone\u001b[0m\u001b[1;33m,\u001b[0m\u001b[1;33m\n",
       "\u001b[0m    \u001b[0mpre_dispatch\u001b[0m\u001b[1;33m=\u001b[0m\u001b[1;34m'2*n_jobs'\u001b[0m\u001b[1;33m,\u001b[0m\u001b[1;33m\n",
       "\u001b[0m    \u001b[0merror_score\u001b[0m\u001b[1;33m=\u001b[0m\u001b[1;34m'raise-deprecating'\u001b[0m\u001b[1;33m,\u001b[0m\u001b[1;33m\n",
       "\u001b[0m\u001b[1;33m)\u001b[0m\u001b[1;33m\u001b[0m\u001b[1;33m\u001b[0m\u001b[0m\n",
       "\u001b[1;31mDocstring:\u001b[0m\n",
       "Evaluate a score by cross-validation\n",
       "\n",
       "Read more in the :ref:`User Guide <cross_validation>`.\n",
       "\n",
       "Parameters\n",
       "----------\n",
       "estimator : estimator object implementing 'fit'\n",
       "    The object to use to fit the data.\n",
       "\n",
       "X : array-like\n",
       "    The data to fit. Can be for example a list, or an array.\n",
       "\n",
       "y : array-like, optional, default: None\n",
       "    The target variable to try to predict in the case of\n",
       "    supervised learning.\n",
       "\n",
       "groups : array-like, with shape (n_samples,), optional\n",
       "    Group labels for the samples used while splitting the dataset into\n",
       "    train/test set. Only used in conjunction with a \"Group\" `cv` instance\n",
       "    (e.g., `GroupKFold`).\n",
       "\n",
       "scoring : string, callable or None, optional, default: None\n",
       "    A string (see model evaluation documentation) or\n",
       "    a scorer callable object / function with signature\n",
       "    ``scorer(estimator, X, y)`` which should return only\n",
       "    a single value.\n",
       "\n",
       "    Similar to :func:`cross_validate`\n",
       "    but only a single metric is permitted.\n",
       "\n",
       "    If None, the estimator's default scorer (if available) is used.\n",
       "\n",
       "cv : int, cross-validation generator or an iterable, optional\n",
       "    Determines the cross-validation splitting strategy.\n",
       "    Possible inputs for cv are:\n",
       "\n",
       "    - None, to use the default 3-fold cross validation,\n",
       "    - integer, to specify the number of folds in a `(Stratified)KFold`,\n",
       "    - :term:`CV splitter`,\n",
       "    - An iterable yielding (train, test) splits as arrays of indices.\n",
       "\n",
       "    For integer/None inputs, if the estimator is a classifier and ``y`` is\n",
       "    either binary or multiclass, :class:`StratifiedKFold` is used. In all\n",
       "    other cases, :class:`KFold` is used.\n",
       "\n",
       "    Refer :ref:`User Guide <cross_validation>` for the various\n",
       "    cross-validation strategies that can be used here.\n",
       "\n",
       "    .. versionchanged:: 0.20\n",
       "        ``cv`` default value if None will change from 3-fold to 5-fold\n",
       "        in v0.22.\n",
       "\n",
       "n_jobs : int or None, optional (default=None)\n",
       "    The number of CPUs to use to do the computation.\n",
       "    ``None`` means 1 unless in a :obj:`joblib.parallel_backend` context.\n",
       "    ``-1`` means using all processors. See :term:`Glossary <n_jobs>`\n",
       "    for more details.\n",
       "\n",
       "verbose : integer, optional\n",
       "    The verbosity level.\n",
       "\n",
       "fit_params : dict, optional\n",
       "    Parameters to pass to the fit method of the estimator.\n",
       "\n",
       "pre_dispatch : int, or string, optional\n",
       "    Controls the number of jobs that get dispatched during parallel\n",
       "    execution. Reducing this number can be useful to avoid an\n",
       "    explosion of memory consumption when more jobs get dispatched\n",
       "    than CPUs can process. This parameter can be:\n",
       "\n",
       "        - None, in which case all the jobs are immediately\n",
       "          created and spawned. Use this for lightweight and\n",
       "          fast-running jobs, to avoid delays due to on-demand\n",
       "          spawning of the jobs\n",
       "\n",
       "        - An int, giving the exact number of total jobs that are\n",
       "          spawned\n",
       "\n",
       "        - A string, giving an expression as a function of n_jobs,\n",
       "          as in '2*n_jobs'\n",
       "\n",
       "error_score : 'raise' | 'raise-deprecating' or numeric\n",
       "    Value to assign to the score if an error occurs in estimator fitting.\n",
       "    If set to 'raise', the error is raised.\n",
       "    If set to 'raise-deprecating', a FutureWarning is printed before the\n",
       "    error is raised.\n",
       "    If a numeric value is given, FitFailedWarning is raised. This parameter\n",
       "    does not affect the refit step, which will always raise the error.\n",
       "    Default is 'raise-deprecating' but from version 0.22 it will change\n",
       "    to np.nan.\n",
       "\n",
       "Returns\n",
       "-------\n",
       "scores : array of float, shape=(len(list(cv)),)\n",
       "    Array of scores of the estimator for each run of the cross validation.\n",
       "\n",
       "Examples\n",
       "--------\n",
       ">>> from sklearn import datasets, linear_model\n",
       ">>> from sklearn.model_selection import cross_val_score\n",
       ">>> diabetes = datasets.load_diabetes()\n",
       ">>> X = diabetes.data[:150]\n",
       ">>> y = diabetes.target[:150]\n",
       ">>> lasso = linear_model.Lasso()\n",
       ">>> print(cross_val_score(lasso, X, y, cv=3))  # doctest: +ELLIPSIS\n",
       "[0.33150734 0.08022311 0.03531764]\n",
       "\n",
       "See Also\n",
       "---------\n",
       ":func:`sklearn.model_selection.cross_validate`:\n",
       "    To run cross-validation on multiple metrics and also to return\n",
       "    train scores, fit times and score times.\n",
       "\n",
       ":func:`sklearn.model_selection.cross_val_predict`:\n",
       "    Get predictions from each split of cross-validation for diagnostic\n",
       "    purposes.\n",
       "\n",
       ":func:`sklearn.metrics.make_scorer`:\n",
       "    Make a scorer from a performance metric or loss function.\n",
       "\u001b[1;31mFile:\u001b[0m      c:\\users\\mohab\\anaconda3\\lib\\site-packages\\sklearn\\model_selection\\_validation.py\n",
       "\u001b[1;31mType:\u001b[0m      function\n"
      ]
     },
     "metadata": {},
     "output_type": "display_data"
    }
   ],
   "source": [
    "from sklearn.model_selection import cross_val_score\n",
    "cross_val_score?"
   ]
  },
  {
   "cell_type": "code",
   "execution_count": 96,
   "metadata": {},
   "outputs": [
    {
     "name": "stdout",
     "output_type": "stream",
     "text": [
      "[[0.   1.   0.   ... 0.   0.   0.  ]\n",
      " [0.   1.   0.   ... 0.   0.   0.  ]\n",
      " [0.   1.   0.   ... 0.   0.   0.  ]\n",
      " ...\n",
      " [0.   1.   0.   ... 0.01 0.   0.  ]\n",
      " [0.   1.   0.   ... 0.01 0.   0.  ]\n",
      " [0.   1.   0.   ... 0.01 0.   0.  ]]\n"
     ]
    }
   ],
   "source": [
    "print(x.values)"
   ]
  },
  {
   "cell_type": "code",
   "execution_count": 97,
   "metadata": {},
   "outputs": [
    {
     "name": "stdout",
     "output_type": "stream",
     "text": [
      "[['normal']\n",
      " ['normal']\n",
      " ['normal']\n",
      " ...\n",
      " ['normal']\n",
      " ['normal']\n",
      " ['normal']]\n"
     ]
    }
   ],
   "source": [
    "print(y.values)"
   ]
  },
  {
   "cell_type": "code",
   "execution_count": 100,
   "metadata": {},
   "outputs": [
    {
     "data": {
      "text/plain": [
       "array([0.97839212, 0.93555084, 0.92237403, 0.90214304, 0.89389549])"
      ]
     },
     "execution_count": 100,
     "metadata": {},
     "output_type": "execute_result"
    }
   ],
   "source": [
    "NB = GaussianNB()\n",
    "scores = cross_val_score(NB, x.values, y.values.ravel(), cv=5)\n",
    "scores"
   ]
  },
  {
   "cell_type": "code",
   "execution_count": 101,
   "metadata": {},
   "outputs": [
    {
     "name": "stdout",
     "output_type": "stream",
     "text": [
      "Accuracy: 0.93 (+/- 0.06)\n"
     ]
    }
   ],
   "source": [
    "print(\"Accuracy: %0.2f (+/- %0.2f)\" % (scores.mean(), scores.std() * 2))"
   ]
  },
  {
   "cell_type": "code",
   "execution_count": 108,
   "metadata": {},
   "outputs": [],
   "source": [
    "from sklearn.metrics import classification_report, accuracy_score, make_scorer\n",
    "\n",
    "def classification_report_with_accuracy_score(y_true, y_pred):\n",
    "\n",
    "    print (classification_report(y_true, y_pred)) # print classification report\n",
    "    return accuracy_score(y_true, y_pred) # return accuracy score"
   ]
  },
  {
   "cell_type": "code",
   "execution_count": 112,
   "metadata": {},
   "outputs": [
    {
     "name": "stdout",
     "output_type": "stream",
     "text": [
      "              precision    recall  f1-score   support\n",
      "\n",
      "         dos       0.99      1.00      1.00    776674\n",
      "      normal       0.96      0.95      0.95    194557\n",
      "       probe       0.02      0.00      0.00      8221\n",
      "         r2l       0.21      0.01      0.02       226\n",
      "         u2r       0.00      0.73      0.00        11\n",
      "\n",
      "    accuracy                           0.98    979689\n",
      "   macro avg       0.44      0.54      0.40    979689\n",
      "weighted avg       0.98      0.98      0.98    979689\n",
      "\n",
      "              precision    recall  f1-score   support\n",
      "\n",
      "         dos       0.94      1.00      0.97    776674\n",
      "      normal       0.99      0.72      0.83    194556\n",
      "       probe       0.00      0.00      0.00      8221\n",
      "         r2l       0.00      0.00      0.00       225\n",
      "         u2r       0.00      0.64      0.00        11\n",
      "\n",
      "    accuracy                           0.94    979687\n",
      "   macro avg       0.39      0.47      0.36    979687\n",
      "weighted avg       0.94      0.94      0.93    979687\n",
      "\n",
      "              precision    recall  f1-score   support\n",
      "\n",
      "         dos       0.92      1.00      0.96    776674\n",
      "      normal       1.00      0.65      0.79    194556\n",
      "       probe       0.00      0.00      0.00      8220\n",
      "         r2l       0.01      0.00      0.01       225\n",
      "         u2r       0.00      0.80      0.00        10\n",
      "\n",
      "    accuracy                           0.92    979685\n",
      "   macro avg       0.39      0.49      0.35    979685\n",
      "weighted avg       0.93      0.92      0.92    979685\n",
      "\n",
      "              precision    recall  f1-score   support\n",
      "\n",
      "         dos       0.91      1.00      0.95    776674\n",
      "      normal       0.99      0.55      0.71    194556\n",
      "       probe       0.00      0.00      0.00      8220\n",
      "         r2l       0.00      0.00      0.00       225\n",
      "         u2r       0.00      0.40      0.00        10\n",
      "\n",
      "    accuracy                           0.90    979685\n",
      "   macro avg       0.38      0.39      0.33    979685\n",
      "weighted avg       0.92      0.90      0.89    979685\n",
      "\n",
      "              precision    recall  f1-score   support\n",
      "\n",
      "         dos       0.91      1.00      0.95    776674\n",
      "      normal       0.98      0.51      0.67    194556\n",
      "       probe       0.00      0.00      0.00      8220\n",
      "         r2l       0.00      0.00      0.00       225\n",
      "         u2r       0.00      0.80      0.00        10\n",
      "\n",
      "    accuracy                           0.89    979685\n",
      "   macro avg       0.38      0.46      0.33    979685\n",
      "weighted avg       0.91      0.89      0.89    979685\n",
      "\n",
      "[0.97839212 0.93555084 0.92237403 0.90214304 0.89389549]\n"
     ]
    }
   ],
   "source": [
    "# Nested CV with parameter optimization\n",
    "nested_score = cross_val_score(NB, X=x.values, y=y.values.ravel(), cv=5, \\\n",
    "               scoring=make_scorer(classification_report_with_accuracy_score))\n",
    "print(nested_score)"
   ]
  },
  {
   "cell_type": "code",
   "execution_count": null,
   "metadata": {},
   "outputs": [],
   "source": []
  },
  {
   "cell_type": "code",
   "execution_count": null,
   "metadata": {},
   "outputs": [],
   "source": []
  },
  {
   "cell_type": "code",
   "execution_count": 113,
   "metadata": {},
   "outputs": [],
   "source": [
    "#Decision Tree \n",
    "from sklearn.tree import DecisionTreeClassifier\n",
    "DT = DecisionTreeClassifier(criterion=\"entropy\", max_depth = 4)"
   ]
  },
  {
   "cell_type": "code",
   "execution_count": 114,
   "metadata": {},
   "outputs": [
    {
     "name": "stdout",
     "output_type": "stream",
     "text": [
      "Training time:  15.817380666732788\n"
     ]
    }
   ],
   "source": [
    "start_time = time.time()\n",
    "DT.fit(X_train, Y_train.values.ravel())\n",
    "end_time = time.time()\n",
    "print(\"Training time: \",end_time-start_time)"
   ]
  },
  {
   "cell_type": "code",
   "execution_count": 115,
   "metadata": {},
   "outputs": [
    {
     "name": "stdout",
     "output_type": "stream",
     "text": [
      "Testing time:  0.6485893726348877\n"
     ]
    }
   ],
   "source": [
    "start_time = time.time()\n",
    "Y_test_pred_DT = DT.predict(X_test)\n",
    "end_time = time.time()\n",
    "print(\"Testing time: \",end_time-start_time)"
   ]
  },
  {
   "cell_type": "code",
   "execution_count": 116,
   "metadata": {},
   "outputs": [
    {
     "name": "stdout",
     "output_type": "stream",
     "text": [
      "Train score is: 0.9958134620048825\n",
      "Test score is: 0.9957976669101994\n"
     ]
    },
    {
     "name": "stderr",
     "output_type": "stream",
     "text": [
      "C:\\Users\\Mohab\\Anaconda3\\lib\\site-packages\\sklearn\\metrics\\classification.py:1437: UndefinedMetricWarning: Precision and F-score are ill-defined and being set to 0.0 in labels with no predicted samples.\n",
      "  'precision', 'predicted', average, warn_for)\n"
     ]
    },
    {
     "name": "stdout",
     "output_type": "stream",
     "text": [
      "              precision    recall  f1-score   support\n",
      "\n",
      "         dos       1.00      1.00      1.00   1281483\n",
      "      normal       0.98      1.00      0.99    321021\n",
      "       probe       0.99      0.64      0.78     13594\n",
      "         r2l       0.00      0.00      0.00       365\n",
      "         u2r       0.00      0.00      0.00        20\n",
      "\n",
      "    accuracy                           1.00   1616483\n",
      "   macro avg       0.59      0.53      0.55   1616483\n",
      "weighted avg       1.00      1.00      1.00   1616483\n",
      "\n"
     ]
    }
   ],
   "source": [
    "print(\"Train score is:\", DT.score(X_train, Y_train))\n",
    "print(\"Test score is:\",DT.score(X_test,Y_test))\n",
    "print(sklearn.metrics.classification_report(Y_test, Y_test_pred_DT))"
   ]
  },
  {
   "cell_type": "code",
   "execution_count": null,
   "metadata": {},
   "outputs": [],
   "source": []
  },
  {
   "cell_type": "code",
   "execution_count": null,
   "metadata": {},
   "outputs": [],
   "source": []
  },
  {
   "cell_type": "code",
   "execution_count": null,
   "metadata": {},
   "outputs": [],
   "source": []
  },
  {
   "cell_type": "code",
   "execution_count": 117,
   "metadata": {},
   "outputs": [],
   "source": [
    "#Random Forest\n",
    "from sklearn.ensemble import RandomForestClassifier\n",
    "RF = RandomForestClassifier(n_estimators=30)"
   ]
  },
  {
   "cell_type": "code",
   "execution_count": 118,
   "metadata": {},
   "outputs": [
    {
     "name": "stdout",
     "output_type": "stream",
     "text": [
      "Training time:  119.17974877357483\n"
     ]
    }
   ],
   "source": [
    "start_time = time.time()\n",
    "RF.fit(X_train, Y_train.values.ravel())\n",
    "end_time = time.time()\n",
    "print(\"Training time: \",end_time-start_time)"
   ]
  },
  {
   "cell_type": "code",
   "execution_count": 119,
   "metadata": {},
   "outputs": [
    {
     "name": "stdout",
     "output_type": "stream",
     "text": [
      "Testing time:  4.081612825393677\n"
     ]
    }
   ],
   "source": [
    "start_time = time.time()\n",
    "Y_test_pred_RF = RF.predict(X_test)\n",
    "end_time = time.time()\n",
    "print(\"Testing time: \",end_time-start_time)"
   ]
  },
  {
   "cell_type": "code",
   "execution_count": 120,
   "metadata": {},
   "outputs": [
    {
     "name": "stdout",
     "output_type": "stream",
     "text": [
      "Train score is: 0.9999744054445713\n",
      "Test score is: 0.9998836981273542\n",
      "              precision    recall  f1-score   support\n",
      "\n",
      "         dos       1.00      1.00      1.00   1281483\n",
      "      normal       1.00      1.00      1.00    321021\n",
      "       probe       1.00      0.99      1.00     13594\n",
      "         r2l       0.96      0.93      0.94       365\n",
      "         u2r       1.00      0.20      0.33        20\n",
      "\n",
      "    accuracy                           1.00   1616483\n",
      "   macro avg       0.99      0.82      0.85   1616483\n",
      "weighted avg       1.00      1.00      1.00   1616483\n",
      "\n"
     ]
    }
   ],
   "source": [
    "print(\"Train score is:\", RF.score(X_train, Y_train))\n",
    "print(\"Test score is:\",RF.score(X_test,Y_test))\n",
    "print(sklearn.metrics.classification_report(Y_test, Y_test_pred_RF))"
   ]
  },
  {
   "cell_type": "code",
   "execution_count": null,
   "metadata": {},
   "outputs": [],
   "source": []
  },
  {
   "cell_type": "code",
   "execution_count": null,
   "metadata": {},
   "outputs": [],
   "source": []
  },
  {
   "cell_type": "code",
   "execution_count": null,
   "metadata": {},
   "outputs": [],
   "source": []
  },
  {
   "cell_type": "code",
   "execution_count": 125,
   "metadata": {},
   "outputs": [],
   "source": [
    "#LOGISTIC REGRESSION\n",
    "\n",
    "from sklearn.linear_model import LogisticRegression\n",
    "LR = LogisticRegression(max_iter=1200000)"
   ]
  },
  {
   "cell_type": "code",
   "execution_count": 126,
   "metadata": {},
   "outputs": [
    {
     "name": "stderr",
     "output_type": "stream",
     "text": [
      "C:\\Users\\Mohab\\Anaconda3\\lib\\site-packages\\sklearn\\linear_model\\logistic.py:432: FutureWarning: Default solver will be changed to 'lbfgs' in 0.22. Specify a solver to silence this warning.\n",
      "  FutureWarning)\n",
      "C:\\Users\\Mohab\\Anaconda3\\lib\\site-packages\\sklearn\\linear_model\\logistic.py:469: FutureWarning: Default multi_class will be changed to 'auto' in 0.22. Specify the multi_class option to silence this warning.\n",
      "  \"this warning.\", FutureWarning)\n"
     ]
    },
    {
     "name": "stdout",
     "output_type": "stream",
     "text": [
      "Training time:  146.95847535133362\n"
     ]
    }
   ],
   "source": [
    "start_time = time.time()\n",
    "LR.fit(X_train, Y_train.values.ravel())\n",
    "end_time = time.time()\n",
    "print(\"Training time: \",end_time-start_time)"
   ]
  },
  {
   "cell_type": "code",
   "execution_count": 127,
   "metadata": {},
   "outputs": [
    {
     "name": "stdout",
     "output_type": "stream",
     "text": [
      "Testing time:  0.21118998527526855\n"
     ]
    }
   ],
   "source": [
    "start_time = time.time()\n",
    "Y_test_pred_LR = LR.predict(X_test)\n",
    "end_time = time.time()\n",
    "\n",
    "print(\"Testing time: \",end_time-start_time)"
   ]
  },
  {
   "cell_type": "code",
   "execution_count": 128,
   "metadata": {},
   "outputs": [
    {
     "name": "stdout",
     "output_type": "stream",
     "text": [
      "Train score is: 0.9981288551799115\n",
      "Test score is: 0.9981063828076138\n",
      "              precision    recall  f1-score   support\n",
      "\n",
      "         dos       1.00      1.00      1.00   1281483\n",
      "      normal       0.99      1.00      1.00    321021\n",
      "       probe       0.98      0.90      0.94     13594\n",
      "         r2l       0.14      0.02      0.03       365\n",
      "         u2r       0.50      0.05      0.09        20\n",
      "\n",
      "    accuracy                           1.00   1616483\n",
      "   macro avg       0.72      0.59      0.61   1616483\n",
      "weighted avg       1.00      1.00      1.00   1616483\n",
      "\n"
     ]
    }
   ],
   "source": [
    "print(\"Train score is:\", LR.score(X_train, Y_train))\n",
    "print(\"Test score is:\",LR.score(X_test,Y_test))\n",
    "print(sklearn.metrics.classification_report(Y_test, Y_test_pred_LR))"
   ]
  },
  {
   "cell_type": "code",
   "execution_count": null,
   "metadata": {},
   "outputs": [],
   "source": []
  },
  {
   "cell_type": "code",
   "execution_count": null,
   "metadata": {},
   "outputs": [],
   "source": []
  },
  {
   "cell_type": "code",
   "execution_count": null,
   "metadata": {},
   "outputs": [],
   "source": []
  },
  {
   "cell_type": "code",
   "execution_count": 129,
   "metadata": {},
   "outputs": [],
   "source": [
    "#GRADIENT BOOSTING CLASSIFIER\n",
    "\n",
    "from sklearn.ensemble import GradientBoostingClassifier\n",
    "GBC = GradientBoostingClassifier(random_state=0)"
   ]
  },
  {
   "cell_type": "code",
   "execution_count": 130,
   "metadata": {},
   "outputs": [
    {
     "name": "stdout",
     "output_type": "stream",
     "text": [
      "Training time:  4019.4218621253967\n"
     ]
    }
   ],
   "source": [
    "start_time = time.time()\n",
    "GBC.fit(X_train, Y_train.values.ravel())\n",
    "end_time = time.time()\n",
    "\n",
    "print(\"Training time: \",end_time-start_time)"
   ]
  },
  {
   "cell_type": "code",
   "execution_count": 131,
   "metadata": {},
   "outputs": [
    {
     "name": "stdout",
     "output_type": "stream",
     "text": [
      "Testing time:  10.128207683563232\n"
     ]
    }
   ],
   "source": [
    "start_time = time.time()\n",
    "Y_test_pred_GBC = GBC.predict(X_test)\n",
    "end_time = time.time()\n",
    "\n",
    "print(\"Testing time: \",end_time-start_time)"
   ]
  },
  {
   "cell_type": "code",
   "execution_count": 132,
   "metadata": {},
   "outputs": [
    {
     "name": "stdout",
     "output_type": "stream",
     "text": [
      "Train score is: 0.9995898777189645\n",
      "Test score is: 0.9995310807475241\n",
      "              precision    recall  f1-score   support\n",
      "\n",
      "         dos       1.00      1.00      1.00   1281483\n",
      "      normal       1.00      1.00      1.00    321021\n",
      "       probe       1.00      0.98      0.99     13594\n",
      "         r2l       0.70      0.66      0.68       365\n",
      "         u2r       0.64      0.35      0.45        20\n",
      "\n",
      "    accuracy                           1.00   1616483\n",
      "   macro avg       0.87      0.80      0.82   1616483\n",
      "weighted avg       1.00      1.00      1.00   1616483\n",
      "\n"
     ]
    }
   ],
   "source": [
    "print(\"Train score is:\", GBC.score(X_train, Y_train))\n",
    "print(\"Test score is:\", GBC.score(X_test,Y_test))\n",
    "print(sklearn.metrics.classification_report(Y_test, Y_test_pred_GBC))"
   ]
  },
  {
   "cell_type": "code",
   "execution_count": null,
   "metadata": {},
   "outputs": [],
   "source": []
  },
  {
   "cell_type": "code",
   "execution_count": null,
   "metadata": {},
   "outputs": [],
   "source": []
  },
  {
   "cell_type": "code",
   "execution_count": null,
   "metadata": {},
   "outputs": [],
   "source": []
  },
  {
   "cell_type": "code",
   "execution_count": 133,
   "metadata": {},
   "outputs": [
    {
     "name": "stderr",
     "output_type": "stream",
     "text": [
      "Using TensorFlow backend.\n"
     ]
    }
   ],
   "source": [
    "#Keras Classifier\n",
    "from keras.models import Sequential\n",
    "from keras.layers import Dense\n",
    "from keras.wrappers.scikit_learn import KerasClassifier"
   ]
  },
  {
   "cell_type": "code",
   "execution_count": 137,
   "metadata": {},
   "outputs": [],
   "source": [
    "def fun():\n",
    "    model = Sequential()\n",
    "    \n",
    "    #here 30 is output dimension\n",
    "    model.add(Dense(38,input_dim =39,activation = 'relu',kernel_initializer='random_uniform'))\n",
    "    \n",
    "    #in next layer we do not specify the input_dim as the model is sequential so output of previous layer is input to next layer\n",
    "    model.add(Dense(1,activation='sigmoid',kernel_initializer='random_uniform'))\n",
    "    \n",
    "    #5 classes-normal,dos,probe,r2l,u2r\n",
    "    model.add(Dense(5,activation='softmax'))\n",
    "    \n",
    "    #loss is categorical_crossentropy which specifies that we have multiple classes\n",
    "    \n",
    "    model.compile(loss ='categorical_crossentropy',optimizer = 'adam',metrics = ['accuracy'])\n",
    "    \n",
    "    return model"
   ]
  },
  {
   "cell_type": "code",
   "execution_count": 138,
   "metadata": {},
   "outputs": [],
   "source": [
    "KC = KerasClassifier(build_fn=fun,epochs=100,batch_size=64)"
   ]
  },
  {
   "cell_type": "code",
   "execution_count": 139,
   "metadata": {},
   "outputs": [
    {
     "name": "stdout",
     "output_type": "stream",
     "text": [
      "WARNING:tensorflow:From C:\\Users\\Mohab\\Anaconda3\\lib\\site-packages\\keras\\backend\\tensorflow_backend.py:422: The name tf.global_variables is deprecated. Please use tf.compat.v1.global_variables instead.\n",
      "\n",
      "Epoch 1/100\n",
      "3281948/3281948 [==============================] - 30s 9us/step - loss: 0.0590 - accuracy: 0.9871\n",
      "Epoch 2/100\n",
      "3281948/3281948 [==============================] - 29s 9us/step - loss: 0.0120 - accuracy: 0.9988\n",
      "Epoch 3/100\n",
      "3281948/3281948 [==============================] - 29s 9us/step - loss: 0.0099 - accuracy: 0.9990\n",
      "Epoch 4/100\n",
      "3281948/3281948 [==============================] - 28s 9us/step - loss: 0.0094 - accuracy: 0.9990\n",
      "Epoch 5/100\n",
      "3281948/3281948 [==============================] - 29s 9us/step - loss: 0.0085 - accuracy: 0.9990\n",
      "Epoch 6/100\n",
      "3281948/3281948 [==============================] - 29s 9us/step - loss: 0.0049 - accuracy: 0.9990\n",
      "Epoch 7/100\n",
      "3281948/3281948 [==============================] - 29s 9us/step - loss: 0.0033 - accuracy: 0.9994\n",
      "Epoch 8/100\n",
      "3281948/3281948 [==============================] - 30s 9us/step - loss: 0.0029 - accuracy: 0.9994\n",
      "Epoch 9/100\n",
      "3281948/3281948 [==============================] - 29s 9us/step - loss: 0.0027 - accuracy: 0.9995\n",
      "Epoch 10/100\n",
      "3281948/3281948 [==============================] - 29s 9us/step - loss: 0.0026 - accuracy: 0.9995\n",
      "Epoch 11/100\n",
      "3281948/3281948 [==============================] - 29s 9us/step - loss: 0.0026 - accuracy: 0.9995\n",
      "Epoch 12/100\n",
      "3281948/3281948 [==============================] - 29s 9us/step - loss: 0.0025 - accuracy: 0.9995\n",
      "Epoch 13/100\n",
      "3281948/3281948 [==============================] - 29s 9us/step - loss: 0.0024 - accuracy: 0.9995\n",
      "Epoch 14/100\n",
      "3281948/3281948 [==============================] - 29s 9us/step - loss: 0.0024 - accuracy: 0.9995\n",
      "Epoch 15/100\n",
      "3281948/3281948 [==============================] - 29s 9us/step - loss: 0.0023 - accuracy: 0.9995\n",
      "Epoch 16/100\n",
      "3281948/3281948 [==============================] - 29s 9us/step - loss: 0.0023 - accuracy: 0.9995\n",
      "Epoch 17/100\n",
      "3281948/3281948 [==============================] - 29s 9us/step - loss: 0.0022 - accuracy: 0.9995\n",
      "Epoch 18/100\n",
      "3281948/3281948 [==============================] - 29s 9us/step - loss: 0.0023 - accuracy: 0.9995\n",
      "Epoch 19/100\n",
      "3281948/3281948 [==============================] - 30s 9us/step - loss: 0.0022 - accuracy: 0.9995\n",
      "Epoch 20/100\n",
      "3281948/3281948 [==============================] - 29s 9us/step - loss: 0.0022 - accuracy: 0.9996\n",
      "Epoch 21/100\n",
      "3281948/3281948 [==============================] - 30s 9us/step - loss: 0.0021 - accuracy: 0.9995\n",
      "Epoch 22/100\n",
      "3281948/3281948 [==============================] - 29s 9us/step - loss: 0.0021 - accuracy: 0.9996\n",
      "Epoch 23/100\n",
      "3281948/3281948 [==============================] - 29s 9us/step - loss: 0.0021 - accuracy: 0.9996\n",
      "Epoch 24/100\n",
      "3281948/3281948 [==============================] - 29s 9us/step - loss: 0.0021 - accuracy: 0.9996\n",
      "Epoch 25/100\n",
      "3281948/3281948 [==============================] - 29s 9us/step - loss: 0.0021 - accuracy: 0.9996\n",
      "Epoch 26/100\n",
      "3281948/3281948 [==============================] - 29s 9us/step - loss: 0.0020 - accuracy: 0.9996\n",
      "Epoch 27/100\n",
      "3281948/3281948 [==============================] - 29s 9us/step - loss: 0.0020 - accuracy: 0.9996\n",
      "Epoch 28/100\n",
      "3281948/3281948 [==============================] - ETA: 0s - loss: 0.0020 - accuracy: 0.99 - 30s 9us/step - loss: 0.0020 - accuracy: 0.9996\n",
      "Epoch 29/100\n",
      "3281948/3281948 [==============================] - 29s 9us/step - loss: 0.0020 - accuracy: 0.9996\n",
      "Epoch 30/100\n",
      "3281948/3281948 [==============================] - 30s 9us/step - loss: 0.0020 - accuracy: 0.9996\n",
      "Epoch 31/100\n",
      "3281948/3281948 [==============================] - 29s 9us/step - loss: 0.0020 - accuracy: 0.9996\n",
      "Epoch 32/100\n",
      "3281948/3281948 [==============================] - 29s 9us/step - loss: 0.0020 - accuracy: 0.9996\n",
      "Epoch 33/100\n",
      "3281948/3281948 [==============================] - 29s 9us/step - loss: 0.0020 - accuracy: 0.9996\n",
      "Epoch 34/100\n",
      "3281948/3281948 [==============================] - 29s 9us/step - loss: 0.0020 - accuracy: 0.9996\n",
      "Epoch 35/100\n",
      "3281948/3281948 [==============================] - 29s 9us/step - loss: 0.0020 - accuracy: 0.9996\n",
      "Epoch 36/100\n",
      "3281948/3281948 [==============================] - 28s 9us/step - loss: 0.0020 - accuracy: 0.9996\n",
      "Epoch 37/100\n",
      "3281948/3281948 [==============================] - 29s 9us/step - loss: 0.0020 - accuracy: 0.9996\n",
      "Epoch 38/100\n",
      "3281948/3281948 [==============================] - 29s 9us/step - loss: 0.0020 - accuracy: 0.9996\n",
      "Epoch 39/100\n",
      "3281948/3281948 [==============================] - 29s 9us/step - loss: 0.0020 - accuracy: 0.9996\n",
      "Epoch 40/100\n",
      "3281948/3281948 [==============================] - 29s 9us/step - loss: 0.0019 - accuracy: 0.9996\n",
      "Epoch 41/100\n",
      "3281948/3281948 [==============================] - 29s 9us/step - loss: 0.0019 - accuracy: 0.9996\n",
      "Epoch 42/100\n",
      "3281948/3281948 [==============================] - 29s 9us/step - loss: 0.0020 - accuracy: 0.9996\n",
      "Epoch 43/100\n",
      "3281948/3281948 [==============================] - 28s 9us/step - loss: 0.0020 - accuracy: 0.9996\n",
      "Epoch 44/100\n",
      "3281948/3281948 [==============================] - 29s 9us/step - loss: 0.0020 - accuracy: 0.9996\n",
      "Epoch 45/100\n",
      "3281948/3281948 [==============================] - 29s 9us/step - loss: 0.0019 - accuracy: 0.9996\n",
      "Epoch 46/100\n",
      "3281948/3281948 [==============================] - 29s 9us/step - loss: 0.0019 - accuracy: 0.9996\n",
      "Epoch 47/100\n",
      "3281948/3281948 [==============================] - 29s 9us/step - loss: 0.0020 - accuracy: 0.9996\n",
      "Epoch 48/100\n",
      "3281948/3281948 [==============================] - 29s 9us/step - loss: 0.0019 - accuracy: 0.9996\n",
      "Epoch 49/100\n",
      "3281948/3281948 [==============================] - 29s 9us/step - loss: 0.0019 - accuracy: 0.9996\n",
      "Epoch 50/100\n",
      "3281948/3281948 [==============================] - 28s 9us/step - loss: 0.0020 - accuracy: 0.9996\n",
      "Epoch 51/100\n",
      "3281948/3281948 [==============================] - 29s 9us/step - loss: 0.0019 - accuracy: 0.9996\n",
      "Epoch 52/100\n",
      "3281948/3281948 [==============================] - 29s 9us/step - loss: 0.0019 - accuracy: 0.9996\n",
      "Epoch 53/100\n",
      "3281948/3281948 [==============================] - 29s 9us/step - loss: 0.0019 - accuracy: 0.9996\n",
      "Epoch 54/100\n",
      "3281948/3281948 [==============================] - 29s 9us/step - loss: 0.0019 - accuracy: 0.9996\n",
      "Epoch 55/100\n",
      "3281948/3281948 [==============================] - 29s 9us/step - loss: 0.0019 - accuracy: 0.9996\n",
      "Epoch 56/100\n",
      "3281948/3281948 [==============================] - 29s 9us/step - loss: 0.0019 - accuracy: 0.9996\n",
      "Epoch 57/100\n",
      "3281948/3281948 [==============================] - 29s 9us/step - loss: 0.0019 - accuracy: 0.9996\n",
      "Epoch 58/100\n",
      "3281948/3281948 [==============================] - 29s 9us/step - loss: 0.0019 - accuracy: 0.9996\n",
      "Epoch 59/100\n",
      "3281948/3281948 [==============================] - 29s 9us/step - loss: 0.0019 - accuracy: 0.9996\n",
      "Epoch 60/100\n",
      "3281948/3281948 [==============================] - 29s 9us/step - loss: 0.0019 - accuracy: 0.9996\n",
      "Epoch 61/100\n",
      "3281948/3281948 [==============================] - 29s 9us/step - loss: 0.0019 - accuracy: 0.9996\n",
      "Epoch 62/100\n",
      "3281948/3281948 [==============================] - 29s 9us/step - loss: 0.0019 - accuracy: 0.9996\n",
      "Epoch 63/100\n",
      "3281948/3281948 [==============================] - 29s 9us/step - loss: 0.0019 - accuracy: 0.9996\n",
      "Epoch 64/100\n",
      "3281948/3281948 [==============================] - 29s 9us/step - loss: 0.0019 - accuracy: 0.9996\n",
      "Epoch 65/100\n",
      "3281948/3281948 [==============================] - 29s 9us/step - loss: 0.0019 - accuracy: 0.9996\n",
      "Epoch 66/100\n",
      "3281948/3281948 [==============================] - 29s 9us/step - loss: 0.0019 - accuracy: 0.9996\n",
      "Epoch 67/100\n",
      "3281948/3281948 [==============================] - 30s 9us/step - loss: 0.0019 - accuracy: 0.9996\n",
      "Epoch 68/100\n",
      "3281948/3281948 [==============================] - 29s 9us/step - loss: 0.0019 - accuracy: 0.9996\n",
      "Epoch 69/100\n",
      "3281948/3281948 [==============================] - 29s 9us/step - loss: 0.0019 - accuracy: 0.9996\n",
      "Epoch 70/100\n",
      "3281948/3281948 [==============================] - 30s 9us/step - loss: 0.0019 - accuracy: 0.9996\n",
      "Epoch 71/100\n",
      "3281948/3281948 [==============================] - 29s 9us/step - loss: 0.0019 - accuracy: 0.9996\n",
      "Epoch 72/100\n",
      "3281948/3281948 [==============================] - 29s 9us/step - loss: 0.0019 - accuracy: 0.9996\n",
      "Epoch 73/100\n",
      "3281948/3281948 [==============================] - 29s 9us/step - loss: 0.0019 - accuracy: 0.9996\n",
      "Epoch 74/100\n",
      "3281948/3281948 [==============================] - 30s 9us/step - loss: 0.0019 - accuracy: 0.9996\n",
      "Epoch 75/100\n",
      "3281948/3281948 [==============================] - 29s 9us/step - loss: 0.0019 - accuracy: 0.9996\n",
      "Epoch 76/100\n",
      "3281948/3281948 [==============================] - 29s 9us/step - loss: 0.0019 - accuracy: 0.9996\n",
      "Epoch 77/100\n",
      "3281948/3281948 [==============================] - 29s 9us/step - loss: 0.0019 - accuracy: 0.9996\n",
      "Epoch 78/100\n",
      "3281948/3281948 [==============================] - 29s 9us/step - loss: 0.0019 - accuracy: 0.9996\n",
      "Epoch 79/100\n",
      "3281948/3281948 [==============================] - 29s 9us/step - loss: 0.0018 - accuracy: 0.9996\n",
      "Epoch 80/100\n",
      "3281948/3281948 [==============================] - 29s 9us/step - loss: 0.0019 - accuracy: 0.9996\n",
      "Epoch 81/100\n",
      "3281948/3281948 [==============================] - 29s 9us/step - loss: 0.0018 - accuracy: 0.9996\n",
      "Epoch 82/100\n",
      "3281948/3281948 [==============================] - 29s 9us/step - loss: 0.0019 - accuracy: 0.9996\n",
      "Epoch 83/100\n",
      "3281948/3281948 [==============================] - 29s 9us/step - loss: 0.0018 - accuracy: 0.9996\n",
      "Epoch 84/100\n",
      "3281948/3281948 [==============================] - 29s 9us/step - loss: 0.0018 - accuracy: 0.9996\n",
      "Epoch 85/100\n",
      "3281948/3281948 [==============================] - 29s 9us/step - loss: 0.0019 - accuracy: 0.9996\n",
      "Epoch 86/100\n",
      "3281948/3281948 [==============================] - 29s 9us/step - loss: 0.0019 - accuracy: 0.9996\n",
      "Epoch 87/100\n",
      "3281948/3281948 [==============================] - 29s 9us/step - loss: 0.0019 - accuracy: 0.9996\n",
      "Epoch 88/100\n",
      "3281948/3281948 [==============================] - 29s 9us/step - loss: 0.0019 - accuracy: 0.9996\n",
      "Epoch 89/100\n",
      "3281948/3281948 [==============================] - 29s 9us/step - loss: 0.0019 - accuracy: 0.9996\n",
      "Epoch 90/100\n",
      "3281948/3281948 [==============================] - 30s 9us/step - loss: 0.0019 - accuracy: 0.9996\n",
      "Epoch 91/100\n",
      "3281948/3281948 [==============================] - 29s 9us/step - loss: 0.0019 - accuracy: 0.9996\n",
      "Epoch 92/100\n",
      "3281948/3281948 [==============================] - 29s 9us/step - loss: 0.0019 - accuracy: 0.9996\n",
      "Epoch 93/100\n",
      "3281948/3281948 [==============================] - 29s 9us/step - loss: 0.0019 - accuracy: 0.9996\n",
      "Epoch 94/100\n",
      "3281948/3281948 [==============================] - 29s 9us/step - loss: 0.0019 - accuracy: 0.9996\n",
      "Epoch 95/100\n",
      "3281948/3281948 [==============================] - 29s 9us/step - loss: 0.0019 - accuracy: 0.9996\n",
      "Epoch 96/100\n",
      "3281948/3281948 [==============================] - 29s 9us/step - loss: 0.0019 - accuracy: 0.9996\n",
      "Epoch 97/100\n",
      "3281948/3281948 [==============================] - 29s 9us/step - loss: 0.0019 - accuracy: 0.9996\n",
      "Epoch 98/100\n",
      "3281948/3281948 [==============================] - 29s 9us/step - loss: 0.0019 - accuracy: 0.9996\n",
      "Epoch 99/100\n",
      "3281948/3281948 [==============================] - 29s 9us/step - loss: 0.0019 - accuracy: 0.9996\n",
      "Epoch 100/100\n",
      "3281948/3281948 [==============================] - 29s 9us/step - loss: 0.0019 - accuracy: 0.9996\n"
     ]
    }
   ],
   "source": [
    "start = time.time()\n",
    "KC.fit(X_train, Y_train.values.ravel())\n",
    "end = time.time()"
   ]
  },
  {
   "cell_type": "code",
   "execution_count": 140,
   "metadata": {},
   "outputs": [
    {
     "name": "stdout",
     "output_type": "stream",
     "text": [
      "Training time\n",
      "2900.1601164340973\n"
     ]
    }
   ],
   "source": [
    "print('Training time')\n",
    "print((end-start))"
   ]
  },
  {
   "cell_type": "code",
   "execution_count": 141,
   "metadata": {},
   "outputs": [
    {
     "name": "stdout",
     "output_type": "stream",
     "text": [
      "Testing time:  4.322932958602905\n"
     ]
    }
   ],
   "source": [
    "start_time = time.time()\n",
    "Y_test_pred_KC = KC.predict(X_test)\n",
    "end_time = time.time()\n",
    "print(\"Testing time: \",end_time-start_time)"
   ]
  },
  {
   "cell_type": "code",
   "execution_count": 142,
   "metadata": {},
   "outputs": [
    {
     "name": "stdout",
     "output_type": "stream",
     "text": [
      "0.9995837837771957\n",
      "0.9995403601522564\n"
     ]
    }
   ],
   "source": [
    "start_time = time.time()\n",
    "Y_train_pred_KC = KC.predict(X_train)\n",
    "end_time = time.time()\n",
    "print(accuracy_score(Y_train,Y_train_pred_KC))\n",
    "print(accuracy_score(Y_test,Y_test_pred_KC))"
   ]
  },
  {
   "cell_type": "code",
   "execution_count": 143,
   "metadata": {},
   "outputs": [
    {
     "name": "stderr",
     "output_type": "stream",
     "text": [
      "C:\\Users\\Mohab\\Anaconda3\\lib\\site-packages\\sklearn\\metrics\\classification.py:1437: UndefinedMetricWarning: Precision and F-score are ill-defined and being set to 0.0 in labels with no predicted samples.\n",
      "  'precision', 'predicted', average, warn_for)\n"
     ]
    },
    {
     "name": "stdout",
     "output_type": "stream",
     "text": [
      "              precision    recall  f1-score   support\n",
      "\n",
      "         dos       1.00      1.00      1.00   1281483\n",
      "      normal       1.00      1.00      1.00    321021\n",
      "       probe       0.97      0.99      0.98     13594\n",
      "         r2l       0.00      0.00      0.00       365\n",
      "         u2r       0.00      0.00      0.00        20\n",
      "\n",
      "    accuracy                           1.00   1616483\n",
      "   macro avg       0.59      0.60      0.60   1616483\n",
      "weighted avg       1.00      1.00      1.00   1616483\n",
      "\n"
     ]
    }
   ],
   "source": [
    "print(sklearn.metrics.classification_report(Y_test, Y_test_pred_KC))"
   ]
  },
  {
   "cell_type": "code",
   "execution_count": null,
   "metadata": {},
   "outputs": [],
   "source": []
  }
 ],
 "metadata": {
  "kernelspec": {
   "display_name": "Python 3",
   "language": "python",
   "name": "python3"
  },
  "language_info": {
   "codemirror_mode": {
    "name": "ipython",
    "version": 3
   },
   "file_extension": ".py",
   "mimetype": "text/x-python",
   "name": "python",
   "nbconvert_exporter": "python",
   "pygments_lexer": "ipython3",
   "version": "3.7.4"
  }
 },
 "nbformat": 4,
 "nbformat_minor": 4
}
