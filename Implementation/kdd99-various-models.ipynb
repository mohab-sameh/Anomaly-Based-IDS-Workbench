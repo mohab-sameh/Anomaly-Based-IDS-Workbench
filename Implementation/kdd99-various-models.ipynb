{
 "cells": [
  {
   "cell_type": "code",
   "execution_count": 6,
   "metadata": {},
   "outputs": [],
   "source": [
    "import os\n",
    "import pandas as pd\n",
    "import numpy as np\n",
    "import matplotlib.pyplot as plt\n",
    "import seaborn as sns\n",
    "import time"
   ]
  },
  {
   "cell_type": "code",
   "execution_count": 7,
   "metadata": {},
   "outputs": [
    {
     "name": "stdout",
     "output_type": "stream",
     "text": [
      "42\n"
     ]
    }
   ],
   "source": [
    "cols=\"\"\"duration,\n",
    "protocol_type,\n",
    "service,\n",
    "flag,\n",
    "src_bytes,\n",
    "dst_bytes,\n",
    "land,\n",
    "wrong_fragment,\n",
    "urgent,\n",
    "hot,\n",
    "num_failed_logins,\n",
    "logged_in,\n",
    "num_compromised,\n",
    "root_shell,\n",
    "su_attempted,\n",
    "num_root,\n",
    "num_file_creations,\n",
    "num_shells,\n",
    "num_access_files,\n",
    "num_outbound_cmds,\n",
    "is_host_login,\n",
    "is_guest_login,\n",
    "count,\n",
    "srv_count,\n",
    "serror_rate,\n",
    "srv_serror_rate,\n",
    "rerror_rate,\n",
    "srv_rerror_rate,\n",
    "same_srv_rate,\n",
    "diff_srv_rate,\n",
    "srv_diff_host_rate,\n",
    "dst_host_count,\n",
    "dst_host_srv_count,\n",
    "dst_host_same_srv_rate,\n",
    "dst_host_diff_srv_rate,\n",
    "dst_host_same_src_port_rate,\n",
    "dst_host_srv_diff_host_rate,\n",
    "dst_host_serror_rate,\n",
    "dst_host_srv_serror_rate,\n",
    "dst_host_rerror_rate,\n",
    "dst_host_srv_rerror_rate\"\"\"\n",
    "\n",
    "columns=[]\n",
    "for c in cols.split(','):\n",
    "    if(c.strip()):\n",
    "       columns.append(c.strip())\n",
    "\n",
    "columns.append('target')\n",
    "#print(columns)\n",
    "print(len(columns))"
   ]
  },
  {
   "cell_type": "code",
   "execution_count": 8,
   "metadata": {},
   "outputs": [],
   "source": [
    "attacks_types = {\n",
    "    'normal': 'normal',\n",
    "'back': 'dos',\n",
    "'buffer_overflow': 'u2r',\n",
    "'ftp_write': 'r2l',\n",
    "'guess_passwd': 'r2l',\n",
    "'imap': 'r2l',\n",
    "'ipsweep': 'probe',\n",
    "'land': 'dos',\n",
    "'loadmodule': 'u2r',\n",
    "'multihop': 'r2l',\n",
    "'neptune': 'dos',\n",
    "'nmap': 'probe',\n",
    "'perl': 'u2r',\n",
    "'phf': 'r2l',\n",
    "'pod': 'dos',\n",
    "'portsweep': 'probe',\n",
    "'rootkit': 'u2r',\n",
    "'satan': 'probe',\n",
    "'smurf': 'dos',\n",
    "'spy': 'r2l',\n",
    "'teardrop': 'dos',\n",
    "'warezclient': 'r2l',\n",
    "'warezmaster': 'r2l',\n",
    "}\n"
   ]
  },
  {
   "cell_type": "code",
   "execution_count": 9,
   "metadata": {},
   "outputs": [
    {
     "data": {
      "text/html": [
       "<div>\n",
       "<style scoped>\n",
       "    .dataframe tbody tr th:only-of-type {\n",
       "        vertical-align: middle;\n",
       "    }\n",
       "\n",
       "    .dataframe tbody tr th {\n",
       "        vertical-align: top;\n",
       "    }\n",
       "\n",
       "    .dataframe thead th {\n",
       "        text-align: right;\n",
       "    }\n",
       "</style>\n",
       "<table border=\"1\" class=\"dataframe\">\n",
       "  <thead>\n",
       "    <tr style=\"text-align: right;\">\n",
       "      <th></th>\n",
       "      <th>duration</th>\n",
       "      <th>protocol_type</th>\n",
       "      <th>service</th>\n",
       "      <th>flag</th>\n",
       "      <th>src_bytes</th>\n",
       "      <th>dst_bytes</th>\n",
       "      <th>land</th>\n",
       "      <th>wrong_fragment</th>\n",
       "      <th>urgent</th>\n",
       "      <th>hot</th>\n",
       "      <th>...</th>\n",
       "      <th>dst_host_same_srv_rate</th>\n",
       "      <th>dst_host_diff_srv_rate</th>\n",
       "      <th>dst_host_same_src_port_rate</th>\n",
       "      <th>dst_host_srv_diff_host_rate</th>\n",
       "      <th>dst_host_serror_rate</th>\n",
       "      <th>dst_host_srv_serror_rate</th>\n",
       "      <th>dst_host_rerror_rate</th>\n",
       "      <th>dst_host_srv_rerror_rate</th>\n",
       "      <th>target</th>\n",
       "      <th>Attack Type</th>\n",
       "    </tr>\n",
       "  </thead>\n",
       "  <tbody>\n",
       "    <tr>\n",
       "      <td>0</td>\n",
       "      <td>0</td>\n",
       "      <td>tcp</td>\n",
       "      <td>http</td>\n",
       "      <td>SF</td>\n",
       "      <td>181</td>\n",
       "      <td>5450</td>\n",
       "      <td>0</td>\n",
       "      <td>0</td>\n",
       "      <td>0</td>\n",
       "      <td>0</td>\n",
       "      <td>...</td>\n",
       "      <td>1.0</td>\n",
       "      <td>0.0</td>\n",
       "      <td>0.11</td>\n",
       "      <td>0.0</td>\n",
       "      <td>0.0</td>\n",
       "      <td>0.0</td>\n",
       "      <td>0.0</td>\n",
       "      <td>0.0</td>\n",
       "      <td>normal.</td>\n",
       "      <td>normal</td>\n",
       "    </tr>\n",
       "    <tr>\n",
       "      <td>1</td>\n",
       "      <td>0</td>\n",
       "      <td>tcp</td>\n",
       "      <td>http</td>\n",
       "      <td>SF</td>\n",
       "      <td>239</td>\n",
       "      <td>486</td>\n",
       "      <td>0</td>\n",
       "      <td>0</td>\n",
       "      <td>0</td>\n",
       "      <td>0</td>\n",
       "      <td>...</td>\n",
       "      <td>1.0</td>\n",
       "      <td>0.0</td>\n",
       "      <td>0.05</td>\n",
       "      <td>0.0</td>\n",
       "      <td>0.0</td>\n",
       "      <td>0.0</td>\n",
       "      <td>0.0</td>\n",
       "      <td>0.0</td>\n",
       "      <td>normal.</td>\n",
       "      <td>normal</td>\n",
       "    </tr>\n",
       "    <tr>\n",
       "      <td>2</td>\n",
       "      <td>0</td>\n",
       "      <td>tcp</td>\n",
       "      <td>http</td>\n",
       "      <td>SF</td>\n",
       "      <td>235</td>\n",
       "      <td>1337</td>\n",
       "      <td>0</td>\n",
       "      <td>0</td>\n",
       "      <td>0</td>\n",
       "      <td>0</td>\n",
       "      <td>...</td>\n",
       "      <td>1.0</td>\n",
       "      <td>0.0</td>\n",
       "      <td>0.03</td>\n",
       "      <td>0.0</td>\n",
       "      <td>0.0</td>\n",
       "      <td>0.0</td>\n",
       "      <td>0.0</td>\n",
       "      <td>0.0</td>\n",
       "      <td>normal.</td>\n",
       "      <td>normal</td>\n",
       "    </tr>\n",
       "    <tr>\n",
       "      <td>3</td>\n",
       "      <td>0</td>\n",
       "      <td>tcp</td>\n",
       "      <td>http</td>\n",
       "      <td>SF</td>\n",
       "      <td>219</td>\n",
       "      <td>1337</td>\n",
       "      <td>0</td>\n",
       "      <td>0</td>\n",
       "      <td>0</td>\n",
       "      <td>0</td>\n",
       "      <td>...</td>\n",
       "      <td>1.0</td>\n",
       "      <td>0.0</td>\n",
       "      <td>0.03</td>\n",
       "      <td>0.0</td>\n",
       "      <td>0.0</td>\n",
       "      <td>0.0</td>\n",
       "      <td>0.0</td>\n",
       "      <td>0.0</td>\n",
       "      <td>normal.</td>\n",
       "      <td>normal</td>\n",
       "    </tr>\n",
       "    <tr>\n",
       "      <td>4</td>\n",
       "      <td>0</td>\n",
       "      <td>tcp</td>\n",
       "      <td>http</td>\n",
       "      <td>SF</td>\n",
       "      <td>217</td>\n",
       "      <td>2032</td>\n",
       "      <td>0</td>\n",
       "      <td>0</td>\n",
       "      <td>0</td>\n",
       "      <td>0</td>\n",
       "      <td>...</td>\n",
       "      <td>1.0</td>\n",
       "      <td>0.0</td>\n",
       "      <td>0.02</td>\n",
       "      <td>0.0</td>\n",
       "      <td>0.0</td>\n",
       "      <td>0.0</td>\n",
       "      <td>0.0</td>\n",
       "      <td>0.0</td>\n",
       "      <td>normal.</td>\n",
       "      <td>normal</td>\n",
       "    </tr>\n",
       "  </tbody>\n",
       "</table>\n",
       "<p>5 rows × 43 columns</p>\n",
       "</div>"
      ],
      "text/plain": [
       "   duration protocol_type service flag  src_bytes  dst_bytes  land  \\\n",
       "0         0           tcp    http   SF        181       5450     0   \n",
       "1         0           tcp    http   SF        239        486     0   \n",
       "2         0           tcp    http   SF        235       1337     0   \n",
       "3         0           tcp    http   SF        219       1337     0   \n",
       "4         0           tcp    http   SF        217       2032     0   \n",
       "\n",
       "   wrong_fragment  urgent  hot  ...  dst_host_same_srv_rate  \\\n",
       "0               0       0    0  ...                     1.0   \n",
       "1               0       0    0  ...                     1.0   \n",
       "2               0       0    0  ...                     1.0   \n",
       "3               0       0    0  ...                     1.0   \n",
       "4               0       0    0  ...                     1.0   \n",
       "\n",
       "   dst_host_diff_srv_rate  dst_host_same_src_port_rate  \\\n",
       "0                     0.0                         0.11   \n",
       "1                     0.0                         0.05   \n",
       "2                     0.0                         0.03   \n",
       "3                     0.0                         0.03   \n",
       "4                     0.0                         0.02   \n",
       "\n",
       "   dst_host_srv_diff_host_rate  dst_host_serror_rate  \\\n",
       "0                          0.0                   0.0   \n",
       "1                          0.0                   0.0   \n",
       "2                          0.0                   0.0   \n",
       "3                          0.0                   0.0   \n",
       "4                          0.0                   0.0   \n",
       "\n",
       "   dst_host_srv_serror_rate  dst_host_rerror_rate  dst_host_srv_rerror_rate  \\\n",
       "0                       0.0                   0.0                       0.0   \n",
       "1                       0.0                   0.0                       0.0   \n",
       "2                       0.0                   0.0                       0.0   \n",
       "3                       0.0                   0.0                       0.0   \n",
       "4                       0.0                   0.0                       0.0   \n",
       "\n",
       "    target  Attack Type  \n",
       "0  normal.       normal  \n",
       "1  normal.       normal  \n",
       "2  normal.       normal  \n",
       "3  normal.       normal  \n",
       "4  normal.       normal  \n",
       "\n",
       "[5 rows x 43 columns]"
      ]
     },
     "execution_count": 9,
     "metadata": {},
     "output_type": "execute_result"
    }
   ],
   "source": [
    "path = \"kddcup.data_10_percent.gz\"\n",
    "df = pd.read_csv(path,names=columns)\n",
    "\n",
    "#Adding Attack Type column\n",
    "df['Attack Type'] = df.target.apply(lambda r:attacks_types[r[:-1]])\n",
    "\n",
    "df.head()"
   ]
  },
  {
   "cell_type": "code",
   "execution_count": 10,
   "metadata": {},
   "outputs": [
    {
     "data": {
      "text/plain": [
       "(494021, 43)"
      ]
     },
     "execution_count": 10,
     "metadata": {},
     "output_type": "execute_result"
    }
   ],
   "source": [
    "df.shape"
   ]
  },
  {
   "cell_type": "code",
   "execution_count": 11,
   "metadata": {},
   "outputs": [
    {
     "data": {
      "text/plain": [
       "smurf.              280790\n",
       "neptune.            107201\n",
       "normal.              97278\n",
       "back.                 2203\n",
       "satan.                1589\n",
       "ipsweep.              1247\n",
       "portsweep.            1040\n",
       "warezclient.          1020\n",
       "teardrop.              979\n",
       "pod.                   264\n",
       "nmap.                  231\n",
       "guess_passwd.           53\n",
       "buffer_overflow.        30\n",
       "land.                   21\n",
       "warezmaster.            20\n",
       "imap.                   12\n",
       "rootkit.                10\n",
       "loadmodule.              9\n",
       "ftp_write.               8\n",
       "multihop.                7\n",
       "phf.                     4\n",
       "perl.                    3\n",
       "spy.                     2\n",
       "Name: target, dtype: int64"
      ]
     },
     "execution_count": 11,
     "metadata": {},
     "output_type": "execute_result"
    }
   ],
   "source": [
    "df['target'].value_counts()"
   ]
  },
  {
   "cell_type": "code",
   "execution_count": 12,
   "metadata": {},
   "outputs": [
    {
     "data": {
      "text/plain": [
       "dos       391458\n",
       "normal     97278\n",
       "probe       4107\n",
       "r2l         1126\n",
       "u2r           52\n",
       "Name: Attack Type, dtype: int64"
      ]
     },
     "execution_count": 12,
     "metadata": {},
     "output_type": "execute_result"
    }
   ],
   "source": [
    "df['Attack Type'].value_counts()"
   ]
  },
  {
   "cell_type": "code",
   "execution_count": 13,
   "metadata": {},
   "outputs": [
    {
     "data": {
      "text/plain": [
       "duration                         int64\n",
       "protocol_type                   object\n",
       "service                         object\n",
       "flag                            object\n",
       "src_bytes                        int64\n",
       "dst_bytes                        int64\n",
       "land                             int64\n",
       "wrong_fragment                   int64\n",
       "urgent                           int64\n",
       "hot                              int64\n",
       "num_failed_logins                int64\n",
       "logged_in                        int64\n",
       "num_compromised                  int64\n",
       "root_shell                       int64\n",
       "su_attempted                     int64\n",
       "num_root                         int64\n",
       "num_file_creations               int64\n",
       "num_shells                       int64\n",
       "num_access_files                 int64\n",
       "num_outbound_cmds                int64\n",
       "is_host_login                    int64\n",
       "is_guest_login                   int64\n",
       "count                            int64\n",
       "srv_count                        int64\n",
       "serror_rate                    float64\n",
       "srv_serror_rate                float64\n",
       "rerror_rate                    float64\n",
       "srv_rerror_rate                float64\n",
       "same_srv_rate                  float64\n",
       "diff_srv_rate                  float64\n",
       "srv_diff_host_rate             float64\n",
       "dst_host_count                   int64\n",
       "dst_host_srv_count               int64\n",
       "dst_host_same_srv_rate         float64\n",
       "dst_host_diff_srv_rate         float64\n",
       "dst_host_same_src_port_rate    float64\n",
       "dst_host_srv_diff_host_rate    float64\n",
       "dst_host_serror_rate           float64\n",
       "dst_host_srv_serror_rate       float64\n",
       "dst_host_rerror_rate           float64\n",
       "dst_host_srv_rerror_rate       float64\n",
       "target                          object\n",
       "Attack Type                     object\n",
       "dtype: object"
      ]
     },
     "execution_count": 13,
     "metadata": {},
     "output_type": "execute_result"
    }
   ],
   "source": [
    "df.dtypes"
   ]
  },
  {
   "cell_type": "code",
   "execution_count": 14,
   "metadata": {},
   "outputs": [
    {
     "data": {
      "text/plain": [
       "duration                       0\n",
       "protocol_type                  0\n",
       "service                        0\n",
       "flag                           0\n",
       "src_bytes                      0\n",
       "dst_bytes                      0\n",
       "land                           0\n",
       "wrong_fragment                 0\n",
       "urgent                         0\n",
       "hot                            0\n",
       "num_failed_logins              0\n",
       "logged_in                      0\n",
       "num_compromised                0\n",
       "root_shell                     0\n",
       "su_attempted                   0\n",
       "num_root                       0\n",
       "num_file_creations             0\n",
       "num_shells                     0\n",
       "num_access_files               0\n",
       "num_outbound_cmds              0\n",
       "is_host_login                  0\n",
       "is_guest_login                 0\n",
       "count                          0\n",
       "srv_count                      0\n",
       "serror_rate                    0\n",
       "srv_serror_rate                0\n",
       "rerror_rate                    0\n",
       "srv_rerror_rate                0\n",
       "same_srv_rate                  0\n",
       "diff_srv_rate                  0\n",
       "srv_diff_host_rate             0\n",
       "dst_host_count                 0\n",
       "dst_host_srv_count             0\n",
       "dst_host_same_srv_rate         0\n",
       "dst_host_diff_srv_rate         0\n",
       "dst_host_same_src_port_rate    0\n",
       "dst_host_srv_diff_host_rate    0\n",
       "dst_host_serror_rate           0\n",
       "dst_host_srv_serror_rate       0\n",
       "dst_host_rerror_rate           0\n",
       "dst_host_srv_rerror_rate       0\n",
       "target                         0\n",
       "Attack Type                    0\n",
       "dtype: int64"
      ]
     },
     "execution_count": 14,
     "metadata": {},
     "output_type": "execute_result"
    }
   ],
   "source": [
    "df.isnull().sum()"
   ]
  },
  {
   "cell_type": "code",
   "execution_count": 15,
   "metadata": {},
   "outputs": [
    {
     "data": {
      "text/plain": [
       "['service', 'protocol_type', 'flag']"
      ]
     },
     "execution_count": 15,
     "metadata": {},
     "output_type": "execute_result"
    }
   ],
   "source": [
    "#Finding categorical features\n",
    "num_cols = df._get_numeric_data().columns\n",
    "\n",
    "cate_cols = list(set(df.columns)-set(num_cols))\n",
    "cate_cols.remove('target')\n",
    "cate_cols.remove('Attack Type')\n",
    "\n",
    "cate_cols"
   ]
  },
  {
   "cell_type": "code",
   "execution_count": 16,
   "metadata": {},
   "outputs": [],
   "source": [
    "#Visualization\n",
    "def bar_graph(feature):\n",
    "    df[feature].value_counts().plot(kind=\"bar\")"
   ]
  },
  {
   "cell_type": "code",
   "execution_count": 17,
   "metadata": {},
   "outputs": [
    {
     "data": {
      "image/png": "[encoded data removed]",
      "text/plain": [
       "<Figure size 432x288 with 1 Axes>"
      ]
     },
     "metadata": {
      "needs_background": "light"
     },
     "output_type": "display_data"
    }
   ],
   "source": [
    "bar_graph('protocol_type')"
   ]
  },
  {
   "cell_type": "code",
   "execution_count": 18,
   "metadata": {},
   "outputs": [
    {
     "data": {
      "image/png": "[encoded data removed]",
      "text/plain": [
       "<Figure size 1080x216 with 1 Axes>"
      ]
     },
     "metadata": {
      "needs_background": "light"
     },
     "output_type": "display_data"
    }
   ],
   "source": [
    "plt.figure(figsize=(15,3))\n",
    "bar_graph('service')"
   ]
  },
  {
   "cell_type": "code",
   "execution_count": 19,
   "metadata": {},
   "outputs": [
    {
     "data": {
      "image/png": "[encoded data removed]",
      "text/plain": [
       "<Figure size 432x288 with 1 Axes>"
      ]
     },
     "metadata": {
      "needs_background": "light"
     },
     "output_type": "display_data"
    }
   ],
   "source": [
    "bar_graph('logged_in')"
   ]
  },
  {
   "cell_type": "code",
   "execution_count": 20,
   "metadata": {},
   "outputs": [
    {
     "data": {
      "image/png": "[encoded data removed]",
      "text/plain": [
       "<Figure size 432x288 with 1 Axes>"
      ]
     },
     "metadata": {
      "needs_background": "light"
     },
     "output_type": "display_data"
    }
   ],
   "source": [
    "bar_graph('target')"
   ]
  },
  {
   "cell_type": "code",
   "execution_count": 21,
   "metadata": {},
   "outputs": [
    {
     "data": {
      "image/png": "[encoded data removed]",
      "text/plain": [
       "<Figure size 432x288 with 1 Axes>"
      ]
     },
     "metadata": {
      "needs_background": "light"
     },
     "output_type": "display_data"
    }
   ],
   "source": [
    "bar_graph('Attack Type')"
   ]
  },
  {
   "cell_type": "code",
   "execution_count": 22,
   "metadata": {},
   "outputs": [
    {
     "data": {
      "text/plain": [
       "Index(['duration', 'protocol_type', 'service', 'flag', 'src_bytes',\n",
       "       'dst_bytes', 'land', 'wrong_fragment', 'urgent', 'hot',\n",
       "       'num_failed_logins', 'logged_in', 'num_compromised', 'root_shell',\n",
       "       'su_attempted', 'num_root', 'num_file_creations', 'num_shells',\n",
       "       'num_access_files', 'num_outbound_cmds', 'is_host_login',\n",
       "       'is_guest_login', 'count', 'srv_count', 'serror_rate',\n",
       "       'srv_serror_rate', 'rerror_rate', 'srv_rerror_rate', 'same_srv_rate',\n",
       "       'diff_srv_rate', 'srv_diff_host_rate', 'dst_host_count',\n",
       "       'dst_host_srv_count', 'dst_host_same_srv_rate',\n",
       "       'dst_host_diff_srv_rate', 'dst_host_same_src_port_rate',\n",
       "       'dst_host_srv_diff_host_rate', 'dst_host_serror_rate',\n",
       "       'dst_host_srv_serror_rate', 'dst_host_rerror_rate',\n",
       "       'dst_host_srv_rerror_rate', 'target', 'Attack Type'],\n",
       "      dtype='object')"
      ]
     },
     "execution_count": 22,
     "metadata": {},
     "output_type": "execute_result"
    }
   ],
   "source": [
    "df.columns"
   ]
  },
  {
   "cell_type": "code",
   "execution_count": 23,
   "metadata": {},
   "outputs": [
    {
     "data": {
      "image/png": "[encoded data removed]",
      "text/plain": [
       "<Figure size 1080x864 with 2 Axes>"
      ]
     },
     "metadata": {
      "needs_background": "light"
     },
     "output_type": "display_data"
    }
   ],
   "source": [
    "df = df.dropna('columns')# drop columns with NaN\n",
    "\n",
    "df = df[[col for col in df if df[col].nunique() > 1]]# keep columns where there are more than 1 unique values\n",
    "\n",
    "corr = df.corr()\n",
    "\n",
    "plt.figure(figsize=(15,12))\n",
    "\n",
    "sns.heatmap(corr)\n",
    "\n",
    "plt.show()"
   ]
  },
  {
   "cell_type": "code",
   "execution_count": 24,
   "metadata": {},
   "outputs": [
    {
     "data": {
      "text/plain": [
       "urgent                              0.005510\n",
       "land                                0.006673\n",
       "su_attempted                        0.007793\n",
       "root_shell                          0.010551\n",
       "num_shells                          0.011020\n",
       "num_failed_logins                   0.015520\n",
       "num_access_files                    0.036482\n",
       "is_guest_login                      0.037211\n",
       "dst_host_srv_diff_host_rate         0.042133\n",
       "diff_srv_rate                       0.082205\n",
       "num_file_creations                  0.096416\n",
       "dst_host_diff_srv_rate              0.109259\n",
       "wrong_fragment                      0.134805\n",
       "srv_diff_host_rate                  0.142397\n",
       "dst_host_srv_rerror_rate            0.230140\n",
       "dst_host_rerror_rate                0.230590\n",
       "rerror_rate                         0.231623\n",
       "srv_rerror_rate                     0.232147\n",
       "logged_in                           0.355345\n",
       "dst_host_serror_rate                0.380593\n",
       "serror_rate                         0.380717\n",
       "dst_host_srv_serror_rate            0.380919\n",
       "srv_serror_rate                     0.381017\n",
       "same_srv_rate                       0.388189\n",
       "dst_host_same_srv_rate              0.410781\n",
       "dst_host_same_src_port_rate         0.481309\n",
       "hot                                 0.782103\n",
       "num_compromised                     1.798326\n",
       "num_root                            2.012718\n",
       "dst_host_count                     64.745380\n",
       "dst_host_srv_count                106.040437\n",
       "count                             213.147412\n",
       "srv_count                         246.322817\n",
       "duration                          707.746472\n",
       "dst_bytes                       33040.001252\n",
       "src_bytes                      988218.101045\n",
       "dtype: float64"
      ]
     },
     "execution_count": 24,
     "metadata": {},
     "output_type": "execute_result"
    }
   ],
   "source": [
    "df_std = df.std()\n",
    "df_std = df_std.sort_values(ascending = True)\n",
    "df_std"
   ]
  },
  {
   "cell_type": "code",
   "execution_count": 25,
   "metadata": {},
   "outputs": [
    {
     "data": {
      "text/plain": [
       "icmp    283602\n",
       "tcp     190065\n",
       "udp      20354\n",
       "Name: protocol_type, dtype: int64"
      ]
     },
     "execution_count": 25,
     "metadata": {},
     "output_type": "execute_result"
    }
   ],
   "source": [
    "df['protocol_type'].value_counts()"
   ]
  },
  {
   "cell_type": "code",
   "execution_count": 26,
   "metadata": {},
   "outputs": [],
   "source": [
    "#protocol_type feature mapping\n",
    "pmap = {'icmp':0,'tcp':1,'udp':2}\n",
    "df['protocol_type'] = df['protocol_type'].map(pmap)"
   ]
  },
  {
   "cell_type": "code",
   "execution_count": 27,
   "metadata": {},
   "outputs": [],
   "source": [
    "#flag feature mapping\n",
    "fmap = {'SF':0,'S0':1,'REJ':2,'RSTR':3,'RSTO':4,'SH':5 ,'S1':6 ,'S2':7,'RSTOS0':8,'S3':9 ,'OTH':10}\n",
    "df['flag'] = df['flag'].map(fmap)"
   ]
  },
  {
   "cell_type": "code",
   "execution_count": 28,
   "metadata": {},
   "outputs": [
    {
     "data": {
      "text/html": [
       "<div>\n",
       "<style scoped>\n",
       "    .dataframe tbody tr th:only-of-type {\n",
       "        vertical-align: middle;\n",
       "    }\n",
       "\n",
       "    .dataframe tbody tr th {\n",
       "        vertical-align: top;\n",
       "    }\n",
       "\n",
       "    .dataframe thead th {\n",
       "        text-align: right;\n",
       "    }\n",
       "</style>\n",
       "<table border=\"1\" class=\"dataframe\">\n",
       "  <thead>\n",
       "    <tr style=\"text-align: right;\">\n",
       "      <th></th>\n",
       "      <th>duration</th>\n",
       "      <th>protocol_type</th>\n",
       "      <th>service</th>\n",
       "      <th>flag</th>\n",
       "      <th>src_bytes</th>\n",
       "      <th>dst_bytes</th>\n",
       "      <th>land</th>\n",
       "      <th>wrong_fragment</th>\n",
       "      <th>urgent</th>\n",
       "      <th>hot</th>\n",
       "      <th>...</th>\n",
       "      <th>dst_host_same_srv_rate</th>\n",
       "      <th>dst_host_diff_srv_rate</th>\n",
       "      <th>dst_host_same_src_port_rate</th>\n",
       "      <th>dst_host_srv_diff_host_rate</th>\n",
       "      <th>dst_host_serror_rate</th>\n",
       "      <th>dst_host_srv_serror_rate</th>\n",
       "      <th>dst_host_rerror_rate</th>\n",
       "      <th>dst_host_srv_rerror_rate</th>\n",
       "      <th>target</th>\n",
       "      <th>Attack Type</th>\n",
       "    </tr>\n",
       "  </thead>\n",
       "  <tbody>\n",
       "    <tr>\n",
       "      <td>0</td>\n",
       "      <td>0</td>\n",
       "      <td>1</td>\n",
       "      <td>http</td>\n",
       "      <td>0</td>\n",
       "      <td>181</td>\n",
       "      <td>5450</td>\n",
       "      <td>0</td>\n",
       "      <td>0</td>\n",
       "      <td>0</td>\n",
       "      <td>0</td>\n",
       "      <td>...</td>\n",
       "      <td>1.0</td>\n",
       "      <td>0.0</td>\n",
       "      <td>0.11</td>\n",
       "      <td>0.0</td>\n",
       "      <td>0.0</td>\n",
       "      <td>0.0</td>\n",
       "      <td>0.0</td>\n",
       "      <td>0.0</td>\n",
       "      <td>normal.</td>\n",
       "      <td>normal</td>\n",
       "    </tr>\n",
       "    <tr>\n",
       "      <td>1</td>\n",
       "      <td>0</td>\n",
       "      <td>1</td>\n",
       "      <td>http</td>\n",
       "      <td>0</td>\n",
       "      <td>239</td>\n",
       "      <td>486</td>\n",
       "      <td>0</td>\n",
       "      <td>0</td>\n",
       "      <td>0</td>\n",
       "      <td>0</td>\n",
       "      <td>...</td>\n",
       "      <td>1.0</td>\n",
       "      <td>0.0</td>\n",
       "      <td>0.05</td>\n",
       "      <td>0.0</td>\n",
       "      <td>0.0</td>\n",
       "      <td>0.0</td>\n",
       "      <td>0.0</td>\n",
       "      <td>0.0</td>\n",
       "      <td>normal.</td>\n",
       "      <td>normal</td>\n",
       "    </tr>\n",
       "    <tr>\n",
       "      <td>2</td>\n",
       "      <td>0</td>\n",
       "      <td>1</td>\n",
       "      <td>http</td>\n",
       "      <td>0</td>\n",
       "      <td>235</td>\n",
       "      <td>1337</td>\n",
       "      <td>0</td>\n",
       "      <td>0</td>\n",
       "      <td>0</td>\n",
       "      <td>0</td>\n",
       "      <td>...</td>\n",
       "      <td>1.0</td>\n",
       "      <td>0.0</td>\n",
       "      <td>0.03</td>\n",
       "      <td>0.0</td>\n",
       "      <td>0.0</td>\n",
       "      <td>0.0</td>\n",
       "      <td>0.0</td>\n",
       "      <td>0.0</td>\n",
       "      <td>normal.</td>\n",
       "      <td>normal</td>\n",
       "    </tr>\n",
       "    <tr>\n",
       "      <td>3</td>\n",
       "      <td>0</td>\n",
       "      <td>1</td>\n",
       "      <td>http</td>\n",
       "      <td>0</td>\n",
       "      <td>219</td>\n",
       "      <td>1337</td>\n",
       "      <td>0</td>\n",
       "      <td>0</td>\n",
       "      <td>0</td>\n",
       "      <td>0</td>\n",
       "      <td>...</td>\n",
       "      <td>1.0</td>\n",
       "      <td>0.0</td>\n",
       "      <td>0.03</td>\n",
       "      <td>0.0</td>\n",
       "      <td>0.0</td>\n",
       "      <td>0.0</td>\n",
       "      <td>0.0</td>\n",
       "      <td>0.0</td>\n",
       "      <td>normal.</td>\n",
       "      <td>normal</td>\n",
       "    </tr>\n",
       "    <tr>\n",
       "      <td>4</td>\n",
       "      <td>0</td>\n",
       "      <td>1</td>\n",
       "      <td>http</td>\n",
       "      <td>0</td>\n",
       "      <td>217</td>\n",
       "      <td>2032</td>\n",
       "      <td>0</td>\n",
       "      <td>0</td>\n",
       "      <td>0</td>\n",
       "      <td>0</td>\n",
       "      <td>...</td>\n",
       "      <td>1.0</td>\n",
       "      <td>0.0</td>\n",
       "      <td>0.02</td>\n",
       "      <td>0.0</td>\n",
       "      <td>0.0</td>\n",
       "      <td>0.0</td>\n",
       "      <td>0.0</td>\n",
       "      <td>0.0</td>\n",
       "      <td>normal.</td>\n",
       "      <td>normal</td>\n",
       "    </tr>\n",
       "  </tbody>\n",
       "</table>\n",
       "<p>5 rows × 41 columns</p>\n",
       "</div>"
      ],
      "text/plain": [
       "   duration  protocol_type service  flag  src_bytes  dst_bytes  land  \\\n",
       "0         0              1    http     0        181       5450     0   \n",
       "1         0              1    http     0        239        486     0   \n",
       "2         0              1    http     0        235       1337     0   \n",
       "3         0              1    http     0        219       1337     0   \n",
       "4         0              1    http     0        217       2032     0   \n",
       "\n",
       "   wrong_fragment  urgent  hot  ...  dst_host_same_srv_rate  \\\n",
       "0               0       0    0  ...                     1.0   \n",
       "1               0       0    0  ...                     1.0   \n",
       "2               0       0    0  ...                     1.0   \n",
       "3               0       0    0  ...                     1.0   \n",
       "4               0       0    0  ...                     1.0   \n",
       "\n",
       "   dst_host_diff_srv_rate  dst_host_same_src_port_rate  \\\n",
       "0                     0.0                         0.11   \n",
       "1                     0.0                         0.05   \n",
       "2                     0.0                         0.03   \n",
       "3                     0.0                         0.03   \n",
       "4                     0.0                         0.02   \n",
       "\n",
       "   dst_host_srv_diff_host_rate  dst_host_serror_rate  \\\n",
       "0                          0.0                   0.0   \n",
       "1                          0.0                   0.0   \n",
       "2                          0.0                   0.0   \n",
       "3                          0.0                   0.0   \n",
       "4                          0.0                   0.0   \n",
       "\n",
       "   dst_host_srv_serror_rate  dst_host_rerror_rate  dst_host_srv_rerror_rate  \\\n",
       "0                       0.0                   0.0                       0.0   \n",
       "1                       0.0                   0.0                       0.0   \n",
       "2                       0.0                   0.0                       0.0   \n",
       "3                       0.0                   0.0                       0.0   \n",
       "4                       0.0                   0.0                       0.0   \n",
       "\n",
       "    target  Attack Type  \n",
       "0  normal.       normal  \n",
       "1  normal.       normal  \n",
       "2  normal.       normal  \n",
       "3  normal.       normal  \n",
       "4  normal.       normal  \n",
       "\n",
       "[5 rows x 41 columns]"
      ]
     },
     "execution_count": 28,
     "metadata": {},
     "output_type": "execute_result"
    }
   ],
   "source": [
    "df.head()"
   ]
  },
  {
   "cell_type": "code",
   "execution_count": 29,
   "metadata": {},
   "outputs": [],
   "source": [
    "df.drop('service',axis = 1,inplace= True)"
   ]
  },
  {
   "cell_type": "code",
   "execution_count": 30,
   "metadata": {},
   "outputs": [
    {
     "data": {
      "text/plain": [
       "(494021, 40)"
      ]
     },
     "execution_count": 30,
     "metadata": {},
     "output_type": "execute_result"
    }
   ],
   "source": [
    "df.shape"
   ]
  },
  {
   "cell_type": "markdown",
   "metadata": {
    "jupyter": {
     "outputs_hidden": true
    }
   },
   "source": [
    "df.head"
   ]
  },
  {
   "cell_type": "code",
   "execution_count": null,
   "metadata": {},
   "outputs": [],
   "source": []
  },
  {
   "cell_type": "raw",
   "metadata": {},
   "source": [
    "MODELLING STARTS HERE"
   ]
  },
  {
   "cell_type": "code",
   "execution_count": 31,
   "metadata": {},
   "outputs": [],
   "source": [
    "from sklearn.model_selection import train_test_split\n",
    "from sklearn.preprocessing import MinMaxScaler\n",
    "from sklearn.metrics import accuracy_score"
   ]
  },
  {
   "cell_type": "code",
   "execution_count": 32,
   "metadata": {},
   "outputs": [
    {
     "name": "stdout",
     "output_type": "stream",
     "text": [
      "(494021, 39)\n",
      "(330994, 38) (163027, 38)\n",
      "(330994, 1) (163027, 1)\n"
     ]
    }
   ],
   "source": [
    "df = df.drop(['target',], axis=1)\n",
    "print(df.shape)\n",
    "\n",
    "# Target variable and train set\n",
    "Y = df[['Attack Type']]\n",
    "X = df.drop(['Attack Type',], axis=1)\n",
    "\n",
    "sc = MinMaxScaler()\n",
    "X = sc.fit_transform(X)\n",
    "\n",
    "# Split test and train data \n",
    "X_train, X_test, Y_train, Y_test = train_test_split(X, Y, test_size=0.33, random_state=42)\n",
    "print(X_train.shape, X_test.shape)\n",
    "print(Y_train.shape, Y_test.shape)"
   ]
  },
  {
   "cell_type": "code",
   "execution_count": 33,
   "metadata": {},
   "outputs": [],
   "source": [
    "#KNearestNeighbor starts here\n",
    "#from sklearn.neighbors import KNeighborsClassifier\n",
    "\n",
    "#knn = KNeighborsClassifier(n_neighbors=3, n_jobs=-1)\n",
    "\n",
    "#start_time = time.time()\n",
    "#knn.fit(X_train, Y_train.values.ravel())\n",
    "#end_time = time.time()\n",
    "#print(\"Training time: \",end_time-start_time)"
   ]
  },
  {
   "cell_type": "code",
   "execution_count": 34,
   "metadata": {},
   "outputs": [],
   "source": [
    "#KNN testing time\n",
    "#start_time = time.time()\n",
    "#Y_test_pred1 = knn.predict(X_test)\n",
    "#end_time = time.time()\n",
    "#print(\"Testing time: \",end_time-start_time)"
   ]
  },
  {
   "cell_type": "code",
   "execution_count": 35,
   "metadata": {},
   "outputs": [],
   "source": [
    "#KNN Training time\n",
    "#print(\"Train score is:\", knn.score(X_train, Y_train))\n",
    "#print(\"Test score is:\",knn.score(X_test,Y_test))"
   ]
  },
  {
   "cell_type": "code",
   "execution_count": null,
   "metadata": {},
   "outputs": [],
   "source": []
  },
  {
   "cell_type": "code",
   "execution_count": null,
   "metadata": {},
   "outputs": [],
   "source": []
  },
  {
   "cell_type": "code",
   "execution_count": null,
   "metadata": {},
   "outputs": [],
   "source": []
  },
  {
   "cell_type": "code",
   "execution_count": null,
   "metadata": {},
   "outputs": [],
   "source": []
  },
  {
   "cell_type": "code",
   "execution_count": 36,
   "metadata": {},
   "outputs": [
    {
     "data": {
      "text/plain": [
       "(494021, 39)"
      ]
     },
     "execution_count": 36,
     "metadata": {},
     "output_type": "execute_result"
    }
   ],
   "source": [
    "df.shape"
   ]
  },
  {
   "cell_type": "code",
   "execution_count": 37,
   "metadata": {},
   "outputs": [],
   "source": [
    "import sklearn\n",
    "from sklearn import svm\n",
    "from sklearn.svm import SVC\n",
    "from sklearn.model_selection import train_test_split"
   ]
  },
  {
   "cell_type": "code",
   "execution_count": 38,
   "metadata": {},
   "outputs": [],
   "source": [
    "x=df.iloc[:,0:38]\n",
    "y=df.iloc[:,[-1]]"
   ]
  },
  {
   "cell_type": "code",
   "execution_count": 39,
   "metadata": {},
   "outputs": [
    {
     "data": {
      "text/plain": [
       "<bound method NDFrame.head of         duration  protocol_type  flag  src_bytes  dst_bytes  land  \\\n",
       "0              0              1     0        181       5450     0   \n",
       "1              0              1     0        239        486     0   \n",
       "2              0              1     0        235       1337     0   \n",
       "3              0              1     0        219       1337     0   \n",
       "4              0              1     0        217       2032     0   \n",
       "...          ...            ...   ...        ...        ...   ...   \n",
       "494016         0              1     0        310       1881     0   \n",
       "494017         0              1     0        282       2286     0   \n",
       "494018         0              1     0        203       1200     0   \n",
       "494019         0              1     0        291       1200     0   \n",
       "494020         0              1     0        219       1234     0   \n",
       "\n",
       "        wrong_fragment  urgent  hot  num_failed_logins  ...  dst_host_count  \\\n",
       "0                    0       0    0                  0  ...               9   \n",
       "1                    0       0    0                  0  ...              19   \n",
       "2                    0       0    0                  0  ...              29   \n",
       "3                    0       0    0                  0  ...              39   \n",
       "4                    0       0    0                  0  ...              49   \n",
       "...                ...     ...  ...                ...  ...             ...   \n",
       "494016               0       0    0                  0  ...              86   \n",
       "494017               0       0    0                  0  ...               6   \n",
       "494018               0       0    0                  0  ...              16   \n",
       "494019               0       0    0                  0  ...              26   \n",
       "494020               0       0    0                  0  ...               6   \n",
       "\n",
       "        dst_host_srv_count  dst_host_same_srv_rate  dst_host_diff_srv_rate  \\\n",
       "0                        9                     1.0                     0.0   \n",
       "1                       19                     1.0                     0.0   \n",
       "2                       29                     1.0                     0.0   \n",
       "3                       39                     1.0                     0.0   \n",
       "4                       49                     1.0                     0.0   \n",
       "...                    ...                     ...                     ...   \n",
       "494016                 255                     1.0                     0.0   \n",
       "494017                 255                     1.0                     0.0   \n",
       "494018                 255                     1.0                     0.0   \n",
       "494019                 255                     1.0                     0.0   \n",
       "494020                 255                     1.0                     0.0   \n",
       "\n",
       "        dst_host_same_src_port_rate  dst_host_srv_diff_host_rate  \\\n",
       "0                              0.11                         0.00   \n",
       "1                              0.05                         0.00   \n",
       "2                              0.03                         0.00   \n",
       "3                              0.03                         0.00   \n",
       "4                              0.02                         0.00   \n",
       "...                             ...                          ...   \n",
       "494016                         0.01                         0.05   \n",
       "494017                         0.17                         0.05   \n",
       "494018                         0.06                         0.05   \n",
       "494019                         0.04                         0.05   \n",
       "494020                         0.17                         0.05   \n",
       "\n",
       "        dst_host_serror_rate  dst_host_srv_serror_rate  dst_host_rerror_rate  \\\n",
       "0                       0.00                      0.00                   0.0   \n",
       "1                       0.00                      0.00                   0.0   \n",
       "2                       0.00                      0.00                   0.0   \n",
       "3                       0.00                      0.00                   0.0   \n",
       "4                       0.00                      0.00                   0.0   \n",
       "...                      ...                       ...                   ...   \n",
       "494016                  0.00                      0.01                   0.0   \n",
       "494017                  0.00                      0.01                   0.0   \n",
       "494018                  0.06                      0.01                   0.0   \n",
       "494019                  0.04                      0.01                   0.0   \n",
       "494020                  0.00                      0.01                   0.0   \n",
       "\n",
       "        dst_host_srv_rerror_rate  \n",
       "0                            0.0  \n",
       "1                            0.0  \n",
       "2                            0.0  \n",
       "3                            0.0  \n",
       "4                            0.0  \n",
       "...                          ...  \n",
       "494016                       0.0  \n",
       "494017                       0.0  \n",
       "494018                       0.0  \n",
       "494019                       0.0  \n",
       "494020                       0.0  \n",
       "\n",
       "[494021 rows x 38 columns]>"
      ]
     },
     "execution_count": 39,
     "metadata": {},
     "output_type": "execute_result"
    }
   ],
   "source": [
    "x.head"
   ]
  },
  {
   "cell_type": "code",
   "execution_count": 40,
   "metadata": {},
   "outputs": [
    {
     "data": {
      "text/plain": [
       "<bound method NDFrame.head of        Attack Type\n",
       "0           normal\n",
       "1           normal\n",
       "2           normal\n",
       "3           normal\n",
       "4           normal\n",
       "...            ...\n",
       "494016      normal\n",
       "494017      normal\n",
       "494018      normal\n",
       "494019      normal\n",
       "494020      normal\n",
       "\n",
       "[494021 rows x 1 columns]>"
      ]
     },
     "execution_count": 40,
     "metadata": {},
     "output_type": "execute_result"
    }
   ],
   "source": [
    "y.head"
   ]
  },
  {
   "cell_type": "code",
   "execution_count": 41,
   "metadata": {},
   "outputs": [],
   "source": [
    "x_train, x_test, y_train, y_test=train_test_split(x, y, test_size=0.2, random_state=13)"
   ]
  },
  {
   "cell_type": "code",
   "execution_count": 42,
   "metadata": {},
   "outputs": [],
   "source": [
    "from sklearn.preprocessing import StandardScaler\n",
    "sc=StandardScaler()"
   ]
  },
  {
   "cell_type": "code",
   "execution_count": 43,
   "metadata": {},
   "outputs": [],
   "source": [
    "x_train=sc.fit_transform(x_train)\n",
    "x_test=sc.transform(x_test)"
   ]
  },
  {
   "cell_type": "code",
   "execution_count": 44,
   "metadata": {},
   "outputs": [],
   "source": [
    "#SupportVectorMachine starts here\n",
    "clf=svm.SVC()"
   ]
  },
  {
   "cell_type": "code",
   "execution_count": 45,
   "metadata": {},
   "outputs": [
    {
     "data": {
      "text/plain": [
       "SVC(C=1.0, cache_size=200, class_weight=None, coef0=0.0,\n",
       "    decision_function_shape='ovr', degree=3, gamma='auto_deprecated',\n",
       "    kernel='rbf', max_iter=-1, probability=False, random_state=None,\n",
       "    shrinking=True, tol=0.001, verbose=False)"
      ]
     },
     "execution_count": 45,
     "metadata": {},
     "output_type": "execute_result"
    }
   ],
   "source": [
    "clf.fit(x_train, y_train.values.ravel())"
   ]
  },
  {
   "cell_type": "code",
   "execution_count": 46,
   "metadata": {},
   "outputs": [],
   "source": [
    "pred_clf=clf.predict(x_test)"
   ]
  },
  {
   "cell_type": "code",
   "execution_count": 47,
   "metadata": {},
   "outputs": [
    {
     "data": {
      "text/plain": [
       "0.9991194777592227"
      ]
     },
     "execution_count": 47,
     "metadata": {},
     "output_type": "execute_result"
    }
   ],
   "source": [
    "sklearn.metrics.accuracy_score(y_test, pred_clf)"
   ]
  },
  {
   "cell_type": "code",
   "execution_count": 48,
   "metadata": {},
   "outputs": [
    {
     "name": "stdout",
     "output_type": "stream",
     "text": [
      "              precision    recall  f1-score   support\n",
      "\n",
      "         dos       1.00      1.00      1.00     78439\n",
      "      normal       1.00      1.00      1.00     19260\n",
      "       probe       1.00      0.98      0.99       872\n",
      "         r2l       0.93      0.91      0.92       223\n",
      "         u2r       1.00      0.27      0.43        11\n",
      "\n",
      "    accuracy                           1.00     98805\n",
      "   macro avg       0.98      0.83      0.87     98805\n",
      "weighted avg       1.00      1.00      1.00     98805\n",
      "\n"
     ]
    }
   ],
   "source": [
    "print(sklearn.metrics.classification_report(y_test, pred_clf))"
   ]
  },
  {
   "cell_type": "code",
   "execution_count": 49,
   "metadata": {},
   "outputs": [
    {
     "data": {
      "text/plain": [
       "KNeighborsClassifier(algorithm='auto', leaf_size=30, metric='minkowski',\n",
       "                     metric_params=None, n_jobs=-1, n_neighbors=3, p=2,\n",
       "                     weights='uniform')"
      ]
     },
     "execution_count": 49,
     "metadata": {},
     "output_type": "execute_result"
    }
   ],
   "source": [
    "from sklearn.neighbors import KNeighborsClassifier\n",
    "knn = KNeighborsClassifier(n_neighbors=3, n_jobs=-1)\n",
    "knn.fit(x_train, y_train.values.ravel())"
   ]
  },
  {
   "cell_type": "code",
   "execution_count": 50,
   "metadata": {},
   "outputs": [],
   "source": [
    "pred_knn=knn.predict(x_test)"
   ]
  },
  {
   "cell_type": "code",
   "execution_count": 51,
   "metadata": {},
   "outputs": [
    {
     "data": {
      "text/plain": [
       "0.9993927432822226"
      ]
     },
     "execution_count": 51,
     "metadata": {},
     "output_type": "execute_result"
    }
   ],
   "source": [
    "sklearn.metrics.accuracy_score(y_test, pred_knn)"
   ]
  },
  {
   "cell_type": "code",
   "execution_count": null,
   "metadata": {},
   "outputs": [],
   "source": []
  },
  {
   "cell_type": "code",
   "execution_count": null,
   "metadata": {},
   "outputs": [],
   "source": []
  },
  {
   "cell_type": "code",
   "execution_count": null,
   "metadata": {},
   "outputs": [],
   "source": []
  },
  {
   "cell_type": "code",
   "execution_count": 74,
   "metadata": {},
   "outputs": [],
   "source": [
    "# Gaussian Naive Bayes\n",
    "from sklearn.naive_bayes import GaussianNB\n",
    "NB = GaussianNB()"
   ]
  },
  {
   "cell_type": "code",
   "execution_count": 75,
   "metadata": {},
   "outputs": [
    {
     "name": "stdout",
     "output_type": "stream",
     "text": [
      "Training time:  0.490447998046875\n"
     ]
    }
   ],
   "source": [
    "start_time = time.time()\n",
    "NB.fit(X_train, Y_train.values.ravel())\n",
    "end_time = time.time()\n",
    "print(\"Training time: \",end_time-start_time)"
   ]
  },
  {
   "cell_type": "code",
   "execution_count": 76,
   "metadata": {},
   "outputs": [
    {
     "name": "stdout",
     "output_type": "stream",
     "text": [
      "Testing time:  0.3398444652557373\n"
     ]
    }
   ],
   "source": [
    "start_time = time.time()\n",
    "Y_test_pred_NB = model1.predict(X_test)\n",
    "end_time = time.time()\n",
    "print(\"Testing time: \",end_time-start_time)"
   ]
  },
  {
   "cell_type": "code",
   "execution_count": 77,
   "metadata": {},
   "outputs": [
    {
     "name": "stdout",
     "output_type": "stream",
     "text": [
      "Train score is: 0.8793573297401162\n",
      "Test score is: 0.8791672545038552\n"
     ]
    }
   ],
   "source": [
    "print(\"Train score is:\", NB.score(X_train, Y_train))\n",
    "print(\"Test score is:\",NB.score(X_test,Y_test))"
   ]
  },
  {
   "cell_type": "code",
   "execution_count": 78,
   "metadata": {},
   "outputs": [
    {
     "name": "stdout",
     "output_type": "stream",
     "text": [
      "              precision    recall  f1-score   support\n",
      "\n",
      "         dos       0.98      0.94      0.96    129106\n",
      "      normal       0.97      0.64      0.77     32167\n",
      "       probe       0.09      0.99      0.17      1348\n",
      "         r2l       0.29      0.39      0.33       387\n",
      "         u2r       0.01      0.74      0.01        19\n",
      "\n",
      "    accuracy                           0.88    163027\n",
      "   macro avg       0.47      0.74      0.45    163027\n",
      "weighted avg       0.97      0.88      0.91    163027\n",
      "\n"
     ]
    }
   ],
   "source": [
    "print(sklearn.metrics.classification_report(Y_test, Y_test_pred_NB))"
   ]
  },
  {
   "cell_type": "code",
   "execution_count": null,
   "metadata": {},
   "outputs": [],
   "source": []
  },
  {
   "cell_type": "code",
   "execution_count": null,
   "metadata": {},
   "outputs": [],
   "source": []
  },
  {
   "cell_type": "code",
   "execution_count": null,
   "metadata": {},
   "outputs": [],
   "source": []
  },
  {
   "cell_type": "code",
   "execution_count": 93,
   "metadata": {},
   "outputs": [],
   "source": [
    "#Decision Tree \n",
    "from sklearn.tree import DecisionTreeClassifier\n",
    "DT = DecisionTreeClassifier(criterion=\"entropy\", max_depth = 4)"
   ]
  },
  {
   "cell_type": "code",
   "execution_count": 94,
   "metadata": {},
   "outputs": [
    {
     "name": "stdout",
     "output_type": "stream",
     "text": [
      "Training time:  1.0689737796783447\n"
     ]
    }
   ],
   "source": [
    "start_time = time.time()\n",
    "DT.fit(X_train, Y_train.values.ravel())\n",
    "end_time = time.time()\n",
    "print(\"Training time: \",end_time-start_time)"
   ]
  },
  {
   "cell_type": "code",
   "execution_count": 95,
   "metadata": {},
   "outputs": [
    {
     "name": "stdout",
     "output_type": "stream",
     "text": [
      "Testing time:  0.025023460388183594\n"
     ]
    }
   ],
   "source": [
    "start_time = time.time()\n",
    "Y_test_pred_DT = DT.predict(X_test)\n",
    "end_time = time.time()\n",
    "print(\"Testing time: \",end_time-start_time)"
   ]
  },
  {
   "cell_type": "code",
   "execution_count": 100,
   "metadata": {},
   "outputs": [
    {
     "name": "stdout",
     "output_type": "stream",
     "text": [
      "Train score is: 0.9905255080152511\n",
      "Test score is: 0.990437166849663\n"
     ]
    },
    {
     "name": "stderr",
     "output_type": "stream",
     "text": [
      "C:\\Users\\Mohab\\Anaconda3\\lib\\site-packages\\sklearn\\metrics\\classification.py:1437: UndefinedMetricWarning: Precision and F-score are ill-defined and being set to 0.0 in labels with no predicted samples.\n",
      "  'precision', 'predicted', average, warn_for)\n"
     ]
    },
    {
     "name": "stdout",
     "output_type": "stream",
     "text": [
      "              precision    recall  f1-score   support\n",
      "\n",
      "         dos       1.00      1.00      1.00    129106\n",
      "      normal       0.98      0.98      0.98     32167\n",
      "       probe       0.55      0.90      0.68      1348\n",
      "         r2l       0.00      0.00      0.00       387\n",
      "         u2r       0.00      0.00      0.00        19\n",
      "\n",
      "    accuracy                           0.99    163027\n",
      "   macro avg       0.51      0.57      0.53    163027\n",
      "weighted avg       0.99      0.99      0.99    163027\n",
      "\n"
     ]
    }
   ],
   "source": [
    "print(\"Train score is:\", DT.score(X_train, Y_train))\n",
    "print(\"Test score is:\",DT.score(X_test,Y_test))\n",
    "print(sklearn.metrics.classification_report(Y_test, Y_test_pred_DT))"
   ]
  },
  {
   "cell_type": "code",
   "execution_count": null,
   "metadata": {},
   "outputs": [],
   "source": []
  },
  {
   "cell_type": "code",
   "execution_count": null,
   "metadata": {},
   "outputs": [],
   "source": []
  },
  {
   "cell_type": "code",
   "execution_count": null,
   "metadata": {},
   "outputs": [],
   "source": []
  },
  {
   "cell_type": "code",
   "execution_count": 89,
   "metadata": {},
   "outputs": [],
   "source": [
    "#Random Forest\n",
    "from sklearn.ensemble import RandomForestClassifier\n",
    "RF = RandomForestClassifier(n_estimators=30)"
   ]
  },
  {
   "cell_type": "code",
   "execution_count": 90,
   "metadata": {},
   "outputs": [
    {
     "name": "stdout",
     "output_type": "stream",
     "text": [
      "Training time:  7.280651092529297\n"
     ]
    }
   ],
   "source": [
    "start_time = time.time()\n",
    "RF.fit(X_train, Y_train.values.ravel())\n",
    "end_time = time.time()\n",
    "print(\"Training time: \",end_time-start_time)"
   ]
  },
  {
   "cell_type": "code",
   "execution_count": 91,
   "metadata": {},
   "outputs": [
    {
     "name": "stdout",
     "output_type": "stream",
     "text": [
      "Testing time:  0.3771064281463623\n"
     ]
    }
   ],
   "source": [
    "start_time = time.time()\n",
    "Y_test_pred_RF = RF.predict(X_test)\n",
    "end_time = time.time()\n",
    "print(\"Testing time: \",end_time-start_time)"
   ]
  },
  {
   "cell_type": "code",
   "execution_count": 92,
   "metadata": {},
   "outputs": [
    {
     "name": "stdout",
     "output_type": "stream",
     "text": [
      "Train score is: 0.9999728091747887\n",
      "Test score is: 0.9996994362896944\n",
      "              precision    recall  f1-score   support\n",
      "\n",
      "         dos       1.00      1.00      1.00    129106\n",
      "      normal       1.00      1.00      1.00     32167\n",
      "       probe       1.00      0.99      0.99      1348\n",
      "         r2l       0.99      0.96      0.97       387\n",
      "         u2r       0.92      0.58      0.71        19\n",
      "\n",
      "    accuracy                           1.00    163027\n",
      "   macro avg       0.98      0.90      0.94    163027\n",
      "weighted avg       1.00      1.00      1.00    163027\n",
      "\n"
     ]
    }
   ],
   "source": [
    "print(\"Train score is:\", RF.score(X_train, Y_train))\n",
    "print(\"Test score is:\",RF.score(X_test,Y_test))\n",
    "print(sklearn.metrics.classification_report(Y_test, Y_test_pred_RF))"
   ]
  },
  {
   "cell_type": "code",
   "execution_count": null,
   "metadata": {},
   "outputs": [],
   "source": []
  },
  {
   "cell_type": "code",
   "execution_count": null,
   "metadata": {},
   "outputs": [],
   "source": []
  },
  {
   "cell_type": "code",
   "execution_count": null,
   "metadata": {},
   "outputs": [],
   "source": []
  },
  {
   "cell_type": "code",
   "execution_count": 108,
   "metadata": {},
   "outputs": [],
   "source": [
    "#LOGISTIC REGRESSION\n",
    "\n",
    "from sklearn.linear_model import LogisticRegression\n",
    "LR = LogisticRegression(max_iter=1200000)"
   ]
  },
  {
   "cell_type": "code",
   "execution_count": 109,
   "metadata": {},
   "outputs": [
    {
     "name": "stderr",
     "output_type": "stream",
     "text": [
      "C:\\Users\\Mohab\\Anaconda3\\lib\\site-packages\\sklearn\\linear_model\\logistic.py:432: FutureWarning: Default solver will be changed to 'lbfgs' in 0.22. Specify a solver to silence this warning.\n",
      "  FutureWarning)\n",
      "C:\\Users\\Mohab\\Anaconda3\\lib\\site-packages\\sklearn\\linear_model\\logistic.py:469: FutureWarning: Default multi_class will be changed to 'auto' in 0.22. Specify the multi_class option to silence this warning.\n",
      "  \"this warning.\", FutureWarning)\n"
     ]
    },
    {
     "name": "stdout",
     "output_type": "stream",
     "text": [
      "Training time:  11.720659494400024\n"
     ]
    }
   ],
   "source": [
    "start_time = time.time()\n",
    "LR.fit(X_train, Y_train.values.ravel())\n",
    "end_time = time.time()\n",
    "print(\"Training time: \",end_time-start_time)"
   ]
  },
  {
   "cell_type": "code",
   "execution_count": 113,
   "metadata": {},
   "outputs": [
    {
     "name": "stdout",
     "output_type": "stream",
     "text": [
      "Testing time:  0.023018836975097656\n"
     ]
    }
   ],
   "source": [
    "start_time = time.time()\n",
    "Y_test_pred_LR = LR.predict(X_test)\n",
    "end_time = time.time()\n",
    "\n",
    "print(\"Testing time: \",end_time-start_time)"
   ]
  },
  {
   "cell_type": "code",
   "execution_count": 114,
   "metadata": {},
   "outputs": [
    {
     "name": "stdout",
     "output_type": "stream",
     "text": [
      "Train score is: 0.9940844849151345\n",
      "Test score is: 0.9941788783453047\n",
      "              precision    recall  f1-score   support\n",
      "\n",
      "         dos       1.00      1.00      1.00    129106\n",
      "      normal       0.98      1.00      0.99     32167\n",
      "       probe       0.97      0.90      0.94      1348\n",
      "         r2l       0.84      0.82      0.83       387\n",
      "         u2r       1.00      0.26      0.42        19\n",
      "\n",
      "    accuracy                           0.99    163027\n",
      "   macro avg       0.96      0.80      0.83    163027\n",
      "weighted avg       0.99      0.99      0.99    163027\n",
      "\n"
     ]
    }
   ],
   "source": [
    "print(\"Train score is:\", LR.score(X_train, Y_train))\n",
    "print(\"Test score is:\",LR.score(X_test,Y_test))\n",
    "print(sklearn.metrics.classification_report(Y_test, Y_test_pred_LR))"
   ]
  },
  {
   "cell_type": "code",
   "execution_count": null,
   "metadata": {},
   "outputs": [],
   "source": []
  },
  {
   "cell_type": "code",
   "execution_count": null,
   "metadata": {},
   "outputs": [],
   "source": []
  },
  {
   "cell_type": "code",
   "execution_count": null,
   "metadata": {},
   "outputs": [],
   "source": []
  },
  {
   "cell_type": "code",
   "execution_count": 117,
   "metadata": {},
   "outputs": [],
   "source": [
    "#GRADIENT BOOSTING CLASSIFIER\n",
    "\n",
    "from sklearn.ensemble import GradientBoostingClassifier\n",
    "GBC = GradientBoostingClassifier(random_state=0)"
   ]
  },
  {
   "cell_type": "code",
   "execution_count": 118,
   "metadata": {},
   "outputs": [
    {
     "name": "stdout",
     "output_type": "stream",
     "text": [
      "Training time:  339.88706278800964\n"
     ]
    }
   ],
   "source": [
    "start_time = time.time()\n",
    "GBC.fit(X_train, Y_train.values.ravel())\n",
    "end_time = time.time()\n",
    "\n",
    "print(\"Training time: \",end_time-start_time)"
   ]
  },
  {
   "cell_type": "code",
   "execution_count": 119,
   "metadata": {},
   "outputs": [
    {
     "name": "stdout",
     "output_type": "stream",
     "text": [
      "Testing time:  0.9808917045593262\n"
     ]
    }
   ],
   "source": [
    "start_time = time.time()\n",
    "Y_test_pred_GBC = GBC.predict(X_test)\n",
    "end_time = time.time()\n",
    "\n",
    "print(\"Testing time: \",end_time-start_time)"
   ]
  },
  {
   "cell_type": "code",
   "execution_count": 121,
   "metadata": {},
   "outputs": [
    {
     "name": "stdout",
     "output_type": "stream",
     "text": [
      "Train score is: 0.9855072901623594\n",
      "Test score is: 0.9854502628398977\n",
      "              precision    recall  f1-score   support\n",
      "\n",
      "         dos       1.00      1.00      1.00    129106\n",
      "      normal       1.00      0.95      0.97     32167\n",
      "       probe       0.99      0.64      0.78      1348\n",
      "         r2l       0.12      0.78      0.21       387\n",
      "         u2r       0.37      0.53      0.43        19\n",
      "\n",
      "    accuracy                           0.99    163027\n",
      "   macro avg       0.70      0.78      0.68    163027\n",
      "weighted avg       1.00      0.99      0.99    163027\n",
      "\n"
     ]
    }
   ],
   "source": [
    "print(\"Train score is:\", GBC.score(X_train, Y_train))\n",
    "print(\"Test score is:\", GBC.score(X_test,Y_test))\n",
    "print(sklearn.metrics.classification_report(Y_test, Y_test_pred_GBC))"
   ]
  },
  {
   "cell_type": "code",
   "execution_count": null,
   "metadata": {},
   "outputs": [],
   "source": []
  },
  {
   "cell_type": "code",
   "execution_count": null,
   "metadata": {},
   "outputs": [],
   "source": []
  },
  {
   "cell_type": "code",
   "execution_count": null,
   "metadata": {},
   "outputs": [],
   "source": []
  },
  {
   "cell_type": "code",
   "execution_count": 122,
   "metadata": {},
   "outputs": [
    {
     "name": "stderr",
     "output_type": "stream",
     "text": [
      "Using TensorFlow backend.\n"
     ]
    }
   ],
   "source": [
    "#Keras Classifier\n",
    "from keras.models import Sequential\n",
    "from keras.layers import Dense\n",
    "from keras.wrappers.scikit_learn import KerasClassifier"
   ]
  },
  {
   "cell_type": "code",
   "execution_count": 127,
   "metadata": {},
   "outputs": [],
   "source": [
    "def fun():\n",
    "    model = Sequential()\n",
    "    \n",
    "    #here 30 is output dimension\n",
    "    model.add(Dense(38,input_dim =38,activation = 'relu',kernel_initializer='random_uniform'))\n",
    "    \n",
    "    #in next layer we do not specify the input_dim as the model is sequential so output of previous layer is input to next layer\n",
    "    model.add(Dense(1,activation='sigmoid',kernel_initializer='random_uniform'))\n",
    "    \n",
    "    #5 classes-normal,dos,probe,r2l,u2r\n",
    "    model.add(Dense(5,activation='softmax'))\n",
    "    \n",
    "    #loss is categorical_crossentropy which specifies that we have multiple classes\n",
    "    \n",
    "    model.compile(loss ='categorical_crossentropy',optimizer = 'adam',metrics = ['accuracy'])\n",
    "    \n",
    "    return model"
   ]
  },
  {
   "cell_type": "code",
   "execution_count": 128,
   "metadata": {},
   "outputs": [],
   "source": [
    "KC = KerasClassifier(build_fn=fun,epochs=100,batch_size=64)"
   ]
  },
  {
   "cell_type": "code",
   "execution_count": 129,
   "metadata": {},
   "outputs": [
    {
     "name": "stdout",
     "output_type": "stream",
     "text": [
      "WARNING:tensorflow:From C:\\Users\\Mohab\\Anaconda3\\lib\\site-packages\\keras\\backend\\tensorflow_backend.py:422: The name tf.global_variables is deprecated. Please use tf.compat.v1.global_variables instead.\n",
      "\n",
      "Epoch 1/100\n",
      "330994/330994 [==============================] - 3s 9us/step - loss: 0.4194 - accuracy: 0.9461\n",
      "Epoch 2/100\n",
      "330994/330994 [==============================] - 3s 9us/step - loss: 0.0851 - accuracy: 0.9843\n",
      "Epoch 3/100\n",
      "330994/330994 [==============================] - 3s 9us/step - loss: 0.0702 - accuracy: 0.9846\n",
      "Epoch 4/100\n",
      "330994/330994 [==============================] - 3s 8us/step - loss: 0.0673 - accuracy: 0.9847\n",
      "Epoch 5/100\n",
      "330994/330994 [==============================] - 3s 8us/step - loss: 0.0657 - accuracy: 0.9847\n",
      "Epoch 6/100\n",
      "330994/330994 [==============================] - 3s 8us/step - loss: 0.0646 - accuracy: 0.9847\n",
      "Epoch 7/100\n",
      "330994/330994 [==============================] - 3s 8us/step - loss: 0.0637 - accuracy: 0.9847\n",
      "Epoch 8/100\n",
      "330994/330994 [==============================] - 3s 8us/step - loss: 0.0630 - accuracy: 0.9848\n",
      "Epoch 9/100\n",
      "330994/330994 [==============================] - 3s 8us/step - loss: 0.0562 - accuracy: 0.9858\n",
      "Epoch 10/100\n",
      "330994/330994 [==============================] - 3s 8us/step - loss: 0.0366 - accuracy: 0.9890\n",
      "Epoch 11/100\n",
      "330994/330994 [==============================] - 3s 8us/step - loss: 0.0296 - accuracy: 0.9893\n",
      "Epoch 12/100\n",
      "330994/330994 [==============================] - 3s 9us/step - loss: 0.0251 - accuracy: 0.9928\n",
      "Epoch 13/100\n",
      "330994/330994 [==============================] - 3s 8us/step - loss: 0.0219 - accuracy: 0.9951\n",
      "Epoch 14/100\n",
      "330994/330994 [==============================] - 3s 9us/step - loss: 0.0193 - accuracy: 0.9959\n",
      "Epoch 15/100\n",
      "330994/330994 [==============================] - 3s 9us/step - loss: 0.0169 - accuracy: 0.9962\n",
      "Epoch 16/100\n",
      "330994/330994 [==============================] - 3s 8us/step - loss: 0.0154 - accuracy: 0.9965\n",
      "Epoch 17/100\n",
      "330994/330994 [==============================] - 3s 8us/step - loss: 0.0144 - accuracy: 0.9967\n",
      "Epoch 18/100\n",
      "330994/330994 [==============================] - 3s 9us/step - loss: 0.0136 - accuracy: 0.9968\n",
      "Epoch 19/100\n",
      "330994/330994 [==============================] - 3s 9us/step - loss: 0.0130 - accuracy: 0.9968\n",
      "Epoch 20/100\n",
      "330994/330994 [==============================] - 3s 9us/step - loss: 0.0125 - accuracy: 0.9969\n",
      "Epoch 21/100\n",
      "330994/330994 [==============================] - 3s 8us/step - loss: 0.0122 - accuracy: 0.9969\n",
      "Epoch 22/100\n",
      "330994/330994 [==============================] - 3s 9us/step - loss: 0.0119 - accuracy: 0.9969\n",
      "Epoch 23/100\n",
      "330994/330994 [==============================] - 3s 9us/step - loss: 0.0115 - accuracy: 0.9970\n",
      "Epoch 24/100\n",
      "330994/330994 [==============================] - 3s 10us/step - loss: 0.0113 - accuracy: 0.9970\n",
      "Epoch 25/100\n",
      "330994/330994 [==============================] - 3s 9us/step - loss: 0.0112 - accuracy: 0.9970\n",
      "Epoch 26/100\n",
      "330994/330994 [==============================] - 3s 9us/step - loss: 0.0109 - accuracy: 0.9971\n",
      "Epoch 27/100\n",
      "330994/330994 [==============================] - 3s 9us/step - loss: 0.0107 - accuracy: 0.9971\n",
      "Epoch 28/100\n",
      "330994/330994 [==============================] - 3s 9us/step - loss: 0.0105 - accuracy: 0.9971\n",
      "Epoch 29/100\n",
      "330994/330994 [==============================] - 3s 9us/step - loss: 0.0104 - accuracy: 0.9971\n",
      "Epoch 30/100\n",
      "330994/330994 [==============================] - 3s 9us/step - loss: 0.0102 - accuracy: 0.9971\n",
      "Epoch 31/100\n",
      "330994/330994 [==============================] - 3s 9us/step - loss: 0.0100 - accuracy: 0.9971\n",
      "Epoch 32/100\n",
      "330994/330994 [==============================] - 3s 8us/step - loss: 0.0100 - accuracy: 0.9971\n",
      "Epoch 33/100\n",
      "330994/330994 [==============================] - 3s 8us/step - loss: 0.0097 - accuracy: 0.9972\n",
      "Epoch 34/100\n",
      "330994/330994 [==============================] - 3s 9us/step - loss: 0.0096 - accuracy: 0.9972\n",
      "Epoch 35/100\n",
      "330994/330994 [==============================] - 3s 9us/step - loss: 0.0095 - accuracy: 0.9971\n",
      "Epoch 36/100\n",
      "330994/330994 [==============================] - 3s 9us/step - loss: 0.0093 - accuracy: 0.9972\n",
      "Epoch 37/100\n",
      "330994/330994 [==============================] - 3s 9us/step - loss: 0.0091 - accuracy: 0.9972\n",
      "Epoch 38/100\n",
      "330994/330994 [==============================] - 3s 9us/step - loss: 0.0091 - accuracy: 0.9972\n",
      "Epoch 39/100\n",
      "330994/330994 [==============================] - 3s 9us/step - loss: 0.0089 - accuracy: 0.9972\n",
      "Epoch 40/100\n",
      "330994/330994 [==============================] - 3s 9us/step - loss: 0.0087 - accuracy: 0.9972\n",
      "Epoch 41/100\n",
      "330994/330994 [==============================] - 3s 9us/step - loss: 0.0087 - accuracy: 0.9972\n",
      "Epoch 42/100\n",
      "330994/330994 [==============================] - 3s 9us/step - loss: 0.0085 - accuracy: 0.9973\n",
      "Epoch 43/100\n",
      "330994/330994 [==============================] - 3s 9us/step - loss: 0.0085 - accuracy: 0.9972\n",
      "Epoch 44/100\n",
      "330994/330994 [==============================] - 3s 9us/step - loss: 0.0083 - accuracy: 0.9972\n",
      "Epoch 45/100\n",
      "330994/330994 [==============================] - 3s 9us/step - loss: 0.0083 - accuracy: 0.9973\n",
      "Epoch 46/100\n",
      "330994/330994 [==============================] - 3s 9us/step - loss: 0.0081 - accuracy: 0.9973\n",
      "Epoch 47/100\n",
      "330994/330994 [==============================] - 3s 9us/step - loss: 0.0081 - accuracy: 0.9973\n",
      "Epoch 48/100\n",
      "330994/330994 [==============================] - 3s 9us/step - loss: 0.0080 - accuracy: 0.9974\n",
      "Epoch 49/100\n",
      "330994/330994 [==============================] - 3s 9us/step - loss: 0.0079 - accuracy: 0.9974\n",
      "Epoch 50/100\n",
      "330994/330994 [==============================] - 3s 9us/step - loss: 0.0078 - accuracy: 0.9977\n",
      "Epoch 51/100\n",
      "330994/330994 [==============================] - 3s 9us/step - loss: 0.0077 - accuracy: 0.9978\n",
      "Epoch 52/100\n",
      "330994/330994 [==============================] - 3s 9us/step - loss: 0.0077 - accuracy: 0.9979\n",
      "Epoch 53/100\n",
      "330994/330994 [==============================] - 3s 9us/step - loss: 0.0075 - accuracy: 0.9980\n",
      "Epoch 54/100\n",
      "330994/330994 [==============================] - 3s 9us/step - loss: 0.0074 - accuracy: 0.9981\n",
      "Epoch 55/100\n",
      "330994/330994 [==============================] - 3s 9us/step - loss: 0.0075 - accuracy: 0.9981\n",
      "Epoch 56/100\n",
      "330994/330994 [==============================] - 3s 8us/step - loss: 0.0073 - accuracy: 0.9983\n",
      "Epoch 57/100\n",
      "330994/330994 [==============================] - 3s 9us/step - loss: 0.0074 - accuracy: 0.9984\n",
      "Epoch 58/100\n",
      "330994/330994 [==============================] - 3s 9us/step - loss: 0.0072 - accuracy: 0.9984\n",
      "Epoch 59/100\n",
      "330994/330994 [==============================] - 3s 9us/step - loss: 0.0071 - accuracy: 0.9986\n",
      "Epoch 60/100\n",
      "330994/330994 [==============================] - 3s 9us/step - loss: 0.0071 - accuracy: 0.9986\n",
      "Epoch 61/100\n",
      "330994/330994 [==============================] - 3s 9us/step - loss: 0.0070 - accuracy: 0.9986\n",
      "Epoch 62/100\n",
      "330994/330994 [==============================] - 3s 9us/step - loss: 0.0070 - accuracy: 0.9986\n",
      "Epoch 63/100\n",
      "330994/330994 [==============================] - 3s 9us/step - loss: 0.0069 - accuracy: 0.9988\n",
      "Epoch 64/100\n",
      "330994/330994 [==============================] - 3s 9us/step - loss: 0.0068 - accuracy: 0.9988\n",
      "Epoch 65/100\n",
      "330994/330994 [==============================] - 3s 10us/step - loss: 0.0068 - accuracy: 0.9988\n",
      "Epoch 66/100\n",
      "330994/330994 [==============================] - 3s 9us/step - loss: 0.0068 - accuracy: 0.9988\n",
      "Epoch 67/100\n",
      "330994/330994 [==============================] - 3s 9us/step - loss: 0.0066 - accuracy: 0.9988\n",
      "Epoch 68/100\n",
      "330994/330994 [==============================] - 3s 9us/step - loss: 0.0068 - accuracy: 0.9989\n",
      "Epoch 69/100\n",
      "330994/330994 [==============================] - 3s 9us/step - loss: 0.0066 - accuracy: 0.9989\n",
      "Epoch 70/100\n",
      "330994/330994 [==============================] - 3s 9us/step - loss: 0.0066 - accuracy: 0.9989\n",
      "Epoch 71/100\n",
      "330994/330994 [==============================] - 3s 9us/step - loss: 0.0066 - accuracy: 0.9989\n",
      "Epoch 72/100\n",
      "330994/330994 [==============================] - 3s 9us/step - loss: 0.0064 - accuracy: 0.9989\n",
      "Epoch 73/100\n",
      "330994/330994 [==============================] - 3s 8us/step - loss: 0.0064 - accuracy: 0.9990\n",
      "Epoch 74/100\n",
      "330994/330994 [==============================] - 3s 8us/step - loss: 0.0063 - accuracy: 0.9991\n",
      "Epoch 75/100\n",
      "330994/330994 [==============================] - 3s 9us/step - loss: 0.0064 - accuracy: 0.9991\n",
      "Epoch 76/100\n",
      "330994/330994 [==============================] - 3s 9us/step - loss: 0.0063 - accuracy: 0.9991\n",
      "Epoch 77/100\n",
      "330994/330994 [==============================] - 3s 9us/step - loss: 0.0062 - accuracy: 0.9991\n",
      "Epoch 78/100\n",
      "330994/330994 [==============================] - 3s 9us/step - loss: 0.0062 - accuracy: 0.9991\n",
      "Epoch 79/100\n",
      "330994/330994 [==============================] - 3s 9us/step - loss: 0.0061 - accuracy: 0.9991\n",
      "Epoch 80/100\n",
      "330994/330994 [==============================] - 3s 9us/step - loss: 0.0061 - accuracy: 0.9992\n",
      "Epoch 81/100\n",
      "330994/330994 [==============================] - 3s 9us/step - loss: 0.0061 - accuracy: 0.9991\n",
      "Epoch 82/100\n",
      "330994/330994 [==============================] - 3s 9us/step - loss: 0.0061 - accuracy: 0.9991\n",
      "Epoch 83/100\n",
      "330994/330994 [==============================] - 3s 9us/step - loss: 0.0060 - accuracy: 0.9991\n",
      "Epoch 84/100\n",
      "330994/330994 [==============================] - 3s 9us/step - loss: 0.0060 - accuracy: 0.9991\n",
      "Epoch 85/100\n",
      "330994/330994 [==============================] - 3s 9us/step - loss: 0.0060 - accuracy: 0.9991\n",
      "Epoch 86/100\n",
      "330994/330994 [==============================] - 3s 9us/step - loss: 0.0060 - accuracy: 0.9992\n",
      "Epoch 87/100\n",
      "330994/330994 [==============================] - 3s 9us/step - loss: 0.0060 - accuracy: 0.9991\n",
      "Epoch 88/100\n",
      "330994/330994 [==============================] - 3s 9us/step - loss: 0.0059 - accuracy: 0.9992\n",
      "Epoch 89/100\n",
      "330994/330994 [==============================] - 3s 9us/step - loss: 0.0059 - accuracy: 0.9992\n",
      "Epoch 90/100\n",
      "330994/330994 [==============================] - 3s 9us/step - loss: 0.0058 - accuracy: 0.9992\n",
      "Epoch 91/100\n",
      "330994/330994 [==============================] - 3s 9us/step - loss: 0.0058 - accuracy: 0.9992\n",
      "Epoch 92/100\n",
      "330994/330994 [==============================] - 3s 9us/step - loss: 0.0057 - accuracy: 0.9991\n",
      "Epoch 93/100\n",
      "330994/330994 [==============================] - 3s 9us/step - loss: 0.0058 - accuracy: 0.9992\n",
      "Epoch 94/100\n",
      "330994/330994 [==============================] - 3s 9us/step - loss: 0.0057 - accuracy: 0.9992\n",
      "Epoch 95/100\n",
      "330994/330994 [==============================] - 3s 8us/step - loss: 0.0057 - accuracy: 0.9992\n",
      "Epoch 96/100\n",
      "330994/330994 [==============================] - 3s 8us/step - loss: 0.0057 - accuracy: 0.9992\n",
      "Epoch 97/100\n",
      "330994/330994 [==============================] - 3s 9us/step - loss: 0.0056 - accuracy: 0.9992\n",
      "Epoch 98/100\n",
      "330994/330994 [==============================] - 3s 9us/step - loss: 0.0056 - accuracy: 0.9992\n",
      "Epoch 99/100\n",
      "330994/330994 [==============================] - 3s 9us/step - loss: 0.0056 - accuracy: 0.9992\n",
      "Epoch 100/100\n",
      "330994/330994 [==============================] - 3s 9us/step - loss: 0.0057 - accuracy: 0.9992\n"
     ]
    }
   ],
   "source": [
    "start = time.time()\n",
    "KC.fit(X_train, Y_train.values.ravel())\n",
    "end = time.time()"
   ]
  },
  {
   "cell_type": "code",
   "execution_count": 130,
   "metadata": {},
   "outputs": [
    {
     "name": "stdout",
     "output_type": "stream",
     "text": [
      "Training time\n",
      "289.36312222480774\n"
     ]
    }
   ],
   "source": [
    "print('Training time')\n",
    "print((end-start))"
   ]
  },
  {
   "cell_type": "code",
   "execution_count": 132,
   "metadata": {},
   "outputs": [
    {
     "name": "stdout",
     "output_type": "stream",
     "text": [
      "Testing time:  0.45141053199768066\n"
     ]
    }
   ],
   "source": [
    "start_time = time.time()\n",
    "Y_test_pred_KC = KC.predict(X_test)\n",
    "end_time = time.time()\n",
    "print(\"Testing time: \",end_time-start_time)"
   ]
  },
  {
   "cell_type": "code",
   "execution_count": 136,
   "metadata": {},
   "outputs": [
    {
     "name": "stdout",
     "output_type": "stream",
     "text": [
      "0.9991540632156474\n",
      "0.9989020223643936\n"
     ]
    }
   ],
   "source": [
    "start_time = time.time()\n",
    "Y_train_pred_KC = KC.predict(X_train)\n",
    "end_time = time.time()\n",
    "print(accuracy_score(Y_train,Y_train_pred_KC))\n",
    "print(accuracy_score(Y_test,Y_test_pred_KC))"
   ]
  },
  {
   "cell_type": "code",
   "execution_count": 138,
   "metadata": {},
   "outputs": [
    {
     "name": "stderr",
     "output_type": "stream",
     "text": [
      "C:\\Users\\Mohab\\Anaconda3\\lib\\site-packages\\sklearn\\metrics\\classification.py:1437: UndefinedMetricWarning: Precision and F-score are ill-defined and being set to 0.0 in labels with no predicted samples.\n",
      "  'precision', 'predicted', average, warn_for)\n"
     ]
    },
    {
     "name": "stdout",
     "output_type": "stream",
     "text": [
      "              precision    recall  f1-score   support\n",
      "\n",
      "         dos       1.00      1.00      1.00    129106\n",
      "      normal       1.00      1.00      1.00     32167\n",
      "       probe       0.99      0.97      0.98      1348\n",
      "         r2l       0.86      0.82      0.84       387\n",
      "         u2r       0.00      0.00      0.00        19\n",
      "\n",
      "    accuracy                           1.00    163027\n",
      "   macro avg       0.77      0.76      0.76    163027\n",
      "weighted avg       1.00      1.00      1.00    163027\n",
      "\n"
     ]
    }
   ],
   "source": [
    "print(sklearn.metrics.classification_report(Y_test, Y_test_pred_KC))"
   ]
  },
  {
   "cell_type": "code",
   "execution_count": null,
   "metadata": {},
   "outputs": [],
   "source": []
  }
 ],
 "metadata": {
  "kernelspec": {
   "display_name": "Python 3",
   "language": "python",
   "name": "python3"
  },
  "language_info": {
   "codemirror_mode": {
    "name": "ipython",
    "version": 3
   },
   "file_extension": ".py",
   "mimetype": "text/x-python",
   "name": "python",
   "nbconvert_exporter": "python",
   "pygments_lexer": "ipython3",
   "version": "3.7.4"
  }
 },
 "nbformat": 4,
 "nbformat_minor": 4
}
